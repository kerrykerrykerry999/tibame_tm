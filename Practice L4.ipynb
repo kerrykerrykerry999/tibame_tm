{
  "nbformat": 4,
  "nbformat_minor": 0,
  "metadata": {
    "colab": {
      "name": "Demo20200729.ipynb",
      "provenance": [],
      "collapsed_sections": []
    },
    "kernelspec": {
      "name": "python3",
      "display_name": "Python 3"
    }
  },
  "cells": [
    {
      "cell_type": "markdown",
      "metadata": {
        "id": "mduavn94V_-R"
      },
      "source": [
        "## 作業三"
      ]
    },
    {
      "cell_type": "markdown",
      "metadata": {
        "id": "cbKkOyimWEKH"
      },
      "source": [
        "### 方法一"
      ]
    },
    {
      "cell_type": "code",
      "metadata": {
        "id": "bT_DkRlSU_cm",
        "colab": {
          "base_uri": "https://localhost:8080/",
          "height": 207
        },
        "outputId": "e8f431c5-a371-434d-a186-718c62705ff1"
      },
      "source": [
        "! wget https://raw.githubusercontent.com/ywchiu/tibame_tm/master/data/creditcard_titles.csv"
      ],
      "execution_count": null,
      "outputs": [
        {
          "output_type": "stream",
          "text": [
            "--2020-07-29 11:32:37--  https://raw.githubusercontent.com/ywchiu/tibame_tm/master/data/creditcard_titles.csv\n",
            "Resolving raw.githubusercontent.com (raw.githubusercontent.com)... 151.101.0.133, 151.101.64.133, 151.101.128.133, ...\n",
            "Connecting to raw.githubusercontent.com (raw.githubusercontent.com)|151.101.0.133|:443... connected.\n",
            "HTTP request sent, awaiting response... 200 OK\n",
            "Length: 3688 (3.6K) [text/plain]\n",
            "Saving to: ‘creditcard_titles.csv’\n",
            "\n",
            "\rcreditcard_titles.c   0%[                    ]       0  --.-KB/s               \rcreditcard_titles.c 100%[===================>]   3.60K  --.-KB/s    in 0s      \n",
            "\n",
            "2020-07-29 11:32:37 (60.6 MB/s) - ‘creditcard_titles.csv’ saved [3688/3688]\n",
            "\n"
          ],
          "name": "stdout"
        }
      ]
    },
    {
      "cell_type": "code",
      "metadata": {
        "id": "HIkrFr5FWHRH"
      },
      "source": [
        "titles = []\n",
        "with open('creditcard_titles.csv') as f:\n",
        "  for line in f.readlines()[1:]:\n",
        "    titles.append(line.strip().split(',')[1])"
      ],
      "execution_count": null,
      "outputs": []
    },
    {
      "cell_type": "code",
      "metadata": {
        "id": "XHNFlebMWRpN"
      },
      "source": [
        "#titles"
      ],
      "execution_count": null,
      "outputs": []
    },
    {
      "cell_type": "markdown",
      "metadata": {
        "id": "OtMosS1jW2uF"
      },
      "source": [
        "### 方法二"
      ]
    },
    {
      "cell_type": "code",
      "metadata": {
        "id": "ZObxHUwQWbNE"
      },
      "source": [
        "import pandas\n",
        "df = pandas.read_csv('creditcard_titles.csv', index_col = 0)"
      ],
      "execution_count": null,
      "outputs": []
    },
    {
      "cell_type": "code",
      "metadata": {
        "id": "PDCL836BXA5m"
      },
      "source": [
        "titles = df['title'].tolist()"
      ],
      "execution_count": null,
      "outputs": []
    },
    {
      "cell_type": "markdown",
      "metadata": {
        "id": "6h6D6NdxXWM6"
      },
      "source": [
        "### 方法三"
      ]
    },
    {
      "cell_type": "code",
      "metadata": {
        "id": "PRmSyvTNXBVv"
      },
      "source": [
        "import pandas\n",
        "df = pandas.read_csv('https://raw.githubusercontent.com/ywchiu/tibame_tm/master/data/creditcard_titles.csv', index_col = 0)"
      ],
      "execution_count": null,
      "outputs": []
    },
    {
      "cell_type": "code",
      "metadata": {
        "id": "Bx5hwDvSXlal"
      },
      "source": [
        "titles = df['title'].tolist()"
      ],
      "execution_count": null,
      "outputs": []
    },
    {
      "cell_type": "code",
      "metadata": {
        "id": "6erZTX-SXmjJ"
      },
      "source": [
        "import jieba\n",
        "jieba.add_word('台新')\n",
        "jieba.add_word('富邦')\n",
        "jieba.load_userdict('userdict.txt')\n",
        "corpus = []\n",
        "for title in titles:\n",
        "  corpus.append(' '.join(jieba.cut(title)))\n",
        "#print(corpus)"
      ],
      "execution_count": null,
      "outputs": []
    },
    {
      "cell_type": "code",
      "metadata": {
        "id": "zr_nfHb6YBWx"
      },
      "source": [
        "from sklearn.feature_extraction.text import CountVectorizer\n",
        "vectorizer = CountVectorizer(stop_words = ['不是'])\n",
        "X = vectorizer.fit_transform(corpus)"
      ],
      "execution_count": null,
      "outputs": []
    },
    {
      "cell_type": "code",
      "metadata": {
        "id": "3f00APqEZjp0",
        "colab": {
          "base_uri": "https://localhost:8080/",
          "height": 55
        },
        "outputId": "2dfcac6a-0a93-4839-cc43-2e1f09ec7f0b"
      },
      "source": [
        "print(vectorizer.get_feature_names())"
      ],
      "execution_count": null,
      "outputs": [
        {
          "output_type": "stream",
          "text": [
            "['10', '109', '15', '150', '18', '2020', '50', 'ana', 'app', 'apple', 'bear', 'costco', 'gogo', 'happy', 'hello', 'icash', 'kitty', 'line', 'linepay', 'money', 'money101', 'only', 'pay', 'pi', 're', 'ubear', 'ubereat', 'wallet', 'youbike2', '三代', '三倍', '三越', '上市', '上網', '上路', '下半年', '不划算', '世界', '中信', '中油', '付款', '位券', '使用', '促刷', '信用卡', '倍券', '優惠', '元大', '兆豐', '全新', '凱基', '分期', '分眾', '列入', '刷卡', '券綁', '加碼', '助理', '匯豐', '匯豐及', '卡娜', '卡換', '卡新戶禮', '卡會', '卡未核', '卡申', '卡莉', '卡面', '可以', '台哥', '台新', '合庫', '名額', '售票', '商務御璽', '商機', '問去', '問題', '嘟嘟', '回饋', '國旅', '國泰', '園學費', '土地', '城市', '外幣', '多家', '大滿', '大聯名', '太陽', '如何', '學貸', '家人', '寄來', '富邦', '寰宇', '小白', '屈臣氏', '年繳', '幼兒', '張高', '影城', '御璽', '心得', '悍將', '悠遊', '情報', '感謝', '應援哩', '懶人包', '房停車', '折抵', '抽獎', '拚振興', '指定', '振新券', '振興券', '掛號', '推數', '推薦', '推銷', '改換', '整理', '新光', '新戶', '新聞', '星展', '最新', '有人', '未過', '本月', '查詢', '核卡', '樂天', '樂跑', '正常', '永豐幣', '沒有', '活動', '消費', '渣打', '炫晶', '無限卡享', '熊回饋', '燃料', '玉山', '現金', '申請', '疑問', '研究', '神奇', '算實體', '簡訊', '粉紅', '紙本', '紙本券', '經濟部', '線上', '繳卡費', '繳稅', '繳納', '繳費', '聯名', '聯邦', '聯邦卡', '自動', '花旗', '討論', '調額', '請問', '謄本', '證明', '財力', '貫之路', '費用', '賴點', '近視', '這是', '通路', '金卡', '金融', '金袋', '金額', '銀行', '鑽金', '閒聊', '關於', '限制', '雷射', '電話', '頂級', '預購', '領現', '頻率', '額度', '飯店', '高雄']\n"
          ],
          "name": "stdout"
        }
      ]
    },
    {
      "cell_type": "code",
      "metadata": {
        "id": "5nDgBY_PZeJV",
        "colab": {
          "base_uri": "https://localhost:8080/",
          "height": 52
        },
        "outputId": "40a5b6b0-ec6d-4892-cffc-a8c170f12a1f"
      },
      "source": [
        "X"
      ],
      "execution_count": null,
      "outputs": [
        {
          "output_type": "execute_result",
          "data": {
            "text/plain": [
              "<71x198 sparse matrix of type '<class 'numpy.int64'>'\n",
              "\twith 451 stored elements in Compressed Sparse Row format>"
            ]
          },
          "metadata": {
            "tags": []
          },
          "execution_count": 33
        }
      ]
    },
    {
      "cell_type": "code",
      "metadata": {
        "id": "bgvb4zxNZesT"
      },
      "source": [
        "import re\n",
        "corpus = []\n",
        "for title in titles:\n",
        "  segwords = []\n",
        "  for word in jieba.cut(title):\n",
        "    m = re.match('[\\u4e00-\\u9fa5]+', word)\n",
        "    if m:\n",
        "      segwords.append(word)\n",
        "  corpus.append(' '.join(segwords))"
      ],
      "execution_count": null,
      "outputs": []
    },
    {
      "cell_type": "code",
      "metadata": {
        "id": "8Q8rprzYaoNx"
      },
      "source": [
        "from sklearn.feature_extraction.text import CountVectorizer\n",
        "vectorizer = CountVectorizer()\n",
        "X = vectorizer.fit_transform(corpus)"
      ],
      "execution_count": null,
      "outputs": []
    },
    {
      "cell_type": "code",
      "metadata": {
        "id": "_LsL1XHnarOP",
        "colab": {
          "base_uri": "https://localhost:8080/",
          "height": 55
        },
        "outputId": "ec19c2e0-61c8-4aec-a86b-358875a495c3"
      },
      "source": [
        "print(vectorizer.get_feature_names())"
      ],
      "execution_count": null,
      "outputs": [
        {
          "output_type": "stream",
          "text": [
            "['三代', '三倍', '三越', '上市', '上網', '上路', '下半年', '不划算', '不是', '世界', '中信', '中油', '付款', '位券', '使用', '促刷', '信用卡', '倍券', '優惠', '元大', '兆豐', '全新', '凱基', '分期', '分眾', '列入', '刷卡', '券綁', '加碼', '助理', '匯豐', '匯豐及', '卡娜', '卡換', '卡新戶禮', '卡會', '卡未核', '卡申', '卡莉', '卡面', '可以', '台哥', '台新', '合庫', '名額', '售票', '商務御璽', '商機', '問去', '問題', '嘟嘟', '回饋', '國旅', '國泰', '園學費', '土地', '城市', '外幣', '多家', '大滿', '大聯名', '太陽', '如何', '學貸', '家人', '寄來', '富邦', '寰宇', '小白', '屈臣氏', '年繳', '幼兒', '張高', '影城', '御璽', '心得', '悍將', '悠遊', '情報', '感謝', '應援哩', '懶人包', '房停車', '折抵', '抽獎', '拚振興', '指定', '振新券', '振興券', '掛號', '推數', '推薦', '推銷', '改換', '整理', '新光', '新戶', '新聞', '星展', '最新', '有人', '未過', '本月', '查詢', '核卡', '樂天', '樂跑', '正常', '永豐幣', '沒有', '活動', '消費', '渣打', '炫晶', '無限卡享', '熊回饋', '燃料', '玉山', '現金', '申請', '疑問', '研究', '神奇', '算實體', '簡訊', '粉紅', '紙本', '紙本券', '經濟部', '線上', '繳卡費', '繳稅', '繳納', '繳費', '聯名', '聯邦', '聯邦卡', '自動', '花旗', '討論', '調額', '請問', '謄本', '證明', '財力', '貫之路', '費用', '賴點', '近視', '這是', '通路', '金卡', '金融', '金袋', '金額', '銀行', '鑽金', '閒聊', '關於', '限制', '雷射', '電話', '頂級', '預購', '領現', '頻率', '額度', '飯店', '高雄']\n"
          ],
          "name": "stdout"
        }
      ]
    },
    {
      "cell_type": "code",
      "metadata": {
        "id": "uozBxB9jatZl"
      },
      "source": [
        "import re\n",
        "corpus = []\n",
        "for title in titles:\n",
        "  corpus.append([word for word in jieba.cut(title) if re.match('[\\u4e00-\\u9fa5]+', word)])\n",
        "  "
      ],
      "execution_count": null,
      "outputs": []
    },
    {
      "cell_type": "code",
      "metadata": {
        "id": "UeMmBrEka7BM"
      },
      "source": [
        "class ChineseCountVectorizer(CountVectorizer):\n",
        "    def build_analyzer(self):\n",
        "        analyzer = super(ChineseCountVectorizer, self).build_analyzer()\n",
        "        return lambda doc: (w for w in analyzer(doc) if re.match('[\\u4e00-\\u9fa5]+', w))"
      ],
      "execution_count": null,
      "outputs": []
    },
    {
      "cell_type": "code",
      "metadata": {
        "id": "A3BzoCyEbNJA"
      },
      "source": [
        "corpus = []\n",
        "for title in titles:\n",
        "  corpus.append(' '.join(jieba.cut(title)))"
      ],
      "execution_count": null,
      "outputs": []
    },
    {
      "cell_type": "code",
      "metadata": {
        "id": "8kegwjfebPzT"
      },
      "source": [
        "vectorizer = ChineseCountVectorizer()\n",
        "X = vectorizer.fit_transform(corpus)"
      ],
      "execution_count": null,
      "outputs": []
    },
    {
      "cell_type": "code",
      "metadata": {
        "id": "5C2Xv4WXbTHo",
        "colab": {
          "base_uri": "https://localhost:8080/",
          "height": 55
        },
        "outputId": "786a6124-efb2-44f5-94de-d6f4e00a8b74"
      },
      "source": [
        "print(vectorizer.get_feature_names())"
      ],
      "execution_count": null,
      "outputs": [
        {
          "output_type": "stream",
          "text": [
            "['三代', '三倍', '三越', '上市', '上網', '上路', '下半年', '不划算', '不是', '世界', '中信', '中油', '付款', '位券', '使用', '促刷', '信用卡', '倍券', '優惠', '元大', '兆豐', '全新', '凱基', '分期', '分眾', '列入', '刷卡', '券綁', '加碼', '助理', '匯豐', '匯豐及', '卡娜', '卡換', '卡新戶禮', '卡會', '卡未核', '卡申', '卡莉', '卡面', '可以', '台哥', '台新', '合庫', '名額', '售票', '商務御璽', '商機', '問去', '問題', '嘟嘟', '回饋', '國旅', '國泰', '園學費', '土地', '城市', '外幣', '多家', '大滿', '大聯名', '太陽', '如何', '學貸', '家人', '寄來', '富邦', '寰宇', '小白', '屈臣氏', '年繳', '幼兒', '張高', '影城', '御璽', '心得', '悍將', '悠遊', '情報', '感謝', '應援哩', '懶人包', '房停車', '折抵', '抽獎', '拚振興', '指定', '振新券', '振興券', '掛號', '推數', '推薦', '推銷', '改換', '整理', '新光', '新戶', '新聞', '星展', '最新', '有人', '未過', '本月', '查詢', '核卡', '樂天', '樂跑', '正常', '永豐幣', '沒有', '活動', '消費', '渣打', '炫晶', '無限卡享', '熊回饋', '燃料', '玉山', '現金', '申請', '疑問', '研究', '神奇', '算實體', '簡訊', '粉紅', '紙本', '紙本券', '經濟部', '線上', '繳卡費', '繳稅', '繳納', '繳費', '聯名', '聯邦', '聯邦卡', '自動', '花旗', '討論', '調額', '請問', '謄本', '證明', '財力', '貫之路', '費用', '賴點', '近視', '這是', '通路', '金卡', '金融', '金袋', '金額', '銀行', '鑽金', '閒聊', '關於', '限制', '雷射', '電話', '頂級', '預購', '領現', '頻率', '額度', '飯店', '高雄']\n"
          ],
          "name": "stdout"
        }
      ]
    },
    {
      "cell_type": "code",
      "metadata": {
        "id": "z7SGkhuFbU-f"
      },
      "source": [
        "from sklearn.feature_extraction.text import TfidfVectorizer\n",
        "vectorizer = TfidfVectorizer()\n",
        "X = vectorizer.fit_transform(corpus)"
      ],
      "execution_count": null,
      "outputs": []
    },
    {
      "cell_type": "markdown",
      "metadata": {
        "id": "2Z8KffGicq_F"
      },
      "source": [
        "## Euclidean Distance"
      ]
    },
    {
      "cell_type": "code",
      "metadata": {
        "id": "bySjTv-_berX"
      },
      "source": [
        "contents = ['This is a toy post about machine learning. Actually, it contains not much interesting stuff.',\n",
        "'Imaging databases can get huge.',\n",
        "'Most imaging databases safe images permanently.',\n",
        "'Imaging databases store images.',\n",
        "'Imaging databases store images. Imaging databases store images. Imaging databases store images.']"
      ],
      "execution_count": null,
      "outputs": []
    },
    {
      "cell_type": "code",
      "metadata": {
        "id": "AAedbEFvcvof"
      },
      "source": [
        "corpus = []\n",
        "for doc in contents:\n",
        "  corpus.append(doc.lower())"
      ],
      "execution_count": null,
      "outputs": []
    },
    {
      "cell_type": "code",
      "metadata": {
        "id": "IMMJ2zugdCmm"
      },
      "source": [
        "corpus = [doc.lower() for doc in contents]"
      ],
      "execution_count": null,
      "outputs": []
    },
    {
      "cell_type": "code",
      "metadata": {
        "id": "LRPYUwmKdNQ1"
      },
      "source": [
        "from sklearn.feature_extraction.text import CountVectorizer\n",
        "vectorizer = CountVectorizer()\n",
        "X = vectorizer.fit_transform(corpus)"
      ],
      "execution_count": null,
      "outputs": []
    },
    {
      "cell_type": "code",
      "metadata": {
        "id": "2L-ihvoddZfc",
        "colab": {
          "base_uri": "https://localhost:8080/",
          "height": 52
        },
        "outputId": "ef77e45b-1be9-4b49-9703-8fdcf7030e36"
      },
      "source": [
        "X"
      ],
      "execution_count": null,
      "outputs": [
        {
          "output_type": "execute_result",
          "data": {
            "text/plain": [
              "<5x24 sparse matrix of type '<class 'numpy.int64'>'\n",
              "\twith 33 stored elements in Compressed Sparse Row format>"
            ]
          },
          "metadata": {
            "tags": []
          },
          "execution_count": 53
        }
      ]
    },
    {
      "cell_type": "code",
      "metadata": {
        "id": "acjn87eXdaEz",
        "colab": {
          "base_uri": "https://localhost:8080/",
          "height": 52
        },
        "outputId": "8e962c4d-5edf-4c77-d174-e00c12e80545"
      },
      "source": [
        "X[0].toarray().flatten()"
      ],
      "execution_count": null,
      "outputs": [
        {
          "output_type": "execute_result",
          "data": {
            "text/plain": [
              "array([1, 1, 0, 1, 0, 0, 0, 0, 0, 1, 1, 1, 1, 1, 0, 1, 1, 0, 1, 0, 0, 1,\n",
              "       1, 1])"
            ]
          },
          "metadata": {
            "tags": []
          },
          "execution_count": 56
        }
      ]
    },
    {
      "cell_type": "code",
      "metadata": {
        "id": "8IsV3Hw_ddFz",
        "colab": {
          "base_uri": "https://localhost:8080/",
          "height": 52
        },
        "outputId": "c00be862-dd59-412b-f829-eae5c033e11e"
      },
      "source": [
        "X[1].toarray().flatten()"
      ],
      "execution_count": null,
      "outputs": [
        {
          "output_type": "execute_result",
          "data": {
            "text/plain": [
              "array([0, 0, 1, 0, 1, 1, 1, 0, 1, 0, 0, 0, 0, 0, 0, 0, 0, 0, 0, 0, 0, 0,\n",
              "       0, 0])"
            ]
          },
          "metadata": {
            "tags": []
          },
          "execution_count": 57
        }
      ]
    },
    {
      "cell_type": "code",
      "metadata": {
        "id": "o9F0qzIEdkAb",
        "colab": {
          "base_uri": "https://localhost:8080/",
          "height": 35
        },
        "outputId": "e7e4913c-14e6-4c8d-acee-b6bc224d249a"
      },
      "source": [
        "import math\n",
        "math.sqrt(sum((X[0].toarray().flatten() - X[1].toarray().flatten()) ** 2))"
      ],
      "execution_count": null,
      "outputs": [
        {
          "output_type": "execute_result",
          "data": {
            "text/plain": [
              "4.358898943540674"
            ]
          },
          "metadata": {
            "tags": []
          },
          "execution_count": 61
        }
      ]
    },
    {
      "cell_type": "code",
      "metadata": {
        "id": "QCbyYsZzdnxS"
      },
      "source": [
        "import scipy as sp\n",
        "\n",
        "def dist_raw(v1, v2):\n",
        "  delta = v1-v2\n",
        "  return sp.linalg.norm(delta.toarray())\n"
      ],
      "execution_count": null,
      "outputs": []
    },
    {
      "cell_type": "code",
      "metadata": {
        "id": "1F2AXChqd6_W",
        "colab": {
          "base_uri": "https://localhost:8080/",
          "height": 35
        },
        "outputId": "3af020e1-f675-472f-c912-54428b93f6ce"
      },
      "source": [
        "dist_raw(X[0] ,X[1] )"
      ],
      "execution_count": null,
      "outputs": [
        {
          "output_type": "execute_result",
          "data": {
            "text/plain": [
              "4.358898943540674"
            ]
          },
          "metadata": {
            "tags": []
          },
          "execution_count": 66
        }
      ]
    },
    {
      "cell_type": "code",
      "metadata": {
        "id": "VO6G9GjFd-7N",
        "colab": {
          "base_uri": "https://localhost:8080/",
          "height": 104
        },
        "outputId": "5ad32a88-815a-49fb-c63b-15db73015725"
      },
      "source": [
        "from sklearn.metrics.pairwise import euclidean_distances\n",
        "euclidean_distances(X)"
      ],
      "execution_count": null,
      "outputs": [
        {
          "output_type": "execute_result",
          "data": {
            "text/plain": [
              "array([[0.        , 4.35889894, 4.47213595, 4.24264069, 7.07106781],\n",
              "       [4.35889894, 0.        , 2.64575131, 2.23606798, 5.38516481],\n",
              "       [4.47213595, 2.64575131, 0.        , 2.        , 4.89897949],\n",
              "       [4.24264069, 2.23606798, 2.        , 0.        , 4.        ],\n",
              "       [7.07106781, 5.38516481, 4.89897949, 4.        , 0.        ]])"
            ]
          },
          "metadata": {
            "tags": []
          },
          "execution_count": 67
        }
      ]
    },
    {
      "cell_type": "markdown",
      "metadata": {
        "id": "O5jbj8ote8BJ"
      },
      "source": [
        "## Jaccard Similarity"
      ]
    },
    {
      "cell_type": "code",
      "metadata": {
        "id": "aQvbtfrfeSWa",
        "colab": {
          "base_uri": "https://localhost:8080/",
          "height": 35
        },
        "outputId": "cc578f02-0969-462f-cae8-c8ecaf000aa2"
      },
      "source": [
        "import numpy as np\n",
        "a = np.array([3,3,1,0,0,2])\n",
        "(a > 0).astype(int)"
      ],
      "execution_count": null,
      "outputs": [
        {
          "output_type": "execute_result",
          "data": {
            "text/plain": [
              "array([1, 1, 1, 0, 0, 1])"
            ]
          },
          "metadata": {
            "tags": []
          },
          "execution_count": 70
        }
      ]
    },
    {
      "cell_type": "code",
      "metadata": {
        "id": "ufakn_LTfHWy",
        "colab": {
          "base_uri": "https://localhost:8080/",
          "height": 35
        },
        "outputId": "61a215ec-b637-4fe6-c669-ec41bbaa7741"
      },
      "source": [
        "np.asarray(a, np.bool)"
      ],
      "execution_count": null,
      "outputs": [
        {
          "output_type": "execute_result",
          "data": {
            "text/plain": [
              "array([ True,  True,  True, False, False,  True])"
            ]
          },
          "metadata": {
            "tags": []
          },
          "execution_count": 71
        }
      ]
    },
    {
      "cell_type": "code",
      "metadata": {
        "id": "BF_qfkm4fOPI"
      },
      "source": [
        "def jaccard(v1,v2):\n",
        "  v1 = np.asarray(v1, np.bool)\n",
        "  v2 = np.asarray(v2, np.bool)\n",
        "  return np.double(np.bitwise_and(v1, v2).sum()) / np.double(np.bitwise_or(v1, v2).sum())"
      ],
      "execution_count": null,
      "outputs": []
    },
    {
      "cell_type": "code",
      "metadata": {
        "id": "Kptj0OjKfizs",
        "colab": {
          "base_uri": "https://localhost:8080/",
          "height": 35
        },
        "outputId": "df970312-5d93-4cd0-d163-a3d78ce7407d"
      },
      "source": [
        "jaccard(X[0].toarray().flatten(),X[1].toarray().flatten())"
      ],
      "execution_count": null,
      "outputs": [
        {
          "output_type": "execute_result",
          "data": {
            "text/plain": [
              "0.0"
            ]
          },
          "metadata": {
            "tags": []
          },
          "execution_count": 77
        }
      ]
    },
    {
      "cell_type": "code",
      "metadata": {
        "id": "O6DiSvYdfvKT",
        "colab": {
          "base_uri": "https://localhost:8080/",
          "height": 35
        },
        "outputId": "32fa8881-75b8-4291-8d4d-a3e8dd569e5f"
      },
      "source": [
        "jaccard(X[3].toarray().flatten(),X[4].toarray().flatten())"
      ],
      "execution_count": null,
      "outputs": [
        {
          "output_type": "execute_result",
          "data": {
            "text/plain": [
              "1.0"
            ]
          },
          "metadata": {
            "tags": []
          },
          "execution_count": 78
        }
      ]
    },
    {
      "cell_type": "code",
      "metadata": {
        "id": "uuWUaGn7f29_",
        "colab": {
          "base_uri": "https://localhost:8080/",
          "height": 35
        },
        "outputId": "bcd26b1f-54f0-44ee-f847-f222595f0a9d"
      },
      "source": [
        "from sklearn.metrics import jaccard_score\n",
        "v1 = np.asarray(X[3].toarray().flatten(), np.bool)\n",
        "v2 = np.asarray(X[4].toarray().flatten(), np.bool)\n",
        "jaccard_score(v1, v2)"
      ],
      "execution_count": null,
      "outputs": [
        {
          "output_type": "execute_result",
          "data": {
            "text/plain": [
              "1.0"
            ]
          },
          "metadata": {
            "tags": []
          },
          "execution_count": 80
        }
      ]
    },
    {
      "cell_type": "code",
      "metadata": {
        "id": "p5HmPBkkgJGA",
        "colab": {
          "base_uri": "https://localhost:8080/",
          "height": 35
        },
        "outputId": "484e0d42-211c-4619-b202-4da0aa1004f4"
      },
      "source": [
        "X.shape"
      ],
      "execution_count": null,
      "outputs": [
        {
          "output_type": "execute_result",
          "data": {
            "text/plain": [
              "(5, 24)"
            ]
          },
          "metadata": {
            "tags": []
          },
          "execution_count": 82
        }
      ]
    },
    {
      "cell_type": "code",
      "metadata": {
        "id": "TlTeLAF6gZ0h",
        "colab": {
          "base_uri": "https://localhost:8080/",
          "height": 35
        },
        "outputId": "79fb4653-dc62-4951-a653-4a107f86e62f"
      },
      "source": [
        "X.shape[0]"
      ],
      "execution_count": null,
      "outputs": [
        {
          "output_type": "execute_result",
          "data": {
            "text/plain": [
              "5"
            ]
          },
          "metadata": {
            "tags": []
          },
          "execution_count": 83
        }
      ]
    },
    {
      "cell_type": "code",
      "metadata": {
        "id": "AM9m8tyDgjJ1"
      },
      "source": [
        "n = X.shape[0]"
      ],
      "execution_count": null,
      "outputs": []
    },
    {
      "cell_type": "code",
      "metadata": {
        "id": "LwsKyv5_gdn-",
        "colab": {
          "base_uri": "https://localhost:8080/",
          "height": 104
        },
        "outputId": "4e57eb28-c8b0-4206-ad5d-43c5b8b3f1b2"
      },
      "source": [
        "m = np.zeros((n,n))\n",
        "m"
      ],
      "execution_count": null,
      "outputs": [
        {
          "output_type": "execute_result",
          "data": {
            "text/plain": [
              "array([[0., 0., 0., 0., 0.],\n",
              "       [0., 0., 0., 0., 0.],\n",
              "       [0., 0., 0., 0., 0.],\n",
              "       [0., 0., 0., 0., 0.],\n",
              "       [0., 0., 0., 0., 0.]])"
            ]
          },
          "metadata": {
            "tags": []
          },
          "execution_count": 86
        }
      ]
    },
    {
      "cell_type": "code",
      "metadata": {
        "id": "oL3_acK9glG2"
      },
      "source": [
        "for i in range(n):\n",
        "  for j in range(n):\n",
        "    v1 = np.asarray(X[i].toarray().flatten(), np.bool)\n",
        "    v2 = np.asarray(X[j].toarray().flatten(), np.bool)\n",
        "    m[i,j] = jaccard_score(v1, v2)"
      ],
      "execution_count": null,
      "outputs": []
    },
    {
      "cell_type": "code",
      "metadata": {
        "id": "WstP9o8xg6Z0",
        "colab": {
          "base_uri": "https://localhost:8080/",
          "height": 104
        },
        "outputId": "679860ed-7d06-4eca-e77f-a42264af026a"
      },
      "source": [
        "m"
      ],
      "execution_count": null,
      "outputs": [
        {
          "output_type": "execute_result",
          "data": {
            "text/plain": [
              "array([[1.        , 0.        , 0.        , 0.        , 0.        ],\n",
              "       [0.        , 1.        , 0.22222222, 0.28571429, 0.28571429],\n",
              "       [0.        , 0.22222222, 1.        , 0.42857143, 0.42857143],\n",
              "       [0.        , 0.28571429, 0.42857143, 1.        , 1.        ],\n",
              "       [0.        , 0.28571429, 0.42857143, 1.        , 1.        ]])"
            ]
          },
          "metadata": {
            "tags": []
          },
          "execution_count": 88
        }
      ]
    },
    {
      "cell_type": "markdown",
      "metadata": {
        "id": "ZfpRRjc_hsO3"
      },
      "source": [
        "## Cosine Slimilarity"
      ]
    },
    {
      "cell_type": "code",
      "metadata": {
        "id": "f7Ao-QEFg6-L"
      },
      "source": [
        "import math\n",
        "def cos_similarity(v1,v2):\n",
        "  return np.dot(v1,v2) / math.sqrt((v1 ** 2).sum()) * math.sqrt((v2 ** 2).sum())"
      ],
      "execution_count": null,
      "outputs": []
    },
    {
      "cell_type": "code",
      "metadata": {
        "id": "u0wKX1Ugh4fw",
        "colab": {
          "base_uri": "https://localhost:8080/",
          "height": 35
        },
        "outputId": "a7de6440-b158-4db2-b09c-3a177c034b62"
      },
      "source": [
        "cos_similarity(X[0].toarray().flatten(),X[1].toarray().flatten())"
      ],
      "execution_count": null,
      "outputs": [
        {
          "output_type": "execute_result",
          "data": {
            "text/plain": [
              "0.0"
            ]
          },
          "metadata": {
            "tags": []
          },
          "execution_count": 92
        }
      ]
    },
    {
      "cell_type": "code",
      "metadata": {
        "id": "hGcpfBqiiAcV",
        "colab": {
          "base_uri": "https://localhost:8080/",
          "height": 104
        },
        "outputId": "f17da4ef-1225-4017-86b1-fc464aac123b"
      },
      "source": [
        "from sklearn.metrics.pairwise import cosine_similarity\n",
        "cosine_similarity(X)"
      ],
      "execution_count": null,
      "outputs": [
        {
          "output_type": "execute_result",
          "data": {
            "text/plain": [
              "array([[1.        , 0.        , 0.        , 0.        , 0.        ],\n",
              "       [0.        , 1.        , 0.36514837, 0.4472136 , 0.4472136 ],\n",
              "       [0.        , 0.36514837, 1.        , 0.61237244, 0.61237244],\n",
              "       [0.        , 0.4472136 , 0.61237244, 1.        , 1.        ],\n",
              "       [0.        , 0.4472136 , 0.61237244, 1.        , 1.        ]])"
            ]
          },
          "metadata": {
            "tags": []
          },
          "execution_count": 94
        }
      ]
    },
    {
      "cell_type": "code",
      "metadata": {
        "id": "wIenug5tiKJO",
        "colab": {
          "base_uri": "https://localhost:8080/",
          "height": 104
        },
        "outputId": "e4b108ac-d27a-445d-d0a4-60cc3bf1da12"
      },
      "source": [
        "from sklearn.metrics.pairwise import cosine_distances\n",
        "cosine_distances(X)"
      ],
      "execution_count": null,
      "outputs": [
        {
          "output_type": "execute_result",
          "data": {
            "text/plain": [
              "array([[0.        , 1.        , 1.        , 1.        , 1.        ],\n",
              "       [1.        , 0.        , 0.63485163, 0.5527864 , 0.5527864 ],\n",
              "       [1.        , 0.63485163, 0.        , 0.38762756, 0.38762756],\n",
              "       [1.        , 0.5527864 , 0.38762756, 0.        , 0.        ],\n",
              "       [1.        , 0.5527864 , 0.38762756, 0.        , 0.        ]])"
            ]
          },
          "metadata": {
            "tags": []
          },
          "execution_count": 95
        }
      ]
    },
    {
      "cell_type": "code",
      "metadata": {
        "id": "UWwyIM72iVXr"
      },
      "source": [
        "# distance = 1 - similarity\n",
        "# similarity = 1 - distance"
      ],
      "execution_count": null,
      "outputs": []
    },
    {
      "cell_type": "markdown",
      "metadata": {
        "id": "USGdrikOi0gG"
      },
      "source": [
        "## TF-IDF"
      ]
    },
    {
      "cell_type": "code",
      "metadata": {
        "id": "-0q_7buoi10U"
      },
      "source": [
        "from sklearn.feature_extraction.text import TfidfVectorizer\n",
        "vectorizer = TfidfVectorizer()\n",
        "X = vectorizer.fit_transform(corpus)\n"
      ],
      "execution_count": null,
      "outputs": []
    },
    {
      "cell_type": "code",
      "metadata": {
        "id": "IPcAEHogi-z0",
        "colab": {
          "base_uri": "https://localhost:8080/",
          "height": 52
        },
        "outputId": "2c06f44a-dd8a-470f-ace4-ab503e2d2c76"
      },
      "source": [
        "X"
      ],
      "execution_count": null,
      "outputs": [
        {
          "output_type": "execute_result",
          "data": {
            "text/plain": [
              "<5x24 sparse matrix of type '<class 'numpy.float64'>'\n",
              "\twith 33 stored elements in Compressed Sparse Row format>"
            ]
          },
          "metadata": {
            "tags": []
          },
          "execution_count": 97
        }
      ]
    },
    {
      "cell_type": "code",
      "metadata": {
        "id": "iJ82CslPi_QW",
        "colab": {
          "base_uri": "https://localhost:8080/",
          "height": 449
        },
        "outputId": "8dde52d3-24e8-4bec-a5f9-46e31f048b95"
      },
      "source": [
        "X.toarray()"
      ],
      "execution_count": null,
      "outputs": [
        {
          "output_type": "execute_result",
          "data": {
            "text/plain": [
              "array([[0.26726124, 0.26726124, 0.        , 0.26726124, 0.        ,\n",
              "        0.        , 0.        , 0.        , 0.        , 0.26726124,\n",
              "        0.26726124, 0.26726124, 0.26726124, 0.26726124, 0.        ,\n",
              "        0.26726124, 0.26726124, 0.        , 0.26726124, 0.        ,\n",
              "        0.        , 0.26726124, 0.26726124, 0.26726124],\n",
              "       [0.        , 0.        , 0.52451722, 0.        , 0.29550385,\n",
              "        0.52451722, 0.52451722, 0.        , 0.29550385, 0.        ,\n",
              "        0.        , 0.        , 0.        , 0.        , 0.        ,\n",
              "        0.        , 0.        , 0.        , 0.        , 0.        ,\n",
              "        0.        , 0.        , 0.        , 0.        ],\n",
              "       [0.        , 0.        , 0.        , 0.        , 0.27880274,\n",
              "        0.        , 0.        , 0.33142212, 0.27880274, 0.        ,\n",
              "        0.        , 0.        , 0.        , 0.        , 0.49487286,\n",
              "        0.        , 0.        , 0.49487286, 0.        , 0.49487286,\n",
              "        0.        , 0.        , 0.        , 0.        ],\n",
              "       [0.        , 0.        , 0.        , 0.        , 0.42780918,\n",
              "        0.        , 0.        , 0.50855106, 0.42780918, 0.        ,\n",
              "        0.        , 0.        , 0.        , 0.        , 0.        ,\n",
              "        0.        , 0.        , 0.        , 0.        , 0.        ,\n",
              "        0.61264544, 0.        , 0.        , 0.        ],\n",
              "       [0.        , 0.        , 0.        , 0.        , 0.42780918,\n",
              "        0.        , 0.        , 0.50855106, 0.42780918, 0.        ,\n",
              "        0.        , 0.        , 0.        , 0.        , 0.        ,\n",
              "        0.        , 0.        , 0.        , 0.        , 0.        ,\n",
              "        0.61264544, 0.        , 0.        , 0.        ]])"
            ]
          },
          "metadata": {
            "tags": []
          },
          "execution_count": 98
        }
      ]
    },
    {
      "cell_type": "code",
      "metadata": {
        "id": "ExHqWHk8jAsj",
        "colab": {
          "base_uri": "https://localhost:8080/",
          "height": 104
        },
        "outputId": "0ffab6b1-d861-405d-cd31-9bba966f412f"
      },
      "source": [
        "from sklearn.metrics.pairwise import cosine_similarity\n",
        "cosine_similarity(X)"
      ],
      "execution_count": null,
      "outputs": [
        {
          "output_type": "execute_result",
          "data": {
            "text/plain": [
              "array([[1.        , 0.        , 0.        , 0.        , 0.        ],\n",
              "       [0.        , 1.        , 0.16477457, 0.25283852, 0.25283852],\n",
              "       [0.        , 0.16477457, 1.        , 0.40709381, 0.40709381],\n",
              "       [0.        , 0.25283852, 0.40709381, 1.        , 1.        ],\n",
              "       [0.        , 0.25283852, 0.40709381, 1.        , 1.        ]])"
            ]
          },
          "metadata": {
            "tags": []
          },
          "execution_count": 99
        }
      ]
    },
    {
      "cell_type": "markdown",
      "metadata": {
        "id": "FLHu5f_umsua"
      },
      "source": [
        "## 蝦皮爬蟲"
      ]
    },
    {
      "cell_type": "code",
      "metadata": {
        "id": "NU3wzld1jHwz"
      },
      "source": [
        "import requests\n",
        "headers = {\n",
        "  'referer': 'https://shopee.tw/%E7%AD%86%E8%A8%98%E5%9E%8B%E9%9B%BB%E8%85%A6-cat.69.2156?page=3',  \n",
        "  'user-agent': 'Mozilla/5.0 (Macintosh; Intel Mac OS X 10_14_6) AppleWebKit/537.36 (KHTML, like Gecko) Chrome/84.0.4147.105 Safari/537.36'  \n",
        "}\n",
        "res = requests.get('https://shopee.tw/api/v2/search_items/?by=relevancy&fe_categoryids=2156&limit=50&newest=150&order=desc&page_type=search&version=2', headers = headers)\n",
        "jd = res.json()"
      ],
      "execution_count": null,
      "outputs": []
    },
    {
      "cell_type": "code",
      "metadata": {
        "id": "rqD_hJBvmxci",
        "colab": {
          "base_uri": "https://localhost:8080/",
          "height": 881
        },
        "outputId": "d613fdb6-301e-42ae-d1b7-4b09ceba442f"
      },
      "source": [
        "for item in jd['items']:\n",
        "  print(item.get('name'))"
      ],
      "execution_count": null,
      "outputs": [
        {
          "output_type": "stream",
          "text": [
            "全新未拆 MacBook Air 128G\n",
            "Apple MacBook Pro 13.3吋 1.4GHZ/8GB/128GB Touch Bar 灰/銀\n",
            "ASUS 華碩 TUF FX505 FX505DV-0081B3750H 15吋 薄邊 電競 筆電 黑\n",
            "2020版 MacBook Pro 13吋 16G / 512GB 全新未拆封 TouchBar 台灣公司貨\n",
            "ACER 宏碁 Swift 3 SF314 58 5720 i5-10210U 1TB 粉 14吋 輕薄筆電\n",
            "(讓您把Macbook換下來的SSD一秒變成NVME M.2給PC使用!!)蘋果原廠SSD轉桌電用M.2 NGFF轉接卡\n",
            "華碩 ASUS X550DP X550EA X550J X550JX X550L X550VC 筆電鍵盤 按鍵\n",
            "ASUS 華碩 E203 E203MA 粉/白【11.6吋/Buy3c奇展】蝦皮嚴選\n",
            "超輕薄》免運Fujitsu U772輕薄遊戲繪圖筆記型電腦 i5三代/4G/500G+24G SSD可升8G升固態\n",
            "~熊俗3C~ ASUS 華碩 X407MA-0021DN4100 玫瑰金(熊俗~有店面) X407MA X407\n",
            "筆記型電腦 華碩-聯想-宏基-dell -聯想 筆電 大理石花岗岩保護膜 貼膜\n",
            "聯想 Lenovo IdeaPad 320 15IKB 81BG00LNTW 筆記型電腦 鈦灰 i7-8550U 拆封品\n",
            "ACER 宏碁 Swift 3 SF314 58G 52AL i5-10210U  MX250 粉 14吋 輕薄筆電\n",
            "│秒殺價│戴爾 DELL XPS 8500 1155 主板 H77 DH77M01 CY0629 0YJT1\n",
            "全新 刀鋒 14寸 四核 超薄極速 可遊戲 打lol 英雄聯盟 戰勝  asus   筆記型電腦\n",
            "【24出貨】蘋果電腦電池 型號 A1369 A1466 2013 2014 2015年款MacBook Air 13吋\n",
            "APPLE MacBook Pro TB系列 i7/16G/512G/銀/灰 16吋筆電\n",
            "網路教學/遠端教學/在家上課用大筆電 wifi ok/ 光碟 ok / 上網 ok /看電影 ok\n",
            "【當天出貨】蘋果電腦喇叭 型號A1398  2013 2014 2015年MacBook Pro Retina 15吋\n",
            "華碩 ASUS E203MA (櫻花粉)輕薄 小筆電 11.6吋/4G/64G/WIN10/office365\n",
            "可無卡分期!近全新展示msi電競筆電便宜賣,再送你吃雞或gta5!I7 I5 GTX1060 鬥陣 吃雞 LOL\n",
            "速達-二手深寶藍華碩  高階雙核心  打lol\n",
            "🔥現貨🔥華碩ASUS AMD R7-4800H 八核 RTX2060 電競筆電 TUF FA506IU 天選\n",
            "Lenovo 聯想 ThinkBook 14 20RV0048TW i5/8G/512G14吋 筆電 灰[折扣碼現折]\n",
            "APPLE MacBook Pro系列 2020新機(i5 四核心/8G/256G/太空灰/銀色) 13吋蘋果筆電\n",
            "筆記型電腦 Asus華碩-聯想-Acer宏基-dell -聯想 筆電 大理石花岗岩保護膜 貼膜\n",
            "小筆電出清一台2800\n",
            "$ 2199 $【完美3C資訊】Acer asus hp dell toshiba msi 筆電 文書機 15吋 14吋\n",
            "MITPC*acer宏碁 TravelMate TMP-645M 14.1\" UltraBook  輕薄筆電8G RAM\n",
            "Microsoft微軟 Surface Go 2–4425Y/8G/128G/10.5吋平板筆電 新機+鍵盤 組合\n",
            "速達二手電腦周邊拍賣㊣ 二手Acer TravelMate 4720g筆電\n",
            "(讓您的黑蘋果輕鬆使用AirDrop及Handoff不求人!)高階免驅動無線網卡-BCM943602CS_原廠使用_全高\n",
            "【蘋果電腦內膽包】MacBook Pro Retina 13吋 寸蘋果筆記型電腦保護套  潛水布防水材質\n",
            "#新貨特價$HP惠普EliteBook 725 G3 820 G3 G4 SN03XL SN03044XL 筆記本電池\n",
            "(讓您輕鬆拆下IMac螢幕換SSD不求人!)IMac A1418、A1419_21.5、27吋雙面膠+拆解工具\n",
            "ASUS VivoBook S431FL 青春版輕薄筆電 i5-8265U/MX250 2G/8G/512G PCIe\n",
            "【售】MacBook Pro(Touch Bar) 13吋 i5 8G 256SSD  太空灰 蘋果電腦\n",
            "Apple MacBook Air 13.3/1.1/8G/256G/金/銀/灰 2020新款\n",
            "(新貨特價)HP康柏Presario CQ20 CQ32 CQ35筆記本CQ36電腦G32充電源適配器線\n",
            "筆記型電腦 Asus華碩-聯想-Acer宏基-dell -聯想 筆電 大理石花岗岩保護膜 貼膜\n",
            "2012 Macbook AIR A1466 A1465 SSD轉接卡 MAC M.2 NGFF轉 硬碟 擴充 故障\n",
            "個人下單區！！！！！\n",
            "【售】 2016年購 MacBook Air 13吋 i5(1.6) 4G 128SSD 蘋果電腦 Apple\n",
            "APPLE MacBook Air 13.3吋 SSD 256GB 大容量(可議價）\n",
            "(全新促銷)btwo 適用于聯想IBM ThinkPad x200 x200s x201 x201i筆記本電池\n",
            "Microsoft Surface Go 4415Y 8G 128G【輸碼SENASUR5現折$600】\n",
            "ASUS E406MA 14吋窄邊框筆電 (Celeron N4100/4G/64G) 全新品 附發票 原廠保固\n",
            "ASUS 華碩 VivoBook S14 S403 S403FA-0252C10510U 14吋 輕薄 筆電 玫瑰金\n",
            "客訂 超輕薄》免運Fujitsu U772輕薄遊戲繪圖筆記型電腦\n",
            "Toshiba 東芝 Portege R30-C i5六代CPU Win10 240SSD 13吋日系 筆電 筆記型電腦\n"
          ],
          "name": "stdout"
        }
      ]
    },
    {
      "cell_type": "markdown",
      "metadata": {
        "id": "ukx7p0ZVnvyP"
      },
      "source": [
        "## 建立推薦系統"
      ]
    },
    {
      "cell_type": "code",
      "metadata": {
        "id": "at_aqXvTnPff"
      },
      "source": [
        "import pandas\n",
        "df = pandas.read_csv('https://raw.githubusercontent.com/ywchiu/tibame_tm/master/data/shopee_laptop.csv', index_col = 0)"
      ],
      "execution_count": null,
      "outputs": []
    },
    {
      "cell_type": "code",
      "metadata": {
        "id": "GRz6Z8HCn3yQ",
        "colab": {
          "base_uri": "https://localhost:8080/",
          "height": 35
        },
        "outputId": "dba2a1ba-5475-4765-9d8f-fd099515f279"
      },
      "source": [
        "len(df)"
      ],
      "execution_count": null,
      "outputs": [
        {
          "output_type": "execute_result",
          "data": {
            "text/plain": [
              "247"
            ]
          },
          "metadata": {
            "tags": []
          },
          "execution_count": 110
        }
      ]
    },
    {
      "cell_type": "code",
      "metadata": {
        "id": "eHSYfq3gn4Sv",
        "colab": {
          "base_uri": "https://localhost:8080/",
          "height": 35
        },
        "outputId": "726a26ae-7ce7-41ae-8640-e5759b3672ad"
      },
      "source": [
        "for idx, product in df.iterrows():\n",
        "  print(idx, product.get('name'))\n",
        "  break"
      ],
      "execution_count": null,
      "outputs": [
        {
          "output_type": "stream",
          "text": [
            "0 APPLE MacBook Air系列 i3 雙核心/8G/256G/銀/金/灰 13吋筆電 2020新機 【現貨】\n"
          ],
          "name": "stdout"
        }
      ]
    },
    {
      "cell_type": "code",
      "metadata": {
        "id": "li6MxOkgoSnM"
      },
      "source": [
        "import jieba\n",
        "corpus = []\n",
        "titles = []\n",
        "for idx, product in df.iterrows():\n",
        "  corpus.append(' '.join(jieba.cut(product.get('name'))))\n",
        "  titles.append(product.get('name'))"
      ],
      "execution_count": null,
      "outputs": []
    },
    {
      "cell_type": "code",
      "metadata": {
        "id": "trbDVbBLorf5",
        "colab": {
          "base_uri": "https://localhost:8080/",
          "height": 35
        },
        "outputId": "bb3ae33f-61bf-4bd7-e23c-e778859c5897"
      },
      "source": [
        "corpus[0]"
      ],
      "execution_count": null,
      "outputs": [
        {
          "output_type": "execute_result",
          "data": {
            "application/vnd.google.colaboratory.intrinsic+json": {
              "type": "string"
            },
            "text/plain": [
              "'APPLE   MacBook   Air 系列   i3   雙 核心 / 8G / 256G / 銀 / 金 / 灰   13 吋 筆電   2020 新機   【 現貨 】'"
            ]
          },
          "metadata": {
            "tags": []
          },
          "execution_count": 128
        }
      ]
    },
    {
      "cell_type": "code",
      "metadata": {
        "id": "TwvgKLDCotOQ"
      },
      "source": [
        "from sklearn.feature_extraction.text import CountVectorizer, TfidfVectorizer\n",
        "vectorizer = TfidfVectorizer()\n",
        "X = vectorizer.fit_transform(corpus)"
      ],
      "execution_count": null,
      "outputs": []
    },
    {
      "cell_type": "code",
      "metadata": {
        "id": "YMPQlJnIpKju",
        "colab": {
          "base_uri": "https://localhost:8080/",
          "height": 52
        },
        "outputId": "6c97359d-7f59-48a3-ba34-a451ec6dd004"
      },
      "source": [
        "X"
      ],
      "execution_count": null,
      "outputs": [
        {
          "output_type": "execute_result",
          "data": {
            "text/plain": [
              "<247x992 sparse matrix of type '<class 'numpy.float64'>'\n",
              "\twith 2844 stored elements in Compressed Sparse Row format>"
            ]
          },
          "metadata": {
            "tags": []
          },
          "execution_count": 130
        }
      ]
    },
    {
      "cell_type": "code",
      "metadata": {
        "id": "iMeLMcUjpLFM"
      },
      "source": [
        "from sklearn.metrics.pairwise import cosine_distances\n",
        "cs = cosine_distances(X)"
      ],
      "execution_count": null,
      "outputs": []
    },
    {
      "cell_type": "code",
      "metadata": {
        "id": "u0_bhHCVpWrL",
        "colab": {
          "base_uri": "https://localhost:8080/",
          "height": 35
        },
        "outputId": "2c3a384e-28e3-47e9-bddd-cb118f6df09e"
      },
      "source": [
        "cs[0].shape"
      ],
      "execution_count": null,
      "outputs": [
        {
          "output_type": "execute_result",
          "data": {
            "text/plain": [
              "(247,)"
            ]
          },
          "metadata": {
            "tags": []
          },
          "execution_count": 132
        }
      ]
    },
    {
      "cell_type": "code",
      "metadata": {
        "id": "nfpOsjHKpXI3",
        "colab": {
          "base_uri": "https://localhost:8080/",
          "height": 35
        },
        "outputId": "d22f64d7-c494-4617-e540-8e00ed372182"
      },
      "source": [
        "cs[0].argsort()[1:6]"
      ],
      "execution_count": null,
      "outputs": [
        {
          "output_type": "execute_result",
          "data": {
            "text/plain": [
              "array([ 84, 134,  70, 124,   1])"
            ]
          },
          "metadata": {
            "tags": []
          },
          "execution_count": 133
        }
      ]
    },
    {
      "cell_type": "code",
      "metadata": {
        "id": "3Ol4M3qbpgqh",
        "colab": {
          "base_uri": "https://localhost:8080/",
          "height": 35
        },
        "outputId": "0e8e6976-521f-47e8-fcac-b24498864492"
      },
      "source": [
        "titles[0]"
      ],
      "execution_count": null,
      "outputs": [
        {
          "output_type": "execute_result",
          "data": {
            "application/vnd.google.colaboratory.intrinsic+json": {
              "type": "string"
            },
            "text/plain": [
              "'APPLE MacBook Air系列 i3 雙核心/8G/256G/銀/金/灰 13吋筆電 2020新機 【現貨】'"
            ]
          },
          "metadata": {
            "tags": []
          },
          "execution_count": 134
        }
      ]
    },
    {
      "cell_type": "code",
      "metadata": {
        "id": "eSoEg1vwp3F-",
        "colab": {
          "base_uri": "https://localhost:8080/",
          "height": 104
        },
        "outputId": "8eb61f9e-68e4-4232-9189-c9aabc5fe105"
      },
      "source": [
        "for idx in cs[0].argsort()[1:6]:\n",
        "  print(titles[idx])"
      ],
      "execution_count": null,
      "outputs": [
        {
          "output_type": "stream",
          "text": [
            "APPLE MacBook Air系列 i5 四核心/8G/512G/銀/金/灰 13吋筆電 2020新機 【現貨】\n",
            "APPLE MacBook Pro系列 2020新機(i5 四核心/8G/256G/太空灰/銀色) 13吋蘋果筆電\n",
            "APPLE MacBook Air系列 i5/8G/256G/銀/金/灰 13吋筆電 2019年版 【現貨】\n",
            "Apple MacBook Air 13.3/1.1/8G/256G/金/銀/灰 2020新款\n",
            "APPLE MacBook Air系列 i5/8G/128G/銀/金/灰 13吋筆電 2019年版 【現貨】\n"
          ],
          "name": "stdout"
        }
      ]
    },
    {
      "cell_type": "code",
      "metadata": {
        "id": "9D6ynvVyp7w-",
        "colab": {
          "base_uri": "https://localhost:8080/",
          "height": 104
        },
        "outputId": "8a9d9ef1-536c-4969-bfb3-b8e068ec3d24"
      },
      "source": [
        "def getRecommendation(productid):\n",
        "  print('[閱覽商品]:',titles[productid])\n",
        "  cs = cosine_distances(X[productid], X).flatten()\n",
        "  for idx in cs.argsort():\n",
        "    if cs[idx] < 0.5:\n",
        "      print('[推薦商品]:',titles[idx], cs[idx])\n",
        "\n",
        "\n",
        "getRecommendation(1)"
      ],
      "execution_count": null,
      "outputs": [
        {
          "output_type": "stream",
          "text": [
            "[閱覽商品]: APPLE MacBook Air系列 i5/8G/128G/銀/金/灰 13吋筆電 2019年版 【現貨】\n",
            "[推薦商品]: APPLE MacBook Air系列 i5/8G/128G/銀/金/灰 13吋筆電 2019年版 【現貨】 0.0\n",
            "[推薦商品]: APPLE MacBook Air系列 i5/8G/256G/銀/金/灰 13吋筆電 2019年版 【現貨】 0.09117817352695867\n",
            "[推薦商品]: APPLE MacBook Air系列 i5 四核心/8G/512G/銀/金/灰 13吋筆電 2020新機 【現貨】 0.4330531881144122\n",
            "[推薦商品]: APPLE MacBook Air系列 i3 雙核心/8G/256G/銀/金/灰 13吋筆電 2020新機 【現貨】 0.49139807168791905\n"
          ],
          "name": "stdout"
        }
      ]
    },
    {
      "cell_type": "markdown",
      "metadata": {
        "id": "XRrurgsOrgNk"
      },
      "source": [
        "## 新聞推薦系統"
      ]
    },
    {
      "cell_type": "code",
      "metadata": {
        "id": "H1ta1k3OqP-b"
      },
      "source": [
        "import pandas\n",
        "news = pandas.read_excel('https://raw.githubusercontent.com/ywchiu/tibame_tm/master/data/news.xlsx', index_col = 0)"
      ],
      "execution_count": null,
      "outputs": []
    },
    {
      "cell_type": "code",
      "metadata": {
        "id": "LtR4WiJJrrNI",
        "colab": {
          "base_uri": "https://localhost:8080/",
          "height": 319
        },
        "outputId": "4c262978-be82-4f2a-caef-360468d5dd65"
      },
      "source": [
        "news.head()"
      ],
      "execution_count": null,
      "outputs": [
        {
          "output_type": "execute_result",
          "data": {
            "text/html": [
              "<div>\n",
              "<style scoped>\n",
              "    .dataframe tbody tr th:only-of-type {\n",
              "        vertical-align: middle;\n",
              "    }\n",
              "\n",
              "    .dataframe tbody tr th {\n",
              "        vertical-align: top;\n",
              "    }\n",
              "\n",
              "    .dataframe thead th {\n",
              "        text-align: right;\n",
              "    }\n",
              "</style>\n",
              "<table border=\"1\" class=\"dataframe\">\n",
              "  <thead>\n",
              "    <tr style=\"text-align: right;\">\n",
              "      <th></th>\n",
              "      <th>category</th>\n",
              "      <th>content</th>\n",
              "      <th>link</th>\n",
              "      <th>title</th>\n",
              "    </tr>\n",
              "  </thead>\n",
              "  <tbody>\n",
              "    <tr>\n",
              "      <th>0</th>\n",
              "      <td>政治</td>\n",
              "      <td>新增：立委說法民進黨立法院黨團預計在明天的院會中，讓改制農田水利會的《農田水利會組織通則》修...</td>\n",
              "      <td>https://tw.news.appledaily.com/politics/realti...</td>\n",
              "      <td>【更新】水利會改官派明闖關　綠委24小時前顧議場大門防藍突襲</td>\n",
              "    </tr>\n",
              "    <tr>\n",
              "      <th>1</th>\n",
              "      <td>論壇</td>\n",
              "      <td>邱俊棠／台中市民、見習醫師；曾任台灣醫學生聯合會對外副會長對於公民參與公眾事務而能得到單位首...</td>\n",
              "      <td>https://tw.news.appledaily.com/forum/realtime/...</td>\n",
              "      <td>請中市府為所當為 加速中火燃煤限制</td>\n",
              "    </tr>\n",
              "    <tr>\n",
              "      <th>2</th>\n",
              "      <td>社會</td>\n",
              "      <td>被控來台涉發展情報組織的中國學生周泓旭，因接觸我方外交部官員而露餡落網，今年9月被台北地院一...</td>\n",
              "      <td>https://tw.news.appledaily.com/local/realtime/...</td>\n",
              "      <td>陸生共諜嗆台司法　「不敢公開審理我」</td>\n",
              "    </tr>\n",
              "    <tr>\n",
              "      <th>3</th>\n",
              "      <td>生活</td>\n",
              "      <td>【廣編特輯】 對於全能神教會在中國所遭受的迫害與在韓國、香港及臺灣所面對的反面宣傳，非政府組...</td>\n",
              "      <td>https://tw.news.appledaily.com/life/realtime/2...</td>\n",
              "      <td>【特企】NGO聯名譴責中共迫害宗教信仰</td>\n",
              "    </tr>\n",
              "    <tr>\n",
              "      <th>4</th>\n",
              "      <td>生活</td>\n",
              "      <td>立法院交通委員會今審查《道路交通管理處罰條例》，通過營業大客車駕駛人行駛一般道路未繫安全帶，...</td>\n",
              "      <td>https://tw.news.appledaily.com/life/realtime/2...</td>\n",
              "      <td>乘客搭大客車不配合繫安全帶　立院初審通過可罰6千元</td>\n",
              "    </tr>\n",
              "  </tbody>\n",
              "</table>\n",
              "</div>"
            ],
            "text/plain": [
              "  category  ...                           title\n",
              "0       政治  ...  【更新】水利會改官派明闖關　綠委24小時前顧議場大門防藍突襲\n",
              "1       論壇  ...               請中市府為所當為 加速中火燃煤限制\n",
              "2       社會  ...              陸生共諜嗆台司法　「不敢公開審理我」\n",
              "3       生活  ...             【特企】NGO聯名譴責中共迫害宗教信仰\n",
              "4       生活  ...       乘客搭大客車不配合繫安全帶　立院初審通過可罰6千元\n",
              "\n",
              "[5 rows x 4 columns]"
            ]
          },
          "metadata": {
            "tags": []
          },
          "execution_count": 153
        }
      ]
    },
    {
      "cell_type": "code",
      "metadata": {
        "id": "fOZad_3Krr6d"
      },
      "source": [
        "corpus = []\n",
        "titles = []\n",
        "for idx, article in news.iterrows():\n",
        "  corpus.append(' '.join(jieba.cut(article.get('content'))))\n",
        "  titles.append(article.get('title'))"
      ],
      "execution_count": null,
      "outputs": []
    },
    {
      "cell_type": "code",
      "metadata": {
        "id": "AsqFKl33sMtM"
      },
      "source": [
        "from sklearn.feature_extraction.text import CountVectorizer, TfidfVectorizer\n",
        "vectorizer = TfidfVectorizer()\n",
        "X = vectorizer.fit_transform(corpus)"
      ],
      "execution_count": null,
      "outputs": []
    },
    {
      "cell_type": "code",
      "metadata": {
        "id": "WBMN2TECsa9C",
        "colab": {
          "base_uri": "https://localhost:8080/",
          "height": 52
        },
        "outputId": "90a67737-a8f5-47d4-9946-f760894744ea"
      },
      "source": [
        "X"
      ],
      "execution_count": null,
      "outputs": [
        {
          "output_type": "execute_result",
          "data": {
            "text/plain": [
              "<899x38651 sparse matrix of type '<class 'numpy.float64'>'\n",
              "\twith 128155 stored elements in Compressed Sparse Row format>"
            ]
          },
          "metadata": {
            "tags": []
          },
          "execution_count": 157
        }
      ]
    },
    {
      "cell_type": "code",
      "metadata": {
        "id": "1rVGVp0dsbnX",
        "colab": {
          "base_uri": "https://localhost:8080/",
          "height": 207
        },
        "outputId": "a393d112-d594-4934-d8ac-801cbcab6a74"
      },
      "source": [
        "from sklearn.metrics.pairwise import cosine_distances\n",
        "def getSimiliarArticle(articleid):\n",
        "  print('[查詢文章]:',titles[articleid])\n",
        "  cs = cosine_distances(X[articleid], X).flatten()\n",
        "  related_index = cs.argsort()[1:]\n",
        "  for idx in related_index:\n",
        "    if cs[idx] < 0.88:\n",
        "      print('[相關文章]:',titles[idx], cs[idx])\n",
        "\n",
        "\n",
        "getSimiliarArticle(5)"
      ],
      "execution_count": null,
      "outputs": [
        {
          "output_type": "stream",
          "text": [
            "[查詢文章]: Fed升息美元走軟　台幣今再升破30元大關\n",
            "[相關文章]: 靜候FOMC結論　台幣平盤整理午盤小貶0.5分 0.6655307049153734\n",
            "[相關文章]: 川普不給力美元軟趴趴　歐元料再升逾10% 0.6969043056696386\n",
            "[相關文章]: 【Fed有鴿味】美元軟了黃金硬了　美股道指創新高 0.7042793123333844\n",
            "[相關文章]: Fed升息符合預期　經濟學家：大家可過個平安聖誕節 0.7255010959627639\n",
            "[相關文章]: Fed宣布升息1碼　台股早盤大漲逾百點 0.7327284108063947\n",
            "[相關文章]: 強總裁、弱台灣　央行年繳1800億造成4大後遺症 0.7934789647726109\n",
            "[相關文章]: 蘋果寫傳奇！上市37周年股價飆436倍 0.8569814959531834\n",
            "[相關文章]: 北韓高仿假鈔流入南韓　專家驚：近乎完美 0.8639965877163968\n",
            "[相關文章]: 【Fed告別秀】葉倫談比特幣　以7個字總結 0.8727242116759012\n",
            "[相關文章]: 十二月十三日財經焦點搶先看 0.8783137137921018\n"
          ],
          "name": "stdout"
        }
      ]
    },
    {
      "cell_type": "markdown",
      "source": [
        "###Practice"
      ],
      "metadata": {
        "id": "239u20KA9DGD"
      }
    },
    {
      "cell_type": "code",
      "source": [
        "import pandas as pd\n",
        "import jieba\n",
        "from sklearn.feature_extraction.text import CountVectorizer, TfidfVectorizer\n",
        "from sklearn.metrics.pairwise import cosine_distances\n",
        "df = pd.read_excel(\"https://raw.githubusercontent.com/ywchiu/tibame_tm/master/data/news.xlsx\", index_col = 0)\n",
        "\n",
        "# word cutting\n",
        "corpus = []\n",
        "titles = []\n",
        "for idx, item in df.iterrows():\n",
        "  corpus.append(\" \".join(jieba.lcut(item.get('content'))))\n",
        "  titles.append(item.get('title'))\n",
        "# print(corpus)\n",
        "# print(titles)\n"
      ],
      "metadata": {
        "id": "xM-Iurv39Htr"
      },
      "execution_count": 21,
      "outputs": []
    },
    {
      "cell_type": "code",
      "source": [
        "# word vectorizing\n",
        "t_vectorizer = TfidfVectorizer()\n",
        "corpus_vec = t_vectorizer.fit_transform(corpus)\n",
        "\n",
        "\n",
        "# recommend function\n",
        "def recommend(id):\n",
        "  c_dist = cosine_distances(corpus_vec[id],corpus_vec).flatten()\n",
        "  for id in c_dist.argsort()[1:6]:\n",
        "    print(\"recommend article title: \", titles[id], c_dist[id])\n",
        "\n",
        "# testing\n",
        "reading_title_id = 35\n",
        "print(\"reading_title: \", titles[reading_title_id])\n",
        "recommend(reading_title_id)"
      ],
      "metadata": {
        "id": "Ael5kidY_--n",
        "outputId": "82e75511-96b2-493a-ced2-9abd2a18cef3",
        "colab": {
          "base_uri": "https://localhost:8080/"
        }
      },
      "execution_count": 23,
      "outputs": [
        {
          "output_type": "stream",
          "name": "stdout",
          "text": [
            "reading_title:  FBI探員罵川普「白痴」　遭調離通俄門調查\n",
            "recommend article title:  【公道難伸張】再控川普性騷　受害者：沒人在乎很受傷 0.8811793632509274\n",
            "recommend article title:  老謝：美菲2位狂人兄弟 今年交出不錯成績單　 0.8902177482789575\n",
            "recommend article title:  【滑鐵盧片】川普大挫敗！　共和黨在鐵票倉阿拉巴馬州敗北 0.927949241178453\n",
            "recommend article title:  阿拉巴馬州變天　起訴3K黨檢察官勝仇同法官 0.9298769573988401\n",
            "recommend article title:  瓊斯獲勝！又逢結婚紀念日　王丹：川普連任路荊棘 0.9315696830117044\n"
          ]
        }
      ]
    },
    {
      "cell_type": "markdown",
      "metadata": {
        "id": "zAqilGupudVc"
      },
      "source": [
        "### Vectorizer\n",
        "\n",
        "- fit:產生結構\n",
        "- transform:轉換資料\n",
        "- fit_transform: 產生結構並轉換資料"
      ]
    },
    {
      "cell_type": "code",
      "metadata": {
        "id": "aEMIO-5os-1U",
        "colab": {
          "base_uri": "https://localhost:8080/",
          "height": 35
        },
        "outputId": "be105279-4a8d-4969-a74c-2ab7e7ccbd6f"
      },
      "source": [
        "query = '罷免黃國昌'\n",
        "query_corpus = [' '.join(jieba.cut(query))]\n",
        "query_corpus"
      ],
      "execution_count": null,
      "outputs": [
        {
          "output_type": "execute_result",
          "data": {
            "text/plain": [
              "['罷免 黃 國昌']"
            ]
          },
          "metadata": {
            "tags": []
          },
          "execution_count": 180
        }
      ]
    },
    {
      "cell_type": "code",
      "metadata": {
        "id": "bGnalfE8uIrc"
      },
      "source": [
        "query_vec = vectorizer.transform(query_corpus)"
      ],
      "execution_count": null,
      "outputs": []
    },
    {
      "cell_type": "code",
      "metadata": {
        "id": "pBOQWM8Uurou"
      },
      "source": [
        "cs = cosine_distances(query_vec, X).flatten()"
      ],
      "execution_count": null,
      "outputs": []
    },
    {
      "cell_type": "code",
      "metadata": {
        "id": "RgmNFZd2vE9P",
        "colab": {
          "base_uri": "https://localhost:8080/",
          "height": 35
        },
        "outputId": "950e5736-dcff-4ee5-d2c0-a333ea439fa7"
      },
      "source": [
        "a = np.array([[1,2,3,4,5]])\n",
        "a.flatten()"
      ],
      "execution_count": null,
      "outputs": [
        {
          "output_type": "execute_result",
          "data": {
            "text/plain": [
              "array([1, 2, 3, 4, 5])"
            ]
          },
          "metadata": {
            "tags": []
          },
          "execution_count": 183
        }
      ]
    },
    {
      "cell_type": "code",
      "metadata": {
        "id": "RXhL4jjiuypP",
        "colab": {
          "base_uri": "https://localhost:8080/",
          "height": 104
        },
        "outputId": "67039ecb-cd04-4f7d-bcce-75046f886994"
      },
      "source": [
        "for idx in cs.argsort()[0:5]:\n",
        "  #print(idx)\n",
        "  print(titles[idx])"
      ],
      "execution_count": null,
      "outputs": [
        {
          "output_type": "stream",
          "text": [
            "黃國昌若被罷免會更強　他：成為選輸北市的阿扁\n",
            "宗教團體可曾想過：黃國昌犀利形象恐越打越旺\n",
            "罷昌案周六投票　時代力量全力澄清不實謠言\n",
            "【聲援片】沈發惠呼籲罷昌案投「不同意」　黃國昌：謝謝您\n",
            "罷免案將投票　李遠哲今再度現身力挺黃國昌\n"
          ],
          "name": "stdout"
        }
      ]
    },
    {
      "cell_type": "code",
      "metadata": {
        "id": "y3PVOPrIu4q8",
        "colab": {
          "base_uri": "https://localhost:8080/",
          "height": 138
        },
        "outputId": "4595b34b-91bc-4e2c-cb6d-5b2d60878437"
      },
      "source": [
        "for idx in cs.argsort():\n",
        "  if cs[idx] < 0.8:\n",
        "    print(titles[idx], cs[idx])"
      ],
      "execution_count": null,
      "outputs": [
        {
          "output_type": "stream",
          "text": [
            "黃國昌若被罷免會更強　他：成為選輸北市的阿扁 0.5816699773794642\n",
            "宗教團體可曾想過：黃國昌犀利形象恐越打越旺 0.6252315673987536\n",
            "罷昌案周六投票　時代力量全力澄清不實謠言 0.6528815421955868\n",
            "【聲援片】沈發惠呼籲罷昌案投「不同意」　黃國昌：謝謝您 0.6648825647690275\n",
            "罷免案將投票　李遠哲今再度現身力挺黃國昌 0.7095793102576216\n",
            "黃國昌：長期目標要消滅國民黨　不支持柯文哲的兩岸一家親 0.7501304150696924\n",
            "【慶富案】黃國昌再咬高雄銀　協助慶富不實增資 0.7919287976065514\n"
          ],
          "name": "stdout"
        }
      ]
    },
    {
      "cell_type": "code",
      "metadata": {
        "id": "2Eqb-cj0vZEd"
      },
      "source": [
        "def getQuerySimiliarArticle(query):\n",
        "  query_corpus = [' '.join(jieba.cut(query))]\n",
        "  query_vec = vectorizer.transform(query_corpus)\n",
        "  cs = cosine_distances(query_vec, X).flatten()\n",
        "  for idx in cs.argsort():\n",
        "    if cs[idx] < 0.8:\n",
        "      print(titles[idx], cs[idx])"
      ],
      "execution_count": null,
      "outputs": []
    },
    {
      "cell_type": "code",
      "metadata": {
        "id": "TgWTCtLEvst1",
        "colab": {
          "base_uri": "https://localhost:8080/",
          "height": 207
        },
        "outputId": "918f3aba-cf66-40a2-812e-9146286e26fb"
      },
      "source": [
        "getQuerySimiliarArticle('小嫻跟許聖梅')"
      ],
      "execution_count": null,
      "outputs": [
        {
          "output_type": "stream",
          "text": [
            "「小嫻不快樂！」　許聖梅：何守正虧欠她 0.6065969437090841\n",
            "許聖梅心疼小嫻被當空氣　爆何守正「有兩個女學員」 0.6661956436084142\n",
            "【內幕動畫】小嫻婚變何守正姊反擊　不滿媽煮飯侍奉星媳婦 0.7213274731949755\n",
            "【獨家內幕】太傷！小嫻被分手　何守正當小三面前攤牌 0.7311526242211511\n",
            "【狗仔偷拍】小嫻搬離何守正家租66坪房　月租6萬元 0.7396835450700476\n",
            "【獨家】小嫻賣房求子　婆婆竟拒入籍何家 0.752456315147892\n",
            "小嫻信奉妙禪　關鍵原因與何守正有關！ 0.7626285590995772\n",
            "【動畫解盤】毒菇跳火線譙seafood　小嫻難瘦香菇 0.7827202511222566\n",
            "小嫻離婚導火線　拉何守正信妙禪 0.7840070218094053\n",
            "【小嫻離婚】3大退讓人財兩失　求子花光430萬積蓄 0.7847623938675494\n",
            "小嫻婚變無徵兆　男星嘆：兩人向來出雙入對 0.7943395555482495\n"
          ],
          "name": "stdout"
        }
      ]
    },
    {
      "cell_type": "code",
      "metadata": {
        "id": "GzDCutQYvy9n"
      },
      "source": [],
      "execution_count": null,
      "outputs": []
    }
  ]
}