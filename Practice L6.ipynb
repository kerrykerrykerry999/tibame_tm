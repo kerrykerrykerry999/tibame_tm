{
  "nbformat": 4,
  "nbformat_minor": 0,
  "metadata": {
    "colab": {
      "name": "Demo20200812.ipynb",
      "provenance": [],
      "collapsed_sections": []
    },
    "kernelspec": {
      "name": "python3",
      "display_name": "Python 3"
    }
  },
  "cells": [
    {
      "cell_type": "markdown",
      "metadata": {
        "id": "bTYfZonQcQNn"
      },
      "source": [
        "## 作業"
      ]
    },
    {
      "cell_type": "code",
      "metadata": {
        "id": "wF3xwEF5cNrL"
      },
      "source": [
        "import pandas\n",
        "article = pandas.read_excel('https://raw.githubusercontent.com/ywchiu/tibame_tm/master/data/finance_article.xlsx')"
      ],
      "execution_count": 228,
      "outputs": []
    },
    {
      "cell_type": "code",
      "metadata": {
        "id": "EUrRXEhrcaNz",
        "colab": {
          "base_uri": "https://localhost:8080/",
          "height": 563
        },
        "outputId": "3c350aae-8453-4f40-df80-a7fac629ba85"
      },
      "source": [
        "article.head()"
      ],
      "execution_count": 229,
      "outputs": [
        {
          "output_type": "execute_result",
          "data": {
            "text/plain": [
              "                                                 url  \\\n",
              "0  https://www.ptt.cc/bbs/Loan/M.1586506724.A.914...   \n",
              "1  https://www.ptt.cc/bbs/Loan/M.1586449508.A.618...   \n",
              "2  https://www.ptt.cc/bbs/Stock/M.1586573726.A.DB...   \n",
              "3  https://www.ptt.cc/bbs/Stock/M.1586582519.A.AE...   \n",
              "4  https://www.ptt.cc/bbs/Stock/M.1586572758.A.8B...   \n",
              "\n",
              "                             title  \\\n",
              "0                      [問題] 新北原屋貸款   \n",
              "1                         信貸 (台積電)   \n",
              "2  [新聞] 瑞幸咖啡遭遇做空 疫情危機下中概股受到的放大鏡式狙擊   \n",
              "3                 [新聞] 14檔業績四升 法人搶   \n",
              "4             [新聞] 突變酵素 塑膠瓶幾小時內能回收   \n",
              "\n",
              "                                             content    tag  \n",
              "0  [抵押房屋資訊]\\n地點：新北市永和\\n房屋形態：透天五樓\\n房屋種類：自有住宅\\n房屋/土...   Loan  \n",
              "1  1. 信貸金額：80-200萬\\n2. 還款期限：7年\\n3. 貸款用途：投資理財\\n4. ...   Loan  \n",
              "2  1.原文連結：\\n\\n2.原文內容：\\n林祖偉／BBC中文\\n\\n瑞幸咖啡有超過4500間分...  Stock  \n",
              "3  1.原文連結：\\n\\n2.原文內容：14檔業績四升 法人搶\\n2020-04-11 00:1...  Stock  \n",
              "4  1.原文連結：\\n\\n2.原文內容：\\n科學家創造出一種突變細菌酵素，能在幾小時分解塑膠瓶進...  Stock  "
            ],
            "text/html": [
              "\n",
              "  <div id=\"df-58aac021-350a-4e5b-9e91-0ab692a7bcdb\">\n",
              "    <div class=\"colab-df-container\">\n",
              "      <div>\n",
              "<style scoped>\n",
              "    .dataframe tbody tr th:only-of-type {\n",
              "        vertical-align: middle;\n",
              "    }\n",
              "\n",
              "    .dataframe tbody tr th {\n",
              "        vertical-align: top;\n",
              "    }\n",
              "\n",
              "    .dataframe thead th {\n",
              "        text-align: right;\n",
              "    }\n",
              "</style>\n",
              "<table border=\"1\" class=\"dataframe\">\n",
              "  <thead>\n",
              "    <tr style=\"text-align: right;\">\n",
              "      <th></th>\n",
              "      <th>url</th>\n",
              "      <th>title</th>\n",
              "      <th>content</th>\n",
              "      <th>tag</th>\n",
              "    </tr>\n",
              "  </thead>\n",
              "  <tbody>\n",
              "    <tr>\n",
              "      <th>0</th>\n",
              "      <td>https://www.ptt.cc/bbs/Loan/M.1586506724.A.914...</td>\n",
              "      <td>[問題] 新北原屋貸款</td>\n",
              "      <td>[抵押房屋資訊]\\n地點：新北市永和\\n房屋形態：透天五樓\\n房屋種類：自有住宅\\n房屋/土...</td>\n",
              "      <td>Loan</td>\n",
              "    </tr>\n",
              "    <tr>\n",
              "      <th>1</th>\n",
              "      <td>https://www.ptt.cc/bbs/Loan/M.1586449508.A.618...</td>\n",
              "      <td>信貸 (台積電)</td>\n",
              "      <td>1. 信貸金額：80-200萬\\n2. 還款期限：7年\\n3. 貸款用途：投資理財\\n4. ...</td>\n",
              "      <td>Loan</td>\n",
              "    </tr>\n",
              "    <tr>\n",
              "      <th>2</th>\n",
              "      <td>https://www.ptt.cc/bbs/Stock/M.1586573726.A.DB...</td>\n",
              "      <td>[新聞] 瑞幸咖啡遭遇做空 疫情危機下中概股受到的放大鏡式狙擊</td>\n",
              "      <td>1.原文連結：\\n\\n2.原文內容：\\n林祖偉／BBC中文\\n\\n瑞幸咖啡有超過4500間分...</td>\n",
              "      <td>Stock</td>\n",
              "    </tr>\n",
              "    <tr>\n",
              "      <th>3</th>\n",
              "      <td>https://www.ptt.cc/bbs/Stock/M.1586582519.A.AE...</td>\n",
              "      <td>[新聞] 14檔業績四升 法人搶</td>\n",
              "      <td>1.原文連結：\\n\\n2.原文內容：14檔業績四升 法人搶\\n2020-04-11 00:1...</td>\n",
              "      <td>Stock</td>\n",
              "    </tr>\n",
              "    <tr>\n",
              "      <th>4</th>\n",
              "      <td>https://www.ptt.cc/bbs/Stock/M.1586572758.A.8B...</td>\n",
              "      <td>[新聞] 突變酵素 塑膠瓶幾小時內能回收</td>\n",
              "      <td>1.原文連結：\\n\\n2.原文內容：\\n科學家創造出一種突變細菌酵素，能在幾小時分解塑膠瓶進...</td>\n",
              "      <td>Stock</td>\n",
              "    </tr>\n",
              "  </tbody>\n",
              "</table>\n",
              "</div>\n",
              "      <button class=\"colab-df-convert\" onclick=\"convertToInteractive('df-58aac021-350a-4e5b-9e91-0ab692a7bcdb')\"\n",
              "              title=\"Convert this dataframe to an interactive table.\"\n",
              "              style=\"display:none;\">\n",
              "        \n",
              "  <svg xmlns=\"http://www.w3.org/2000/svg\" height=\"24px\"viewBox=\"0 0 24 24\"\n",
              "       width=\"24px\">\n",
              "    <path d=\"M0 0h24v24H0V0z\" fill=\"none\"/>\n",
              "    <path d=\"M18.56 5.44l.94 2.06.94-2.06 2.06-.94-2.06-.94-.94-2.06-.94 2.06-2.06.94zm-11 1L8.5 8.5l.94-2.06 2.06-.94-2.06-.94L8.5 2.5l-.94 2.06-2.06.94zm10 10l.94 2.06.94-2.06 2.06-.94-2.06-.94-.94-2.06-.94 2.06-2.06.94z\"/><path d=\"M17.41 7.96l-1.37-1.37c-.4-.4-.92-.59-1.43-.59-.52 0-1.04.2-1.43.59L10.3 9.45l-7.72 7.72c-.78.78-.78 2.05 0 2.83L4 21.41c.39.39.9.59 1.41.59.51 0 1.02-.2 1.41-.59l7.78-7.78 2.81-2.81c.8-.78.8-2.07 0-2.86zM5.41 20L4 18.59l7.72-7.72 1.47 1.35L5.41 20z\"/>\n",
              "  </svg>\n",
              "      </button>\n",
              "      \n",
              "  <style>\n",
              "    .colab-df-container {\n",
              "      display:flex;\n",
              "      flex-wrap:wrap;\n",
              "      gap: 12px;\n",
              "    }\n",
              "\n",
              "    .colab-df-convert {\n",
              "      background-color: #E8F0FE;\n",
              "      border: none;\n",
              "      border-radius: 50%;\n",
              "      cursor: pointer;\n",
              "      display: none;\n",
              "      fill: #1967D2;\n",
              "      height: 32px;\n",
              "      padding: 0 0 0 0;\n",
              "      width: 32px;\n",
              "    }\n",
              "\n",
              "    .colab-df-convert:hover {\n",
              "      background-color: #E2EBFA;\n",
              "      box-shadow: 0px 1px 2px rgba(60, 64, 67, 0.3), 0px 1px 3px 1px rgba(60, 64, 67, 0.15);\n",
              "      fill: #174EA6;\n",
              "    }\n",
              "\n",
              "    [theme=dark] .colab-df-convert {\n",
              "      background-color: #3B4455;\n",
              "      fill: #D2E3FC;\n",
              "    }\n",
              "\n",
              "    [theme=dark] .colab-df-convert:hover {\n",
              "      background-color: #434B5C;\n",
              "      box-shadow: 0px 1px 3px 1px rgba(0, 0, 0, 0.15);\n",
              "      filter: drop-shadow(0px 1px 2px rgba(0, 0, 0, 0.3));\n",
              "      fill: #FFFFFF;\n",
              "    }\n",
              "  </style>\n",
              "\n",
              "      <script>\n",
              "        const buttonEl =\n",
              "          document.querySelector('#df-58aac021-350a-4e5b-9e91-0ab692a7bcdb button.colab-df-convert');\n",
              "        buttonEl.style.display =\n",
              "          google.colab.kernel.accessAllowed ? 'block' : 'none';\n",
              "\n",
              "        async function convertToInteractive(key) {\n",
              "          const element = document.querySelector('#df-58aac021-350a-4e5b-9e91-0ab692a7bcdb');\n",
              "          const dataTable =\n",
              "            await google.colab.kernel.invokeFunction('convertToInteractive',\n",
              "                                                     [key], {});\n",
              "          if (!dataTable) return;\n",
              "\n",
              "          const docLinkHtml = 'Like what you see? Visit the ' +\n",
              "            '<a target=\"_blank\" href=https://colab.research.google.com/notebooks/data_table.ipynb>data table notebook</a>'\n",
              "            + ' to learn more about interactive tables.';\n",
              "          element.innerHTML = '';\n",
              "          dataTable['output_type'] = 'display_data';\n",
              "          await google.colab.output.renderOutput(dataTable, element);\n",
              "          const docLink = document.createElement('div');\n",
              "          docLink.innerHTML = docLinkHtml;\n",
              "          element.appendChild(docLink);\n",
              "        }\n",
              "      </script>\n",
              "    </div>\n",
              "  </div>\n",
              "  "
            ]
          },
          "metadata": {},
          "execution_count": 229
        }
      ]
    },
    {
      "cell_type": "code",
      "metadata": {
        "id": "yaI_L6m6cfR8"
      },
      "source": [
        "import jieba\n",
        "corpus = []\n",
        "titles = []\n",
        "for idx, rec in article.iterrows():\n",
        "  corpus.append(' '.join(jieba.cut(rec.get('content'))))\n",
        "  titles.append(rec.get('title'))"
      ],
      "execution_count": 230,
      "outputs": []
    },
    {
      "cell_type": "code",
      "metadata": {
        "id": "v8Cj9E6eczZn",
        "colab": {
          "base_uri": "https://localhost:8080/",
          "height": 174
        },
        "outputId": "b0ea9cb6-3f3e-4354-ba36-3d7d09547478"
      },
      "source": [
        "corpus[0]"
      ],
      "execution_count": 231,
      "outputs": [
        {
          "output_type": "execute_result",
          "data": {
            "text/plain": [
              "'[ 抵押 房屋 資訊 ] \\n 地點 ： 新北市 永和 \\n 房屋 形態 ： 透天 五樓 \\n 房屋 種類 ： 自有 住宅 \\n 房屋 / 土地 所有人 ： 母親 \\n 坪數 ： 45 - 50 \\n [ 需求 資訊 ] \\n 欲 貸金額 :   500 - 1000 萬 \\n 欲貸 年期 ： 20 / 30 年 \\n 欲求 利率 ： 降息 後 的 行情 ， 理財型 希望 在 1.9% 以下 ， 一般 型 1.5% 以下 ( 目前 可 做 1.58% ) \\n 貸款 用途 ： 投資理 財消費 \\n 希望 還款 條件 ： 優先 徵求 長 年期 理財型 房貸 利率 \\n [ 貸款 人 資訊 ] \\n 年齡 ： 33 \\n 職業 ： 金融 業務 \\n 年收入 ： 100 萬 ， 本業加 其他 收入 \\n 年資 ： 5 年 \\n 信用卡 ： 匯豐 、 富邦 、 台新 \\n 麻煩 來 信 提供 以下 內容 ： \\n 1 . 銀行 及 方案 \\n 2 . 總費用 ： 包含 開辦費 、 設定費 、 手續費 等等 相關 費用 ） \\n 3 . 利率 方式 \\n 4 . 綁 約 時間 / 提前 償 還規定 及 利率'"
            ],
            "application/vnd.google.colaboratory.intrinsic+json": {
              "type": "string"
            }
          },
          "metadata": {},
          "execution_count": 231
        }
      ]
    },
    {
      "cell_type": "code",
      "metadata": {
        "id": "VLeASFI5c19H"
      },
      "source": [
        "from sklearn.feature_extraction.text import TfidfVectorizer\n",
        "vectorizer = TfidfVectorizer()\n",
        "tfidf = vectorizer.fit_transform(corpus)"
      ],
      "execution_count": 232,
      "outputs": []
    },
    {
      "cell_type": "code",
      "metadata": {
        "id": "E57DK2ZVdFpV"
      },
      "source": [
        "from sklearn.metrics.pairwise import cosine_distances\n",
        "cs = cosine_distances(tfidf)"
      ],
      "execution_count": 233,
      "outputs": []
    },
    {
      "cell_type": "code",
      "metadata": {
        "id": "fETRlK4FdRpV",
        "colab": {
          "base_uri": "https://localhost:8080/"
        },
        "outputId": "80465687-fc02-4db9-a880-1b12efd49943"
      },
      "source": [
        "cs.shape"
      ],
      "execution_count": 234,
      "outputs": [
        {
          "output_type": "execute_result",
          "data": {
            "text/plain": [
              "(300, 300)"
            ]
          },
          "metadata": {},
          "execution_count": 234
        }
      ]
    },
    {
      "cell_type": "code",
      "metadata": {
        "id": "anNI27fgdSjs"
      },
      "source": [
        "m = (cs < 0.7).astype(int)"
      ],
      "execution_count": 235,
      "outputs": []
    },
    {
      "cell_type": "code",
      "metadata": {
        "id": "CgYykxh0dq7X",
        "colab": {
          "base_uri": "https://localhost:8080/"
        },
        "outputId": "f739eca2-9c1b-4aff-d2f7-195fb50b6401"
      },
      "source": [
        "import networkx as nx\n",
        "G = nx.from_numpy_matrix(m)\n",
        "G"
      ],
      "execution_count": 236,
      "outputs": [
        {
          "output_type": "execute_result",
          "data": {
            "text/plain": [
              "<networkx.classes.graph.Graph at 0x7f0d26718050>"
            ]
          },
          "metadata": {},
          "execution_count": 236
        }
      ]
    },
    {
      "cell_type": "code",
      "metadata": {
        "id": "Cmv0_cwrp2Ou"
      },
      "source": [],
      "execution_count": 236,
      "outputs": []
    },
    {
      "cell_type": "code",
      "metadata": {
        "id": "FsviD33Rdd9B"
      },
      "source": [
        "from community import community_louvain\n",
        "article_cluster = community_louvain.best_partition(G)"
      ],
      "execution_count": 237,
      "outputs": []
    },
    {
      "cell_type": "code",
      "metadata": {
        "id": "WeqARls7d3_v",
        "colab": {
          "base_uri": "https://localhost:8080/"
        },
        "outputId": "db239619-cd38-43cc-a0c6-e077b9884663"
      },
      "source": [
        "from collections import Counter\n",
        "c = Counter(article_cluster.values())\n",
        "c.most_common(3)"
      ],
      "execution_count": 238,
      "outputs": [
        {
          "output_type": "execute_result",
          "data": {
            "text/plain": [
              "[(1, 50), (0, 32), (15, 6)]"
            ]
          },
          "metadata": {},
          "execution_count": 238
        }
      ]
    },
    {
      "cell_type": "code",
      "metadata": {
        "id": "8LjJop9beBe1"
      },
      "source": [
        "import numpy as np\n",
        "np_titles = np.array(titles)\n"
      ],
      "execution_count": 239,
      "outputs": []
    },
    {
      "cell_type": "code",
      "metadata": {
        "id": "LknsH-sNe8bZ",
        "colab": {
          "base_uri": "https://localhost:8080/"
        },
        "outputId": "5f023aa6-064e-4013-adc8-c37bbc549588"
      },
      "source": [
        "for cluster, cnt in c.most_common(3):\n",
        "  for a in np_titles[np.array(list(article_cluster.values())) == cluster]:\n",
        "    print(a)\n",
        "  print('=====================================')"
      ],
      "execution_count": 240,
      "outputs": [
        {
          "output_type": "stream",
          "name": "stdout",
          "text": [
            "信貸 (台積電)\n",
            "[問題] 個人信貸\n",
            "[問題] 信用貸款\n",
            "[問題] 個人信貸\n",
            "[問題] 個人信貸\n",
            "[問題] 個人信貸\n",
            "[問題] 個人信貸\n",
            "[問題] 個人信用貸款\n",
            "[問題] 個人信貸\n",
            "[問題] 個人信貸\n",
            "[問題] 個人信貸\n",
            "[問題] 個人信貸\n",
            "[問題] 個人信貸\n",
            "[問題]  個人首次信貸\n",
            "[問題] 個人信貸\n",
            "[請益] 小額貸款\n",
            "[問題] 個人信貸\n",
            "個人信貸\n",
            "[問題] 個人信貸\n",
            "[問題] 個人信貸\n",
            "[問題] 個人信用貸款\n",
            "[問題] 補習班主任 信貸\n",
            "[問題] 首次個人信貸\n",
            "[問題] 醫師信貸\n",
            "[問題] 個人信貸\n",
            "[問題] 個人信貸\n",
            "[問題] 個人信貸\n",
            "[問題] 個人信貸\n",
            "[問題] 個人信貸\n",
            "[問題] 桃園信貸 公職\n",
            "[問題]\n",
            "[問題] 個人信貸\n",
            "[問題] 信用貸款\n",
            "[問題] 個人信貸\n",
            "[問題] 個人信貸\n",
            "[問題] 個人信貸\n",
            "[問題] 個人信貸\n",
            "新北信貸\n",
            "[問題] 信用貸款\n",
            "[問題] 金融同業信貸\n",
            "個人信貸\n",
            "[問題] 匯豐個人信貸\n",
            "[問題] 個人信貸\n",
            "[問題] 個人信貸\n",
            "[問題] 個人信貸\n",
            "[問題] 請提供個人信貸，利率2.4以下\n",
            "[問題] 個人信貸\n",
            "[問題] 金融同業貸款\n",
            "[問題] 個人信貸\n",
            "[問題] 個人信貸\n",
            "=====================================\n",
            "[問題] 新北原屋貸款\n",
            "[問題] 竹北房貸(首購)\n",
            "[問題] 台南 房屋抵押貸款\n",
            "[問題] 彰化公教首購房貸\n",
            "[問題] 台中新光重劃區房屋轉貸\n",
            "[問題] 竹東房貸(首購)\n",
            "[問題] 房屋轉貸（新北）\n",
            "[問題] 南投公教首購房貸\n",
            "[問題] 房屋貸款（三峽北大特區）\n",
            "[問題] 竹北房貸轉貸\n",
            "[問題] 台南市 外籍人士房貸\n",
            "[問題] 房貸新北\n",
            "[問題] 北市醫師自住房貸\n",
            "[問題] 淡水紅樹林首購貸款\n",
            "[問題] 台北房屋增貸\n",
            "[問題] 台中潭子首購房貸\n",
            "[問題] 新竹 金雅房貸(首購）\n",
            "[問題] 新竹 首購房貸\n",
            "[問題] 竹北房貸 第二房\n",
            "[問題] 房屋抵押貸款(桃園)\n",
            "[問題] 板橋房子 （首購）\n",
            "[問題] 個人信貸\n",
            "[問題] 房屋抵押貸款(嘉義)(醫師)\n",
            "[問題] 房屋轉增貸(台北市)\n",
            "[問題] 竹北房貸轉貸\n",
            "[問題] 竹北縣1縣2區首購\n",
            "[問題] 台中市西區房屋轉貸/增貸\n",
            "[問題] 職軍房貸成數\n",
            "[問題] 桃園首購房貸\n",
            "[問題] 台南房貸轉貸\n",
            "[問題] 房屋抵押貸款\n",
            "[問題] 新北首購房貸\n",
            "=====================================\n",
            "[心得] 台新GOGO卡 小白核卡\n",
            "[心得] 元大鑽金卡&渣打現金回饋 核卡\n",
            "【心得】永豐夢行卡 核卡\n",
            "[心得] 渣打現金回饋御璽卡核卡\n",
            "[心得] 兆豐利多御璽卡核卡\n",
            "[心得] 合庫樂活悠遊卡核卡\n",
            "=====================================\n"
          ]
        }
      ]
    },
    {
      "cell_type": "code",
      "metadata": {
        "id": "2Hk5er3DeVLp",
        "colab": {
          "base_uri": "https://localhost:8080/"
        },
        "outputId": "afbf0089-3cca-4cee-b29a-8098acb0ed2a"
      },
      "source": [
        "tfidf[np.array(list(article_cluster.values())) == 0,:]"
      ],
      "execution_count": 241,
      "outputs": [
        {
          "output_type": "execute_result",
          "data": {
            "text/plain": [
              "<32x9613 sparse matrix of type '<class 'numpy.float64'>'\n",
              "\twith 2682 stored elements in Compressed Sparse Row format>"
            ]
          },
          "metadata": {},
          "execution_count": 241
        }
      ]
    },
    {
      "cell_type": "code",
      "metadata": {
        "id": "24tf2xmkfcJx"
      },
      "source": [
        "m2 = tfidf[np.array(list(article_cluster.values())) == 0,:].sum(axis = 0)"
      ],
      "execution_count": 242,
      "outputs": []
    },
    {
      "cell_type": "code",
      "metadata": {
        "id": "h8Y3BLBJfjQ2"
      },
      "source": [
        "a2 = np.squeeze(np.asarray(m2))"
      ],
      "execution_count": 243,
      "outputs": []
    },
    {
      "cell_type": "code",
      "metadata": {
        "id": "T1RMBcw7f-tJ",
        "colab": {
          "base_uri": "https://localhost:8080/"
        },
        "outputId": "ed5dedcd-2b29-4d60-ce84-f3d65ff6d9b7"
      },
      "source": [
        "words = np.array(vectorizer.get_feature_names())"
      ],
      "execution_count": 244,
      "outputs": [
        {
          "output_type": "stream",
          "name": "stderr",
          "text": [
            "/usr/local/lib/python3.7/dist-packages/sklearn/utils/deprecation.py:87: FutureWarning: Function get_feature_names is deprecated; get_feature_names is deprecated in 1.0 and will be removed in 1.2. Please use get_feature_names_out instead.\n",
            "  warnings.warn(msg, category=FutureWarning)\n"
          ]
        }
      ]
    },
    {
      "cell_type": "code",
      "metadata": {
        "id": "qSAriqUTfzlU",
        "colab": {
          "base_uri": "https://localhost:8080/"
        },
        "outputId": "054b9dbc-af1f-423a-f69f-78291245ea5a"
      },
      "source": [
        "a2.argsort()[::-1][0:10]"
      ],
      "execution_count": 245,
      "outputs": [
        {
          "output_type": "execute_result",
          "data": {
            "text/plain": [
              "array([8264, 4162, 8301, 2475, 9419, 8910, 4654, 8272, 4927, 3390])"
            ]
          },
          "metadata": {},
          "execution_count": 245
        }
      ]
    },
    {
      "cell_type": "code",
      "metadata": {
        "id": "tt4WPiw2f0Cs",
        "colab": {
          "base_uri": "https://localhost:8080/"
        },
        "outputId": "38cecff7-5026-4d9f-fbe1-4cbc53f3434e"
      },
      "source": [
        "words[a2.argsort()[::-1][0:10]]"
      ],
      "execution_count": 246,
      "outputs": [
        {
          "output_type": "execute_result",
          "data": {
            "text/plain": [
              "array(['貸款', '希望', '資訊', '利率', '預計', '還款', '房屋', '費用', '提供', '地點'],\n",
              "      dtype='<U24')"
            ]
          },
          "metadata": {},
          "execution_count": 246
        }
      ]
    },
    {
      "cell_type": "code",
      "metadata": {
        "id": "xY8Ax44sgHY9",
        "colab": {
          "base_uri": "https://localhost:8080/"
        },
        "outputId": "8586e534-1c73-4927-8f68-439b8e48a5b8"
      },
      "source": [
        "for cluster, cnt in c.most_common(3):\n",
        "  print('第{}群'.format(cluster))\n",
        "  print('=====================================')\n",
        "  m2 = tfidf[np.array(list(article_cluster.values())) == cluster,:].sum(axis = 0)\n",
        "  a2 = np.squeeze(np.asarray(m2))\n",
        "  print('相關關鍵字')\n",
        "  print(words[a2.argsort()[::-1][0:10]])\n",
        "  print('=====================================')\n",
        "  for a in np_titles[np.array(list(article_cluster.values())) == cluster]:\n",
        "    print(a)\n",
        "  \n",
        "  print('=====================================')"
      ],
      "execution_count": 247,
      "outputs": [
        {
          "output_type": "stream",
          "name": "stdout",
          "text": [
            "第1群\n",
            "=====================================\n",
            "相關關鍵字\n",
            "['貸款' '期限' '以下' '費用' '還款' '相關' '提前' '利率' '清償' '手續費']\n",
            "=====================================\n",
            "信貸 (台積電)\n",
            "[問題] 個人信貸\n",
            "[問題] 信用貸款\n",
            "[問題] 個人信貸\n",
            "[問題] 個人信貸\n",
            "[問題] 個人信貸\n",
            "[問題] 個人信貸\n",
            "[問題] 個人信用貸款\n",
            "[問題] 個人信貸\n",
            "[問題] 個人信貸\n",
            "[問題] 個人信貸\n",
            "[問題] 個人信貸\n",
            "[問題] 個人信貸\n",
            "[問題]  個人首次信貸\n",
            "[問題] 個人信貸\n",
            "[請益] 小額貸款\n",
            "[問題] 個人信貸\n",
            "個人信貸\n",
            "[問題] 個人信貸\n",
            "[問題] 個人信貸\n",
            "[問題] 個人信用貸款\n",
            "[問題] 補習班主任 信貸\n",
            "[問題] 首次個人信貸\n",
            "[問題] 醫師信貸\n",
            "[問題] 個人信貸\n",
            "[問題] 個人信貸\n",
            "[問題] 個人信貸\n",
            "[問題] 個人信貸\n",
            "[問題] 個人信貸\n",
            "[問題] 桃園信貸 公職\n",
            "[問題]\n",
            "[問題] 個人信貸\n",
            "[問題] 信用貸款\n",
            "[問題] 個人信貸\n",
            "[問題] 個人信貸\n",
            "[問題] 個人信貸\n",
            "[問題] 個人信貸\n",
            "新北信貸\n",
            "[問題] 信用貸款\n",
            "[問題] 金融同業信貸\n",
            "個人信貸\n",
            "[問題] 匯豐個人信貸\n",
            "[問題] 個人信貸\n",
            "[問題] 個人信貸\n",
            "[問題] 個人信貸\n",
            "[問題] 請提供個人信貸，利率2.4以下\n",
            "[問題] 個人信貸\n",
            "[問題] 金融同業貸款\n",
            "[問題] 個人信貸\n",
            "[問題] 個人信貸\n",
            "=====================================\n",
            "第0群\n",
            "=====================================\n",
            "相關關鍵字\n",
            "['貸款' '希望' '資訊' '利率' '預計' '還款' '房屋' '費用' '提供' '地點']\n",
            "=====================================\n",
            "[問題] 新北原屋貸款\n",
            "[問題] 竹北房貸(首購)\n",
            "[問題] 台南 房屋抵押貸款\n",
            "[問題] 彰化公教首購房貸\n",
            "[問題] 台中新光重劃區房屋轉貸\n",
            "[問題] 竹東房貸(首購)\n",
            "[問題] 房屋轉貸（新北）\n",
            "[問題] 南投公教首購房貸\n",
            "[問題] 房屋貸款（三峽北大特區）\n",
            "[問題] 竹北房貸轉貸\n",
            "[問題] 台南市 外籍人士房貸\n",
            "[問題] 房貸新北\n",
            "[問題] 北市醫師自住房貸\n",
            "[問題] 淡水紅樹林首購貸款\n",
            "[問題] 台北房屋增貸\n",
            "[問題] 台中潭子首購房貸\n",
            "[問題] 新竹 金雅房貸(首購）\n",
            "[問題] 新竹 首購房貸\n",
            "[問題] 竹北房貸 第二房\n",
            "[問題] 房屋抵押貸款(桃園)\n",
            "[問題] 板橋房子 （首購）\n",
            "[問題] 個人信貸\n",
            "[問題] 房屋抵押貸款(嘉義)(醫師)\n",
            "[問題] 房屋轉增貸(台北市)\n",
            "[問題] 竹北房貸轉貸\n",
            "[問題] 竹北縣1縣2區首購\n",
            "[問題] 台中市西區房屋轉貸/增貸\n",
            "[問題] 職軍房貸成數\n",
            "[問題] 桃園首購房貸\n",
            "[問題] 台南房貸轉貸\n",
            "[問題] 房屋抵押貸款\n",
            "[問題] 新北首購房貸\n",
            "=====================================\n",
            "第15群\n",
            "=====================================\n",
            "相關關鍵字\n",
            "['卡片' '申辦' '申請' '收到' '御璽' '三個' '核卡額度' '電話' '財力' '類別']\n",
            "=====================================\n",
            "[心得] 台新GOGO卡 小白核卡\n",
            "[心得] 元大鑽金卡&渣打現金回饋 核卡\n",
            "【心得】永豐夢行卡 核卡\n",
            "[心得] 渣打現金回饋御璽卡核卡\n",
            "[心得] 兆豐利多御璽卡核卡\n",
            "[心得] 合庫樂活悠遊卡核卡\n",
            "=====================================\n"
          ]
        }
      ]
    },
    {
      "cell_type": "markdown",
      "source": [
        "### Practice"
      ],
      "metadata": {
        "id": "RC4aeW-WcB-R"
      }
    },
    {
      "cell_type": "code",
      "source": [
        "tfidf[np.array(list(article_cluster.values())) == 0, :]"
      ],
      "metadata": {
        "id": "mWJoSMw7cBPk",
        "outputId": "40cb8bf3-9fac-443e-88fb-cf0a2dbed405",
        "colab": {
          "base_uri": "https://localhost:8080/"
        }
      },
      "execution_count": 248,
      "outputs": [
        {
          "output_type": "execute_result",
          "data": {
            "text/plain": [
              "<32x9613 sparse matrix of type '<class 'numpy.float64'>'\n",
              "\twith 2682 stored elements in Compressed Sparse Row format>"
            ]
          },
          "metadata": {},
          "execution_count": 248
        }
      ]
    },
    {
      "cell_type": "code",
      "source": [
        "m2 = tfidf[np.array(list(article_cluster.values())) == 0, :].sum(axis = 0)"
      ],
      "metadata": {
        "id": "R_HLagOwcmkx"
      },
      "execution_count": 249,
      "outputs": []
    },
    {
      "cell_type": "code",
      "source": [
        "a2 = np.squeeze(np.asarray(m2))\n",
        "print(a2)"
      ],
      "metadata": {
        "id": "Pg2pP1Fyc2l1",
        "outputId": "9e0fa0e0-be0d-44eb-bda1-b68a21ca9dc5",
        "colab": {
          "base_uri": "https://localhost:8080/"
        }
      },
      "execution_count": 250,
      "outputs": [
        {
          "output_type": "stream",
          "name": "stdout",
          "text": [
            "[0. 0. 0. ... 0. 0. 0.]\n"
          ]
        }
      ]
    },
    {
      "cell_type": "code",
      "source": [
        "words = np.array(vectorizer.get_feature_names())\n",
        "a2.argsort()[::-1][0:10]"
      ],
      "metadata": {
        "id": "33hOhJ05cuaO",
        "outputId": "e7f8ca4b-80f7-488a-aea3-6c81e724050a",
        "colab": {
          "base_uri": "https://localhost:8080/"
        }
      },
      "execution_count": 251,
      "outputs": [
        {
          "output_type": "execute_result",
          "data": {
            "text/plain": [
              "array([8264, 4162, 8301, 2475, 9419, 8910, 4654, 8272, 4927, 3390])"
            ]
          },
          "metadata": {},
          "execution_count": 251
        }
      ]
    },
    {
      "cell_type": "code",
      "source": [
        "words[a2.argsort()[::-1][0:10]]"
      ],
      "metadata": {
        "id": "DotUVjwPdr5z",
        "outputId": "8a376cfa-133a-46f2-e762-1e4b94d0a1c0",
        "colab": {
          "base_uri": "https://localhost:8080/"
        }
      },
      "execution_count": 252,
      "outputs": [
        {
          "output_type": "execute_result",
          "data": {
            "text/plain": [
              "array(['貸款', '希望', '資訊', '利率', '預計', '還款', '房屋', '費用', '提供', '地點'],\n",
              "      dtype='<U24')"
            ]
          },
          "metadata": {},
          "execution_count": 252
        }
      ]
    },
    {
      "cell_type": "code",
      "source": [],
      "metadata": {
        "id": "zj8y9eOWczmZ"
      },
      "execution_count": 252,
      "outputs": []
    },
    {
      "cell_type": "markdown",
      "metadata": {
        "id": "CeHtpVbJj4OZ"
      },
      "source": [
        "## 決策樹"
      ]
    },
    {
      "cell_type": "code",
      "metadata": {
        "id": "Wr8m59f_ghha"
      },
      "source": [
        "from sklearn.datasets import load_iris\n",
        "iris = load_iris()"
      ],
      "execution_count": 253,
      "outputs": []
    },
    {
      "cell_type": "code",
      "metadata": {
        "id": "zA7EcOPRj_Pi",
        "colab": {
          "base_uri": "https://localhost:8080/"
        },
        "outputId": "fc72d679-5348-418e-f728-d3d56018460e"
      },
      "source": [
        "iris.data[0:3,]"
      ],
      "execution_count": 254,
      "outputs": [
        {
          "output_type": "execute_result",
          "data": {
            "text/plain": [
              "array([[5.1, 3.5, 1.4, 0.2],\n",
              "       [4.9, 3. , 1.4, 0.2],\n",
              "       [4.7, 3.2, 1.3, 0.2]])"
            ]
          },
          "metadata": {},
          "execution_count": 254
        }
      ]
    },
    {
      "cell_type": "code",
      "metadata": {
        "id": "VZmwd-d9kCrf",
        "colab": {
          "base_uri": "https://localhost:8080/"
        },
        "outputId": "d6c69e9a-f68f-4771-d620-16228552dc34"
      },
      "source": [
        "iris.target"
      ],
      "execution_count": 255,
      "outputs": [
        {
          "output_type": "execute_result",
          "data": {
            "text/plain": [
              "array([0, 0, 0, 0, 0, 0, 0, 0, 0, 0, 0, 0, 0, 0, 0, 0, 0, 0, 0, 0, 0, 0,\n",
              "       0, 0, 0, 0, 0, 0, 0, 0, 0, 0, 0, 0, 0, 0, 0, 0, 0, 0, 0, 0, 0, 0,\n",
              "       0, 0, 0, 0, 0, 0, 1, 1, 1, 1, 1, 1, 1, 1, 1, 1, 1, 1, 1, 1, 1, 1,\n",
              "       1, 1, 1, 1, 1, 1, 1, 1, 1, 1, 1, 1, 1, 1, 1, 1, 1, 1, 1, 1, 1, 1,\n",
              "       1, 1, 1, 1, 1, 1, 1, 1, 1, 1, 1, 1, 2, 2, 2, 2, 2, 2, 2, 2, 2, 2,\n",
              "       2, 2, 2, 2, 2, 2, 2, 2, 2, 2, 2, 2, 2, 2, 2, 2, 2, 2, 2, 2, 2, 2,\n",
              "       2, 2, 2, 2, 2, 2, 2, 2, 2, 2, 2, 2, 2, 2, 2, 2, 2, 2])"
            ]
          },
          "metadata": {},
          "execution_count": 255
        }
      ]
    },
    {
      "cell_type": "code",
      "metadata": {
        "id": "LtOayJeHkH7O",
        "colab": {
          "base_uri": "https://localhost:8080/"
        },
        "outputId": "85a6047d-0d36-48c8-fa17-4f7fd208622d"
      },
      "source": [
        "from sklearn.tree import DecisionTreeClassifier\n",
        "clf = DecisionTreeClassifier()\n",
        "clf.fit(iris.data, iris.target)"
      ],
      "execution_count": 256,
      "outputs": [
        {
          "output_type": "execute_result",
          "data": {
            "text/plain": [
              "DecisionTreeClassifier()"
            ]
          },
          "metadata": {},
          "execution_count": 256
        }
      ]
    },
    {
      "cell_type": "code",
      "metadata": {
        "id": "8FaqnIjVkS3V",
        "colab": {
          "base_uri": "https://localhost:8080/"
        },
        "outputId": "3c53788c-ba23-4601-9962-d3e02294424a"
      },
      "source": [
        "clf.predict(iris.data)"
      ],
      "execution_count": 257,
      "outputs": [
        {
          "output_type": "execute_result",
          "data": {
            "text/plain": [
              "array([0, 0, 0, 0, 0, 0, 0, 0, 0, 0, 0, 0, 0, 0, 0, 0, 0, 0, 0, 0, 0, 0,\n",
              "       0, 0, 0, 0, 0, 0, 0, 0, 0, 0, 0, 0, 0, 0, 0, 0, 0, 0, 0, 0, 0, 0,\n",
              "       0, 0, 0, 0, 0, 0, 1, 1, 1, 1, 1, 1, 1, 1, 1, 1, 1, 1, 1, 1, 1, 1,\n",
              "       1, 1, 1, 1, 1, 1, 1, 1, 1, 1, 1, 1, 1, 1, 1, 1, 1, 1, 1, 1, 1, 1,\n",
              "       1, 1, 1, 1, 1, 1, 1, 1, 1, 1, 1, 1, 2, 2, 2, 2, 2, 2, 2, 2, 2, 2,\n",
              "       2, 2, 2, 2, 2, 2, 2, 2, 2, 2, 2, 2, 2, 2, 2, 2, 2, 2, 2, 2, 2, 2,\n",
              "       2, 2, 2, 2, 2, 2, 2, 2, 2, 2, 2, 2, 2, 2, 2, 2, 2, 2])"
            ]
          },
          "metadata": {},
          "execution_count": 257
        }
      ]
    },
    {
      "cell_type": "code",
      "metadata": {
        "id": "UHiC-dYukYQd"
      },
      "source": [
        "from sklearn import tree\n",
        "tree.export_graphviz(clf, 'tree.dot')"
      ],
      "execution_count": 258,
      "outputs": []
    },
    {
      "cell_type": "code",
      "metadata": {
        "id": "2Qb1RvhTkh0b",
        "colab": {
          "base_uri": "https://localhost:8080/"
        },
        "outputId": "416bfddd-d176-43ec-8908-f5ac46961187"
      },
      "source": [
        "! cat tree.dot"
      ],
      "execution_count": 259,
      "outputs": [
        {
          "output_type": "stream",
          "name": "stdout",
          "text": [
            "digraph Tree {\n",
            "node [shape=box, fontname=\"helvetica\"] ;\n",
            "edge [fontname=\"helvetica\"] ;\n",
            "0 [label=\"X[2] <= 2.45\\ngini = 0.667\\nsamples = 150\\nvalue = [50, 50, 50]\"] ;\n",
            "1 [label=\"gini = 0.0\\nsamples = 50\\nvalue = [50, 0, 0]\"] ;\n",
            "0 -> 1 [labeldistance=2.5, labelangle=45, headlabel=\"True\"] ;\n",
            "2 [label=\"X[3] <= 1.75\\ngini = 0.5\\nsamples = 100\\nvalue = [0, 50, 50]\"] ;\n",
            "0 -> 2 [labeldistance=2.5, labelangle=-45, headlabel=\"False\"] ;\n",
            "3 [label=\"X[2] <= 4.95\\ngini = 0.168\\nsamples = 54\\nvalue = [0, 49, 5]\"] ;\n",
            "2 -> 3 ;\n",
            "4 [label=\"X[3] <= 1.65\\ngini = 0.041\\nsamples = 48\\nvalue = [0, 47, 1]\"] ;\n",
            "3 -> 4 ;\n",
            "5 [label=\"gini = 0.0\\nsamples = 47\\nvalue = [0, 47, 0]\"] ;\n",
            "4 -> 5 ;\n",
            "6 [label=\"gini = 0.0\\nsamples = 1\\nvalue = [0, 0, 1]\"] ;\n",
            "4 -> 6 ;\n",
            "7 [label=\"X[3] <= 1.55\\ngini = 0.444\\nsamples = 6\\nvalue = [0, 2, 4]\"] ;\n",
            "3 -> 7 ;\n",
            "8 [label=\"gini = 0.0\\nsamples = 3\\nvalue = [0, 0, 3]\"] ;\n",
            "7 -> 8 ;\n",
            "9 [label=\"X[0] <= 6.95\\ngini = 0.444\\nsamples = 3\\nvalue = [0, 2, 1]\"] ;\n",
            "7 -> 9 ;\n",
            "10 [label=\"gini = 0.0\\nsamples = 2\\nvalue = [0, 2, 0]\"] ;\n",
            "9 -> 10 ;\n",
            "11 [label=\"gini = 0.0\\nsamples = 1\\nvalue = [0, 0, 1]\"] ;\n",
            "9 -> 11 ;\n",
            "12 [label=\"X[2] <= 4.85\\ngini = 0.043\\nsamples = 46\\nvalue = [0, 1, 45]\"] ;\n",
            "2 -> 12 ;\n",
            "13 [label=\"X[0] <= 5.95\\ngini = 0.444\\nsamples = 3\\nvalue = [0, 1, 2]\"] ;\n",
            "12 -> 13 ;\n",
            "14 [label=\"gini = 0.0\\nsamples = 1\\nvalue = [0, 1, 0]\"] ;\n",
            "13 -> 14 ;\n",
            "15 [label=\"gini = 0.0\\nsamples = 2\\nvalue = [0, 0, 2]\"] ;\n",
            "13 -> 15 ;\n",
            "16 [label=\"gini = 0.0\\nsamples = 43\\nvalue = [0, 0, 43]\"] ;\n",
            "12 -> 16 ;\n",
            "}"
          ]
        }
      ]
    },
    {
      "cell_type": "code",
      "metadata": {
        "id": "2358JBhkkjXU"
      },
      "source": [
        "X = iris.data\n",
        "y = iris.target"
      ],
      "execution_count": 260,
      "outputs": []
    },
    {
      "cell_type": "code",
      "metadata": {
        "id": "QYUF0NbMl3N7"
      },
      "source": [
        "from sklearn.model_selection import train_test_split\n",
        "train_X, test_X, train_y, test_y = train_test_split(X,y, test_size = 0.2, random_state = 42)"
      ],
      "execution_count": 261,
      "outputs": []
    },
    {
      "cell_type": "code",
      "metadata": {
        "id": "sMf0kxI1mCuf",
        "colab": {
          "base_uri": "https://localhost:8080/"
        },
        "outputId": "e9eb0d9d-7627-421a-f1c7-491cdbc7665b"
      },
      "source": [
        "clf = DecisionTreeClassifier(max_depth=2)\n",
        "clf.fit(train_X, train_y)"
      ],
      "execution_count": 262,
      "outputs": [
        {
          "output_type": "execute_result",
          "data": {
            "text/plain": [
              "DecisionTreeClassifier(max_depth=2)"
            ]
          },
          "metadata": {},
          "execution_count": 262
        }
      ]
    },
    {
      "cell_type": "code",
      "metadata": {
        "id": "01UUydt-mOOG"
      },
      "source": [
        "predicted_y = clf.predict(test_X)"
      ],
      "execution_count": 263,
      "outputs": []
    },
    {
      "cell_type": "code",
      "metadata": {
        "id": "O4YHkZjkmSLE",
        "colab": {
          "base_uri": "https://localhost:8080/"
        },
        "outputId": "d13b46a2-4bc4-42a4-f06f-7a31e6c35bea"
      },
      "source": [
        "(predicted_y == test_y).sum() / len(test_y)"
      ],
      "execution_count": 264,
      "outputs": [
        {
          "output_type": "execute_result",
          "data": {
            "text/plain": [
              "0.9666666666666667"
            ]
          },
          "metadata": {},
          "execution_count": 264
        }
      ]
    },
    {
      "cell_type": "code",
      "metadata": {
        "id": "qoHdijSMmWpM",
        "colab": {
          "base_uri": "https://localhost:8080/"
        },
        "outputId": "6b17a3db-e9a4-4671-b99e-fd331a4b1f56"
      },
      "source": [
        "from sklearn.metrics import accuracy_score\n",
        "accuracy_score(test_y, predicted_y)"
      ],
      "execution_count": 265,
      "outputs": [
        {
          "output_type": "execute_result",
          "data": {
            "text/plain": [
              "0.9666666666666667"
            ]
          },
          "metadata": {},
          "execution_count": 265
        }
      ]
    },
    {
      "cell_type": "code",
      "metadata": {
        "id": "x0JQpNq2mqVa"
      },
      "source": [
        "tree.export_graphviz(clf, 'tree2.dot')"
      ],
      "execution_count": 266,
      "outputs": []
    },
    {
      "cell_type": "code",
      "metadata": {
        "id": "lgKyRT0AmxyR",
        "colab": {
          "base_uri": "https://localhost:8080/"
        },
        "outputId": "0a2691ee-5d53-4ec8-fda6-33d1ef234373"
      },
      "source": [
        "! cat tree2.dot"
      ],
      "execution_count": 267,
      "outputs": [
        {
          "output_type": "stream",
          "name": "stdout",
          "text": [
            "digraph Tree {\n",
            "node [shape=box, fontname=\"helvetica\"] ;\n",
            "edge [fontname=\"helvetica\"] ;\n",
            "0 [label=\"X[2] <= 2.45\\ngini = 0.667\\nsamples = 120\\nvalue = [40, 41, 39]\"] ;\n",
            "1 [label=\"gini = 0.0\\nsamples = 40\\nvalue = [40, 0, 0]\"] ;\n",
            "0 -> 1 [labeldistance=2.5, labelangle=45, headlabel=\"True\"] ;\n",
            "2 [label=\"X[2] <= 4.75\\ngini = 0.5\\nsamples = 80\\nvalue = [0, 41, 39]\"] ;\n",
            "0 -> 2 [labeldistance=2.5, labelangle=-45, headlabel=\"False\"] ;\n",
            "3 [label=\"gini = 0.053\\nsamples = 37\\nvalue = [0, 36, 1]\"] ;\n",
            "2 -> 3 ;\n",
            "4 [label=\"gini = 0.206\\nsamples = 43\\nvalue = [0, 5, 38]\"] ;\n",
            "2 -> 4 ;\n",
            "}"
          ]
        }
      ]
    },
    {
      "cell_type": "code",
      "metadata": {
        "id": "EVpG6Pj5mzCS",
        "colab": {
          "base_uri": "https://localhost:8080/"
        },
        "outputId": "7cfb1cbe-2536-4895-8dc8-05492ae1195b"
      },
      "source": [
        "from sklearn.datasets import load_iris\n",
        "from sklearn import tree\n",
        "iris = load_iris()\n",
        "y = iris.target\n",
        "X = iris.data[:, [2, 3]]\n",
        "\n",
        "clf = tree.DecisionTreeClassifier(max_depth=2, random_state = 42)\n",
        "clf.fit(X, y)"
      ],
      "execution_count": 268,
      "outputs": [
        {
          "output_type": "execute_result",
          "data": {
            "text/plain": [
              "DecisionTreeClassifier(max_depth=2, random_state=42)"
            ]
          },
          "metadata": {},
          "execution_count": 268
        }
      ]
    },
    {
      "cell_type": "code",
      "metadata": {
        "id": "tIiCcdz4nMM8",
        "colab": {
          "base_uri": "https://localhost:8080/",
          "height": 282
        },
        "outputId": "58b55252-0a40-4132-facd-a21cc535c079"
      },
      "source": [
        "from matplotlib import pyplot as plt\n",
        "plt.scatter(X[:, 0], X[:, 1], c=y, alpha=1)"
      ],
      "execution_count": 269,
      "outputs": [
        {
          "output_type": "execute_result",
          "data": {
            "text/plain": [
              "<matplotlib.collections.PathCollection at 0x7f0d25fb4510>"
            ]
          },
          "metadata": {},
          "execution_count": 269
        },
        {
          "output_type": "display_data",
          "data": {
            "text/plain": [
              "<Figure size 432x288 with 1 Axes>"
            ],
            "image/png": "[encoded data removed]"
          },
          "metadata": {
            "needs_background": "light"
          }
        }
      ]
    },
    {
      "cell_type": "code",
      "metadata": {
        "id": "d3RBRYnFniPS",
        "colab": {
          "base_uri": "https://localhost:8080/"
        },
        "outputId": "a7f6d60e-d8c8-438b-a2a2-6e4a48d02328"
      },
      "source": [
        "import numpy as np\n",
        "a = np.array([[1,1]])\n",
        "clf.predict(a)"
      ],
      "execution_count": 270,
      "outputs": [
        {
          "output_type": "execute_result",
          "data": {
            "text/plain": [
              "array([0])"
            ]
          },
          "metadata": {},
          "execution_count": 270
        }
      ]
    },
    {
      "cell_type": "code",
      "metadata": {
        "id": "V7GoFHgfoWOj"
      },
      "source": [
        "x_min, x_max = X[:, 0].min() - 1, X[:, 0].max() + 1\n",
        "y_min, y_max = X[:, 1].min() - 1, X[:, 1].max() + 1\n",
        "xx, yy = np.meshgrid(np.arange(x_min, x_max, 0.1),\n",
        "                     np.arange(y_min, y_max, 0.1))\n",
        "\n",
        "\n"
      ],
      "execution_count": 271,
      "outputs": []
    },
    {
      "cell_type": "code",
      "metadata": {
        "id": "UZFO5ZOGosHn",
        "colab": {
          "base_uri": "https://localhost:8080/"
        },
        "outputId": "2480f390-9f23-4d8d-a98d-f5c0b8a0153f"
      },
      "source": [
        "xx"
      ],
      "execution_count": 272,
      "outputs": [
        {
          "output_type": "execute_result",
          "data": {
            "text/plain": [
              "array([[0. , 0.1, 0.2, ..., 7.6, 7.7, 7.8],\n",
              "       [0. , 0.1, 0.2, ..., 7.6, 7.7, 7.8],\n",
              "       [0. , 0.1, 0.2, ..., 7.6, 7.7, 7.8],\n",
              "       ...,\n",
              "       [0. , 0.1, 0.2, ..., 7.6, 7.7, 7.8],\n",
              "       [0. , 0.1, 0.2, ..., 7.6, 7.7, 7.8],\n",
              "       [0. , 0.1, 0.2, ..., 7.6, 7.7, 7.8]])"
            ]
          },
          "metadata": {},
          "execution_count": 272
        }
      ]
    },
    {
      "cell_type": "code",
      "metadata": {
        "id": "gCgTMHpHos06",
        "colab": {
          "base_uri": "https://localhost:8080/"
        },
        "outputId": "6d3b1a14-a182-4c4e-9619-a346c6896a98"
      },
      "source": [
        "yy"
      ],
      "execution_count": 273,
      "outputs": [
        {
          "output_type": "execute_result",
          "data": {
            "text/plain": [
              "array([[-0.9, -0.9, -0.9, ..., -0.9, -0.9, -0.9],\n",
              "       [-0.8, -0.8, -0.8, ..., -0.8, -0.8, -0.8],\n",
              "       [-0.7, -0.7, -0.7, ..., -0.7, -0.7, -0.7],\n",
              "       ...,\n",
              "       [ 3.2,  3.2,  3.2, ...,  3.2,  3.2,  3.2],\n",
              "       [ 3.3,  3.3,  3.3, ...,  3.3,  3.3,  3.3],\n",
              "       [ 3.4,  3.4,  3.4, ...,  3.4,  3.4,  3.4]])"
            ]
          },
          "metadata": {},
          "execution_count": 273
        }
      ]
    },
    {
      "cell_type": "code",
      "metadata": {
        "id": "IZaAgC-coxrY",
        "colab": {
          "base_uri": "https://localhost:8080/"
        },
        "outputId": "01a83692-75ad-4a0b-87fb-3042feacf531"
      },
      "source": [
        "np.c_[xx.ravel(), yy.ravel()]"
      ],
      "execution_count": 274,
      "outputs": [
        {
          "output_type": "execute_result",
          "data": {
            "text/plain": [
              "array([[ 0. , -0.9],\n",
              "       [ 0.1, -0.9],\n",
              "       [ 0.2, -0.9],\n",
              "       ...,\n",
              "       [ 7.6,  3.4],\n",
              "       [ 7.7,  3.4],\n",
              "       [ 7.8,  3.4]])"
            ]
          },
          "metadata": {},
          "execution_count": 274
        }
      ]
    },
    {
      "cell_type": "code",
      "metadata": {
        "id": "HVPNf1TEouI3",
        "colab": {
          "base_uri": "https://localhost:8080/",
          "height": 295
        },
        "outputId": "dc2e37c7-5e1a-4a0c-d78e-0040d0831fec"
      },
      "source": [
        "plt.plot()\n",
        "Z = clf.predict(np.c_[xx.ravel(), yy.ravel()])\n",
        "Z = Z.reshape(xx.shape)\n",
        "plt.contourf(xx, yy, Z, alpha=0.4, cmap = plt.cm.rainbow)\n",
        "plt.scatter(X[:, 0], X[:, 1], c=y, alpha=1, cmap = plt.cm.RdYlBu)\n",
        "plt.title('Decision Tree')\n",
        "plt.xlabel('Petal.Length')\n",
        "plt.ylabel('Petal.Width')\n",
        "plt.show()"
      ],
      "execution_count": 275,
      "outputs": [
        {
          "output_type": "display_data",
          "data": {
            "text/plain": [
              "<Figure size 432x288 with 1 Axes>"
            ],
            "image/png": "[encoded data removed]"
          },
          "metadata": {
            "needs_background": "light"
          }
        }
      ]
    },
    {
      "cell_type": "code",
      "metadata": {
        "id": "eCWeiwBqo5wW"
      },
      "source": [
        "tree.export_graphviz(clf, 'tree3.dot')"
      ],
      "execution_count": 276,
      "outputs": []
    },
    {
      "cell_type": "code",
      "metadata": {
        "id": "p4JvhGuvo-B2",
        "colab": {
          "base_uri": "https://localhost:8080/"
        },
        "outputId": "04a3a378-a232-4874-b54e-359f1e442c98"
      },
      "source": [
        "! cat tree3.dot"
      ],
      "execution_count": 277,
      "outputs": [
        {
          "output_type": "stream",
          "name": "stdout",
          "text": [
            "digraph Tree {\n",
            "node [shape=box, fontname=\"helvetica\"] ;\n",
            "edge [fontname=\"helvetica\"] ;\n",
            "0 [label=\"X[0] <= 2.45\\ngini = 0.667\\nsamples = 150\\nvalue = [50, 50, 50]\"] ;\n",
            "1 [label=\"gini = 0.0\\nsamples = 50\\nvalue = [50, 0, 0]\"] ;\n",
            "0 -> 1 [labeldistance=2.5, labelangle=45, headlabel=\"True\"] ;\n",
            "2 [label=\"X[1] <= 1.75\\ngini = 0.5\\nsamples = 100\\nvalue = [0, 50, 50]\"] ;\n",
            "0 -> 2 [labeldistance=2.5, labelangle=-45, headlabel=\"False\"] ;\n",
            "3 [label=\"gini = 0.168\\nsamples = 54\\nvalue = [0, 49, 5]\"] ;\n",
            "2 -> 3 ;\n",
            "4 [label=\"gini = 0.043\\nsamples = 46\\nvalue = [0, 1, 45]\"] ;\n",
            "2 -> 4 ;\n",
            "}"
          ]
        }
      ]
    },
    {
      "cell_type": "markdown",
      "source": [
        "### Practice"
      ],
      "metadata": {
        "id": "sfSVwb4fe-KJ"
      }
    },
    {
      "cell_type": "code",
      "source": [
        "from sklearn.datasets import load_iris\n",
        "iris = load_iris()\n",
        "iris.data.shape\n",
        "iris.target.shape\n",
        "\n",
        "from sklearn.tree import DecisionTreeClassifier\n",
        "clf = DecisionTreeClassifier()\n",
        "clf.fit(iris.data, iris.target)\n",
        "clf.predict(iris.data)\n",
        "\n",
        "from sklearn import tree\n",
        "tree.export_graphviz(clf, 'tree.dot')"
      ],
      "metadata": {
        "id": "7PHajkvsfEd8"
      },
      "execution_count": 278,
      "outputs": []
    },
    {
      "cell_type": "code",
      "source": [
        "! cat tree.dot"
      ],
      "metadata": {
        "id": "ce1-2YKdgH-b",
        "outputId": "70dc17c4-ec4e-48d7-b1f7-9959387db21b",
        "colab": {
          "base_uri": "https://localhost:8080/"
        }
      },
      "execution_count": 279,
      "outputs": [
        {
          "output_type": "stream",
          "name": "stdout",
          "text": [
            "digraph Tree {\n",
            "node [shape=box, fontname=\"helvetica\"] ;\n",
            "edge [fontname=\"helvetica\"] ;\n",
            "0 [label=\"X[3] <= 0.8\\ngini = 0.667\\nsamples = 150\\nvalue = [50, 50, 50]\"] ;\n",
            "1 [label=\"gini = 0.0\\nsamples = 50\\nvalue = [50, 0, 0]\"] ;\n",
            "0 -> 1 [labeldistance=2.5, labelangle=45, headlabel=\"True\"] ;\n",
            "2 [label=\"X[3] <= 1.75\\ngini = 0.5\\nsamples = 100\\nvalue = [0, 50, 50]\"] ;\n",
            "0 -> 2 [labeldistance=2.5, labelangle=-45, headlabel=\"False\"] ;\n",
            "3 [label=\"X[2] <= 4.95\\ngini = 0.168\\nsamples = 54\\nvalue = [0, 49, 5]\"] ;\n",
            "2 -> 3 ;\n",
            "4 [label=\"X[3] <= 1.65\\ngini = 0.041\\nsamples = 48\\nvalue = [0, 47, 1]\"] ;\n",
            "3 -> 4 ;\n",
            "5 [label=\"gini = 0.0\\nsamples = 47\\nvalue = [0, 47, 0]\"] ;\n",
            "4 -> 5 ;\n",
            "6 [label=\"gini = 0.0\\nsamples = 1\\nvalue = [0, 0, 1]\"] ;\n",
            "4 -> 6 ;\n",
            "7 [label=\"X[3] <= 1.55\\ngini = 0.444\\nsamples = 6\\nvalue = [0, 2, 4]\"] ;\n",
            "3 -> 7 ;\n",
            "8 [label=\"gini = 0.0\\nsamples = 3\\nvalue = [0, 0, 3]\"] ;\n",
            "7 -> 8 ;\n",
            "9 [label=\"X[2] <= 5.45\\ngini = 0.444\\nsamples = 3\\nvalue = [0, 2, 1]\"] ;\n",
            "7 -> 9 ;\n",
            "10 [label=\"gini = 0.0\\nsamples = 2\\nvalue = [0, 2, 0]\"] ;\n",
            "9 -> 10 ;\n",
            "11 [label=\"gini = 0.0\\nsamples = 1\\nvalue = [0, 0, 1]\"] ;\n",
            "9 -> 11 ;\n",
            "12 [label=\"X[2] <= 4.85\\ngini = 0.043\\nsamples = 46\\nvalue = [0, 1, 45]\"] ;\n",
            "2 -> 12 ;\n",
            "13 [label=\"X[1] <= 3.1\\ngini = 0.444\\nsamples = 3\\nvalue = [0, 1, 2]\"] ;\n",
            "12 -> 13 ;\n",
            "14 [label=\"gini = 0.0\\nsamples = 2\\nvalue = [0, 0, 2]\"] ;\n",
            "13 -> 14 ;\n",
            "15 [label=\"gini = 0.0\\nsamples = 1\\nvalue = [0, 1, 0]\"] ;\n",
            "13 -> 15 ;\n",
            "16 [label=\"gini = 0.0\\nsamples = 43\\nvalue = [0, 0, 43]\"] ;\n",
            "12 -> 16 ;\n",
            "}"
          ]
        }
      ]
    },
    {
      "cell_type": "code",
      "source": [
        "X = iris.data\n",
        "y = iris.target\n",
        "\n",
        "\n",
        "from sklearn.model_selection import train_test_split\n",
        "train_X, test_X, train_y, test_y = train_test_split(X, y, test_size = 0.2, random_state = 42)\n",
        "\n",
        "clf = DecisionTreeClassifier(max_depth=2)\n",
        "clf.fit(train_X, train_y)\n",
        "\n",
        "predicted_y = clf.predict(test_X)\n",
        "accuracy = (predicted_y == test_y).sum() / len(test_y)\n",
        "accuracy\n",
        "\n",
        "tree.export_graphviz(clf, 'tree2.dot')"
      ],
      "metadata": {
        "id": "pf0O2wwehT53"
      },
      "execution_count": 280,
      "outputs": []
    },
    {
      "cell_type": "code",
      "source": [
        "! cat tree2.dot"
      ],
      "metadata": {
        "id": "CPt8ksb4ieAe",
        "outputId": "051040e1-0049-4e3e-efad-b3e4048b2419",
        "colab": {
          "base_uri": "https://localhost:8080/"
        }
      },
      "execution_count": 281,
      "outputs": [
        {
          "output_type": "stream",
          "name": "stdout",
          "text": [
            "digraph Tree {\n",
            "node [shape=box, fontname=\"helvetica\"] ;\n",
            "edge [fontname=\"helvetica\"] ;\n",
            "0 [label=\"X[2] <= 2.45\\ngini = 0.667\\nsamples = 120\\nvalue = [40, 41, 39]\"] ;\n",
            "1 [label=\"gini = 0.0\\nsamples = 40\\nvalue = [40, 0, 0]\"] ;\n",
            "0 -> 1 [labeldistance=2.5, labelangle=45, headlabel=\"True\"] ;\n",
            "2 [label=\"X[2] <= 4.75\\ngini = 0.5\\nsamples = 80\\nvalue = [0, 41, 39]\"] ;\n",
            "0 -> 2 [labeldistance=2.5, labelangle=-45, headlabel=\"False\"] ;\n",
            "3 [label=\"gini = 0.053\\nsamples = 37\\nvalue = [0, 36, 1]\"] ;\n",
            "2 -> 3 ;\n",
            "4 [label=\"gini = 0.206\\nsamples = 43\\nvalue = [0, 5, 38]\"] ;\n",
            "2 -> 4 ;\n",
            "}"
          ]
        }
      ]
    },
    {
      "cell_type": "code",
      "source": [
        "iris = load_iris()\n",
        "X = iris.data[:, [2, 3]]\n",
        "y = iris.target\n",
        "clf = tree.DecisionTreeClassifier(max_depth = 2, random_state = 42)\n",
        "clf.fit(X, y)\n",
        "\n",
        "from matplotlib import pyplot as plt\n",
        "plt.scatter(X[:,0], X[:,1], c=y, alpha = 1)"
      ],
      "metadata": {
        "id": "mRvuj9XlkmFy",
        "outputId": "eb9981f2-86d4-454e-f708-6ec5e017ad3f",
        "colab": {
          "base_uri": "https://localhost:8080/",
          "height": 282
        }
      },
      "execution_count": 282,
      "outputs": [
        {
          "output_type": "execute_result",
          "data": {
            "text/plain": [
              "<matplotlib.collections.PathCollection at 0x7f0d25fe56d0>"
            ]
          },
          "metadata": {},
          "execution_count": 282
        },
        {
          "output_type": "display_data",
          "data": {
            "text/plain": [
              "<Figure size 432x288 with 1 Axes>"
            ],
            "image/png": "[encoded data removed]"
          },
          "metadata": {
            "needs_background": "light"
          }
        }
      ]
    },
    {
      "cell_type": "code",
      "source": [
        "import numpy as np\n",
        "a = np.array([[1,1]])\n",
        "clf.predict(a)"
      ],
      "metadata": {
        "id": "MhPj2lSxnrd4",
        "outputId": "53a22419-a9e9-4d83-a702-810e1e67e4db",
        "colab": {
          "base_uri": "https://localhost:8080/"
        }
      },
      "execution_count": 283,
      "outputs": [
        {
          "output_type": "execute_result",
          "data": {
            "text/plain": [
              "array([0])"
            ]
          },
          "metadata": {},
          "execution_count": 283
        }
      ]
    },
    {
      "cell_type": "code",
      "source": [
        "x_min = X[:, 0].min() - 1\n",
        "x_max = X[:, 0].max() + 1\n",
        "y_min = X[:, 1].min() - 1\n",
        "y_max = X[:, 1].max() + 1\n",
        "\n",
        "x_range = np.arange(x_min, x_max, 0.01)\n",
        "y_range = np.arange(y_min, y_max, 0.01)\n",
        "\n",
        "x_coordinate, y_coordinate = np.meshgrid(x_range, y_range)\n",
        "# print(x_coordinate)\n",
        "# print(y_coordinate)\n",
        "m = np.stack((x_coordinate.flatten(), y_coordinate.flatten()), axis = 1)\n",
        "z_coordinate = clf.predict(m).reshape(x_coordinate.shape)\n",
        "# print(y_coordinate)\n",
        "\n",
        "from matplotlib import pyplot as plt\n",
        "plt.contourf(x_coordinate, y_coordinate, z_coordinate, alpha=0.3)\n",
        "plt.scatter(X[:,0], X[:,1], c=y, alpha = 1)\n"
      ],
      "metadata": {
        "id": "BAMunoB26j2y",
        "outputId": "8e5ce600-4bee-49dd-c0cc-e3d9adade8a1",
        "colab": {
          "base_uri": "https://localhost:8080/",
          "height": 282
        }
      },
      "execution_count": 284,
      "outputs": [
        {
          "output_type": "execute_result",
          "data": {
            "text/plain": [
              "<matplotlib.collections.PathCollection at 0x7f0d22ea21d0>"
            ]
          },
          "metadata": {},
          "execution_count": 284
        },
        {
          "output_type": "display_data",
          "data": {
            "text/plain": [
              "<Figure size 432x288 with 1 Axes>"
            ],
            "image/png": "[encoded data removed]"
          },
          "metadata": {
            "needs_background": "light"
          }
        }
      ]
    },
    {
      "cell_type": "code",
      "source": [
        "tree.export_graphviz(clf, 'tree3.dot')"
      ],
      "metadata": {
        "id": "NulWruo5EQMn"
      },
      "execution_count": 285,
      "outputs": []
    },
    {
      "cell_type": "code",
      "source": [
        "! cat tree3.dot"
      ],
      "metadata": {
        "id": "8Mp5P4BgEVMe",
        "outputId": "9607f8bb-dbde-4856-f9d6-2660d9d953bf",
        "colab": {
          "base_uri": "https://localhost:8080/"
        }
      },
      "execution_count": 286,
      "outputs": [
        {
          "output_type": "stream",
          "name": "stdout",
          "text": [
            "digraph Tree {\n",
            "node [shape=box, fontname=\"helvetica\"] ;\n",
            "edge [fontname=\"helvetica\"] ;\n",
            "0 [label=\"X[0] <= 2.45\\ngini = 0.667\\nsamples = 150\\nvalue = [50, 50, 50]\"] ;\n",
            "1 [label=\"gini = 0.0\\nsamples = 50\\nvalue = [50, 0, 0]\"] ;\n",
            "0 -> 1 [labeldistance=2.5, labelangle=45, headlabel=\"True\"] ;\n",
            "2 [label=\"X[1] <= 1.75\\ngini = 0.5\\nsamples = 100\\nvalue = [0, 50, 50]\"] ;\n",
            "0 -> 2 [labeldistance=2.5, labelangle=-45, headlabel=\"False\"] ;\n",
            "3 [label=\"gini = 0.168\\nsamples = 54\\nvalue = [0, 49, 5]\"] ;\n",
            "2 -> 3 ;\n",
            "4 [label=\"gini = 0.043\\nsamples = 46\\nvalue = [0, 1, 45]\"] ;\n",
            "2 -> 4 ;\n",
            "}"
          ]
        }
      ]
    },
    {
      "cell_type": "markdown",
      "metadata": {
        "id": "ObLtaARmtO9V"
      },
      "source": [
        "## 邏輯迴歸分析"
      ]
    },
    {
      "cell_type": "code",
      "metadata": {
        "id": "tG7rrbnupCu5",
        "colab": {
          "base_uri": "https://localhost:8080/"
        },
        "outputId": "645666d5-dfdb-47bc-e595-55fdb265ca6a"
      },
      "source": [
        "from sklearn.linear_model import LogisticRegression\n",
        "clf = LogisticRegression(max_iter = 1000)\n",
        "clf.fit(iris.data, iris.target)"
      ],
      "execution_count": 287,
      "outputs": [
        {
          "output_type": "execute_result",
          "data": {
            "text/plain": [
              "LogisticRegression(max_iter=1000)"
            ]
          },
          "metadata": {},
          "execution_count": 287
        }
      ]
    },
    {
      "cell_type": "code",
      "metadata": {
        "id": "Zo_4nTqItanh",
        "colab": {
          "base_uri": "https://localhost:8080/"
        },
        "outputId": "ec31261d-4fce-4fe5-bb7a-7d9c1accb45e"
      },
      "source": [
        "clf.predict(iris.data)"
      ],
      "execution_count": 288,
      "outputs": [
        {
          "output_type": "execute_result",
          "data": {
            "text/plain": [
              "array([0, 0, 0, 0, 0, 0, 0, 0, 0, 0, 0, 0, 0, 0, 0, 0, 0, 0, 0, 0, 0, 0,\n",
              "       0, 0, 0, 0, 0, 0, 0, 0, 0, 0, 0, 0, 0, 0, 0, 0, 0, 0, 0, 0, 0, 0,\n",
              "       0, 0, 0, 0, 0, 0, 1, 1, 1, 1, 1, 1, 1, 1, 1, 1, 1, 1, 1, 1, 1, 1,\n",
              "       1, 1, 1, 1, 2, 1, 1, 1, 1, 1, 1, 2, 1, 1, 1, 1, 1, 2, 1, 1, 1, 1,\n",
              "       1, 1, 1, 1, 1, 1, 1, 1, 1, 1, 1, 1, 2, 2, 2, 2, 2, 2, 1, 2, 2, 2,\n",
              "       2, 2, 2, 2, 2, 2, 2, 2, 2, 2, 2, 2, 2, 2, 2, 2, 2, 2, 2, 2, 2, 2,\n",
              "       2, 2, 2, 2, 2, 2, 2, 2, 2, 2, 2, 2, 2, 2, 2, 2, 2, 2])"
            ]
          },
          "metadata": {},
          "execution_count": 288
        }
      ]
    },
    {
      "cell_type": "code",
      "metadata": {
        "id": "Tt7K3yk2tk3e",
        "colab": {
          "base_uri": "https://localhost:8080/"
        },
        "outputId": "97ca928d-35bf-4947-8f39-5216342ae4bb"
      },
      "source": [
        "import numpy as np\n",
        "import matplotlib.pyplot as plt\n",
        "\n",
        "from sklearn.datasets import load_iris\n",
        "from sklearn.linear_model import LogisticRegression\n",
        "\n",
        "iris = load_iris()\n",
        "X = iris.data[:, [2, 3]]\n",
        "y = iris.target\n",
        "clf = LogisticRegression(random_state = 42)\n",
        "clf.fit(X, y)"
      ],
      "execution_count": 289,
      "outputs": [
        {
          "output_type": "execute_result",
          "data": {
            "text/plain": [
              "LogisticRegression(random_state=42)"
            ]
          },
          "metadata": {},
          "execution_count": 289
        }
      ]
    },
    {
      "cell_type": "code",
      "metadata": {
        "id": "9n9qrPOptrq7",
        "colab": {
          "base_uri": "https://localhost:8080/",
          "height": 295
        },
        "outputId": "a89dc051-1abf-47de-8ae7-1bddd3e1729c"
      },
      "source": [
        "x_min, x_max = X[:, 0].min() - 1, X[:, 0].max() + 1\n",
        "y_min, y_max = X[:, 1].min() - 1, X[:, 1].max() + 1\n",
        "xx, yy = np.meshgrid(np.arange(x_min, x_max, 0.1),\n",
        "                     np.arange(y_min, y_max, 0.1))\n",
        "\n",
        "Z = clf.predict(np.c_[xx.ravel(), yy.ravel()])\n",
        "Z = Z.reshape(xx.shape)\n",
        "\n",
        "plt.plot()\n",
        "plt.contourf(xx, yy, Z, alpha=0.4, cmap = plt.cm.RdYlBu)\n",
        "plt.scatter(X[:, 0], X[:, 1], c=y,  cmap = plt.cm.brg)\n",
        "plt.title('Logistic Regression')\n",
        "plt.xlabel('Petal.Length')\n",
        "plt.ylabel('Petal.Width')\n",
        "plt.show()"
      ],
      "execution_count": 290,
      "outputs": [
        {
          "output_type": "display_data",
          "data": {
            "text/plain": [
              "<Figure size 432x288 with 1 Axes>"
            ],
            "image/png": "[encoded data removed]"
          },
          "metadata": {
            "needs_background": "light"
          }
        }
      ]
    },
    {
      "cell_type": "markdown",
      "source": [
        "###Practice"
      ],
      "metadata": {
        "id": "GynUduacGBH7"
      }
    },
    {
      "cell_type": "code",
      "source": [
        "from sklearn.linear_model import LogisticRegression\n",
        "clf = LogisticRegression(max_iter = 1000)\n",
        "clf.fit(iris.data, iris.target)\n",
        "clf.predict(iris.data)\n",
        "\n",
        "X = iris.data[:,2]\n",
        "Y = iris.data[:,3]\n",
        "# plt.scatter(X,Y,c=iris.target)\n",
        "\n",
        "clf = LogisticRegression(max_iter = 1000)\n",
        "clf.fit(np.stack((X,Y), axis=1), iris.target)\n",
        "# print(clf.predict([[1,1]]))\n",
        "\n",
        "x_min, x_max, y_min, y_max = X.min()-1, X.max()+1, Y.min()-1, Y.max()+1\n",
        "x_range = np.arange(x_min, x_max, 0.005)\n",
        "y_range = np.arange(y_min, y_max, 0.005)\n",
        "\n",
        "x_coordinate, y_coordinate = np.meshgrid(x_range, y_range)\n",
        "# print(x_coordinate)\n",
        "# print(y_coordinate)\n",
        "m = np.stack((x_coordinate.flatten(), y_coordinate.flatten()), axis = 1)\n",
        "# print(clf.predict(m))\n",
        "\n",
        "plt.contourf(x_coordinate, y_coordinate, clf.predict(m).reshape(x_coordinate.shape), cmap='Pastel1')\n",
        "plt.scatter(X,Y,c=iris.target, cmap=\"Pastel2\")\n"
      ],
      "metadata": {
        "id": "d83ZH45WGC28",
        "outputId": "9b257ba7-357e-4618-f0c5-a4c8fb520f5e",
        "colab": {
          "base_uri": "https://localhost:8080/",
          "height": 282
        }
      },
      "execution_count": 332,
      "outputs": [
        {
          "output_type": "execute_result",
          "data": {
            "text/plain": [
              "<matplotlib.collections.PathCollection at 0x7f0d22936750>"
            ]
          },
          "metadata": {},
          "execution_count": 332
        },
        {
          "output_type": "display_data",
          "data": {
            "text/plain": [
              "<Figure size 432x288 with 1 Axes>"
            ],
            "image/png": "[encoded data removed]"
          },
          "metadata": {
            "needs_background": "light"
          }
        }
      ]
    },
    {
      "cell_type": "markdown",
      "metadata": {
        "id": "yPoN9AYkwGTO"
      },
      "source": [
        "## 新聞分類"
      ]
    },
    {
      "cell_type": "code",
      "metadata": {
        "id": "GN-fZC-7t1QU"
      },
      "source": [
        "import pandas\n",
        "df = pandas.read_excel('https://raw.githubusercontent.com/ywchiu/tibame_tm/master/data/news.xlsx', index_col = 0)"
      ],
      "execution_count": 292,
      "outputs": []
    },
    {
      "cell_type": "code",
      "metadata": {
        "id": "frSyVVwlwKFO",
        "colab": {
          "base_uri": "https://localhost:8080/",
          "height": 684
        },
        "outputId": "c6400661-c8f4-4683-b017-c1e2ccf56262"
      },
      "source": [
        "df.head()"
      ],
      "execution_count": 293,
      "outputs": [
        {
          "output_type": "execute_result",
          "data": {
            "text/plain": [
              "  category                                            content  \\\n",
              "0       政治  新增：立委說法民進黨立法院黨團預計在明天的院會中，讓改制農田水利會的《農田水利會組織通則》修...   \n",
              "1       論壇  邱俊棠／台中市民、見習醫師；曾任台灣醫學生聯合會對外副會長對於公民參與公眾事務而能得到單位首...   \n",
              "2       社會  被控來台涉發展情報組織的中國學生周泓旭，因接觸我方外交部官員而露餡落網，今年9月被台北地院一...   \n",
              "3       生活  【廣編特輯】 對於全能神教會在中國所遭受的迫害與在韓國、香港及臺灣所面對的反面宣傳，非政府組...   \n",
              "4       生活  立法院交通委員會今審查《道路交通管理處罰條例》，通過營業大客車駕駛人行駛一般道路未繫安全帶，...   \n",
              "\n",
              "                                                link  \\\n",
              "0  https://tw.news.appledaily.com/politics/realti...   \n",
              "1  https://tw.news.appledaily.com/forum/realtime/...   \n",
              "2  https://tw.news.appledaily.com/local/realtime/...   \n",
              "3  https://tw.news.appledaily.com/life/realtime/2...   \n",
              "4  https://tw.news.appledaily.com/life/realtime/2...   \n",
              "\n",
              "                            title  \n",
              "0  【更新】水利會改官派明闖關　綠委24小時前顧議場大門防藍突襲  \n",
              "1               請中市府為所當為 加速中火燃煤限制  \n",
              "2              陸生共諜嗆台司法　「不敢公開審理我」  \n",
              "3             【特企】NGO聯名譴責中共迫害宗教信仰  \n",
              "4       乘客搭大客車不配合繫安全帶　立院初審通過可罰6千元  "
            ],
            "text/html": [
              "\n",
              "  <div id=\"df-84238dd0-9e87-405d-a865-3ab9e663accb\">\n",
              "    <div class=\"colab-df-container\">\n",
              "      <div>\n",
              "<style scoped>\n",
              "    .dataframe tbody tr th:only-of-type {\n",
              "        vertical-align: middle;\n",
              "    }\n",
              "\n",
              "    .dataframe tbody tr th {\n",
              "        vertical-align: top;\n",
              "    }\n",
              "\n",
              "    .dataframe thead th {\n",
              "        text-align: right;\n",
              "    }\n",
              "</style>\n",
              "<table border=\"1\" class=\"dataframe\">\n",
              "  <thead>\n",
              "    <tr style=\"text-align: right;\">\n",
              "      <th></th>\n",
              "      <th>category</th>\n",
              "      <th>content</th>\n",
              "      <th>link</th>\n",
              "      <th>title</th>\n",
              "    </tr>\n",
              "  </thead>\n",
              "  <tbody>\n",
              "    <tr>\n",
              "      <th>0</th>\n",
              "      <td>政治</td>\n",
              "      <td>新增：立委說法民進黨立法院黨團預計在明天的院會中，讓改制農田水利會的《農田水利會組織通則》修...</td>\n",
              "      <td>https://tw.news.appledaily.com/politics/realti...</td>\n",
              "      <td>【更新】水利會改官派明闖關　綠委24小時前顧議場大門防藍突襲</td>\n",
              "    </tr>\n",
              "    <tr>\n",
              "      <th>1</th>\n",
              "      <td>論壇</td>\n",
              "      <td>邱俊棠／台中市民、見習醫師；曾任台灣醫學生聯合會對外副會長對於公民參與公眾事務而能得到單位首...</td>\n",
              "      <td>https://tw.news.appledaily.com/forum/realtime/...</td>\n",
              "      <td>請中市府為所當為 加速中火燃煤限制</td>\n",
              "    </tr>\n",
              "    <tr>\n",
              "      <th>2</th>\n",
              "      <td>社會</td>\n",
              "      <td>被控來台涉發展情報組織的中國學生周泓旭，因接觸我方外交部官員而露餡落網，今年9月被台北地院一...</td>\n",
              "      <td>https://tw.news.appledaily.com/local/realtime/...</td>\n",
              "      <td>陸生共諜嗆台司法　「不敢公開審理我」</td>\n",
              "    </tr>\n",
              "    <tr>\n",
              "      <th>3</th>\n",
              "      <td>生活</td>\n",
              "      <td>【廣編特輯】 對於全能神教會在中國所遭受的迫害與在韓國、香港及臺灣所面對的反面宣傳，非政府組...</td>\n",
              "      <td>https://tw.news.appledaily.com/life/realtime/2...</td>\n",
              "      <td>【特企】NGO聯名譴責中共迫害宗教信仰</td>\n",
              "    </tr>\n",
              "    <tr>\n",
              "      <th>4</th>\n",
              "      <td>生活</td>\n",
              "      <td>立法院交通委員會今審查《道路交通管理處罰條例》，通過營業大客車駕駛人行駛一般道路未繫安全帶，...</td>\n",
              "      <td>https://tw.news.appledaily.com/life/realtime/2...</td>\n",
              "      <td>乘客搭大客車不配合繫安全帶　立院初審通過可罰6千元</td>\n",
              "    </tr>\n",
              "  </tbody>\n",
              "</table>\n",
              "</div>\n",
              "      <button class=\"colab-df-convert\" onclick=\"convertToInteractive('df-84238dd0-9e87-405d-a865-3ab9e663accb')\"\n",
              "              title=\"Convert this dataframe to an interactive table.\"\n",
              "              style=\"display:none;\">\n",
              "        \n",
              "  <svg xmlns=\"http://www.w3.org/2000/svg\" height=\"24px\"viewBox=\"0 0 24 24\"\n",
              "       width=\"24px\">\n",
              "    <path d=\"M0 0h24v24H0V0z\" fill=\"none\"/>\n",
              "    <path d=\"M18.56 5.44l.94 2.06.94-2.06 2.06-.94-2.06-.94-.94-2.06-.94 2.06-2.06.94zm-11 1L8.5 8.5l.94-2.06 2.06-.94-2.06-.94L8.5 2.5l-.94 2.06-2.06.94zm10 10l.94 2.06.94-2.06 2.06-.94-2.06-.94-.94-2.06-.94 2.06-2.06.94z\"/><path d=\"M17.41 7.96l-1.37-1.37c-.4-.4-.92-.59-1.43-.59-.52 0-1.04.2-1.43.59L10.3 9.45l-7.72 7.72c-.78.78-.78 2.05 0 2.83L4 21.41c.39.39.9.59 1.41.59.51 0 1.02-.2 1.41-.59l7.78-7.78 2.81-2.81c.8-.78.8-2.07 0-2.86zM5.41 20L4 18.59l7.72-7.72 1.47 1.35L5.41 20z\"/>\n",
              "  </svg>\n",
              "      </button>\n",
              "      \n",
              "  <style>\n",
              "    .colab-df-container {\n",
              "      display:flex;\n",
              "      flex-wrap:wrap;\n",
              "      gap: 12px;\n",
              "    }\n",
              "\n",
              "    .colab-df-convert {\n",
              "      background-color: #E8F0FE;\n",
              "      border: none;\n",
              "      border-radius: 50%;\n",
              "      cursor: pointer;\n",
              "      display: none;\n",
              "      fill: #1967D2;\n",
              "      height: 32px;\n",
              "      padding: 0 0 0 0;\n",
              "      width: 32px;\n",
              "    }\n",
              "\n",
              "    .colab-df-convert:hover {\n",
              "      background-color: #E2EBFA;\n",
              "      box-shadow: 0px 1px 2px rgba(60, 64, 67, 0.3), 0px 1px 3px 1px rgba(60, 64, 67, 0.15);\n",
              "      fill: #174EA6;\n",
              "    }\n",
              "\n",
              "    [theme=dark] .colab-df-convert {\n",
              "      background-color: #3B4455;\n",
              "      fill: #D2E3FC;\n",
              "    }\n",
              "\n",
              "    [theme=dark] .colab-df-convert:hover {\n",
              "      background-color: #434B5C;\n",
              "      box-shadow: 0px 1px 3px 1px rgba(0, 0, 0, 0.15);\n",
              "      filter: drop-shadow(0px 1px 2px rgba(0, 0, 0, 0.3));\n",
              "      fill: #FFFFFF;\n",
              "    }\n",
              "  </style>\n",
              "\n",
              "      <script>\n",
              "        const buttonEl =\n",
              "          document.querySelector('#df-84238dd0-9e87-405d-a865-3ab9e663accb button.colab-df-convert');\n",
              "        buttonEl.style.display =\n",
              "          google.colab.kernel.accessAllowed ? 'block' : 'none';\n",
              "\n",
              "        async function convertToInteractive(key) {\n",
              "          const element = document.querySelector('#df-84238dd0-9e87-405d-a865-3ab9e663accb');\n",
              "          const dataTable =\n",
              "            await google.colab.kernel.invokeFunction('convertToInteractive',\n",
              "                                                     [key], {});\n",
              "          if (!dataTable) return;\n",
              "\n",
              "          const docLinkHtml = 'Like what you see? Visit the ' +\n",
              "            '<a target=\"_blank\" href=https://colab.research.google.com/notebooks/data_table.ipynb>data table notebook</a>'\n",
              "            + ' to learn more about interactive tables.';\n",
              "          element.innerHTML = '';\n",
              "          dataTable['output_type'] = 'display_data';\n",
              "          await google.colab.output.renderOutput(dataTable, element);\n",
              "          const docLink = document.createElement('div');\n",
              "          docLink.innerHTML = docLinkHtml;\n",
              "          element.appendChild(docLink);\n",
              "        }\n",
              "      </script>\n",
              "    </div>\n",
              "  </div>\n",
              "  "
            ]
          },
          "metadata": {},
          "execution_count": 293
        }
      ]
    },
    {
      "cell_type": "code",
      "metadata": {
        "id": "znZInijrwLyx"
      },
      "source": [
        "import jieba\n",
        "corpus = []\n",
        "titles = []\n",
        "tags  = []\n",
        "\n",
        "for idx, rec in df[df['category'].isin(['娛樂','社會'])].iterrows():\n",
        "  corpus.append(' '.join(jieba.cut(rec.get('content'))))\n",
        "  titles.append(rec.get('title'))\n",
        "  tags.append(rec.get('category'))"
      ],
      "execution_count": 294,
      "outputs": []
    },
    {
      "cell_type": "code",
      "metadata": {
        "id": "GhogFuOiwvtS",
        "colab": {
          "base_uri": "https://localhost:8080/"
        },
        "outputId": "da8715c9-0a64-4305-94a5-0161d998e701"
      },
      "source": [
        "len(corpus)"
      ],
      "execution_count": 295,
      "outputs": [
        {
          "output_type": "execute_result",
          "data": {
            "text/plain": [
              "247"
            ]
          },
          "metadata": {},
          "execution_count": 295
        }
      ]
    },
    {
      "cell_type": "code",
      "metadata": {
        "id": "rtvEaCHZwyz3",
        "colab": {
          "base_uri": "https://localhost:8080/"
        },
        "outputId": "1dfdbeb1-b1c2-4fb4-fb37-e0f5053db8f6"
      },
      "source": [
        "from collections import Counter\n",
        "c = Counter(tags)\n",
        "c"
      ],
      "execution_count": 296,
      "outputs": [
        {
          "output_type": "execute_result",
          "data": {
            "text/plain": [
              "Counter({'社會': 146, '娛樂': 101})"
            ]
          },
          "metadata": {},
          "execution_count": 296
        }
      ]
    },
    {
      "cell_type": "code",
      "metadata": {
        "id": "NyT97gTew5ru"
      },
      "source": [
        "from sklearn.feature_extraction.text import TfidfVectorizer\n",
        "vectorizer = TfidfVectorizer()\n",
        "tfidf = vectorizer.fit_transform(corpus)"
      ],
      "execution_count": 297,
      "outputs": []
    },
    {
      "cell_type": "code",
      "metadata": {
        "id": "lS792_TGxLAT",
        "colab": {
          "base_uri": "https://localhost:8080/"
        },
        "outputId": "634e761c-07dc-461a-8de2-aabafc0db67c"
      },
      "source": [
        "tfidf"
      ],
      "execution_count": 298,
      "outputs": [
        {
          "output_type": "execute_result",
          "data": {
            "text/plain": [
              "<247x13883 sparse matrix of type '<class 'numpy.float64'>'\n",
              "\twith 32161 stored elements in Compressed Sparse Row format>"
            ]
          },
          "metadata": {},
          "execution_count": 298
        }
      ]
    },
    {
      "cell_type": "code",
      "metadata": {
        "id": "oqWQDfFmxMgk"
      },
      "source": [
        "X = tfidf\n",
        "y = tags"
      ],
      "execution_count": 299,
      "outputs": []
    },
    {
      "cell_type": "code",
      "metadata": {
        "id": "LBCRX9NLxW3S"
      },
      "source": [
        "from sklearn.model_selection import train_test_split\n",
        "train_X, test_X, train_y, test_y, train_titles, test_titles = train_test_split(X, y, titles, test_size = 0.2, random_state = 42)"
      ],
      "execution_count": 300,
      "outputs": []
    },
    {
      "cell_type": "code",
      "metadata": {
        "id": "nyuJlPXNxuFS",
        "colab": {
          "base_uri": "https://localhost:8080/"
        },
        "outputId": "76efcec1-237f-4549-bfff-fe01440cccbc"
      },
      "source": [
        "train_X.shape"
      ],
      "execution_count": 301,
      "outputs": [
        {
          "output_type": "execute_result",
          "data": {
            "text/plain": [
              "(197, 13883)"
            ]
          },
          "metadata": {},
          "execution_count": 301
        }
      ]
    },
    {
      "cell_type": "code",
      "metadata": {
        "id": "XaSLvzQnxvS5",
        "colab": {
          "base_uri": "https://localhost:8080/"
        },
        "outputId": "78056cd3-343b-4604-cf28-d7ed708416dc"
      },
      "source": [
        "test_X.shape"
      ],
      "execution_count": 302,
      "outputs": [
        {
          "output_type": "execute_result",
          "data": {
            "text/plain": [
              "(50, 13883)"
            ]
          },
          "metadata": {},
          "execution_count": 302
        }
      ]
    },
    {
      "cell_type": "code",
      "metadata": {
        "id": "8UhHd9DXxxtA",
        "colab": {
          "base_uri": "https://localhost:8080/"
        },
        "outputId": "ce531911-54f7-4ba5-d1b8-6df24448cc28"
      },
      "source": [
        "from sklearn.naive_bayes import MultinomialNB\n",
        "clf = MultinomialNB(alpha = 0.01)\n",
        "clf.fit(train_X, train_y)"
      ],
      "execution_count": 303,
      "outputs": [
        {
          "output_type": "execute_result",
          "data": {
            "text/plain": [
              "MultinomialNB(alpha=0.01)"
            ]
          },
          "metadata": {},
          "execution_count": 303
        }
      ]
    },
    {
      "cell_type": "code",
      "metadata": {
        "id": "iCOqG5f_yQSt"
      },
      "source": [
        "pred_y = clf.predict(test_X)"
      ],
      "execution_count": 304,
      "outputs": []
    },
    {
      "cell_type": "code",
      "metadata": {
        "id": "5ZnbUKftybO0",
        "colab": {
          "base_uri": "https://localhost:8080/"
        },
        "outputId": "4df7dc6d-fd39-4f1a-cda5-abb5795ff6cc"
      },
      "source": [
        "(pred_y == test_y).sum() / len(pred_y)"
      ],
      "execution_count": 305,
      "outputs": [
        {
          "output_type": "execute_result",
          "data": {
            "text/plain": [
              "1.0"
            ]
          },
          "metadata": {},
          "execution_count": 305
        }
      ]
    },
    {
      "cell_type": "code",
      "metadata": {
        "id": "2vLQ5tNAylYW",
        "colab": {
          "base_uri": "https://localhost:8080/"
        },
        "outputId": "55080b9d-b64c-4f54-f5df-6af256f51dd7"
      },
      "source": [
        "from sklearn.metrics import accuracy_score\n",
        "accuracy_score(test_y, pred_y)"
      ],
      "execution_count": 306,
      "outputs": [
        {
          "output_type": "execute_result",
          "data": {
            "text/plain": [
              "1.0"
            ]
          },
          "metadata": {},
          "execution_count": 306
        }
      ]
    },
    {
      "cell_type": "code",
      "metadata": {
        "id": "m31NPQtly5P5",
        "colab": {
          "base_uri": "https://localhost:8080/"
        },
        "outputId": "cf49e0a5-d950-44d4-ba4f-e6c81ac85be5"
      },
      "source": [
        "from sklearn.metrics import confusion_matrix\n",
        "print(clf.classes_)\n",
        "confusion_matrix(test_y, pred_y)"
      ],
      "execution_count": 307,
      "outputs": [
        {
          "output_type": "stream",
          "name": "stdout",
          "text": [
            "['娛樂' '社會']\n"
          ]
        },
        {
          "output_type": "execute_result",
          "data": {
            "text/plain": [
              "array([[22,  0],\n",
              "       [ 0, 28]])"
            ]
          },
          "metadata": {},
          "execution_count": 307
        }
      ]
    },
    {
      "cell_type": "code",
      "metadata": {
        "id": "pHxeD10BzgkZ",
        "colab": {
          "base_uri": "https://localhost:8080/"
        },
        "outputId": "094f9655-abcc-4970-efe9-932c83e28478"
      },
      "source": [
        "# 留存  流失\n",
        "#[[900, 100\n",
        "#  100, 100]]\n",
        "\n",
        "500 * 24 * 100"
      ],
      "execution_count": 308,
      "outputs": [
        {
          "output_type": "execute_result",
          "data": {
            "text/plain": [
              "1200000"
            ]
          },
          "metadata": {},
          "execution_count": 308
        }
      ]
    },
    {
      "cell_type": "code",
      "metadata": {
        "id": "aaiicm_o0qEv",
        "colab": {
          "base_uri": "https://localhost:8080/"
        },
        "outputId": "b9988550-d64b-48b3-9349-6870ff48829e"
      },
      "source": [
        "2000 * 100"
      ],
      "execution_count": 309,
      "outputs": [
        {
          "output_type": "execute_result",
          "data": {
            "text/plain": [
              "200000"
            ]
          },
          "metadata": {},
          "execution_count": 309
        }
      ]
    },
    {
      "cell_type": "code",
      "metadata": {
        "id": "MLoaXIGv02yY"
      },
      "source": [
        "import jieba\n",
        "corpus = []\n",
        "titles = []\n",
        "tags  = []\n",
        "\n",
        "for idx, rec in df[df['category'].isin(['娛樂','社會', '政治'])].iterrows():\n",
        "  corpus.append(' '.join(jieba.cut(rec.get('content'))))\n",
        "  titles.append(rec.get('title'))\n",
        "  tags.append(rec.get('category'))"
      ],
      "execution_count": 310,
      "outputs": []
    },
    {
      "cell_type": "code",
      "metadata": {
        "id": "248SNJwV1G0c",
        "colab": {
          "base_uri": "https://localhost:8080/"
        },
        "outputId": "36da1546-5bc7-49c8-ee6b-b26b1bc3a569"
      },
      "source": [
        "from collections import Counter\n",
        "c = Counter(tags)\n",
        "c"
      ],
      "execution_count": 311,
      "outputs": [
        {
          "output_type": "execute_result",
          "data": {
            "text/plain": [
              "Counter({'政治': 84, '社會': 146, '娛樂': 101})"
            ]
          },
          "metadata": {},
          "execution_count": 311
        }
      ]
    },
    {
      "cell_type": "code",
      "metadata": {
        "id": "FEJXrSE41J1u"
      },
      "source": [
        "from sklearn.feature_extraction.text import TfidfVectorizer\n",
        "vectorizer = TfidfVectorizer()\n",
        "tfidf = vectorizer.fit_transform(corpus)"
      ],
      "execution_count": 312,
      "outputs": []
    },
    {
      "cell_type": "code",
      "metadata": {
        "id": "d5ECk8fI1YEt"
      },
      "source": [
        "X = tfidf\n",
        "y = tags"
      ],
      "execution_count": 313,
      "outputs": []
    },
    {
      "cell_type": "code",
      "metadata": {
        "id": "3ySFsGBp1REU"
      },
      "source": [
        "from sklearn.model_selection import train_test_split\n",
        "train_X, test_X, train_y, test_y, train_titles, test_titles = train_test_split(X, y, titles, test_size = 0.2, random_state = 42)"
      ],
      "execution_count": 314,
      "outputs": []
    },
    {
      "cell_type": "code",
      "metadata": {
        "id": "1WWU27HW1Nc5",
        "colab": {
          "base_uri": "https://localhost:8080/"
        },
        "outputId": "f52a036b-0a8e-4130-aa2b-383fe63a4b38"
      },
      "source": [
        "from sklearn.naive_bayes import MultinomialNB\n",
        "clf = MultinomialNB(alpha = 0.01)\n",
        "clf.fit(train_X, train_y)"
      ],
      "execution_count": 315,
      "outputs": [
        {
          "output_type": "execute_result",
          "data": {
            "text/plain": [
              "MultinomialNB(alpha=0.01)"
            ]
          },
          "metadata": {},
          "execution_count": 315
        }
      ]
    },
    {
      "cell_type": "code",
      "metadata": {
        "id": "gar_zmOd1T44"
      },
      "source": [
        "pred_y = clf.predict(test_X)"
      ],
      "execution_count": 316,
      "outputs": []
    },
    {
      "cell_type": "code",
      "metadata": {
        "id": "PQ5X3o1D1frQ",
        "colab": {
          "base_uri": "https://localhost:8080/"
        },
        "outputId": "df45d530-f7ef-488e-b2db-5fd73ef5ea60"
      },
      "source": [
        "from sklearn.metrics import accuracy_score\n",
        "accuracy_score(test_y, pred_y)"
      ],
      "execution_count": 317,
      "outputs": [
        {
          "output_type": "execute_result",
          "data": {
            "text/plain": [
              "0.9552238805970149"
            ]
          },
          "metadata": {},
          "execution_count": 317
        }
      ]
    },
    {
      "cell_type": "code",
      "metadata": {
        "id": "rm6r2jZa1iKx",
        "colab": {
          "base_uri": "https://localhost:8080/"
        },
        "outputId": "fd0172fd-040e-467b-ca8f-0b27bfc3d714"
      },
      "source": [
        "from sklearn.metrics import confusion_matrix\n",
        "print(clf.classes_)\n",
        "confusion_matrix(test_y, pred_y)"
      ],
      "execution_count": 318,
      "outputs": [
        {
          "output_type": "stream",
          "name": "stdout",
          "text": [
            "['娛樂' '政治' '社會']\n"
          ]
        },
        {
          "output_type": "execute_result",
          "data": {
            "text/plain": [
              "array([[23,  1,  0],\n",
              "       [ 0, 18,  0],\n",
              "       [ 1,  1, 23]])"
            ]
          },
          "metadata": {},
          "execution_count": 318
        }
      ]
    },
    {
      "cell_type": "code",
      "metadata": {
        "id": "Wa4PJONA1yNC"
      },
      "source": [
        "np_titles = np.array(test_titles)"
      ],
      "execution_count": 319,
      "outputs": []
    },
    {
      "cell_type": "code",
      "metadata": {
        "id": "8ISTWRf61oep",
        "colab": {
          "base_uri": "https://localhost:8080/"
        },
        "outputId": "ba64f0ae-0135-4f0e-a6b2-30aa9d9cb806"
      },
      "source": [
        "test_y != pred_y"
      ],
      "execution_count": 320,
      "outputs": [
        {
          "output_type": "execute_result",
          "data": {
            "text/plain": [
              "array([False, False, False, False, False, False, False, False, False,\n",
              "       False, False, False, False, False, False, False, False, False,\n",
              "        True, False, False, False, False, False, False, False, False,\n",
              "       False, False, False, False, False, False, False, False, False,\n",
              "        True, False, False,  True, False, False, False, False, False,\n",
              "       False, False, False, False, False, False, False, False, False,\n",
              "       False, False, False, False, False, False, False, False, False,\n",
              "       False, False, False, False])"
            ]
          },
          "metadata": {},
          "execution_count": 320
        }
      ]
    },
    {
      "cell_type": "code",
      "metadata": {
        "id": "UBbzRipb1vlb",
        "colab": {
          "base_uri": "https://localhost:8080/"
        },
        "outputId": "eada14cc-0e5a-4e66-f196-9c6c991e6355"
      },
      "source": [
        "np_titles[test_y != pred_y]"
      ],
      "execution_count": 321,
      "outputs": [
        {
          "output_type": "execute_result",
          "data": {
            "text/plain": [
              "array(['《殺人回憶》懸案上銀幕\\u3000領宋康昊登影帝寶座', '蘇花坍方搶修進行順利\\u3000延長通行時段紓解交通',\n",
              "       '小心！在美結婚台灣沒登記\\u3000偷腥照樣能捉姦'], dtype='<U36')"
            ]
          },
          "metadata": {},
          "execution_count": 321
        }
      ]
    },
    {
      "cell_type": "code",
      "metadata": {
        "id": "L2UpI7AT14hE",
        "colab": {
          "base_uri": "https://localhost:8080/"
        },
        "outputId": "29af88c9-7938-4f0d-d783-b991ea03d744"
      },
      "source": [
        "np_test_y = np.array(test_y)\n",
        "np_test_y[test_y != pred_y]"
      ],
      "execution_count": 322,
      "outputs": [
        {
          "output_type": "execute_result",
          "data": {
            "text/plain": [
              "array(['娛樂', '社會', '社會'], dtype='<U2')"
            ]
          },
          "metadata": {},
          "execution_count": 322
        }
      ]
    },
    {
      "cell_type": "code",
      "metadata": {
        "id": "VpbpLQbJ1-9B",
        "colab": {
          "base_uri": "https://localhost:8080/"
        },
        "outputId": "cb3b798a-403e-46f1-8fdf-00b9f2747ebb"
      },
      "source": [
        "pred_y[test_y != pred_y]"
      ],
      "execution_count": 323,
      "outputs": [
        {
          "output_type": "execute_result",
          "data": {
            "text/plain": [
              "array(['政治', '政治', '娛樂'], dtype='<U2')"
            ]
          },
          "metadata": {},
          "execution_count": 323
        }
      ]
    },
    {
      "cell_type": "code",
      "metadata": {
        "id": "8bM2FbsL2OIw"
      },
      "source": [
        "news = \"\"\"\n",
        "今上午罷韓四君子包括罷韓連署領銜人陳冠榮、Wecare高雄發言人尹立、公民割草行動發言人李佾潔及台灣基進黨新聞輿情部主任張博洋，在6月6日罷韓投票結束後首度合體現身，高呼「罷韓成果、投票堅守」。尹立特別指出，原對補選並未發表太多意見，是昨看到韓市府前團隊現身幫李眉蓁助選，連韓國瑜都盛傳選前之夜要現身，他們必須站出來捍衛罷韓後所彰顯的民主價值。\n",
        "\n",
        "陳冠榮說，世界政經局勢過去兩年急遽變化，但高雄重心放錯只是在鋪路、清水溝及爬樹，罷韓投票光復高雄是把不珍惜、不重視高雄未來的市長手上主權，從他身上拿回來還給人民，過去韓粉狹整個高市府威嚇高雄市民，高雄在政治流氓操弄下一無是處，沒想到中國國民黨未記取韓國瑜教訓，一樣推出草包候選人，韓粉更想「借體還魂附身在李眉蓁身上，試圖重拾他們過去的光榮。」\n",
        "\n",
        "他說今天罷韓四君子再次合體就是要呼籲高雄市民勇敢站出來，行使自己主權，用自己理智、腦袋與眼睛去檢視所有候選人的言行，讓高雄選出一個更正確的市長，迎頭趕上過去兩年失落的腳步。\n",
        "\n",
        "尹力則坦言今又站出來感慨很深，韓市府團隊各局處當時種種打壓罷免投票行動歷歷在目，「結果昨天他們還有臉站出來，六月六日被超過93萬高雄市民否定的團隊竟然又回來了，真的是把高雄人當塑膠，還是當成紙紮的？」\n",
        "\n",
        "尹立強調，看到韓前團隊過去荒腔走板，選前之夜韓國瑜又要出來幫李眉蓁站台，「這些作為真的是不斷打臉高雄人，過去批高雄又老又窮、摩天輪、挖石油，結果李眉蓁提蘭姆酒、海水沖馬桶等政見，不只是把高雄人當成又老又窮，是把我們當成蠢的是不是？」\n",
        "\n",
        "對李眉蓁近日所提政見，尹立直批，「提這種事沒有任何概念、論述、策略與方法，高雄人就是這樣給你侮辱嗎？」他呼籲所有高雄人，8月15日是大家歷經千辛萬苦爭取來的，「要珍惜手上的選票，珍惜這個機會，必須讓唬爛團隊、不重視高雄的團隊徹底離開高雄。」\n",
        "\n",
        "李佾潔則說，原期待國民黨能提出更符合高雄市民需求與未來發展的候選人，「結果李眉蓁100%完美承襲韓前市長草包風格，就好像一個學生96%抄襲，連操行都不及格還要選他當班長嗎？」\n",
        "\n",
        "李佾潔重批李眉蓁就是這樣的一個零分的候選人，結果還找了零分的局處首長來助選，這就是藐視、忽視高雄人的鐵證，把高雄人當笨蛋，市民若感到生氣不滿，8月15日一定要站出來投票支持陳其邁，出來投票讓國民黨得到真正的教訓，不要再讓零分團隊回來丟高雄人的臉。\n",
        "\n",
        "張博洋則嘲諷罷韓投票後曾說歡迎韓市長以公民身分回高雄玩，「沒想到前市府團隊玩到記者會上，韓市長還可能玩到造勢晚會，這樣子的玩就玩得太超過了！」他說罷韓四君子會一再為對抗韓國瑜站出來，也呼籲市民也要為高雄再勇敢一次。\n",
        "\n",
        "張博洋更指出，從只喊得出愛情摩天輪、賽車、賽馬的韓前市長、提出蘭姆酒、海水沖馬桶政見的李眉蓁，到能夠為這一切背書中國國民黨中央、高市議會黨團，「國民黨如今只能用一句話形容，就是結構性的草包、結構性的卡高雄！」呼籲每位市民出來投票，不用因自己的心軟、善意成為國民黨吃定高雄人最好的理由。\n",
        "\n",
        "記者會後罷韓四君子以招牌的四人合體雙手交叉姿態，高喊「罷韓成果、投票堅守」，呼籲高雄市民8月15日當天一定要出來投票，捍衛罷韓投票所彰顯的民主價值，隨後陳冠榮和張博洋則站上宣傳車在市區掃街，訴求「罷韓成果不辜負、光榮投票來守護！」\n",
        "\"\"\""
      ],
      "execution_count": 324,
      "outputs": []
    },
    {
      "cell_type": "code",
      "metadata": {
        "id": "dRNioPRm2vy0"
      },
      "source": [
        "news_seg = ' '.join(jieba.cut(news))"
      ],
      "execution_count": 325,
      "outputs": []
    },
    {
      "cell_type": "code",
      "metadata": {
        "id": "DLxUiP-923GD"
      },
      "source": [
        "news_vec = vectorizer.transform([news_seg])"
      ],
      "execution_count": 326,
      "outputs": []
    },
    {
      "cell_type": "code",
      "metadata": {
        "id": "ZP8g0Cr-29KA",
        "colab": {
          "base_uri": "https://localhost:8080/"
        },
        "outputId": "72c43320-7d55-4667-a052-7a6cab3396d8"
      },
      "source": [
        "news_vec"
      ],
      "execution_count": 327,
      "outputs": [
        {
          "output_type": "execute_result",
          "data": {
            "text/plain": [
              "<1x18689 sparse matrix of type '<class 'numpy.float64'>'\n",
              "\twith 178 stored elements in Compressed Sparse Row format>"
            ]
          },
          "metadata": {},
          "execution_count": 327
        }
      ]
    },
    {
      "cell_type": "code",
      "metadata": {
        "id": "njK11RgQ29xc",
        "colab": {
          "base_uri": "https://localhost:8080/"
        },
        "outputId": "70ddfe6b-dc7a-4550-c884-0b4cd893f995"
      },
      "source": [
        "clf.predict(news_vec)"
      ],
      "execution_count": 328,
      "outputs": [
        {
          "output_type": "execute_result",
          "data": {
            "text/plain": [
              "array(['政治'], dtype='<U2')"
            ]
          },
          "metadata": {},
          "execution_count": 328
        }
      ]
    },
    {
      "cell_type": "code",
      "metadata": {
        "id": "Wm85-CuC3CGQ"
      },
      "source": [],
      "execution_count": 328,
      "outputs": []
    },
    {
      "cell_type": "markdown",
      "source": [
        "###Practice"
      ],
      "metadata": {
        "id": "yWQ5FIpl159w"
      }
    },
    {
      "cell_type": "code",
      "source": [
        "import pandas as pd\n",
        "\n",
        "df = pd.read_excel('https://raw.githubusercontent.com/ywchiu/tibame_tm/master/data/news.xlsx', index_col = 0)"
      ],
      "metadata": {
        "id": "vZAfPlOr17Nc"
      },
      "execution_count": 349,
      "outputs": []
    },
    {
      "cell_type": "code",
      "source": [
        "import jieba as jb\n",
        "corpus = []\n",
        "for idx, item in df.iterrows():\n",
        "  corpus.append(\" \".join([w for w in jb.lcut(item.get('content')) if len(w) >= 2]))"
      ],
      "metadata": {
        "id": "NuV1x4F02a4v"
      },
      "execution_count": 362,
      "outputs": []
    },
    {
      "cell_type": "code",
      "source": [
        "titles = []\n",
        "for idx, item in df.iterrows():\n",
        "  titles.append(item.get('title'))\n",
        "print(titles)"
      ],
      "metadata": {
        "id": "luIuaWiL3PaH"
      },
      "execution_count": null,
      "outputs": []
    },
    {
      "cell_type": "code",
      "source": [
        "tags = []\n",
        "for idx, item in df.iterrows():\n",
        "  tags.append(item.get('category'))\n",
        "print(tags)"
      ],
      "metadata": {
        "id": "b09M6jBb542B"
      },
      "execution_count": null,
      "outputs": []
    },
    {
      "cell_type": "code",
      "source": [
        "from sklearn.feature_extraction.text import TfidfVectorizer\n",
        "vectorizer = TfidfVectorizer()\n",
        "vec = vectorizer.fit_transform(corpus)"
      ],
      "metadata": {
        "id": "HTSeGAKR4UgQ"
      },
      "execution_count": null,
      "outputs": []
    },
    {
      "cell_type": "code",
      "source": [
        "from sklearn.naive_bayes import MultinomialNB\n",
        "from sklearn.model_selection import train_test_split\n",
        "\n",
        "X = vectorizer.transform(corpus)\n",
        "Y = tags\n",
        "\n",
        "train_x, test_x, train_y, test_y, train_titles, test_titles = train_test_split(X, Y, titles, test_size=0.2, random_state = 42)"
      ],
      "metadata": {
        "id": "KpzNpFSu6_i-"
      },
      "execution_count": 412,
      "outputs": []
    },
    {
      "cell_type": "code",
      "source": [
        "clf = MultinomialNB(alpha=0.01)\n",
        "clf.fit(train_x, train_y)"
      ],
      "metadata": {
        "id": "XcATxfBS_c4F",
        "outputId": "e95e4b89-4c20-4aa9-a615-fc2c224a78a3",
        "colab": {
          "base_uri": "https://localhost:8080/"
        }
      },
      "execution_count": 413,
      "outputs": [
        {
          "output_type": "execute_result",
          "data": {
            "text/plain": [
              "MultinomialNB(alpha=0.01)"
            ]
          },
          "metadata": {},
          "execution_count": 413
        }
      ]
    },
    {
      "cell_type": "code",
      "source": [
        "predict_y = clf.predict(test_x)\n",
        "\n",
        "accuracy = (predict_y == test_y).sum()/len(predict_y)\n",
        "print(accuracy)\n"
      ],
      "metadata": {
        "id": "S2OMieHjAOPj",
        "outputId": "8f92605d-93d1-44c6-9976-513653128a22",
        "colab": {
          "base_uri": "https://localhost:8080/"
        }
      },
      "execution_count": 414,
      "outputs": [
        {
          "output_type": "stream",
          "name": "stdout",
          "text": [
            "0.8055555555555556\n"
          ]
        }
      ]
    },
    {
      "cell_type": "code",
      "source": [
        "from sklearn.metrics import accuracy_score\n",
        "accuracy_score(test_y, predict_y)"
      ],
      "metadata": {
        "id": "aiCXelrC_w0X",
        "outputId": "084e2bed-214c-4f6a-8267-884340bc2bc2",
        "colab": {
          "base_uri": "https://localhost:8080/"
        }
      },
      "execution_count": 415,
      "outputs": [
        {
          "output_type": "execute_result",
          "data": {
            "text/plain": [
              "0.8055555555555556"
            ]
          },
          "metadata": {},
          "execution_count": 415
        }
      ]
    },
    {
      "cell_type": "code",
      "source": [
        "from sklearn.metrics import confusion_matrix\n",
        "# print(clf.classes_)\n",
        "confusion_matrix(test_y, predict_y)"
      ],
      "metadata": {
        "id": "qxenCR1XAdMn",
        "outputId": "eaacc231-9256-4921-8678-ac88d3e60563",
        "colab": {
          "base_uri": "https://localhost:8080/"
        }
      },
      "execution_count": 416,
      "outputs": [
        {
          "output_type": "execute_result",
          "data": {
            "text/plain": [
              "array([[ 2,  0,  0,  0,  0,  1,  0,  0,  0,  0,  1,  0],\n",
              "       [ 1,  2,  0,  0,  0,  0,  0,  0,  0,  0,  0,  0],\n",
              "       [ 0,  0,  3,  0,  0,  0,  0,  0,  0,  0,  0,  0],\n",
              "       [ 1,  2,  0, 23,  0,  2,  0,  0,  3,  0,  1,  0],\n",
              "       [ 0,  0,  0,  0,  0,  0,  0,  1,  0,  0,  0,  0],\n",
              "       [ 2,  0,  0,  1,  0, 16,  0,  0,  0,  0,  1,  0],\n",
              "       [ 0,  0,  0,  0,  0,  0, 13,  0,  0,  0,  0,  0],\n",
              "       [ 0,  0,  0,  0,  0,  1,  2, 16,  0,  3,  1,  0],\n",
              "       [ 0,  0,  0,  0,  0,  0,  2,  1, 32,  1,  0,  0],\n",
              "       [ 0,  0,  0,  0,  0,  0,  1,  0,  0,  7,  0,  0],\n",
              "       [ 1,  0,  0,  0,  0,  0,  1,  1,  0,  1, 21,  1],\n",
              "       [ 0,  0,  0,  0,  0,  0,  0,  1,  0,  0,  0, 10]])"
            ]
          },
          "metadata": {},
          "execution_count": 416
        }
      ]
    },
    {
      "cell_type": "code",
      "source": [
        "np_titles = np.array(test_titles)\n",
        "np_titles[test_y != predict_y]"
      ],
      "metadata": {
        "id": "GhsEnv2mA8fv",
        "outputId": "c49b0f70-ee24-4cb1-b428-4b7137b25849",
        "colab": {
          "base_uri": "https://localhost:8080/"
        }
      },
      "execution_count": 417,
      "outputs": [
        {
          "output_type": "execute_result",
          "data": {
            "text/plain": [
              "array(['日本數位音響先鋒\\u3000CD之父中島平太郎病逝', '【霸氣貼背】「這是我們的夢幻車款」！Kia新車北美試駕超給力',\n",
              "       '三中案馬英九圖利中時老闆？\\u3000北檢：不評論', '奧斯卡名導再爆性侵案\\u3000拍10歲女童裸照遭警方調查',\n",
              "       '好重要！喝優酪乳助排便\\u3000專家：但救不了便祕', '蘇花坍方搶修進行順利\\u3000延長通行時段紓解交通',\n",
              "       'Google美國熱搜排行榜\\u3000林書豪髮型最熱門', '癲癇者爭取考駕上路！月底開會\\u3000醫：不敢保證不會發作',\n",
              "       '借國寶給外國辦展未獲回饋？故宮：目的是推介故宮', '560%容積爭議\\u3000威京：只是拿回應有的',\n",
              "       '遠銀資安漏洞\\u3000顧立雄：不改善處分不只這樣', 'FENDI蕾絲裝透酥胸\\u3000長澤雅美3億珠寶閃爆',\n",
              "       '淘汰「高污染」老車\\u3000搭公共運輸擬補助', 'friDay影音攜手ELEVEN體育家族\\u3000直播多元賽事',\n",
              "       '玉熊爬上台北101\\u3000林曉同珠寶浪漫極了', '雲林縣長選舉沒有更好的人選嗎？',\n",
              "       '律師不甘「鑽狗洞」推倒總統安檢門\\u3000法官判有理', '維密超模、網紅搶獻吻\\u3000施華洛世奇「熊」吸睛',\n",
              "       '【測撞片】美國IIHS公布15款最安全車\\u300010款國內有售',\n",
              "       '【恐怖片】為拿手機衝回火場\\u3000工人變「火人」重傷', '【暖心片】袋熊媽被撞死\\u3000母屍拉出倖存寶寶',\n",
              "       '古剎住持私奔女尼生兒女\\u3000更扯！他還是殺人逃犯', '【壹週刊】百億貸款將到期\\u3000柯P放容積解套京華城',\n",
              "       '10公里免費！台灣代駕APP供企業3萬人體驗', '【慶富案】曾銘宗爆金管會被施壓\\u3000碰到花媽就失靈',\n",
              "       '證交所宣導資安\\u3000「DDoS防駭遊戲王」桌遊免費送', '人妻外遇先殺老公\\u3000再毀容小王調包丈夫',\n",
              "       '女歌手爆乳灑奶吃香蕉\\u3000被批意淫遭判關2年', '余光中不適住院\\u3000校方：老師人很好請放心',\n",
              "       '體協個人會員申請20日截止\\u3000足球羽球最熱門', '【家破妻散】武術教練開刀成殘\\u3000告醫5年終勝訴',\n",
              "       '台戰豪砸40萬抽寶一場空\\u3000怒批《天堂M》根本錢坑',\n",
              "       '《蘋果好玩ING》揮光劍打怪\\u3000直播\\u200b《星戰8》VR遊戲', '「教育金驢獎」\\u3000全教總頒給賴清德',\n",
              "       '買棵真聖誕樹過節吧！行家教你如何保鮮'], dtype='<U33')"
            ]
          },
          "metadata": {},
          "execution_count": 417
        }
      ]
    },
    {
      "cell_type": "code",
      "source": [
        "np_test_y = np.array(test_y)\n",
        "np_test_y[test_y != predict_y]"
      ],
      "metadata": {
        "id": "WXgbiKm5CM-C",
        "outputId": "d9cdde33-dc95-4d7b-a379-861d773c1728",
        "colab": {
          "base_uri": "https://localhost:8080/"
        }
      },
      "execution_count": 418,
      "outputs": [
        {
          "output_type": "execute_result",
          "data": {
            "text/plain": [
              "array(['國際', '國際', '社會', '娛樂', '生活', '社會', '國際', '生活', '生活', '財經地產',\n",
              "       '財經地產', '娛樂', '生活', '財經地產', '娛樂', '論壇', '社會', '娛樂', '副刊', '國際',\n",
              "       '國際', '國際', '壹週刊', '生活', '財經地產', '財經地產', '國際', '國際', '生活', '體育',\n",
              "       '社會', '3C', '3C', '生活', '國際'], dtype='<U4')"
            ]
          },
          "metadata": {},
          "execution_count": 418
        }
      ]
    },
    {
      "cell_type": "code",
      "source": [
        "predict_y[test_y != predict_y]"
      ],
      "metadata": {
        "id": "K8jS7Hm4CY0Z",
        "outputId": "344f3412-c4fc-494d-89d3-1570925d5a4e",
        "colab": {
          "base_uri": "https://localhost:8080/"
        }
      },
      "execution_count": 419,
      "outputs": [
        {
          "output_type": "execute_result",
          "data": {
            "text/plain": [
              "array(['財經地產', '副刊', '政治', '國際', '論壇', '生活', '3C', '政治', '娛樂', '生活', '論壇',\n",
              "       '3C', '政治', '體育', '財經地產', '政治', '政治', '3C', '3C', '社會', '副刊', '社會',\n",
              "       '生活', '財經地產', '政治', '3C', '社會', '娛樂', '論壇', '生活', '論壇', '財經地產',\n",
              "       '娛樂', '論壇', '娛樂'], dtype='<U4')"
            ]
          },
          "metadata": {},
          "execution_count": 419
        }
      ]
    },
    {
      "cell_type": "code",
      "source": [
        "predict_news = \"\"\"台灣民眾黨新竹市長侯選人、立委高虹安遭質疑詐領立法院助理費，高虹安今天傳出因行程中身體不適，醫師診斷後安排注射點滴和進一步檢查，並留院休養。高虹安下午在臉書po出打點滴照片並報平安表示，「虹安一切平安，正在休養生息，這兩天減少行程數量，放慢腳步好好吃好好睡，補充體力再出發。」\"\"\""
      ],
      "metadata": {
        "id": "jwUd9vuIFJSM"
      },
      "execution_count": 428,
      "outputs": []
    },
    {
      "cell_type": "code",
      "source": [
        "predict_corpus = []\n",
        "predict_corpus.append(\" \".join([w for w in jb.lcut(predict_news) if len(w)>=2]))\n",
        "predict_vec = vectorizer.transform(predict_corpus)\n",
        "clf.predict(predict_vec)"
      ],
      "metadata": {
        "id": "nzjt59lMFPej",
        "outputId": "bbdf3095-5934-48bd-93e2-c0f49ad6caf8",
        "colab": {
          "base_uri": "https://localhost:8080/"
        }
      },
      "execution_count": 429,
      "outputs": [
        {
          "output_type": "execute_result",
          "data": {
            "text/plain": [
              "array(['生活'], dtype='<U4')"
            ]
          },
          "metadata": {},
          "execution_count": 429
        }
      ]
    },
    {
      "cell_type": "code",
      "source": [],
      "metadata": {
        "id": "Nyv_eu1PFOpg"
      },
      "execution_count": null,
      "outputs": []
    }
  ]
}