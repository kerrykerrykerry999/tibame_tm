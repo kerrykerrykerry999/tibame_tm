{
  "cells": [
    {
      "cell_type": "markdown",
      "metadata": {
        "id": "view-in-github",
        "colab_type": "text"
      },
      "source": [
        "<a href=\"https://colab.research.google.com/github/kerrykerrykerry999/tibame_tm/blob/master/Practice_L1_%E6%92%B0%E5%AF%AB%E7%B6%B2%E8%B7%AF%E7%88%AC%E8%9F%B2%E6%90%9C%E9%9B%86%E5%95%86%E5%93%81%E8%A9%95%E8%AB%96.ipynb\" target=\"_parent\"><img src=\"https://colab.research.google.com/assets/colab-badge.svg\" alt=\"Open In Colab\"/></a>"
      ]
    },
    {
      "cell_type": "markdown",
      "metadata": {
        "id": "5vZkRQjJzVPZ"
      },
      "source": [
        "## 使用 GET"
      ]
    },
    {
      "cell_type": "code",
      "execution_count": null,
      "metadata": {
        "colab": {
          "base_uri": "https://localhost:8080/"
        },
        "id": "vP3_T4ldCvdN",
        "outputId": "16b6c3e4-7870-4194-8a29-81f923b25b82"
      },
      "outputs": [
        {
          "output_type": "stream",
          "name": "stdout",
          "text": [
            "<Response [403]>\n"
          ]
        }
      ],
      "source": [
        "import requests\n",
        "headers = {\n",
        "   'user-agent': 'Mozilla/5.0 (Windows NT 10.0; Win64; x64) AppleWebKit/537.36 (KHTML, like Gecko) Chrome/83.0.4103.116 Safari/537.36' \n",
        "}\n",
        "res = requests.get('https://www.mobile01.com/topiclist.php?f=180', headers = headers)\n",
        "print(res)\n",
        "#print(res.text)\n"
      ]
    },
    {
      "cell_type": "markdown",
      "source": [
        "####練習 **改user agent**"
      ],
      "metadata": {
        "id": "MN511g89Jp3O"
      }
    },
    {
      "cell_type": "code",
      "source": [
        "import requests\n",
        "headers = {\n",
        "    'user-agent' : 'Mozilla/5.0 (Windows NT 10.0; Win64; x64) AppleWebKit/537.36 (KHTML, like Gecko) Chrome/106.0.0.0 Safari/537.36'\n",
        "}\n",
        "res = requests.get('https://www.w3schools.com/html/html_blocks.asp', headers=headers)\n",
        "#print(res)\n",
        "print(res.text)"
      ],
      "metadata": {
        "id": "gJQHCddl_gVu"
      },
      "execution_count": null,
      "outputs": []
    },
    {
      "cell_type": "markdown",
      "metadata": {
        "id": "-zU9t8FvzY48"
      },
      "source": [
        "## 使用 POST"
      ]
    },
    {
      "cell_type": "code",
      "execution_count": null,
      "metadata": {
        "colab": {
          "base_uri": "https://localhost:8080/",
          "height": 34
        },
        "id": "7vdnNYPxDI0k",
        "outputId": "563ebb4f-c038-4abc-aa29-499ddd0671a0"
      },
      "outputs": [
        {
          "name": "stdout",
          "output_type": "stream",
          "text": [
            "<Response [200]>\n"
          ]
        }
      ],
      "source": [
        "import requests\n",
        "payload = {\n",
        "'SearchType': 'S', \n",
        "'Lang': 'TW', \n",
        "'StartStation': 'TaiPei', \n",
        "'EndStation': 'XinZhu', \n",
        "'OutWardSearchDate': '2020/07/02', \n",
        "'OutWardSearchTime': '19:00', \n",
        "'ReturnSearchDate': '2020/07/02', \n",
        "'ReturnSearchTime': '19:00'\n",
        "}\n",
        "res = requests.post('https://www.thsrc.com.tw/TimeTable/Search', headers = headers, data = payload)\n",
        "print(res)\n",
        "#print(res.json())"
      ]
    },
    {
      "cell_type": "markdown",
      "source": [
        "####練習 **台鐵**"
      ],
      "metadata": {
        "id": "iPanEdFpJvMF"
      }
    },
    {
      "cell_type": "code",
      "source": [
        "import requests\n",
        "headers = {\n",
        "   'user-agent': 'Mozilla/5.0 (Windows NT 10.0; Win64; x64) AppleWebKit/537.36 (KHTML, like Gecko) Chrome/83.0.4103.116 Safari/537.36' \n",
        "}\n",
        "request_url = 'https://www.railway.gov.tw/tra-tip-web/tip/tip001/tip112/querybytime'\n",
        "payload = {\n",
        "'_csrf': '9b70ed66-ff31-4a59-b7d2-0e4d5a90bb7c',\n",
        "'startStation': '1000-臺北',\n",
        "'endStation': '4220-臺南',\n",
        "'transfer': 'ONE',\n",
        "'rideDate': '2022/10/21',\n",
        "'startOrEndTime': 'true',\n",
        "'startTime': '00:00',\n",
        "'endTime': '23:59',\n",
        "'trainTypeList': 'ALL',\n",
        "'query':'查詢'\n",
        "}\n",
        "res = requests.post(request_url, headers=headers, data=payload)\n",
        "print(res)\n",
        "print(res.text)\n"
      ],
      "metadata": {
        "id": "Rc4Xew5RBvJs"
      },
      "execution_count": null,
      "outputs": []
    },
    {
      "cell_type": "markdown",
      "metadata": {
        "id": "suKynyBHzj5d"
      },
      "source": [
        "## 練習\n",
        "請試著找到哪個連結有包含PCHOME 商品價格?\n",
        "\n",
        "e.g. https://24h.pchome.com.tw/prod/DYAQ9Y-A900AEZZI"
      ]
    },
    {
      "cell_type": "markdown",
      "metadata": {
        "id": "aShaB7Tlz3f_"
      },
      "source": [
        "## 使用BeautifulSoup 解析頁面"
      ]
    },
    {
      "cell_type": "code",
      "execution_count": null,
      "metadata": {
        "colab": {
          "base_uri": "https://localhost:8080/",
          "height": 136
        },
        "id": "7LbDePzBzi9I",
        "outputId": "e9d5d598-e7e5-4a7c-8777-29d38f8ce709"
      },
      "outputs": [
        {
          "name": "stdout",
          "output_type": "stream",
          "text": [
            "\n",
            "\n",
            "Hello World\n",
            "This is link1\n",
            "This is link2\n",
            "\n",
            "\n"
          ]
        }
      ],
      "source": [
        "from bs4 import BeautifulSoup \n",
        "html_sample = ''' \n",
        "<html> \n",
        " <body> \n",
        " <h1 id=\"title\">Hello World</h1> \n",
        " <a href=\"#\" class=\"link\">This is link1</a> \n",
        " <a href=\"# link2\" class=\"link\">This is link2</a> \n",
        " </body> \n",
        " </html>'''\n",
        "\n",
        "soup = BeautifulSoup(html_sample, 'lxml')\n",
        "print(soup.text)\n"
      ]
    },
    {
      "cell_type": "code",
      "execution_count": null,
      "metadata": {
        "colab": {
          "base_uri": "https://localhost:8080/",
          "height": 34
        },
        "id": "TvX5iTkC0C0j",
        "outputId": "32455ba1-e647-44f1-fc39-80c5207767c0"
      },
      "outputs": [
        {
          "name": "stdout",
          "output_type": "stream",
          "text": [
            "<h1 id=\"title\">Hello World</h1>\n"
          ]
        }
      ],
      "source": [
        "soup = BeautifulSoup(html_sample, 'lxml') \n",
        "title = soup.select_one('h1') \n",
        "print(title)\n"
      ]
    },
    {
      "cell_type": "code",
      "execution_count": null,
      "metadata": {
        "colab": {
          "base_uri": "https://localhost:8080/",
          "height": 34
        },
        "id": "l4wOE7v-0LaQ",
        "outputId": "cb150d4c-c94e-4779-a877-863773d4f2e7"
      },
      "outputs": [
        {
          "name": "stdout",
          "output_type": "stream",
          "text": [
            "[<a class=\"link\" href=\"#\">This is link1</a>, <a class=\"link\" href=\"# link2\">This is link2</a>]\n"
          ]
        }
      ],
      "source": [
        "soup = BeautifulSoup(html_sample, 'lxml') \n",
        "alink = soup.select('a') \n",
        "print(alink)\n"
      ]
    },
    {
      "cell_type": "code",
      "execution_count": null,
      "metadata": {
        "colab": {
          "base_uri": "https://localhost:8080/",
          "height": 34
        },
        "id": "dQw6GeOo0N7N",
        "outputId": "2b23e4bb-8ef3-407d-d926-c68bd0b59db8"
      },
      "outputs": [
        {
          "name": "stdout",
          "output_type": "stream",
          "text": [
            "[<h1 id=\"title\">Hello World</h1>]\n"
          ]
        }
      ],
      "source": [
        "alink = soup.select('#title') \n",
        "print(alink)"
      ]
    },
    {
      "cell_type": "code",
      "execution_count": null,
      "metadata": {
        "colab": {
          "base_uri": "https://localhost:8080/",
          "height": 51
        },
        "id": "sgfnQnce0S9s",
        "outputId": "ea14d724-c5b6-4228-a3e4-45897b8652a5"
      },
      "outputs": [
        {
          "name": "stdout",
          "output_type": "stream",
          "text": [
            "<a class=\"link\" href=\"#\">This is link1</a>\n",
            "<a class=\"link\" href=\"# link2\">This is link2</a>\n"
          ]
        }
      ],
      "source": [
        "soup = BeautifulSoup(html_sample, 'lxml') \n",
        "for link in soup.select('.link'): \n",
        "    print(link)"
      ]
    },
    {
      "cell_type": "code",
      "execution_count": 67,
      "metadata": {
        "colab": {
          "base_uri": "https://localhost:8080/"
        },
        "id": "3sn3V2uD0Xpv",
        "outputId": "1efa1c67-a1bb-486b-97ea-19ba98709e98"
      },
      "outputs": [
        {
          "output_type": "stream",
          "name": "stdout",
          "text": [
            "<a href=\"https://support.cloudflare.com/hc/articles/360029779472-Troubleshooting-Cloudflare-1XXX-errors?utm_source=1020_error#error1020\" rel=\"noopener noreferrer\" target=\"_blank\">Troubleshooting guide</a>\n",
            "https://support.cloudflare.com/hc/articles/360029779472-Troubleshooting-Cloudflare-1XXX-errors?utm_source=1020_error#error1020\n",
            "<a href=\"https://www.cloudflare.com?utm_source=1020_error\" rel=\"noopener noreferrer\" target=\"_blank\">Cloudflare</a>\n",
            "https://www.cloudflare.com?utm_source=1020_error\n"
          ]
        }
      ],
      "source": [
        "alinks = soup.select('a') \n",
        "for link in alinks: \n",
        "  print(link)\n",
        "  print(link['href'])"
      ]
    },
    {
      "cell_type": "markdown",
      "source": [
        "###自主練習"
      ],
      "metadata": {
        "id": "08uHasNlg4yp"
      }
    },
    {
      "cell_type": "code",
      "source": [
        "from bs4 import BeautifulSoup\n",
        "html_sample = '''\n",
        "<html>\n",
        "<body>\n",
        "<h1 id=\"title\">hello world</h1>\n",
        "<a href=\"https://www.w3schools.com\" class=\"link\">This is link 1</a>\n",
        "<a href= 'https://www.w3schools.com/html/html_editors.asp' class=\"link\">This is link 2.</a>\n",
        "</body>\n",
        "</html> '''\n",
        "\n",
        "soup = BeautifulSoup(html_sample, 'lxml')\n",
        "print(soup.text)\n",
        "\n",
        "soup = BeautifulSoup(html_sample, 'lxml')\n",
        "title = soup.select_one('h1')\n",
        "print(title.text)\n",
        "alink = soup.select('a')\n",
        "print(alink)\n",
        "alink = soup.select('.link')\n",
        "print(alink)\n",
        "title = soup.select('#title')\n",
        "print(title)\n",
        "for link in soup.select('.link'):\n",
        "  print(link)\n",
        "alinks = soup.select('a  .link')\n",
        "for link in alinks:\n",
        "  print(link[\"href\"])\n",
        "  print(link[\"class\"])\n",
        "  print(link.get('href'))"
      ],
      "metadata": {
        "colab": {
          "base_uri": "https://localhost:8080/"
        },
        "id": "45z__vY1g7Sg",
        "outputId": "f38d9bd5-190b-44d3-c8a4-b284c057482b"
      },
      "execution_count": 35,
      "outputs": [
        {
          "output_type": "stream",
          "name": "stdout",
          "text": [
            "\n",
            "\n",
            "hello world\n",
            "This is link 1\n",
            "This is link 2.\n",
            "\n",
            " \n",
            "hello world\n",
            "[<a class=\"link\" href=\"https://www.w3schools.com\">This is link 1</a>, <a class=\"link\" href=\"https://www.w3schools.com/html/html_editors.asp\">This is link 2.</a>]\n",
            "[<a class=\"link\" href=\"https://www.w3schools.com\">This is link 1</a>, <a class=\"link\" href=\"https://www.w3schools.com/html/html_editors.asp\">This is link 2.</a>]\n",
            "[<h1 id=\"title\">hello world</h1>]\n",
            "<a class=\"link\" href=\"https://www.w3schools.com\">This is link 1</a>\n",
            "<a class=\"link\" href=\"https://www.w3schools.com/html/html_editors.asp\">This is link 2.</a>\n"
          ]
        }
      ]
    },
    {
      "cell_type": "markdown",
      "metadata": {
        "id": "Yy_fjR_N0f4h"
      },
      "source": [
        "## 練習\n",
        "請試著使用BeautifulSoup抓取以下網頁關於商品價格(5990)的資訊?"
      ]
    },
    {
      "cell_type": "markdown",
      "metadata": {
        "id": "N8gfFHEJ1H17"
      },
      "source": [
        "<html> \n",
        " <body> \n",
        " <h1 id=\"title\">Jabra Elite 75t 真無線藍牙耳機</h1> \n",
        " <img src=\"https://c.ecimg.tw/items/DYAQ9YA900AEZZI/000001_1593397583.jpg\" width=\"200px\"></img>\n",
        " <div>\n",
        "     <p>四麥克風技術/藍牙5.0/IP55防塵防水\n",
        "電池續航7.5小時,搭配充電盒可達28小時\n",
        "一鍵語音助理,快速開啟Siri/Alexa**/Google Assistant\n",
        "按鍵式操控輕鬆不費力，不會導致耳朵有壓迫感\n",
        "使用Jabra Sound+ 設定個人化音質體驗\n",
        "超強環境音功能，極度接近真實環境周遭聲音\n",
        "體積更小，單耳僅不到6克，服貼各種耳型，配戴超舒適</p>\n",
        " </div> \n",
        " <meta itemprop=\"priceCurrency\" content=\"TWD\">網路價<span class=\"price\" >$<span class=\"value\" id=\"PriceTotal\" itemprop=\"price\" \">5990</span></span>\n",
        " </body> \n",
        " </html>"
      ]
    },
    {
      "cell_type": "code",
      "execution_count": 20,
      "metadata": {
        "id": "iBJJ8uND0fBb",
        "colab": {
          "base_uri": "https://localhost:8080/"
        },
        "outputId": "af7b655e-1d0b-4769-b893-e4a661bd80a4"
      },
      "outputs": [
        {
          "output_type": "stream",
          "name": "stdout",
          "text": [
            "5990\n"
          ]
        }
      ],
      "source": [
        "from bs4 import BeautifulSoup \n",
        "ec = ''' \n",
        "<html> \n",
        " <body> \n",
        " <h1 id=\"title\">Jabra Elite 75t 真無線藍牙耳機</h1> \n",
        " <img src=\"https://c.ecimg.tw/items/DYAQ9YA900AEZZI/000001_1593397583.jpg\" width=\"200px\"></img>\n",
        " <div>\n",
        "     <p>四麥克風技術/藍牙5.0/IP55防塵防水\n",
        "電池續航7.5小時,搭配充電盒可達28小時\n",
        "一鍵語音助理,快速開啟Siri/Alexa**/Google Assistant\n",
        "按鍵式操控輕鬆不費力，不會導致耳朵有壓迫感\n",
        "使用Jabra Sound+ 設定個人化音質體驗\n",
        "超強環境音功能，極度接近真實環境周遭聲音\n",
        "體積更小，單耳僅不到6克，服貼各種耳型，配戴超舒適</p>\n",
        " </div> \n",
        " <meta itemprop=\"priceCurrency\" content=\"TWD\">網路價<span class=\"price\" >$<span class=\"value\" id=\"PriceTotal\" itemprop=\"price\" \">5990</span></span>\n",
        " </body> \n",
        " </html>'''\n",
        "\n",
        "soup = BeautifulSoup(ec, 'lxml')\n",
        "print(soup.select('#PriceTotal')[0].text)"
      ]
    },
    {
      "cell_type": "markdown",
      "metadata": {
        "id": "n4QiNkD_2aYD"
      },
      "source": [
        "## 抓取 Mobile01 列表"
      ]
    },
    {
      "cell_type": "code",
      "execution_count": 26,
      "metadata": {
        "id": "OqNAwvuCjdfi"
      },
      "outputs": [],
      "source": [
        "#抓取列表原始碼\n",
        "import requests\n",
        "from bs4 import BeautifulSoup\n",
        "headers = {\n",
        "   'user-agent': 'Mozilla/5.0 (Windows NT 10.0; Win64; x64) AppleWebKit/537.36 (KHTML, like Gecko) Chrome/83.0.4103.116 Safari/537.36' \n",
        "}\n",
        "res = requests.get('https://www.mobile01.com/topiclist.php?f=180', headers = headers)\n",
        "soup = BeautifulSoup(res.text , 'lxml')\n",
        "\n",
        "domain = 'https://www.mobile01.com/'\n",
        "\n",
        "#用迴圈遍歷含有 div.l-listTable__tr 的元素\n",
        "for tr in soup.select('div.l-listTable__tr'):\n",
        "  if tr.select_one('.c-listTableTd__title a'):\n",
        "    title = tr.select_one('.c-listTableTd__title a').text.strip()\n",
        "    link = domain + tr.select_one('.c-listTableTd__title a').get('href')\n",
        "    cnt = tr.select_one('.o-fMini').text\n",
        "    print(title, cnt, link)\n"
      ]
    },
    {
      "cell_type": "markdown",
      "metadata": {
        "id": "6crPSjlW38Vx"
      },
      "source": [
        "## 練習\n",
        "請試著抓取Mobile01發文作者的名稱?"
      ]
    },
    {
      "cell_type": "markdown",
      "metadata": {
        "id": "4ndNyq0R2mOs"
      },
      "source": [
        "## 抓取內文"
      ]
    },
    {
      "cell_type": "markdown",
      "metadata": {
        "id": "PospxzkZ2o0I"
      },
      "source": [
        "### 抓取標題"
      ]
    },
    {
      "cell_type": "code",
      "execution_count": 43,
      "metadata": {
        "colab": {
          "base_uri": "https://localhost:8080/",
          "height": 202
        },
        "id": "mByAbPDXmeXP",
        "outputId": "b7c3fe1f-6d3a-4ea2-8a6f-c111999e57a6"
      },
      "outputs": [
        {
          "output_type": "error",
          "ename": "AttributeError",
          "evalue": "ignored",
          "traceback": [
            "\u001b[0;31m---------------------------------------------------------------------------\u001b[0m",
            "\u001b[0;31mAttributeError\u001b[0m                            Traceback (most recent call last)",
            "\u001b[0;32m<ipython-input-43-fc5159e8c874>\u001b[0m in \u001b[0;36m<module>\u001b[0;34m\u001b[0m\n\u001b[1;32m      2\u001b[0m \u001b[0mres\u001b[0m \u001b[0;34m=\u001b[0m \u001b[0mrequests\u001b[0m\u001b[0;34m.\u001b[0m\u001b[0mget\u001b[0m\u001b[0;34m(\u001b[0m\u001b[0mdetailurl\u001b[0m\u001b[0;34m,\u001b[0m \u001b[0mheaders\u001b[0m \u001b[0;34m=\u001b[0m \u001b[0mheaders\u001b[0m\u001b[0;34m)\u001b[0m\u001b[0;34m\u001b[0m\u001b[0;34m\u001b[0m\u001b[0m\n\u001b[1;32m      3\u001b[0m \u001b[0msoup\u001b[0m \u001b[0;34m=\u001b[0m \u001b[0mBeautifulSoup\u001b[0m\u001b[0;34m(\u001b[0m\u001b[0mres\u001b[0m\u001b[0;34m.\u001b[0m\u001b[0mtext\u001b[0m\u001b[0;34m,\u001b[0m \u001b[0;34m'lxml'\u001b[0m\u001b[0;34m)\u001b[0m\u001b[0;34m\u001b[0m\u001b[0;34m\u001b[0m\u001b[0m\n\u001b[0;32m----> 4\u001b[0;31m \u001b[0msoup\u001b[0m\u001b[0;34m.\u001b[0m\u001b[0mselect_one\u001b[0m\u001b[0;34m(\u001b[0m\u001b[0;34m'h1.t2'\u001b[0m\u001b[0;34m)\u001b[0m\u001b[0;34m.\u001b[0m\u001b[0mtext\u001b[0m\u001b[0;34m\u001b[0m\u001b[0;34m\u001b[0m\u001b[0m\n\u001b[0m",
            "\u001b[0;31mAttributeError\u001b[0m: 'NoneType' object has no attribute 'text'"
          ]
        }
      ],
      "source": [
        "detailurl = 'https://www.mobile01.com/topicdetail.php?f=180&t=5855698'\n",
        "res = requests.get(detailurl, headers = headers)\n",
        "soup = BeautifulSoup(res.text, 'lxml')\n",
        "soup.select_one('h1.t2').text\n"
      ]
    },
    {
      "cell_type": "markdown",
      "metadata": {
        "id": "eu2G_YZ32qyf"
      },
      "source": [
        "### 抓取內文"
      ]
    },
    {
      "cell_type": "code",
      "execution_count": null,
      "metadata": {
        "id": "H4TQGdg7lgMX"
      },
      "outputs": [],
      "source": [
        "soup.select_one('div[itemprop=\"articleBody\"]').text.strip()"
      ]
    },
    {
      "cell_type": "markdown",
      "metadata": {
        "id": "X0HHyRU-2vfL"
      },
      "source": [
        "### 抓取評論"
      ]
    },
    {
      "cell_type": "code",
      "execution_count": 66,
      "metadata": {
        "id": "BifMYZIBp6Ir"
      },
      "outputs": [],
      "source": [
        "for comment in soup.select('.l-articlePage'):\n",
        "  author = comment.select_one('.c-authorInfo__id a').text.strip()\n",
        "  dt = comment.select_one('.o-fNotes.o-fSubMini').text\n",
        "  article = comment.select_one('article').text.strip()\n",
        "  #print(author, dt, article)"
      ]
    },
    {
      "cell_type": "markdown",
      "metadata": {
        "id": "vdd6xmVM20M6"
      },
      "source": [
        "### 取得最後一頁"
      ]
    },
    {
      "cell_type": "code",
      "execution_count": null,
      "metadata": {
        "id": "toi25rO6tufR"
      },
      "outputs": [],
      "source": [
        "title = soup.select_one('h1.t2').text\n",
        "last_page = int(soup.select('.l-navigation .l-pagination__page a')[-1].text)"
      ]
    },
    {
      "cell_type": "markdown",
      "metadata": {
        "id": "b_4Aq2k123xR"
      },
      "source": [
        "### 換頁抓取評論"
      ]
    },
    {
      "cell_type": "code",
      "execution_count": null,
      "metadata": {
        "id": "MA95YqrA2_9Q"
      },
      "outputs": [],
      "source": [
        "def getPageComments(pageurl, title ,page):\n",
        "  comments_ary = []\n",
        "  \n",
        "  # 抓取該頁資訊\n",
        "  detailurl = pageurl + f'&p={page}'\n",
        "  res = requests.get(detailurl, headers = headers)\n",
        "  soup = BeautifulSoup(res.text, 'lxml')\n",
        "\n",
        "  #取得該頁所有評論\n",
        "  for comment in soup.select('.l-articlePage'):\n",
        "    dic = {}\n",
        "    # 如果該篇文章存在\n",
        "    if comment.select_one('.c-authorInfo__id a'):\n",
        "      dic['title']   = title\n",
        "      dic['author']  = comment.select_one('.c-authorInfo__id a').text.strip()\n",
        "      dic['dt']      = comment.select_one('.o-fNotes.o-fSubMini').text\n",
        "      dic['comment'] = comment.select_one('article').text.strip()\n",
        "      # 新增評論\n",
        "      comments_ary.append(dic)\n",
        "  # 回傳評論\n",
        "  return comments_ary"
      ]
    },
    {
      "cell_type": "code",
      "execution_count": null,
      "metadata": {
        "id": "ZerINbVaxGgZ"
      },
      "outputs": [],
      "source": [
        "import time\n",
        "pageurl = 'https://www.mobile01.com/topicdetail.php?f=180&t=5855698'\n",
        "comments_all = []\n",
        "for i in range(1, last_page + 1):\n",
        "  comments_all = comments_all + getPageComments(pageurl, title, i)\n",
        "  time.sleep(1)"
      ]
    },
    {
      "cell_type": "markdown",
      "source": [
        "####自主練習"
      ],
      "metadata": {
        "id": "AwYlkrDpyzrE"
      }
    },
    {
      "cell_type": "code",
      "source": [
        "last_page = int(soup.select('.l-navigation .l-pagination__page a')[-1].text)\n",
        "import time \n",
        "pageurl = 'https://www.mobile01.com/topicdetail.php?f=180&t=5855698'\n",
        "comments_all = []\n",
        "for i in range(1, last_page+1):\n",
        "  comments_all = comments_all + getPageComments(pageurl, title, i)\n",
        "  time.sleep(1)"
      ],
      "metadata": {
        "id": "ueD4JcKnvSGt"
      },
      "execution_count": null,
      "outputs": []
    },
    {
      "cell_type": "code",
      "execution_count": null,
      "metadata": {
        "id": "Vm0B0wWUBfDJ"
      },
      "outputs": [],
      "source": [
        "comments_all[0]"
      ]
    },
    {
      "cell_type": "markdown",
      "metadata": {
        "id": "H2D2-FNv3JH_"
      },
      "source": [
        "## 根據頁面連結取得所有評論"
      ]
    },
    {
      "cell_type": "code",
      "execution_count": null,
      "metadata": {
        "id": "SBNjJm-gxKEx"
      },
      "outputs": [],
      "source": [
        "def getAllComments(pageurl):\n",
        "  comments_all = []\n",
        "\n",
        "  res = requests.get(pageurl, headers = headers)\n",
        "  soup = BeautifulSoup(res.text, 'lxml')\n",
        "\n",
        "  title = soup.select_one('h1.t2').text\n",
        "  last_page = 0\n",
        "  if soup.select('.l-navigation .l-pagination__page a'):\n",
        "    last_page = int(soup.select('.l-navigation .l-pagination__page a')[-1].text)\n",
        "\n",
        "  for i in range(1, last_page + 1):\n",
        "    comments_all = comments_all + getPageComments(pageurl, title, i)\n",
        "  return comments_all"
      ]
    },
    {
      "cell_type": "code",
      "execution_count": null,
      "metadata": {
        "id": "1Pczp7KMx-za"
      },
      "outputs": [],
      "source": [
        "a = getAllComments('https://www.mobile01.com/topicdetail.php?f=180&t=5434765')"
      ]
    },
    {
      "cell_type": "markdown",
      "metadata": {
        "id": "YNkpMnZF3RPA"
      },
      "source": [
        "## 完整網路爬蟲"
      ]
    },
    {
      "cell_type": "code",
      "execution_count": 65,
      "metadata": {
        "id": "kU9MfaK_zNkI"
      },
      "outputs": [],
      "source": [
        "import requests, time\n",
        "from bs4 import BeautifulSoup\n",
        "domain = 'https://www.mobile01.com/'\n",
        "\n",
        "headers = {\n",
        "   'user-agent': 'Mozilla/5.0 (Windows NT 10.0; Win64; x64) AppleWebKit/537.36 (KHTML, like Gecko) Chrome/83.0.4103.116 Safari/537.36' \n",
        "}\n",
        "res = requests.get('https://www.mobile01.com/topiclist.php?f=180', headers = headers)\n",
        "soup = BeautifulSoup(res.text , 'lxml')\n",
        "\n",
        "comments_total = []\n",
        "for tr in soup.select('div.l-listTable__tr')[0:3]:\n",
        "  if tr.select_one('.c-listTableTd__title a'):\n",
        "    link = domain + tr.select_one('.c-listTableTd__title a').get('href')\n",
        "    comments_total = comments_total + getAllComments(link)\n"
      ]
    },
    {
      "cell_type": "code",
      "source": [
        "comments_total = []\n",
        "for tr in soup.select('div.l-listTable__tr')[0:3]:\n",
        "  "
      ],
      "metadata": {
        "id": "wKafFGgBz9kd"
      },
      "execution_count": null,
      "outputs": []
    },
    {
      "cell_type": "markdown",
      "metadata": {
        "id": "KOtezkEg3bhW"
      },
      "source": [
        "## 匯出所有評論"
      ]
    },
    {
      "cell_type": "code",
      "execution_count": null,
      "metadata": {
        "colab": {
          "base_uri": "https://localhost:8080/",
          "height": 289
        },
        "id": "xd771KkPE6bZ",
        "outputId": "3bbfa971-5865-46c9-f79b-2fe8d71706f2"
      },
      "outputs": [
        {
          "data": {
            "text/html": [
              "<div>\n",
              "<style scoped>\n",
              "    .dataframe tbody tr th:only-of-type {\n",
              "        vertical-align: middle;\n",
              "    }\n",
              "\n",
              "    .dataframe tbody tr th {\n",
              "        vertical-align: top;\n",
              "    }\n",
              "\n",
              "    .dataframe thead th {\n",
              "        text-align: right;\n",
              "    }\n",
              "</style>\n",
              "<table border=\"1\" class=\"dataframe\">\n",
              "  <thead>\n",
              "    <tr style=\"text-align: right;\">\n",
              "      <th></th>\n",
              "      <th>title</th>\n",
              "      <th>author</th>\n",
              "      <th>dt</th>\n",
              "      <th>comment</th>\n",
              "    </tr>\n",
              "  </thead>\n",
              "  <tbody>\n",
              "    <tr>\n",
              "      <th>0</th>\n",
              "      <td>【試用】英國知名技術高音質《TONE Free 真無線藍牙耳機 FL7》快速充電同時自動殺菌！</td>\n",
              "      <td>Mobile01活動小組</td>\n",
              "      <td>2020-06-03 15:48</td>\n",
              "      <td>試用名單如下\\n爆竹花\\nlankunjen\\nwindwithme\\nkingdally\\...</td>\n",
              "    </tr>\n",
              "    <tr>\n",
              "      <th>1</th>\n",
              "      <td>【試用】英國知名技術高音質《TONE Free 真無線藍牙耳機 FL7》快速充電同時自動殺菌！</td>\n",
              "      <td>smallpo23</td>\n",
              "      <td>2020-06-03 16:01</td>\n",
              "      <td>有潔癖的我每次用無線耳機前都要用濕巾擦一下\\n充電時還能自動殺菌的功能真吸引我!</td>\n",
              "    </tr>\n",
              "    <tr>\n",
              "      <th>2</th>\n",
              "      <td>【試用】英國知名技術高音質《TONE Free 真無線藍牙耳機 FL7》快速充電同時自動殺菌！</td>\n",
              "      <td>andox0310</td>\n",
              "      <td>2020-06-03 16:09</td>\n",
              "      <td>你想要試用《TONE Free 真無線藍牙耳機 FL7》的原因？\\n有用電動牙刷殺菌盒，沒用...</td>\n",
              "    </tr>\n",
              "    <tr>\n",
              "      <th>3</th>\n",
              "      <td>【試用】英國知名技術高音質《TONE Free 真無線藍牙耳機 FL7》快速充電同時自動殺菌！</td>\n",
              "      <td>爆竹花</td>\n",
              "      <td>2020-06-03 16:12</td>\n",
              "      <td>你想要試用《TONE Free 真無線藍牙耳機 FL7》的原因\\n\\n用習慣AirPods的...</td>\n",
              "    </tr>\n",
              "    <tr>\n",
              "      <th>4</th>\n",
              "      <td>【試用】英國知名技術高音質《TONE Free 真無線藍牙耳機 FL7》快速充電同時自動殺菌！</td>\n",
              "      <td>Ericjan168</td>\n",
              "      <td>2020-06-03 16:28</td>\n",
              "      <td>你想要試用《TONE Free 真無線藍牙耳機 FL7》的原因？\\n\\n《TONE Free...</td>\n",
              "    </tr>\n",
              "  </tbody>\n",
              "</table>\n",
              "</div>"
            ],
            "text/plain": [
              "                                             title  ...                                            comment\n",
              "0  【試用】英國知名技術高音質《TONE Free 真無線藍牙耳機 FL7》快速充電同時自動殺菌！  ...  試用名單如下\\n爆竹花\\nlankunjen\\nwindwithme\\nkingdally\\...\n",
              "1  【試用】英國知名技術高音質《TONE Free 真無線藍牙耳機 FL7》快速充電同時自動殺菌！  ...           有潔癖的我每次用無線耳機前都要用濕巾擦一下\\n充電時還能自動殺菌的功能真吸引我!\n",
              "2  【試用】英國知名技術高音質《TONE Free 真無線藍牙耳機 FL7》快速充電同時自動殺菌！  ...  你想要試用《TONE Free 真無線藍牙耳機 FL7》的原因？\\n有用電動牙刷殺菌盒，沒用...\n",
              "3  【試用】英國知名技術高音質《TONE Free 真無線藍牙耳機 FL7》快速充電同時自動殺菌！  ...  你想要試用《TONE Free 真無線藍牙耳機 FL7》的原因\\n\\n用習慣AirPods的...\n",
              "4  【試用】英國知名技術高音質《TONE Free 真無線藍牙耳機 FL7》快速充電同時自動殺菌！  ...  你想要試用《TONE Free 真無線藍牙耳機 FL7》的原因？\\n\\n《TONE Free...\n",
              "\n",
              "[5 rows x 4 columns]"
            ]
          },
          "execution_count": 31,
          "metadata": {
            "tags": []
          },
          "output_type": "execute_result"
        }
      ],
      "source": [
        "import pandas\n",
        "comments_df = pandas.DataFrame(comments_total)\n",
        "comments_df.head()\n"
      ]
    },
    {
      "cell_type": "code",
      "execution_count": null,
      "metadata": {
        "id": "KdrnKNSOFpFv"
      },
      "outputs": [],
      "source": [
        "comments_df.to_excel('mobile01_comments.xlsx')"
      ]
    },
    {
      "cell_type": "markdown",
      "source": [
        "##作業練習"
      ],
      "metadata": {
        "id": "llb0X2db60AO"
      }
    },
    {
      "cell_type": "markdown",
      "source": [
        "Dcard 首頁爬蟲\n"
      ],
      "metadata": {
        "id": "Px6x7ByO7fPR"
      }
    },
    {
      "cell_type": "code",
      "source": [
        "import requests\n",
        "import pandas\n",
        "from bs4 import BeautifulSoup\n",
        "\n",
        "url = \"https://www.mobile01.com/hottopics.php?id=4\"\n",
        "headers = {\n",
        "    'user_agent':'Mozilla/5.0 (Windows NT 10.0; Win64; x64) AppleWebKit/537.36 (KHTML, like Gecko) Chrome/106.0.0.0 Safari/537.36'\n",
        "}\n",
        "\n",
        "res = requests.get(url, headers=headers)\n",
        "# print(res.text)\n",
        "soup = BeautifulSoup(res.text, 'lxml')\n",
        "\n",
        "print(soup.select_one('div.c-listTableTd'))\n",
        "\n",
        "\n",
        "# content_ary = []\n",
        "# for item in soup.select('article'):\n",
        "#   #print(item)\n",
        "#   content_dict={}\n",
        "#   content_dict['title'] = item.select_one('a .sc-d305c7ef-3 cWlySj')\n",
        "#   content_ary.append(content_dict)\n",
        "  "
      ],
      "metadata": {
        "colab": {
          "base_uri": "https://localhost:8080/"
        },
        "id": "qZkkbwM47ivB",
        "outputId": "f103b62c-f9cd-4f2a-f6af-b7bdd67c8c49"
      },
      "execution_count": 63,
      "outputs": [
        {
          "output_type": "stream",
          "name": "stdout",
          "text": [
            "None\n"
          ]
        }
      ]
    }
  ],
  "metadata": {
    "colab": {
      "collapsed_sections": [],
      "provenance": [],
      "include_colab_link": true
    },
    "kernelspec": {
      "display_name": "Python 3",
      "language": "python",
      "name": "python3"
    },
    "language_info": {
      "codemirror_mode": {
        "name": "ipython",
        "version": 3
      },
      "file_extension": ".py",
      "mimetype": "text/x-python",
      "name": "python",
      "nbconvert_exporter": "python",
      "pygments_lexer": "ipython3",
      "version": "3.7.3"
    }
  },
  "nbformat": 4,
  "nbformat_minor": 0
}