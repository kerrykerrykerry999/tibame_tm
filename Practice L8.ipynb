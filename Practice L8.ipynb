{
  "nbformat": 4,
  "nbformat_minor": 0,
  "metadata": {
    "colab": {
      "name": "Demo20200826.ipynb",
      "provenance": []
    },
    "kernelspec": {
      "name": "python3",
      "display_name": "Python 3"
    }
  },
  "cells": [
    {
      "cell_type": "markdown",
      "metadata": {
        "id": "puA20ffNidR0"
      },
      "source": [
        "##  作業"
      ]
    },
    {
      "cell_type": "code",
      "metadata": {
        "id": "l6g1-5nMhZoW"
      },
      "source": [
        "import pandas\n",
        "google = pandas.read_excel('https://raw.githubusercontent.com/ywchiu/tibame_tm/master/data/google_comments.xlsx', index_col = 0)"
      ],
      "execution_count": null,
      "outputs": []
    },
    {
      "cell_type": "code",
      "metadata": {
        "id": "HKSN-Gzdij2g",
        "colab": {
          "base_uri": "https://localhost:8080/",
          "height": 198
        },
        "outputId": "988f44a9-f26a-4c23-938f-7d9c819037c3"
      },
      "source": [
        "google.head()"
      ],
      "execution_count": null,
      "outputs": [
        {
          "output_type": "execute_result",
          "data": {
            "text/html": [
              "<div>\n",
              "<style scoped>\n",
              "    .dataframe tbody tr th:only-of-type {\n",
              "        vertical-align: middle;\n",
              "    }\n",
              "\n",
              "    .dataframe tbody tr th {\n",
              "        vertical-align: top;\n",
              "    }\n",
              "\n",
              "    .dataframe thead th {\n",
              "        text-align: right;\n",
              "    }\n",
              "</style>\n",
              "<table border=\"1\" class=\"dataframe\">\n",
              "  <thead>\n",
              "    <tr style=\"text-align: right;\">\n",
              "      <th></th>\n",
              "      <th>username</th>\n",
              "      <th>score</th>\n",
              "      <th>comment</th>\n",
              "    </tr>\n",
              "  </thead>\n",
              "  <tbody>\n",
              "    <tr>\n",
              "      <th>0</th>\n",
              "      <td>倪依芙</td>\n",
              "      <td>5</td>\n",
              "      <td>起初找不到入口，還以為沒座位，但是原來入口在旁邊樓梯～座位區不大，但是料理很好吃～肉圓的醬微...</td>\n",
              "    </tr>\n",
              "    <tr>\n",
              "      <th>1</th>\n",
              "      <td>Mimi龍</td>\n",
              "      <td>4</td>\n",
              "      <td>聞名已久，今天特別來現場試試，目前改成點餐機點餐， ⋯⋯更多聞名已久，今天特別來現場試試，目...</td>\n",
              "    </tr>\n",
              "    <tr>\n",
              "      <th>2</th>\n",
              "      <td>林昌逸</td>\n",
              "      <td>1</td>\n",
              "      <td>非常生氣服務員的態度😠服務很糟糕，麵都還沒吃完，一起身就把麵收走，擺明趕客人😡😡😡</td>\n",
              "    </tr>\n",
              "    <tr>\n",
              "      <th>3</th>\n",
              "      <td>林幸蓁</td>\n",
              "      <td>5</td>\n",
              "      <td>內用與外帶有不同的點餐方式內用須至店內使用機台點菜、輸入桌號並付款外帶好像只需在入口處點餐即...</td>\n",
              "    </tr>\n",
              "    <tr>\n",
              "      <th>4</th>\n",
              "      <td>台灣TAXI市區叫車禮車包車約拍找小鄭</td>\n",
              "      <td>5</td>\n",
              "      <td>乾淨衛生，廁所很大在地下室，有免費飲料可以喝，拉麵愛好吃，麻辣豆腐不錯、肉粽不錯，目前吃過很...</td>\n",
              "    </tr>\n",
              "  </tbody>\n",
              "</table>\n",
              "</div>"
            ],
            "text/plain": [
              "              username  ...                                            comment\n",
              "0                  倪依芙  ...  起初找不到入口，還以為沒座位，但是原來入口在旁邊樓梯～座位區不大，但是料理很好吃～肉圓的醬微...\n",
              "1                Mimi龍  ...  聞名已久，今天特別來現場試試，目前改成點餐機點餐， ⋯⋯更多聞名已久，今天特別來現場試試，目...\n",
              "2                  林昌逸  ...          非常生氣服務員的態度😠服務很糟糕，麵都還沒吃完，一起身就把麵收走，擺明趕客人😡😡😡\n",
              "3                  林幸蓁  ...  內用與外帶有不同的點餐方式內用須至店內使用機台點菜、輸入桌號並付款外帶好像只需在入口處點餐即...\n",
              "4  台灣TAXI市區叫車禮車包車約拍找小鄭  ...  乾淨衛生，廁所很大在地下室，有免費飲料可以喝，拉麵愛好吃，麻辣豆腐不錯、肉粽不錯，目前吃過很...\n",
              "\n",
              "[5 rows x 3 columns]"
            ]
          },
          "metadata": {
            "tags": []
          },
          "execution_count": 4
        }
      ]
    },
    {
      "cell_type": "code",
      "metadata": {
        "id": "1IagMmBNipIZ",
        "colab": {
          "base_uri": "https://localhost:8080/",
          "height": 121
        },
        "outputId": "774d2182-859e-4aa7-aabb-229b9423c684"
      },
      "source": [
        "google['score'].value_counts()"
      ],
      "execution_count": null,
      "outputs": [
        {
          "output_type": "execute_result",
          "data": {
            "text/plain": [
              "1    160\n",
              "5    147\n",
              "4     92\n",
              "3     60\n",
              "2     41\n",
              "Name: score, dtype: int64"
            ]
          },
          "metadata": {
            "tags": []
          },
          "execution_count": 6
        }
      ]
    },
    {
      "cell_type": "code",
      "metadata": {
        "id": "TV_1peXXjGzl",
        "colab": {
          "base_uri": "https://localhost:8080/",
          "height": 279
        },
        "outputId": "a6495013-2bb0-4ae3-8e70-80bc4ae64156"
      },
      "source": [
        "google['score'].value_counts().plot(kind = 'bar')"
      ],
      "execution_count": null,
      "outputs": [
        {
          "output_type": "execute_result",
          "data": {
            "text/plain": [
              "<matplotlib.axes._subplots.AxesSubplot at 0x7fc9277e1710>"
            ]
          },
          "metadata": {
            "tags": []
          },
          "execution_count": 8
        },
        {
          "output_type": "display_data",
          "data": {
            "image/png": "[encoded data removed]",
            "text/plain": [
              "<Figure size 432x288 with 1 Axes>"
            ]
          },
          "metadata": {
            "tags": [],
            "needs_background": "light"
          }
        }
      ]
    },
    {
      "cell_type": "code",
      "metadata": {
        "id": "ScxsO5TBjLaV"
      },
      "source": [
        "def convertScore(score):\n",
        "  if score >= 4:\n",
        "    return 'good'\n",
        "  elif score == 3:\n",
        "    return 'soso'\n",
        "  else:\n",
        "    return 'bad'\n",
        "\n",
        "google['status'] = google['score'].map(lambda e: convertScore(e))"
      ],
      "execution_count": null,
      "outputs": []
    },
    {
      "cell_type": "code",
      "metadata": {
        "id": "a-LCdb-FjfVZ",
        "colab": {
          "base_uri": "https://localhost:8080/",
          "height": 267
        },
        "outputId": "bc89d5cd-5712-431a-8f86-b7f9ea2b872c"
      },
      "source": [
        "google.head()"
      ],
      "execution_count": null,
      "outputs": [
        {
          "output_type": "execute_result",
          "data": {
            "text/html": [
              "<div>\n",
              "<style scoped>\n",
              "    .dataframe tbody tr th:only-of-type {\n",
              "        vertical-align: middle;\n",
              "    }\n",
              "\n",
              "    .dataframe tbody tr th {\n",
              "        vertical-align: top;\n",
              "    }\n",
              "\n",
              "    .dataframe thead th {\n",
              "        text-align: right;\n",
              "    }\n",
              "</style>\n",
              "<table border=\"1\" class=\"dataframe\">\n",
              "  <thead>\n",
              "    <tr style=\"text-align: right;\">\n",
              "      <th></th>\n",
              "      <th>username</th>\n",
              "      <th>score</th>\n",
              "      <th>comment</th>\n",
              "      <th>status</th>\n",
              "    </tr>\n",
              "  </thead>\n",
              "  <tbody>\n",
              "    <tr>\n",
              "      <th>0</th>\n",
              "      <td>倪依芙</td>\n",
              "      <td>5</td>\n",
              "      <td>起初找不到入口，還以為沒座位，但是原來入口在旁邊樓梯～座位區不大，但是料理很好吃～肉圓的醬微...</td>\n",
              "      <td>good</td>\n",
              "    </tr>\n",
              "    <tr>\n",
              "      <th>1</th>\n",
              "      <td>Mimi龍</td>\n",
              "      <td>4</td>\n",
              "      <td>聞名已久，今天特別來現場試試，目前改成點餐機點餐， ⋯⋯更多聞名已久，今天特別來現場試試，目...</td>\n",
              "      <td>good</td>\n",
              "    </tr>\n",
              "    <tr>\n",
              "      <th>2</th>\n",
              "      <td>林昌逸</td>\n",
              "      <td>1</td>\n",
              "      <td>非常生氣服務員的態度😠服務很糟糕，麵都還沒吃完，一起身就把麵收走，擺明趕客人😡😡😡</td>\n",
              "      <td>bad</td>\n",
              "    </tr>\n",
              "    <tr>\n",
              "      <th>3</th>\n",
              "      <td>林幸蓁</td>\n",
              "      <td>5</td>\n",
              "      <td>內用與外帶有不同的點餐方式內用須至店內使用機台點菜、輸入桌號並付款外帶好像只需在入口處點餐即...</td>\n",
              "      <td>good</td>\n",
              "    </tr>\n",
              "    <tr>\n",
              "      <th>4</th>\n",
              "      <td>台灣TAXI市區叫車禮車包車約拍找小鄭</td>\n",
              "      <td>5</td>\n",
              "      <td>乾淨衛生，廁所很大在地下室，有免費飲料可以喝，拉麵愛好吃，麻辣豆腐不錯、肉粽不錯，目前吃過很...</td>\n",
              "      <td>good</td>\n",
              "    </tr>\n",
              "  </tbody>\n",
              "</table>\n",
              "</div>"
            ],
            "text/plain": [
              "              username  ...  status\n",
              "0                  倪依芙  ...    good\n",
              "1                Mimi龍  ...    good\n",
              "2                  林昌逸  ...     bad\n",
              "3                  林幸蓁  ...    good\n",
              "4  台灣TAXI市區叫車禮車包車約拍找小鄭  ...    good\n",
              "\n",
              "[5 rows x 4 columns]"
            ]
          },
          "metadata": {
            "tags": []
          },
          "execution_count": 11
        }
      ]
    },
    {
      "cell_type": "code",
      "metadata": {
        "id": "1iT0ZkCdjkqJ",
        "colab": {
          "base_uri": "https://localhost:8080/",
          "height": 86
        },
        "outputId": "91c869b9-9c28-4a58-cc1a-ea19204dfbf2"
      },
      "source": [
        "import jieba\n",
        "corpus = []\n",
        "tags = []\n",
        "for idx, rec in google[google['status'].isin(['good', 'bad'])].iterrows():\n",
        "  corpus.append(' '.join(jieba.cut(rec.get('comment'))))\n",
        "  tags.append(rec.get('status'))"
      ],
      "execution_count": null,
      "outputs": [
        {
          "output_type": "stream",
          "text": [
            "Building prefix dict from the default dictionary ...\n",
            "Dumping model to file cache /tmp/jieba.cache\n",
            "Loading model cost 0.954 seconds.\n",
            "Prefix dict has been built successfully.\n"
          ],
          "name": "stderr"
        }
      ]
    },
    {
      "cell_type": "code",
      "metadata": {
        "id": "WLUr7CNLj7ot"
      },
      "source": [
        "from sklearn.feature_extraction.text import TfidfVectorizer\n",
        "vectorizer = TfidfVectorizer()\n",
        "tfidf = vectorizer.fit_transform(corpus)"
      ],
      "execution_count": null,
      "outputs": []
    },
    {
      "cell_type": "code",
      "metadata": {
        "id": "MUsTS7jqkJOI"
      },
      "source": [
        "x = tfidf\n",
        "y = tags"
      ],
      "execution_count": null,
      "outputs": []
    },
    {
      "cell_type": "code",
      "metadata": {
        "id": "mGpFhyA5kQbn"
      },
      "source": [
        "from sklearn.model_selection import train_test_split\n",
        "train_x, test_x, train_y, test_y = train_test_split(x,y, test_size = 0.2, random_state = 42)"
      ],
      "execution_count": null,
      "outputs": []
    },
    {
      "cell_type": "code",
      "metadata": {
        "id": "nwqAaN0tkxjG",
        "colab": {
          "base_uri": "https://localhost:8080/",
          "height": 35
        },
        "outputId": "752e93df-5873-4ef9-9c9e-06705fed2c03"
      },
      "source": [
        "from sklearn.naive_bayes import MultinomialNB\n",
        "clf1 = MultinomialNB(alpha = 0.01)\n",
        "clf1.fit(train_x, train_y)"
      ],
      "execution_count": null,
      "outputs": [
        {
          "output_type": "execute_result",
          "data": {
            "text/plain": [
              "MultinomialNB(alpha=0.01, class_prior=None, fit_prior=True)"
            ]
          },
          "metadata": {
            "tags": []
          },
          "execution_count": 19
        }
      ]
    },
    {
      "cell_type": "code",
      "metadata": {
        "id": "ieLSdlbrlBMc",
        "colab": {
          "base_uri": "https://localhost:8080/",
          "height": 86
        },
        "outputId": "9c3652ab-d42a-4d9b-fb6d-9ad6042e2a9f"
      },
      "source": [
        "from sklearn.svm import SVC\n",
        "clf2 = SVC(kernel = 'linear')\n",
        "clf2.fit(train_x, train_y)"
      ],
      "execution_count": null,
      "outputs": [
        {
          "output_type": "execute_result",
          "data": {
            "text/plain": [
              "SVC(C=1.0, break_ties=False, cache_size=200, class_weight=None, coef0=0.0,\n",
              "    decision_function_shape='ovr', degree=3, gamma='scale', kernel='linear',\n",
              "    max_iter=-1, probability=False, random_state=None, shrinking=True,\n",
              "    tol=0.001, verbose=False)"
            ]
          },
          "metadata": {
            "tags": []
          },
          "execution_count": 20
        }
      ]
    },
    {
      "cell_type": "code",
      "metadata": {
        "id": "3rokxF8rlKXE"
      },
      "source": [
        "pred_y = clf1.predict(test_x)"
      ],
      "execution_count": null,
      "outputs": []
    },
    {
      "cell_type": "code",
      "metadata": {
        "id": "aKhuJX5qlPsH",
        "colab": {
          "base_uri": "https://localhost:8080/",
          "height": 35
        },
        "outputId": "e865771b-dd8e-47ca-f9c8-92c56a75bb83"
      },
      "source": [
        "from sklearn.metrics import accuracy_score\n",
        "accuracy_score(test_y, pred_y)"
      ],
      "execution_count": null,
      "outputs": [
        {
          "output_type": "execute_result",
          "data": {
            "text/plain": [
              "0.8181818181818182"
            ]
          },
          "metadata": {
            "tags": []
          },
          "execution_count": 23
        }
      ]
    },
    {
      "cell_type": "code",
      "metadata": {
        "id": "RnhvhDI8lala",
        "colab": {
          "base_uri": "https://localhost:8080/",
          "height": 69
        },
        "outputId": "c6beacc3-1eb9-478b-aa9c-0eb5aef7ac88"
      },
      "source": [
        "from sklearn.metrics import confusion_matrix\n",
        "print(clf1.classes_)\n",
        "confusion_matrix(test_y, pred_y)"
      ],
      "execution_count": null,
      "outputs": [
        {
          "output_type": "stream",
          "text": [
            "['bad' 'good']\n"
          ],
          "name": "stdout"
        },
        {
          "output_type": "execute_result",
          "data": {
            "text/plain": [
              "array([[30, 10],\n",
              "       [ 6, 42]])"
            ]
          },
          "metadata": {
            "tags": []
          },
          "execution_count": 25
        }
      ]
    },
    {
      "cell_type": "code",
      "metadata": {
        "id": "reLsBwyLlseS"
      },
      "source": [
        "features_ary = []\n",
        "for word, bad_count, good_count in zip(vectorizer.get_feature_names(), clf1.feature_count_[0], clf1.feature_count_[1]):\n",
        "  dic = {}\n",
        "  dic['good_ratio'] = good_count/(bad_count + 1)\n",
        "  dic['bad_ratio'] = bad_count / (good_count + 1)\n",
        "  dic['good_cnt'] = good_count\n",
        "  dic['bad_cnt'] = bad_count\n",
        "  dic['word'] = word\n",
        "  features_ary.append(dic)"
      ],
      "execution_count": null,
      "outputs": []
    },
    {
      "cell_type": "code",
      "metadata": {
        "id": "TxsIWFoPl3tV"
      },
      "source": [
        "import pandas\n",
        "features_df = pandas.DataFrame(features_ary)"
      ],
      "execution_count": null,
      "outputs": []
    },
    {
      "cell_type": "code",
      "metadata": {
        "id": "vpAqJWRkl8pW",
        "colab": {
          "base_uri": "https://localhost:8080/",
          "height": 348
        },
        "outputId": "0a35b198-6691-441d-ced0-b13a7c4ada62"
      },
      "source": [
        "features_df.sort_values('good_ratio', ascending=False).head(10)"
      ],
      "execution_count": null,
      "outputs": [
        {
          "output_type": "execute_result",
          "data": {
            "text/html": [
              "<div>\n",
              "<style scoped>\n",
              "    .dataframe tbody tr th:only-of-type {\n",
              "        vertical-align: middle;\n",
              "    }\n",
              "\n",
              "    .dataframe tbody tr th {\n",
              "        vertical-align: top;\n",
              "    }\n",
              "\n",
              "    .dataframe thead th {\n",
              "        text-align: right;\n",
              "    }\n",
              "</style>\n",
              "<table border=\"1\" class=\"dataframe\">\n",
              "  <thead>\n",
              "    <tr style=\"text-align: right;\">\n",
              "      <th></th>\n",
              "      <th>good_ratio</th>\n",
              "      <th>bad_ratio</th>\n",
              "      <th>good_cnt</th>\n",
              "      <th>bad_cnt</th>\n",
              "      <th>word</th>\n",
              "    </tr>\n",
              "  </thead>\n",
              "  <tbody>\n",
              "    <tr>\n",
              "      <th>971</th>\n",
              "      <td>4.432004</td>\n",
              "      <td>0.155759</td>\n",
              "      <td>16.540930</td>\n",
              "      <td>2.732156</td>\n",
              "      <td>好吃</td>\n",
              "    </tr>\n",
              "    <tr>\n",
              "      <th>12</th>\n",
              "      <td>4.281420</td>\n",
              "      <td>0.016871</td>\n",
              "      <td>4.692600</td>\n",
              "      <td>0.096038</td>\n",
              "      <td>24</td>\n",
              "    </tr>\n",
              "    <tr>\n",
              "      <th>1041</th>\n",
              "      <td>4.281420</td>\n",
              "      <td>0.016871</td>\n",
              "      <td>4.692600</td>\n",
              "      <td>0.096038</td>\n",
              "      <td>小時</td>\n",
              "    </tr>\n",
              "    <tr>\n",
              "      <th>2189</th>\n",
              "      <td>4.264247</td>\n",
              "      <td>0.018926</td>\n",
              "      <td>4.726398</td>\n",
              "      <td>0.108378</td>\n",
              "      <td>親切</td>\n",
              "    </tr>\n",
              "    <tr>\n",
              "      <th>973</th>\n",
              "      <td>4.072805</td>\n",
              "      <td>0.049346</td>\n",
              "      <td>5.348771</td>\n",
              "      <td>0.313289</td>\n",
              "      <td>好喝</td>\n",
              "    </tr>\n",
              "    <tr>\n",
              "      <th>2050</th>\n",
              "      <td>3.478154</td>\n",
              "      <td>0.067243</td>\n",
              "      <td>4.845260</td>\n",
              "      <td>0.393055</td>\n",
              "      <td>美味</td>\n",
              "    </tr>\n",
              "    <tr>\n",
              "      <th>2053</th>\n",
              "      <td>3.343670</td>\n",
              "      <td>0.026732</td>\n",
              "      <td>3.770038</td>\n",
              "      <td>0.127515</td>\n",
              "      <td>美食</td>\n",
              "    </tr>\n",
              "    <tr>\n",
              "      <th>2606</th>\n",
              "      <td>3.150396</td>\n",
              "      <td>0.073043</td>\n",
              "      <td>4.390926</td>\n",
              "      <td>0.393770</td>\n",
              "      <td>飲料</td>\n",
              "    </tr>\n",
              "    <tr>\n",
              "      <th>340</th>\n",
              "      <td>3.121750</td>\n",
              "      <td>0.085690</td>\n",
              "      <td>4.626977</td>\n",
              "      <td>0.482174</td>\n",
              "      <td>乾意</td>\n",
              "    </tr>\n",
              "    <tr>\n",
              "      <th>302</th>\n",
              "      <td>3.112518</td>\n",
              "      <td>0.115085</td>\n",
              "      <td>5.407819</td>\n",
              "      <td>0.737442</td>\n",
              "      <td>不錯</td>\n",
              "    </tr>\n",
              "  </tbody>\n",
              "</table>\n",
              "</div>"
            ],
            "text/plain": [
              "      good_ratio  bad_ratio   good_cnt   bad_cnt word\n",
              "971     4.432004   0.155759  16.540930  2.732156   好吃\n",
              "12      4.281420   0.016871   4.692600  0.096038   24\n",
              "1041    4.281420   0.016871   4.692600  0.096038   小時\n",
              "2189    4.264247   0.018926   4.726398  0.108378   親切\n",
              "973     4.072805   0.049346   5.348771  0.313289   好喝\n",
              "2050    3.478154   0.067243   4.845260  0.393055   美味\n",
              "2053    3.343670   0.026732   3.770038  0.127515   美食\n",
              "2606    3.150396   0.073043   4.390926  0.393770   飲料\n",
              "340     3.121750   0.085690   4.626977  0.482174   乾意\n",
              "302     3.112518   0.115085   5.407819  0.737442   不錯"
            ]
          },
          "metadata": {
            "tags": []
          },
          "execution_count": 30
        }
      ]
    },
    {
      "cell_type": "code",
      "metadata": {
        "id": "c8KnUsAbmGxV",
        "colab": {
          "base_uri": "https://localhost:8080/",
          "height": 348
        },
        "outputId": "a12c4d98-2d7d-401a-a4e2-b0c8a28f0593"
      },
      "source": [
        "features_df.sort_values('bad_ratio', ascending=False).head(10)"
      ],
      "execution_count": null,
      "outputs": [
        {
          "output_type": "execute_result",
          "data": {
            "text/html": [
              "<div>\n",
              "<style scoped>\n",
              "    .dataframe tbody tr th:only-of-type {\n",
              "        vertical-align: middle;\n",
              "    }\n",
              "\n",
              "    .dataframe tbody tr th {\n",
              "        vertical-align: top;\n",
              "    }\n",
              "\n",
              "    .dataframe thead th {\n",
              "        text-align: right;\n",
              "    }\n",
              "</style>\n",
              "<table border=\"1\" class=\"dataframe\">\n",
              "  <thead>\n",
              "    <tr style=\"text-align: right;\">\n",
              "      <th></th>\n",
              "      <th>good_ratio</th>\n",
              "      <th>bad_ratio</th>\n",
              "      <th>good_cnt</th>\n",
              "      <th>bad_cnt</th>\n",
              "      <th>word</th>\n",
              "    </tr>\n",
              "  </thead>\n",
              "  <tbody>\n",
              "    <tr>\n",
              "      <th>1247</th>\n",
              "      <td>0.129321</td>\n",
              "      <td>3.228117</td>\n",
              "      <td>0.938621</td>\n",
              "      <td>6.258093</td>\n",
              "      <td>態度</td>\n",
              "    </tr>\n",
              "    <tr>\n",
              "      <th>1004</th>\n",
              "      <td>0.101876</td>\n",
              "      <td>2.808830</td>\n",
              "      <td>0.543576</td>\n",
              "      <td>4.335644</td>\n",
              "      <td>客人</td>\n",
              "    </tr>\n",
              "    <tr>\n",
              "      <th>1130</th>\n",
              "      <td>0.000000</td>\n",
              "      <td>2.552051</td>\n",
              "      <td>0.000000</td>\n",
              "      <td>2.552051</td>\n",
              "      <td>店員態度</td>\n",
              "    </tr>\n",
              "    <tr>\n",
              "      <th>1439</th>\n",
              "      <td>0.050667</td>\n",
              "      <td>2.548792</td>\n",
              "      <td>0.206472</td>\n",
              "      <td>3.075046</td>\n",
              "      <td>普通</td>\n",
              "    </tr>\n",
              "    <tr>\n",
              "      <th>1924</th>\n",
              "      <td>0.049725</td>\n",
              "      <td>2.343325</td>\n",
              "      <td>0.188173</td>\n",
              "      <td>2.784275</td>\n",
              "      <td>知道</td>\n",
              "    </tr>\n",
              "    <tr>\n",
              "      <th>1974</th>\n",
              "      <td>0.000000</td>\n",
              "      <td>2.227581</td>\n",
              "      <td>0.000000</td>\n",
              "      <td>2.227581</td>\n",
              "      <td>第二次</td>\n",
              "    </tr>\n",
              "    <tr>\n",
              "      <th>293</th>\n",
              "      <td>0.051669</td>\n",
              "      <td>2.202086</td>\n",
              "      <td>0.186692</td>\n",
              "      <td>2.613197</td>\n",
              "      <td>不要</td>\n",
              "    </tr>\n",
              "    <tr>\n",
              "      <th>2483</th>\n",
              "      <td>0.000000</td>\n",
              "      <td>2.158271</td>\n",
              "      <td>0.000000</td>\n",
              "      <td>2.158271</td>\n",
              "      <td>重點</td>\n",
              "    </tr>\n",
              "    <tr>\n",
              "      <th>270</th>\n",
              "      <td>0.155664</td>\n",
              "      <td>2.059802</td>\n",
              "      <td>0.701101</td>\n",
              "      <td>3.503932</td>\n",
              "      <td>不會</td>\n",
              "    </tr>\n",
              "    <tr>\n",
              "      <th>2155</th>\n",
              "      <td>0.000000</td>\n",
              "      <td>2.035631</td>\n",
              "      <td>0.000000</td>\n",
              "      <td>2.035631</td>\n",
              "      <td>蟑螂</td>\n",
              "    </tr>\n",
              "  </tbody>\n",
              "</table>\n",
              "</div>"
            ],
            "text/plain": [
              "      good_ratio  bad_ratio  good_cnt   bad_cnt  word\n",
              "1247    0.129321   3.228117  0.938621  6.258093    態度\n",
              "1004    0.101876   2.808830  0.543576  4.335644    客人\n",
              "1130    0.000000   2.552051  0.000000  2.552051  店員態度\n",
              "1439    0.050667   2.548792  0.206472  3.075046    普通\n",
              "1924    0.049725   2.343325  0.188173  2.784275    知道\n",
              "1974    0.000000   2.227581  0.000000  2.227581   第二次\n",
              "293     0.051669   2.202086  0.186692  2.613197    不要\n",
              "2483    0.000000   2.158271  0.000000  2.158271    重點\n",
              "270     0.155664   2.059802  0.701101  3.503932    不會\n",
              "2155    0.000000   2.035631  0.000000  2.035631    蟑螂"
            ]
          },
          "metadata": {
            "tags": []
          },
          "execution_count": 31
        }
      ]
    },
    {
      "cell_type": "code",
      "metadata": {
        "id": "WddFNrlvlWGC"
      },
      "source": [
        "pred_y = clf2.predict(test_x)"
      ],
      "execution_count": null,
      "outputs": []
    },
    {
      "cell_type": "code",
      "metadata": {
        "id": "Usxp2JnsmWrD",
        "colab": {
          "base_uri": "https://localhost:8080/",
          "height": 35
        },
        "outputId": "d3f011c9-b10b-4126-ef22-f1a0a76c0623"
      },
      "source": [
        "accuracy_score(test_y, pred_y)"
      ],
      "execution_count": null,
      "outputs": [
        {
          "output_type": "execute_result",
          "data": {
            "text/plain": [
              "0.875"
            ]
          },
          "metadata": {
            "tags": []
          },
          "execution_count": 33
        }
      ]
    },
    {
      "cell_type": "code",
      "metadata": {
        "id": "g_lHQDRlmZIq",
        "colab": {
          "base_uri": "https://localhost:8080/",
          "height": 52
        },
        "outputId": "cab72716-ef4a-418f-c179-f1b3ed3b6443"
      },
      "source": [
        "confusion_matrix(test_y, pred_y)"
      ],
      "execution_count": null,
      "outputs": [
        {
          "output_type": "execute_result",
          "data": {
            "text/plain": [
              "array([[33,  7],\n",
              "       [ 4, 44]])"
            ]
          },
          "metadata": {
            "tags": []
          },
          "execution_count": 34
        }
      ]
    },
    {
      "cell_type": "markdown",
      "metadata": {
        "id": "57H6PEUNoKSj"
      },
      "source": [
        "## Synset"
      ]
    },
    {
      "cell_type": "code",
      "metadata": {
        "id": "zAiOwwO3mfQQ",
        "colab": {
          "base_uri": "https://localhost:8080/",
          "height": 69
        },
        "outputId": "d7fc39e3-6122-434f-fec1-34c3cc84d026"
      },
      "source": [
        "import nltk\n",
        "nltk.download('wordnet')"
      ],
      "execution_count": null,
      "outputs": [
        {
          "output_type": "stream",
          "text": [
            "[nltk_data] Downloading package wordnet to /root/nltk_data...\n",
            "[nltk_data]   Package wordnet is already up-to-date!\n"
          ],
          "name": "stdout"
        },
        {
          "output_type": "execute_result",
          "data": {
            "text/plain": [
              "True"
            ]
          },
          "metadata": {
            "tags": []
          },
          "execution_count": 36
        }
      ]
    },
    {
      "cell_type": "code",
      "metadata": {
        "id": "73_pQqFUoRRW",
        "colab": {
          "base_uri": "https://localhost:8080/",
          "height": 35
        },
        "outputId": "75b1b32a-eb3a-401a-f88c-0a5f464ad9c2"
      },
      "source": [
        "from nltk.corpus import wordnet as wn\n",
        "wn.synsets('motorcar')"
      ],
      "execution_count": null,
      "outputs": [
        {
          "output_type": "execute_result",
          "data": {
            "text/plain": [
              "[Synset('car.n.01')]"
            ]
          },
          "metadata": {
            "tags": []
          },
          "execution_count": 37
        }
      ]
    },
    {
      "cell_type": "code",
      "metadata": {
        "id": "0n9aJJkZoYvE",
        "colab": {
          "base_uri": "https://localhost:8080/",
          "height": 104
        },
        "outputId": "b7931cac-141e-4cba-adde-bcf34c95e10b"
      },
      "source": [
        "wn.synsets('trunk')"
      ],
      "execution_count": null,
      "outputs": [
        {
          "output_type": "execute_result",
          "data": {
            "text/plain": [
              "[Synset('trunk.n.01'),\n",
              " Synset('trunk.n.02'),\n",
              " Synset('torso.n.01'),\n",
              " Synset('luggage_compartment.n.01'),\n",
              " Synset('proboscis.n.02')]"
            ]
          },
          "metadata": {
            "tags": []
          },
          "execution_count": 39
        }
      ]
    },
    {
      "cell_type": "code",
      "metadata": {
        "id": "yYleiuoioa9M",
        "colab": {
          "base_uri": "https://localhost:8080/",
          "height": 35
        },
        "outputId": "33bb1f74-48fc-4ea3-8f54-6a7f9f59e38d"
      },
      "source": [
        "wn.synset('car.n.01').lemma_names()"
      ],
      "execution_count": null,
      "outputs": [
        {
          "output_type": "execute_result",
          "data": {
            "text/plain": [
              "['car', 'auto', 'automobile', 'machine', 'motorcar']"
            ]
          },
          "metadata": {
            "tags": []
          },
          "execution_count": 40
        }
      ]
    },
    {
      "cell_type": "markdown",
      "metadata": {
        "id": "BaA4dej3pUBd"
      },
      "source": [
        "## 計數手法"
      ]
    },
    {
      "cell_type": "code",
      "metadata": {
        "id": "345jB0QMoiKB",
        "colab": {
          "base_uri": "https://localhost:8080/",
          "height": 397
        },
        "outputId": "fa0697d5-5e9c-4700-9e86-77b8edd99484"
      },
      "source": [
        "a = '''\n",
        "def ppmi(C, verbose=False, eps = 1e-8):\n",
        "    M = np.zeros_like(C, dtype=np.float32)\n",
        "    N = np.sum(C)\n",
        "    S = np.sum(C, axis=0)\n",
        "    total = C.shape[0] * C.shape[1]\n",
        "    cnt = 0\n",
        "    for i in range(C.shape[0]):\n",
        "        for j in range(C.shape[1]):\n",
        "            pmi = np.log2(C[i, j] * N / (S[j]*S[i]) + eps)\n",
        "            M[i, j] = max(0, pmi)\n",
        "\n",
        "            if verbose:\n",
        "                cnt += 1\n",
        "                if cnt % (total//100) == 0:\n",
        "                    print('%.1f%% done' % (100*cnt/total))\n",
        "    return M\n",
        "\n",
        "\n",
        "\n",
        "\n",
        "'''\n",
        "\n",
        "print(a.replace('\\xa0', ' '))"
      ],
      "execution_count": null,
      "outputs": [
        {
          "output_type": "stream",
          "text": [
            "\n",
            "def ppmi(C, verbose=False, eps = 1e-8):\n",
            "    M = np.zeros_like(C, dtype=np.float32)\n",
            "    N = np.sum(C)\n",
            "    S = np.sum(C, axis=0)\n",
            "    total = C.shape[0] * C.shape[1]\n",
            "    cnt = 0\n",
            "    for i in range(C.shape[0]):\n",
            "        for j in range(C.shape[1]):\n",
            "            pmi = np.log2(C[i, j] * N / (S[j]*S[i]) + eps)\n",
            "            M[i, j] = max(0, pmi)\n",
            "\n",
            "            if verbose:\n",
            "                cnt += 1\n",
            "                if cnt % (total//100) == 0:\n",
            "                    print('%.1f%% done' % (100*cnt/total))\n",
            "    return M\n",
            "\n",
            "\n",
            "\n",
            "\n",
            "\n"
          ],
          "name": "stdout"
        }
      ]
    },
    {
      "cell_type": "code",
      "metadata": {
        "id": "YTGZ63LCpXQk"
      },
      "source": [
        "import numpy as np\n",
        "def preprocess(text):\n",
        "    text = text.lower()\n",
        "    text = text.replace('.', ' .')\n",
        "    words = text.split(' ')\n",
        "    word_to_id = {}\n",
        "    id_to_word = {}\n",
        "    for word in words:\n",
        "        if word not in word_to_id:\n",
        "            new_id = len(word_to_id)\n",
        "            word_to_id[word] = new_id\n",
        "            id_to_word[new_id] = word\n",
        "    corpus = np.array([word_to_id[w] for w in words])\n",
        "    return corpus, word_to_id, id_to_word\n",
        "\n",
        "text = 'You say goodbye and I say hello.'\n",
        "corpus, word_to_id, id_to_word = preprocess(text)"
      ],
      "execution_count": null,
      "outputs": []
    },
    {
      "cell_type": "code",
      "metadata": {
        "id": "_bV-hCe3pi6r",
        "colab": {
          "base_uri": "https://localhost:8080/",
          "height": 35
        },
        "outputId": "ed91bc44-e6d9-4b2b-9ff6-d06d96b9e4a6"
      },
      "source": [
        "corpus"
      ],
      "execution_count": null,
      "outputs": [
        {
          "output_type": "execute_result",
          "data": {
            "text/plain": [
              "array([0, 1, 2, 3, 4, 1, 5, 6])"
            ]
          },
          "metadata": {
            "tags": []
          },
          "execution_count": 48
        }
      ]
    },
    {
      "cell_type": "code",
      "metadata": {
        "id": "g7xuW3hDpu3C",
        "colab": {
          "base_uri": "https://localhost:8080/",
          "height": 35
        },
        "outputId": "020ac4a8-e09b-47bc-cbe5-10c2feb32adc"
      },
      "source": [
        "word_to_id"
      ],
      "execution_count": null,
      "outputs": [
        {
          "output_type": "execute_result",
          "data": {
            "text/plain": [
              "{'.': 6, 'and': 3, 'goodbye': 2, 'hello': 5, 'i': 4, 'say': 1, 'you': 0}"
            ]
          },
          "metadata": {
            "tags": []
          },
          "execution_count": 50
        }
      ]
    },
    {
      "cell_type": "code",
      "metadata": {
        "id": "EpH6VvsGp6pp",
        "colab": {
          "base_uri": "https://localhost:8080/",
          "height": 35
        },
        "outputId": "23cde17c-76a7-487b-a04d-814f43ccffd3"
      },
      "source": [
        "id_to_word"
      ],
      "execution_count": null,
      "outputs": [
        {
          "output_type": "execute_result",
          "data": {
            "text/plain": [
              "{0: 'you', 1: 'say', 2: 'goodbye', 3: 'and', 4: 'i', 5: 'hello', 6: '.'}"
            ]
          },
          "metadata": {
            "tags": []
          },
          "execution_count": 51
        }
      ]
    },
    {
      "cell_type": "code",
      "metadata": {
        "id": "Ss8QVWSAp7xc"
      },
      "source": [
        "def create_co_matrix(corpus, vocab_size, window_size=1):\n",
        "    corpus_size = len(corpus)\n",
        "    co_matrix = np.zeros((vocab_size, vocab_size), dtype=np.int32)\n",
        "\n",
        "    for idx, word_id in enumerate(corpus):\n",
        "        for i in range(1, window_size + 1):\n",
        "            left_idx = idx - i\n",
        "            right_idx = idx + i\n",
        "\n",
        "            if left_idx >= 0:\n",
        "                left_word_id = corpus[left_idx]\n",
        "                co_matrix[word_id, left_word_id] += 1\n",
        "\n",
        "            if right_idx < corpus_size:\n",
        "                right_word_id = corpus[right_idx]\n",
        "                co_matrix[word_id, right_word_id] += 1\n",
        "\n",
        "    return co_matrix"
      ],
      "execution_count": null,
      "outputs": []
    },
    {
      "cell_type": "code",
      "metadata": {
        "id": "zmWLig-FrCnd",
        "colab": {
          "base_uri": "https://localhost:8080/",
          "height": 35
        },
        "outputId": "084d56e2-2e3a-44bd-f255-de7d7ac34c1c"
      },
      "source": [
        "text = 'You say goodbye and I say hello.'\n",
        "corpus, word_to_id, id_to_word = preprocess(text)\n",
        "vocab_size = len(word_to_id)\n",
        "vocab_size"
      ],
      "execution_count": null,
      "outputs": [
        {
          "output_type": "execute_result",
          "data": {
            "text/plain": [
              "7"
            ]
          },
          "metadata": {
            "tags": []
          },
          "execution_count": 54
        }
      ]
    },
    {
      "cell_type": "code",
      "metadata": {
        "id": "IVItHDM4rJ2H",
        "colab": {
          "base_uri": "https://localhost:8080/",
          "height": 155
        },
        "outputId": "bb671bd2-875c-494f-cf37-ecdd177f48e3"
      },
      "source": [
        "print(word_to_id.keys())\n",
        "C = create_co_matrix(corpus, vocab_size)\n",
        "C"
      ],
      "execution_count": null,
      "outputs": [
        {
          "output_type": "stream",
          "text": [
            "dict_keys(['you', 'say', 'goodbye', 'and', 'i', 'hello', '.'])\n"
          ],
          "name": "stdout"
        },
        {
          "output_type": "execute_result",
          "data": {
            "text/plain": [
              "array([[0, 1, 0, 0, 0, 0, 0],\n",
              "       [1, 0, 1, 0, 1, 1, 0],\n",
              "       [0, 1, 0, 1, 0, 0, 0],\n",
              "       [0, 0, 1, 0, 1, 0, 0],\n",
              "       [0, 1, 0, 1, 0, 0, 0],\n",
              "       [0, 1, 0, 0, 0, 0, 1],\n",
              "       [0, 0, 0, 0, 0, 1, 0]], dtype=int32)"
            ]
          },
          "metadata": {
            "tags": []
          },
          "execution_count": 56
        }
      ]
    },
    {
      "cell_type": "code",
      "metadata": {
        "id": "RnRoBJ0_rNzt"
      },
      "source": [
        "from sklearn.metrics.pairwise import cosine_similarity\n",
        "def most_similar(query, word_to_id, id_to_word, word_matrix, top=5):\n",
        "    # 1. 列出Query\n",
        "    if query not in word_to_id:\n",
        "        print('%s is not found' % query)\n",
        "        return\n",
        "    print('[query] ' + query)\n",
        "    query_id = word_to_id[query]\n",
        "    query_vec = word_matrix[query_id]\n",
        "    \n",
        "    # 2. 計算Cosine Similarity\n",
        "    vocab_size = len(id_to_word)\n",
        "    similarity = np.zeros(vocab_size)\n",
        "    for i in range(vocab_size):\n",
        "        similarity[i] = cosine_similarity([word_matrix[i], query_vec])[1,0]\n",
        "        \n",
        "    # 3. 從cosine similarity 由高到低列出數值結果\n",
        "    count = 0\n",
        "    for i in (-1 * similarity).argsort():\n",
        "        if id_to_word[i] == query:\n",
        "            continue\n",
        "        print(' %s: %s' % (id_to_word[i], similarity[i]))\n",
        "        count += 1\n",
        "        if count >= top:\n",
        "            return\n"
      ],
      "execution_count": null,
      "outputs": []
    },
    {
      "cell_type": "code",
      "metadata": {
        "id": "-2Rvtj32r50x",
        "colab": {
          "base_uri": "https://localhost:8080/",
          "height": 121
        },
        "outputId": "96217d39-2529-4fe8-80f6-0e609516361a"
      },
      "source": [
        "most_similar('you', word_to_id, id_to_word, C, top=5)"
      ],
      "execution_count": null,
      "outputs": [
        {
          "output_type": "stream",
          "text": [
            "[query] you\n",
            " goodbye: 0.7071067811865475\n",
            " i: 0.7071067811865475\n",
            " hello: 0.7071067811865475\n",
            " say: 0.0\n",
            " and: 0.0\n"
          ],
          "name": "stdout"
        }
      ]
    },
    {
      "cell_type": "code",
      "metadata": {
        "id": "9jlwxEiZsc9i",
        "colab": {
          "base_uri": "https://localhost:8080/",
          "height": 121
        },
        "outputId": "69121fc1-7de9-448e-d5c3-b3e1da6281ad"
      },
      "source": [
        "most_similar('i', word_to_id, id_to_word, C, top=5)"
      ],
      "execution_count": null,
      "outputs": [
        {
          "output_type": "stream",
          "text": [
            "[query] i\n",
            " goodbye: 0.9999999999999998\n",
            " you: 0.7071067811865475\n",
            " hello: 0.4999999999999999\n",
            " say: 0.0\n",
            " and: 0.0\n"
          ],
          "name": "stdout"
        }
      ]
    },
    {
      "cell_type": "code",
      "metadata": {
        "id": "XEgoLbfBsfeB"
      },
      "source": [
        "def ppmi(C, verbose=False, eps = 1e-8):\n",
        "    M = np.zeros_like(C, dtype=np.float32)\n",
        "    N = np.sum(C)\n",
        "    S = np.sum(C, axis=0)\n",
        "    total = C.shape[0] * C.shape[1]\n",
        "    cnt = 0\n",
        "    for i in range(C.shape[0]):\n",
        "        for j in range(C.shape[1]):\n",
        "            pmi = np.log2(C[i, j] * N / (S[j]*S[i]) + eps)\n",
        "            M[i, j] = max(0, pmi)\n",
        "\n",
        "            if verbose:\n",
        "                cnt += 1\n",
        "                if cnt % (total//100) == 0:\n",
        "                    print('%.1f%% done' % (100*cnt/total))\n",
        "    return M"
      ],
      "execution_count": null,
      "outputs": []
    },
    {
      "cell_type": "code",
      "metadata": {
        "id": "1bKNqMUytV9u"
      },
      "source": [
        "W = ppmi(C)"
      ],
      "execution_count": null,
      "outputs": []
    },
    {
      "cell_type": "code",
      "metadata": {
        "id": "XZsOhhHltdGx",
        "colab": {
          "base_uri": "https://localhost:8080/",
          "height": 259
        },
        "outputId": "86896058-ce89-44a8-8f94-5f19f49a9464"
      },
      "source": [
        "W"
      ],
      "execution_count": null,
      "outputs": [
        {
          "output_type": "execute_result",
          "data": {
            "text/plain": [
              "array([[0.       , 1.8073549, 0.       , 0.       , 0.       , 0.       ,\n",
              "        0.       ],\n",
              "       [1.8073549, 0.       , 0.8073549, 0.       , 0.8073549, 0.8073549,\n",
              "        0.       ],\n",
              "       [0.       , 0.8073549, 0.       , 1.8073549, 0.       , 0.       ,\n",
              "        0.       ],\n",
              "       [0.       , 0.       , 1.8073549, 0.       , 1.8073549, 0.       ,\n",
              "        0.       ],\n",
              "       [0.       , 0.8073549, 0.       , 1.8073549, 0.       , 0.       ,\n",
              "        0.       ],\n",
              "       [0.       , 0.8073549, 0.       , 0.       , 0.       , 0.       ,\n",
              "        2.807355 ],\n",
              "       [0.       , 0.       , 0.       , 0.       , 0.       , 2.807355 ,\n",
              "        0.       ]], dtype=float32)"
            ]
          },
          "metadata": {
            "tags": []
          },
          "execution_count": 65
        }
      ]
    },
    {
      "cell_type": "code",
      "metadata": {
        "id": "bmg7VeSutd_Z",
        "colab": {
          "base_uri": "https://localhost:8080/",
          "height": 35
        },
        "outputId": "ec381fd1-5af1-4b57-fd25-80f9283932ef"
      },
      "source": [
        "W.shape"
      ],
      "execution_count": null,
      "outputs": [
        {
          "output_type": "execute_result",
          "data": {
            "text/plain": [
              "(7, 7)"
            ]
          },
          "metadata": {
            "tags": []
          },
          "execution_count": 66
        }
      ]
    },
    {
      "cell_type": "code",
      "metadata": {
        "id": "ApxjukWou_2z",
        "colab": {
          "base_uri": "https://localhost:8080/",
          "height": 265
        },
        "outputId": "f76adb64-f165-436e-b144-26dde0499f1c"
      },
      "source": [
        "# SVD\n",
        "U, S, V = np.linalg.svd(W)\n",
        "\n",
        "# 繪製相對位置圖\n",
        "from matplotlib import pyplot as plt\n",
        "for word, word_id in word_to_id.items():\n",
        "  plt.annotate(word, (U[word_id, 0], U[word_id, 1]))\n",
        "plt.scatter(U[:,0], U[:,1], alpha=0.5)\n",
        "plt.show()"
      ],
      "execution_count": null,
      "outputs": [
        {
          "output_type": "display_data",
          "data": {
            "image/png": "[encoded data removed]",
            "text/plain": [
              "<Figure size 432x288 with 1 Axes>"
            ]
          },
          "metadata": {
            "tags": [],
            "needs_background": "light"
          }
        }
      ]
    },
    {
      "cell_type": "markdown",
      "metadata": {
        "id": "V-XedC-_z5Xn"
      },
      "source": [
        "## 推論手法"
      ]
    },
    {
      "cell_type": "code",
      "metadata": {
        "id": "DYA4jc4FvPDD"
      },
      "source": [
        "ary = ['a', 'b', 'c', 'a']\n",
        "ary2 = [[1,0,0],\n",
        "        [0,1,0],\n",
        "        [0,0,1],\n",
        "        [1,0,0]]"
      ],
      "execution_count": null,
      "outputs": []
    },
    {
      "cell_type": "code",
      "metadata": {
        "id": "GU8cKKBW0bca"
      },
      "source": [
        "import numpy as np\n",
        "x = np.array([1,0,0,0,0,0,0])\n",
        "w = np.random.randn(7,3)"
      ],
      "execution_count": null,
      "outputs": []
    },
    {
      "cell_type": "code",
      "metadata": {
        "id": "3IPLjy4m0jfh",
        "colab": {
          "base_uri": "https://localhost:8080/",
          "height": 138
        },
        "outputId": "2fdbf006-46d1-44a4-a3a5-9f1aa39dff15"
      },
      "source": [
        "w"
      ],
      "execution_count": null,
      "outputs": [
        {
          "output_type": "execute_result",
          "data": {
            "text/plain": [
              "array([[-0.11363084, -2.28101701,  0.18182318],\n",
              "       [-0.81678917,  0.07047548, -0.49374246],\n",
              "       [ 0.29786418, -0.48846946,  1.46198112],\n",
              "       [-0.2348319 , -0.48053544,  0.09889525],\n",
              "       [-0.86271921,  0.80345856, -0.57753841],\n",
              "       [-0.04079934,  0.02185637, -0.64610181],\n",
              "       [-0.272597  ,  0.37954465, -0.29845536]])"
            ]
          },
          "metadata": {
            "tags": []
          },
          "execution_count": 71
        }
      ]
    },
    {
      "cell_type": "code",
      "metadata": {
        "id": "xMhxpBST0kA7",
        "colab": {
          "base_uri": "https://localhost:8080/",
          "height": 35
        },
        "outputId": "c2d26387-553f-4215-c7cb-9beabae9b685"
      },
      "source": [
        "np.dot(x,w)"
      ],
      "execution_count": null,
      "outputs": [
        {
          "output_type": "execute_result",
          "data": {
            "text/plain": [
              "array([-0.11363084, -2.28101701,  0.18182318])"
            ]
          },
          "metadata": {
            "tags": []
          },
          "execution_count": 72
        }
      ]
    },
    {
      "cell_type": "markdown",
      "metadata": {
        "id": "GhbYb3ML2lk3"
      },
      "source": [
        "## Gensim"
      ]
    },
    {
      "cell_type": "code",
      "metadata": {
        "id": "Xq89lrHk0luJ"
      },
      "source": [
        "from gensim.models import word2vec\n",
        "text = 'You say goodbye and I say hello .'"
      ],
      "execution_count": null,
      "outputs": []
    },
    {
      "cell_type": "code",
      "metadata": {
        "id": "0S-dZn_s2n9I"
      },
      "source": [
        "num_features = 2 # 詞向量的維度\n",
        "min_word_count = 1 # 最少要出現幾個詞才被拿來計算\n",
        "num_workers = 1 # 使用多少個core\n",
        "context = 1 # 上下文的詞區間\n",
        "epoch = 200 # 訓練多少迭代 \n",
        "sample = 1e-5 # 每次要取多少反面的例子校正訓練結果\n",
        "model = word2vec.Word2Vec([text.split()], \n",
        "  workers = num_workers,\n",
        "  sample = sample,\n",
        "  size = num_features,\n",
        "  min_count=min_word_count,\n",
        "  window = context,\n",
        "  iter = epoch)\n"
      ],
      "execution_count": null,
      "outputs": []
    },
    {
      "cell_type": "code",
      "metadata": {
        "id": "YlpzBvYw3LKq",
        "colab": {
          "base_uri": "https://localhost:8080/",
          "height": 138
        },
        "outputId": "e7fc1936-98b2-40b1-d741-2d444a89118b"
      },
      "source": [
        "for ele in model.wv.vocab:\n",
        "  print(ele)"
      ],
      "execution_count": null,
      "outputs": [
        {
          "output_type": "stream",
          "text": [
            "You\n",
            "say\n",
            "goodbye\n",
            "and\n",
            "I\n",
            "hello\n",
            ".\n"
          ],
          "name": "stdout"
        }
      ]
    },
    {
      "cell_type": "code",
      "metadata": {
        "id": "iYr3KAbC3aBf"
      },
      "source": [
        "X = model.wv.vectors"
      ],
      "execution_count": null,
      "outputs": []
    },
    {
      "cell_type": "code",
      "metadata": {
        "id": "yUTgoFwz4G09",
        "colab": {
          "base_uri": "https://localhost:8080/",
          "height": 282
        },
        "outputId": "b7a8c64b-4089-4125-8791-ca8793af5e69"
      },
      "source": [
        "from matplotlib import pyplot as plt\n",
        "plt.scatter(X[:,0], X[:,1])"
      ],
      "execution_count": null,
      "outputs": [
        {
          "output_type": "execute_result",
          "data": {
            "text/plain": [
              "<matplotlib.collections.PathCollection at 0x7fc90a89f208>"
            ]
          },
          "metadata": {
            "tags": []
          },
          "execution_count": 98
        },
        {
          "output_type": "display_data",
          "data": {
            "image/png": "[encoded data removed]",
            "text/plain": [
              "<Figure size 432x288 with 1 Axes>"
            ]
          },
          "metadata": {
            "tags": [],
            "needs_background": "light"
          }
        }
      ]
    },
    {
      "cell_type": "code",
      "metadata": {
        "id": "AKvuBcST4TLk",
        "colab": {
          "base_uri": "https://localhost:8080/",
          "height": 265
        },
        "outputId": "13a8832d-a4a5-4b25-f8a6-41e600e9a6de"
      },
      "source": [
        "# 繪製相對位置圖\n",
        "from matplotlib import pyplot as plt\n",
        "for vocab, vec in zip(model.wv.vocab, model.wv.vectors):\n",
        "  plt.annotate(vocab, (vec[0], vec[1]))\n",
        "plt.scatter(X[:,0], X[:,1], alpha=0.5)\n",
        "plt.show()"
      ],
      "execution_count": null,
      "outputs": [
        {
          "output_type": "display_data",
          "data": {
            "image/png": "[encoded data removed]",
            "text/plain": [
              "<Figure size 432x288 with 1 Axes>"
            ]
          },
          "metadata": {
            "tags": [],
            "needs_background": "light"
          }
        }
      ]
    },
    {
      "cell_type": "code",
      "metadata": {
        "id": "dmahYwNx4xSu"
      },
      "source": [
        "import pandas\n",
        "df = pandas.read_excel('https://raw.githubusercontent.com/ywchiu/tibame_tm/master/data/yahoo_movie.xlsx', index_col=0)"
      ],
      "execution_count": null,
      "outputs": []
    },
    {
      "cell_type": "code",
      "metadata": {
        "id": "H1i4HKsq5LO4",
        "colab": {
          "base_uri": "https://localhost:8080/",
          "height": 198
        },
        "outputId": "f0a4997f-55ce-4032-eefc-cb739cc8fabd"
      },
      "source": [
        "df.head()"
      ],
      "execution_count": null,
      "outputs": [
        {
          "output_type": "execute_result",
          "data": {
            "text/html": [
              "<div>\n",
              "<style scoped>\n",
              "    .dataframe tbody tr th:only-of-type {\n",
              "        vertical-align: middle;\n",
              "    }\n",
              "\n",
              "    .dataframe tbody tr th {\n",
              "        vertical-align: top;\n",
              "    }\n",
              "\n",
              "    .dataframe thead th {\n",
              "        text-align: right;\n",
              "    }\n",
              "</style>\n",
              "<table border=\"1\" class=\"dataframe\">\n",
              "  <thead>\n",
              "    <tr style=\"text-align: right;\">\n",
              "      <th></th>\n",
              "      <th>content</th>\n",
              "      <th>stars</th>\n",
              "      <th>title</th>\n",
              "      <th>status</th>\n",
              "    </tr>\n",
              "  </thead>\n",
              "  <tbody>\n",
              "    <tr>\n",
              "      <th>0</th>\n",
              "      <td>不知道耶! 看完整個無感\\r\\n有種覺得就是女兒\"給蕭\"害死了老爸\\r\\n然後...既然可以...</td>\n",
              "      <td>3</td>\n",
              "      <td>古墓奇兵</td>\n",
              "      <td>soso</td>\n",
              "    </tr>\n",
              "    <tr>\n",
              "      <th>1</th>\n",
              "      <td>很好看的動作片，不會浪費錢跟時間。很久沒有這樣的探險片。可說是女版的印第安那瓊。女主角跟爸爸...</td>\n",
              "      <td>5</td>\n",
              "      <td>古墓奇兵</td>\n",
              "      <td>good</td>\n",
              "    </tr>\n",
              "    <tr>\n",
              "      <th>2</th>\n",
              "      <td>說這個不好看的話，那我還真不知道，還有什麼片是您可以去看得了。電影好看，但話說羅拉有裝可以撿...</td>\n",
              "      <td>5</td>\n",
              "      <td>古墓奇兵</td>\n",
              "      <td>good</td>\n",
              "    </tr>\n",
              "    <tr>\n",
              "      <th>3</th>\n",
              "      <td>父女重逢真的很讓人感動，五顆星。</td>\n",
              "      <td>5</td>\n",
              "      <td>古墓奇兵</td>\n",
              "      <td>good</td>\n",
              "    </tr>\n",
              "    <tr>\n",
              "      <th>4</th>\n",
              "      <td>劇情雖然老套，但仍拍出新意，古墓能殺人的方式不就是機關和毒，要求亂七八糟的觀眾，你看喪尸片看多了。</td>\n",
              "      <td>4</td>\n",
              "      <td>古墓奇兵</td>\n",
              "      <td>good</td>\n",
              "    </tr>\n",
              "  </tbody>\n",
              "</table>\n",
              "</div>"
            ],
            "text/plain": [
              "                                             content  stars title status\n",
              "0  不知道耶! 看完整個無感\\r\\n有種覺得就是女兒\"給蕭\"害死了老爸\\r\\n然後...既然可以...      3  古墓奇兵   soso\n",
              "1  很好看的動作片，不會浪費錢跟時間。很久沒有這樣的探險片。可說是女版的印第安那瓊。女主角跟爸爸...      5  古墓奇兵   good\n",
              "2  說這個不好看的話，那我還真不知道，還有什麼片是您可以去看得了。電影好看，但話說羅拉有裝可以撿...      5  古墓奇兵   good\n",
              "3                                   父女重逢真的很讓人感動，五顆星。      5  古墓奇兵   good\n",
              "4  劇情雖然老套，但仍拍出新意，古墓能殺人的方式不就是機關和毒，要求亂七八糟的觀眾，你看喪尸片看多了。      4  古墓奇兵   good"
            ]
          },
          "metadata": {
            "tags": []
          },
          "execution_count": 2
        }
      ]
    },
    {
      "cell_type": "code",
      "metadata": {
        "id": "_saG-91L5NBp",
        "colab": {
          "base_uri": "https://localhost:8080/",
          "height": 86
        },
        "outputId": "e1b70601-f108-4c01-bc27-94bb8b73c489"
      },
      "source": [
        "import jieba\n",
        "corpus = []\n",
        "for e in df['content'].tolist():\n",
        "    corpus.append(list(jieba.cut(e)))"
      ],
      "execution_count": null,
      "outputs": [
        {
          "output_type": "stream",
          "text": [
            "Building prefix dict from the default dictionary ...\n",
            "Loading model from cache /tmp/jieba.cache\n",
            "Loading model cost 1.083 seconds.\n",
            "Prefix dict has been built successfully.\n"
          ],
          "name": "stderr"
        }
      ]
    },
    {
      "cell_type": "code",
      "metadata": {
        "id": "F7QDVI_p5S-x"
      },
      "source": [
        "from gensim.models import word2vec\n",
        "size = 50  # 產生多少維度 \n",
        "min_count = 5 # 要算至少出現多少次數的字詞\n",
        "workers = 1 # 使用多少個core 計算, -1 使用所有的core 進行計算 \n",
        "window = 10  # 上下文的區間\n",
        "iter = 1000 # 神經網路訓練的迭代數\n",
        "sample = 1e-5 # 取樣的數量\n",
        "model = word2vec.Word2Vec(corpus, \n",
        "                          workers = workers,\n",
        "                          sample = sample,\n",
        "                          size = size,\n",
        "                          min_count=min_count,\n",
        "                          window = window,\n",
        "                          iter = iter)"
      ],
      "execution_count": null,
      "outputs": []
    },
    {
      "cell_type": "code",
      "metadata": {
        "id": "dDHADS6I5jaV"
      },
      "source": [
        "#for ele in model.wv.vocab:\n",
        "#  print(ele)"
      ],
      "execution_count": null,
      "outputs": []
    },
    {
      "cell_type": "code",
      "metadata": {
        "id": "17L5oM_t5pWu",
        "colab": {
          "base_uri": "https://localhost:8080/",
          "height": 245
        },
        "outputId": "f759cc09-1548-45cd-ac2c-d31a5347bc04"
      },
      "source": [
        "model.wv.most_similar('👍')"
      ],
      "execution_count": null,
      "outputs": [
        {
          "output_type": "stream",
          "text": [
            "/usr/local/lib/python3.6/dist-packages/gensim/matutils.py:737: FutureWarning: Conversion of the second argument of issubdtype from `int` to `np.signedinteger` is deprecated. In future, it will be treated as `np.int64 == np.dtype(int).type`.\n",
            "  if np.issubdtype(vec.dtype, np.int):\n"
          ],
          "name": "stderr"
        },
        {
          "output_type": "execute_result",
          "data": {
            "text/plain": [
              "[('a', 0.6580150127410889),\n",
              " ('star', 0.5701409578323364),\n",
              " ('相當', 0.5667032599449158),\n",
              " ('棒', 0.5639420747756958),\n",
              " ('看看', 0.5573347806930542),\n",
              " ('com', 0.5561683773994446),\n",
              " ('wars', 0.5524141192436218),\n",
              " ('the', 0.5496267676353455),\n",
              " ('_', 0.5442939400672913),\n",
              " ('老套', 0.5302605032920837)]"
            ]
          },
          "metadata": {
            "tags": []
          },
          "execution_count": 67
        }
      ]
    },
    {
      "cell_type": "code",
      "metadata": {
        "id": "45Sd7pR956FB",
        "colab": {
          "base_uri": "https://localhost:8080/",
          "height": 207
        },
        "outputId": "0ab9aa66-ab2e-421e-bde6-8ede45452bdb"
      },
      "source": [
        "model.wv.get_vector('👍')"
      ],
      "execution_count": null,
      "outputs": [
        {
          "output_type": "execute_result",
          "data": {
            "text/plain": [
              "array([ 0.6412823 ,  0.00452362, -0.2523717 , -0.3334135 ,  0.02188251,\n",
              "        0.14087236,  0.24367672,  0.29993   ,  0.6172898 ,  0.36646914,\n",
              "        0.26503778, -0.23044227, -0.73433864,  0.6043031 , -0.15890425,\n",
              "        0.5751475 ,  0.53048533,  0.31707993, -0.7958299 , -0.3394669 ,\n",
              "        0.13548222, -0.7305893 ,  0.31790408, -1.1960926 ,  0.27859682,\n",
              "       -0.9770185 , -0.32406923, -0.93176055, -0.74609417,  0.5829254 ,\n",
              "       -0.34737042, -0.18891773,  0.65787023, -0.51573837,  0.6157075 ,\n",
              "        0.04488486,  0.8019844 , -0.16867593, -0.9641219 ,  0.12756662,\n",
              "       -0.04053233,  0.49942264, -0.22461203,  1.3212385 ,  0.39320895,\n",
              "        0.05062547, -0.40510428, -0.30787936,  0.503973  ,  0.4039152 ],\n",
              "      dtype=float32)"
            ]
          },
          "metadata": {
            "tags": []
          },
          "execution_count": 68
        }
      ]
    },
    {
      "cell_type": "code",
      "metadata": {
        "id": "rDAsxqLn6M8o"
      },
      "source": [
        "import jieba\n",
        "corpus = []\n",
        "tags = []\n",
        "for idx,rec in df[df['status'].isin(['good', 'bad'])].iterrows():\n",
        "  corpus.append(list(jieba.cut(rec.get('content'))))\n",
        "  tags.append(rec.get('status'))\n"
      ],
      "execution_count": null,
      "outputs": []
    },
    {
      "cell_type": "code",
      "metadata": {
        "id": "9SpQrl4l6jXv",
        "colab": {
          "base_uri": "https://localhost:8080/",
          "height": 190
        },
        "outputId": "7fd91678-e2f0-45dd-8955-61ad6192f967"
      },
      "source": [
        "import numpy as np\n",
        "size = 50\n",
        "cnt = 0\n",
        "vec = np.zeros(size).reshape((1, size))\n",
        "#print(vec.shape)\n",
        "for word in corpus[0]:\n",
        "  try:\n",
        "    #print(model.wv.get_vector(word))\n",
        "    vec += model.wv.get_vector(word)\n",
        "    cnt += 1\n",
        "  except:\n",
        "    pass\n",
        "vec / cnt"
      ],
      "execution_count": null,
      "outputs": [
        {
          "output_type": "execute_result",
          "data": {
            "text/plain": [
              "array([[ 0.28571216,  0.20230192,  0.31012992,  0.2602925 , -0.15251466,\n",
              "         0.31561601,  0.24881927, -0.01707409, -0.15246035, -0.30656449,\n",
              "        -0.01506101,  0.17574565,  0.18222489,  0.24602654,  0.13019382,\n",
              "        -0.07290179,  0.10569511,  0.06099597, -0.23694967, -0.18007684,\n",
              "         0.04471002, -0.10933389, -0.54539086,  0.09353109,  0.02603945,\n",
              "        -0.17587868,  0.04498044,  0.31979906, -0.42033778,  0.26001707,\n",
              "        -0.04630601,  0.41710235, -0.00438447,  0.30112067, -0.04178048,\n",
              "        -0.3305168 ,  0.10768118,  0.03119493,  0.26985963,  0.1824762 ,\n",
              "         0.58245379, -0.35988507, -0.30655328,  0.14122401, -0.20591723,\n",
              "        -0.06301917,  0.29270713,  0.33957397,  0.00223256,  0.53710235]])"
            ]
          },
          "metadata": {
            "tags": []
          },
          "execution_count": 85
        }
      ]
    },
    {
      "cell_type": "code",
      "metadata": {
        "id": "GBRdjPb6658w",
        "colab": {
          "base_uri": "https://localhost:8080/",
          "height": 72
        },
        "outputId": "5c4ca5f6-757f-4209-dc9c-b0bb9d9c1384"
      },
      "source": [
        "import numpy as np\n",
        "vecs = []\n",
        "y = []\n",
        "size = 50\n",
        "for tag, s in zip(tags, corpus):\n",
        "    vec = np.zeros(size).reshape((1, size))\n",
        "    cnt = 0\n",
        "    for w in s:\n",
        "        if w in model:\n",
        "            vec += model.wv.get_vector(w)\n",
        "            cnt += 1\n",
        "    if cnt > 0:\n",
        "      vecs.append(vec / cnt)\n",
        "      y.append(tag)"
      ],
      "execution_count": null,
      "outputs": [
        {
          "output_type": "stream",
          "text": [
            "/usr/local/lib/python3.6/dist-packages/ipykernel_launcher.py:9: DeprecationWarning: Call to deprecated `__contains__` (Method will be removed in 4.0.0, use self.wv.__contains__() instead).\n",
            "  if __name__ == '__main__':\n"
          ],
          "name": "stderr"
        }
      ]
    },
    {
      "cell_type": "code",
      "metadata": {
        "id": "ArtSfRtr74u7",
        "colab": {
          "base_uri": "https://localhost:8080/",
          "height": 35
        },
        "outputId": "c9eebe65-e9ff-4ea6-f015-1d8d64e07766"
      },
      "source": [
        "len(vecs)"
      ],
      "execution_count": null,
      "outputs": [
        {
          "output_type": "execute_result",
          "data": {
            "text/plain": [
              "963"
            ]
          },
          "metadata": {
            "tags": []
          },
          "execution_count": 95
        }
      ]
    },
    {
      "cell_type": "code",
      "metadata": {
        "id": "aAcMyhwBWBMc",
        "colab": {
          "base_uri": "https://localhost:8080/",
          "height": 190
        },
        "outputId": "29e72dbb-231a-49df-a39e-ffcb3f54ff7d"
      },
      "source": [
        "vecs[0]"
      ],
      "execution_count": null,
      "outputs": [
        {
          "output_type": "execute_result",
          "data": {
            "text/plain": [
              "array([[ 0.28571216,  0.20230192,  0.31012992,  0.2602925 , -0.15251466,\n",
              "         0.31561601,  0.24881927, -0.01707409, -0.15246035, -0.30656449,\n",
              "        -0.01506101,  0.17574565,  0.18222489,  0.24602654,  0.13019382,\n",
              "        -0.07290179,  0.10569511,  0.06099597, -0.23694967, -0.18007684,\n",
              "         0.04471002, -0.10933389, -0.54539086,  0.09353109,  0.02603945,\n",
              "        -0.17587868,  0.04498044,  0.31979906, -0.42033778,  0.26001707,\n",
              "        -0.04630601,  0.41710235, -0.00438447,  0.30112067, -0.04178048,\n",
              "        -0.3305168 ,  0.10768118,  0.03119493,  0.26985963,  0.1824762 ,\n",
              "         0.58245379, -0.35988507, -0.30655328,  0.14122401, -0.20591723,\n",
              "        -0.06301917,  0.29270713,  0.33957397,  0.00223256,  0.53710235]])"
            ]
          },
          "metadata": {
            "tags": []
          },
          "execution_count": 96
        }
      ]
    },
    {
      "cell_type": "code",
      "metadata": {
        "id": "23Ll0hOx8Gqh"
      },
      "source": [
        "X = np.concatenate(vecs, axis = 0)"
      ],
      "execution_count": null,
      "outputs": []
    },
    {
      "cell_type": "code",
      "metadata": {
        "id": "YkK0L7lI8Kuw"
      },
      "source": [
        "# 建立訓練與測試資料集\n",
        "from sklearn.model_selection import train_test_split\n",
        "train_X, test_X, train_y, test_y = train_test_split(X, y, test_size = 0.2, random_state = 42)"
      ],
      "execution_count": null,
      "outputs": []
    },
    {
      "cell_type": "code",
      "metadata": {
        "id": "9nfKvnG6XuUX"
      },
      "source": [
        "#np.argwhere(np.isnan(X))"
      ],
      "execution_count": null,
      "outputs": []
    },
    {
      "cell_type": "code",
      "metadata": {
        "id": "GYJGhe-T8NLu",
        "colab": {
          "base_uri": "https://localhost:8080/",
          "height": 86
        },
        "outputId": "f149ca76-8850-4095-d973-e3e25dff41a8"
      },
      "source": [
        "# 建立模型\n",
        "from sklearn.svm import SVC\n",
        "clf = SVC(kernel = 'linear')\n",
        "clf.fit(train_X, train_y)"
      ],
      "execution_count": null,
      "outputs": [
        {
          "output_type": "execute_result",
          "data": {
            "text/plain": [
              "SVC(C=1.0, break_ties=False, cache_size=200, class_weight=None, coef0=0.0,\n",
              "    decision_function_shape='ovr', degree=3, gamma='scale', kernel='linear',\n",
              "    max_iter=-1, probability=False, random_state=None, shrinking=True,\n",
              "    tol=0.001, verbose=False)"
            ]
          },
          "metadata": {
            "tags": []
          },
          "execution_count": 100
        }
      ]
    },
    {
      "cell_type": "code",
      "metadata": {
        "id": "TK1XrEzo8OTM"
      },
      "source": [
        "pred_y = clf.predict(test_X)"
      ],
      "execution_count": null,
      "outputs": []
    },
    {
      "cell_type": "code",
      "metadata": {
        "id": "ufRNTWFQ8jUT",
        "colab": {
          "base_uri": "https://localhost:8080/",
          "height": 35
        },
        "outputId": "8bf85fdb-6909-452e-e083-7150a1916ce4"
      },
      "source": [
        "from sklearn.metrics import accuracy_score, confusion_matrix\n",
        "accuracy_score(test_y,pred_y)"
      ],
      "execution_count": null,
      "outputs": [
        {
          "output_type": "execute_result",
          "data": {
            "text/plain": [
              "0.7409326424870466"
            ]
          },
          "metadata": {
            "tags": []
          },
          "execution_count": 102
        }
      ]
    },
    {
      "cell_type": "code",
      "metadata": {
        "id": "o-hjH8sf8tFJ",
        "colab": {
          "base_uri": "https://localhost:8080/",
          "height": 52
        },
        "outputId": "d1714113-d35b-49ec-fe36-64402816e607"
      },
      "source": [
        "confusion_matrix(test_y,pred_y)"
      ],
      "execution_count": null,
      "outputs": [
        {
          "output_type": "execute_result",
          "data": {
            "text/plain": [
              "array([[50, 30],\n",
              "       [20, 93]])"
            ]
          },
          "metadata": {
            "tags": []
          },
          "execution_count": 103
        }
      ]
    },
    {
      "cell_type": "code",
      "metadata": {
        "id": "tfn-AUkC83q5",
        "colab": {
          "base_uri": "https://localhost:8080/",
          "height": 86
        },
        "outputId": "714d3dff-b4b5-4424-c847-a9dc1023406b"
      },
      "source": [
        "#! gdown https://drive.google.com/file/d/1tj0fszpULth9L2F2yVqRKmRAHi8xD_uc/view\n",
        "! gdown https://drive.google.com/uc?id=1tj0fszpULth9L2F2yVqRKmRAHi8xD_uc"
      ],
      "execution_count": null,
      "outputs": [
        {
          "output_type": "stream",
          "text": [
            "Downloading...\n",
            "From: https://drive.google.com/uc?id=1tj0fszpULth9L2F2yVqRKmRAHi8xD_uc\n",
            "To: /content/zh_wiki_word2vec_300.zip\n",
            "888MB [00:07, 123MB/s] \n"
          ],
          "name": "stdout"
        }
      ]
    },
    {
      "cell_type": "code",
      "metadata": {
        "id": "-Pk-djun_gOp",
        "colab": {
          "base_uri": "https://localhost:8080/",
          "height": 52
        },
        "outputId": "664cbc08-eef9-494e-9c0f-540c55ffd09a"
      },
      "source": [
        "! unzip zh_wiki_word2vec_300.zip"
      ],
      "execution_count": null,
      "outputs": [
        {
          "output_type": "stream",
          "text": [
            "Archive:  zh_wiki_word2vec_300.zip\n",
            "  inflating: zh_wiki_word2vec_300.txt  \n"
          ],
          "name": "stdout"
        }
      ]
    },
    {
      "cell_type": "code",
      "metadata": {
        "id": "Plx5pQL3_icP"
      },
      "source": [
        "from gensim.models import word2vec"
      ],
      "execution_count": null,
      "outputs": []
    },
    {
      "cell_type": "code",
      "metadata": {
        "id": "1N5B2JOm_tDX",
        "colab": {
          "base_uri": "https://localhost:8080/",
          "height": 72
        },
        "outputId": "0b2a29d6-fbf5-4e61-ba98-c06001f96e15"
      },
      "source": [
        "import gensim\n",
        "model = gensim.models.KeyedVectors.load_word2vec_format('zh_wiki_word2vec_300.txt', binary=False)"
      ],
      "execution_count": null,
      "outputs": [
        {
          "output_type": "stream",
          "text": [
            "/usr/local/lib/python3.6/dist-packages/smart_open/smart_open_lib.py:254: UserWarning: This function is deprecated, use smart_open.open instead. See the migration notes for details: https://github.com/RaRe-Technologies/smart_open/blob/master/README.rst#migrating-to-the-new-open-function\n",
            "  'See the migration notes for details: %s' % _MIGRATION_NOTES_URL\n"
          ],
          "name": "stderr"
        }
      ]
    },
    {
      "cell_type": "code",
      "metadata": {
        "id": "rdDYNsgcAdl0",
        "colab": {
          "base_uri": "https://localhost:8080/",
          "height": 279
        },
        "outputId": "10001acf-765b-4685-cdb8-5adc61e1cb0f"
      },
      "source": [
        "model.wv.most_similar('貓')"
      ],
      "execution_count": null,
      "outputs": [
        {
          "output_type": "stream",
          "text": [
            "/usr/local/lib/python3.6/dist-packages/ipykernel_launcher.py:1: DeprecationWarning: Call to deprecated `wv` (Attribute will be removed in 4.0.0, use self instead).\n",
            "  \"\"\"Entry point for launching an IPython kernel.\n",
            "/usr/local/lib/python3.6/dist-packages/gensim/matutils.py:737: FutureWarning: Conversion of the second argument of issubdtype from `int` to `np.signedinteger` is deprecated. In future, it will be treated as `np.int64 == np.dtype(int).type`.\n",
            "  if np.issubdtype(vec.dtype, np.int):\n"
          ],
          "name": "stderr"
        },
        {
          "output_type": "execute_result",
          "data": {
            "text/plain": [
              "[('貍', 0.6560509204864502),\n",
              " ('豬', 0.6342272758483887),\n",
              " ('貓的', 0.6134812831878662),\n",
              " ('貓與', 0.5769718885421753),\n",
              " ('隻', 0.5707628726959229),\n",
              " ('的貓', 0.564104437828064),\n",
              " ('貓和', 0.5567063689231873),\n",
              " ('小貓', 0.5559827089309692),\n",
              " ('老鼠', 0.553476870059967),\n",
              " ('山羊', 0.5511968731880188)]"
            ]
          },
          "metadata": {
            "tags": []
          },
          "execution_count": 105
        }
      ]
    },
    {
      "cell_type": "code",
      "metadata": {
        "id": "Afh3JbH-AEmc",
        "colab": {
          "base_uri": "https://localhost:8080/",
          "height": 72
        },
        "outputId": "b6d4fd05-75c9-4168-86c3-15e4f3cea7d8"
      },
      "source": [
        "import jieba\n",
        "for w in model.wv.vocab:\n",
        "  jieba.add_word(w)\n",
        "  \n",
        "corpus = []\n",
        "tags = []\n",
        "for idx,rec in df[df['status'].isin(['good', 'bad'])].iterrows():\n",
        "  corpus.append(list(jieba.cut(rec.get('content'))))\n",
        "  tags.append(rec.get('status'))\n"
      ],
      "execution_count": null,
      "outputs": [
        {
          "output_type": "stream",
          "text": [
            "/usr/local/lib/python3.6/dist-packages/ipykernel_launcher.py:2: DeprecationWarning: Call to deprecated `wv` (Attribute will be removed in 4.0.0, use self instead).\n",
            "  \n"
          ],
          "name": "stderr"
        }
      ]
    },
    {
      "cell_type": "code",
      "metadata": {
        "id": "MKcnW3F2BoHK",
        "colab": {
          "base_uri": "https://localhost:8080/",
          "height": 72
        },
        "outputId": "d5b67bab-b249-477a-9082-faf426a624fc"
      },
      "source": [
        "import numpy as np\n",
        "vecs = []\n",
        "y = []\n",
        "size = 300\n",
        "for tag, s in zip(tags, corpus):\n",
        "    vec = np.zeros(size).reshape((1, size))\n",
        "    cnt = 0\n",
        "    for w in s:\n",
        "        if w in model:\n",
        "            vec += model.wv.get_vector(w)\n",
        "            cnt += 1\n",
        "    if cnt > 0:\n",
        "      vecs.append(vec / cnt)\n",
        "      y.append(tag)"
      ],
      "execution_count": null,
      "outputs": [
        {
          "output_type": "stream",
          "text": [
            "/usr/local/lib/python3.6/dist-packages/ipykernel_launcher.py:10: DeprecationWarning: Call to deprecated `wv` (Attribute will be removed in 4.0.0, use self instead).\n",
            "  # Remove the CWD from sys.path while we load stuff.\n"
          ],
          "name": "stderr"
        }
      ]
    },
    {
      "cell_type": "code",
      "metadata": {
        "id": "CRqNXX8qBrKS"
      },
      "source": [
        "X = np.concatenate(vecs, axis = 0)"
      ],
      "execution_count": null,
      "outputs": []
    },
    {
      "cell_type": "code",
      "metadata": {
        "id": "j6nAI3cSBxd1",
        "colab": {
          "base_uri": "https://localhost:8080/",
          "height": 35
        },
        "outputId": "ca12b605-5d60-4cf9-b160-051970682a37"
      },
      "source": [
        "X.shape"
      ],
      "execution_count": null,
      "outputs": [
        {
          "output_type": "execute_result",
          "data": {
            "text/plain": [
              "(966, 300)"
            ]
          },
          "metadata": {
            "tags": []
          },
          "execution_count": 114
        }
      ]
    },
    {
      "cell_type": "code",
      "metadata": {
        "id": "u0sJT-BHBx8B"
      },
      "source": [
        "# 建立訓練與測試資料集\n",
        "from sklearn.model_selection import train_test_split\n",
        "train_X, test_X, train_y, test_y = train_test_split(X, y, test_size = 0.2, random_state = 42)"
      ],
      "execution_count": null,
      "outputs": []
    },
    {
      "cell_type": "code",
      "metadata": {
        "id": "mySVj7fVB2aa",
        "colab": {
          "base_uri": "https://localhost:8080/",
          "height": 86
        },
        "outputId": "880197e4-d7e7-4075-94d1-f80e1d6b529b"
      },
      "source": [
        "# 建立模型\n",
        "from sklearn.svm import SVC\n",
        "#from sklearn.ensemble import GradientBoostingClassifier\n",
        "clf = SVC(kernel='linear')\n",
        "clf.fit(train_X, train_y)"
      ],
      "execution_count": null,
      "outputs": [
        {
          "output_type": "execute_result",
          "data": {
            "text/plain": [
              "SVC(C=1.0, break_ties=False, cache_size=200, class_weight=None, coef0=0.0,\n",
              "    decision_function_shape='ovr', degree=3, gamma='scale', kernel='linear',\n",
              "    max_iter=-1, probability=False, random_state=None, shrinking=True,\n",
              "    tol=0.001, verbose=False)"
            ]
          },
          "metadata": {
            "tags": []
          },
          "execution_count": 127
        }
      ]
    },
    {
      "cell_type": "code",
      "metadata": {
        "id": "F-tBUg_8B7EL"
      },
      "source": [
        "pred_y = clf.predict(test_X)"
      ],
      "execution_count": null,
      "outputs": []
    },
    {
      "cell_type": "code",
      "metadata": {
        "id": "E6F_r1gpCBtC",
        "colab": {
          "base_uri": "https://localhost:8080/",
          "height": 35
        },
        "outputId": "0a10bbc8-12ad-48a1-a3eb-d5120cbe83ab"
      },
      "source": [
        "from sklearn.metrics import accuracy_score, confusion_matrix\n",
        "accuracy_score(test_y,pred_y)"
      ],
      "execution_count": null,
      "outputs": [
        {
          "output_type": "execute_result",
          "data": {
            "text/plain": [
              "0.7680412371134021"
            ]
          },
          "metadata": {
            "tags": []
          },
          "execution_count": 129
        }
      ]
    },
    {
      "cell_type": "code",
      "metadata": {
        "id": "BMkplTh5CERa",
        "colab": {
          "base_uri": "https://localhost:8080/",
          "height": 52
        },
        "outputId": "6751728f-f17f-4097-f94f-8809575570fa"
      },
      "source": [
        "confusion_matrix(test_y,pred_y)"
      ],
      "execution_count": null,
      "outputs": [
        {
          "output_type": "execute_result",
          "data": {
            "text/plain": [
              "array([[54, 32],\n",
              "       [13, 95]])"
            ]
          },
          "metadata": {
            "tags": []
          },
          "execution_count": 130
        }
      ]
    }
  ]
}