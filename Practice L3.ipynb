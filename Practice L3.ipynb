{
  "cells": [
    {
      "cell_type": "markdown",
      "metadata": {
        "id": "LujkkLZTSzT0"
      },
      "source": [
        "## 作業二"
      ]
    },
    {
      "cell_type": "code",
      "execution_count": 35,
      "metadata": {
        "colab": {
          "base_uri": "https://localhost:8080/"
        },
        "id": "2eTufyGvRUTP",
        "outputId": "cdc27990-d05c-4491-f36e-cac0515330bd"
      },
      "outputs": [
        {
          "output_type": "stream",
          "name": "stdout",
          "text": [
            "--2022-10-26 07:33:34--  https://raw.githubusercontent.com/ywchiu/tibame_tm/master/data/article.txt\n",
            "Resolving raw.githubusercontent.com (raw.githubusercontent.com)... 185.199.108.133, 185.199.109.133, 185.199.110.133, ...\n",
            "Connecting to raw.githubusercontent.com (raw.githubusercontent.com)|185.199.108.133|:443... connected.\n",
            "HTTP request sent, awaiting response... 200 OK\n",
            "Length: 17982 (18K) [text/plain]\n",
            "Saving to: ‘article.txt.1’\n",
            "\n",
            "\rarticle.txt.1         0%[                    ]       0  --.-KB/s               \rarticle.txt.1       100%[===================>]  17.56K  --.-KB/s    in 0s      \n",
            "\n",
            "2022-10-26 07:33:34 (126 MB/s) - ‘article.txt.1’ saved [17982/17982]\n",
            "\n"
          ]
        }
      ],
      "source": [
        "! wget https://raw.githubusercontent.com/ywchiu/tibame_tm/master/data/article.txt"
      ]
    },
    {
      "cell_type": "code",
      "execution_count": 36,
      "metadata": {
        "id": "csqstx2qTDNX"
      },
      "outputs": [],
      "source": [
        "import requests \n",
        "res = requests.get('https://raw.githubusercontent.com/ywchiu/tibame_tm/master/data/article.txt')\n",
        "with open('article2.txt', 'w') as f:\n",
        "  f.write(res.text)"
      ]
    },
    {
      "cell_type": "code",
      "execution_count": 37,
      "metadata": {
        "id": "bHHkNoQ6TPkL"
      },
      "outputs": [],
      "source": [
        "with open('article.txt', encoding = 'utf-8') as f:\n",
        "  data = f.read()"
      ]
    },
    {
      "cell_type": "code",
      "execution_count": 38,
      "metadata": {
        "id": "kIhr69wXTWj7"
      },
      "outputs": [],
      "source": [
        "import jieba\n",
        "#list(jieba.cut(data))"
      ]
    },
    {
      "cell_type": "code",
      "execution_count": 39,
      "metadata": {
        "id": "TuMmBlbuTXFb"
      },
      "outputs": [],
      "source": [
        "words = jieba.lcut(data)"
      ]
    },
    {
      "cell_type": "code",
      "execution_count": 40,
      "metadata": {
        "colab": {
          "base_uri": "https://localhost:8080/"
        },
        "id": "W_XKdnIWTzIO",
        "outputId": "83139cb2-2b9f-4af0-8d50-e101f0be5837"
      },
      "outputs": [
        {
          "output_type": "execute_result",
          "data": {
            "text/plain": [
              "list"
            ]
          },
          "metadata": {},
          "execution_count": 40
        }
      ],
      "source": [
        "type(words)"
      ]
    },
    {
      "cell_type": "markdown",
      "metadata": {
        "id": "hKhRPG0TUFc2"
      },
      "source": [
        "### 方法一"
      ]
    },
    {
      "cell_type": "code",
      "execution_count": 41,
      "metadata": {
        "colab": {
          "base_uri": "https://localhost:8080/"
        },
        "id": "nNk5ZVKMUNLb",
        "outputId": "3fc953e1-0214-41b5-f46d-393b1164cca8"
      },
      "outputs": [
        {
          "output_type": "execute_result",
          "data": {
            "text/plain": [
              "{1: 4, 2: 2, 3: 1}"
            ]
          },
          "metadata": {},
          "execution_count": 41
        }
      ],
      "source": [
        "a = [1,1,2,2,1,3,1]\n",
        "dic = {}\n",
        "for w in a:\n",
        "  if w not in dic:\n",
        "    dic[w] = 1\n",
        "  else:\n",
        "    dic[w] = dic[w] + 1\n",
        "dic"
      ]
    },
    {
      "cell_type": "code",
      "execution_count": 42,
      "metadata": {
        "id": "zmTPueA9T_MO"
      },
      "outputs": [],
      "source": [
        "dic = {}\n",
        "for word in words:\n",
        "  if len(word) >= 2:\n",
        "    if word not in dic:\n",
        "      dic[word] = 1\n",
        "    else:\n",
        "      dic[word] = dic[word] + 1"
      ]
    },
    {
      "cell_type": "code",
      "execution_count": 43,
      "metadata": {
        "colab": {
          "base_uri": "https://localhost:8080/"
        },
        "id": "TNLEkZQzUjJm",
        "outputId": "f5e88e0e-2163-4138-cc03-ea87d8247914"
      },
      "outputs": [
        {
          "output_type": "execute_result",
          "data": {
            "text/plain": [
              "[('我們', 68),\n",
              " ('台灣', 41),\n",
              " ('發展', 26),\n",
              " ('產業', 24),\n",
              " ('國家', 22),\n",
              " ('未來', 20),\n",
              " ('人民', 18),\n",
              " ('社會', 18),\n",
              " ('全球', 18),\n",
              " ('國際', 17)]"
            ]
          },
          "metadata": {},
          "execution_count": 43
        }
      ],
      "source": [
        "swd = sorted(dic.items(), key = lambda e: e[1], reverse=True)\n",
        "swd[0:10]"
      ]
    },
    {
      "cell_type": "markdown",
      "metadata": {
        "id": "v_z6XqlPU4Xp"
      },
      "source": [
        "### 方法二"
      ]
    },
    {
      "cell_type": "code",
      "execution_count": 44,
      "metadata": {
        "id": "HAmltqulUj2I"
      },
      "outputs": [],
      "source": [
        "dic = {}\n",
        "for word in words:\n",
        "  if len(word) >= 2:\n",
        "    dic[word] = dic.get(word, 0) + 1"
      ]
    },
    {
      "cell_type": "code",
      "execution_count": 45,
      "metadata": {
        "colab": {
          "base_uri": "https://localhost:8080/"
        },
        "id": "D4Jp3GvCVDgL",
        "outputId": "9d49c573-f7d5-4c5a-84d4-5b8ada83e54d"
      },
      "outputs": [
        {
          "output_type": "execute_result",
          "data": {
            "text/plain": [
              "[('我們', 68),\n",
              " ('台灣', 41),\n",
              " ('發展', 26),\n",
              " ('產業', 24),\n",
              " ('國家', 22),\n",
              " ('未來', 20),\n",
              " ('人民', 18),\n",
              " ('社會', 18),\n",
              " ('全球', 18),\n",
              " ('國際', 17)]"
            ]
          },
          "metadata": {},
          "execution_count": 45
        }
      ],
      "source": [
        "swd = sorted(dic.items(), key = lambda e: e[1], reverse=True)\n",
        "swd[0:10]"
      ]
    },
    {
      "cell_type": "markdown",
      "metadata": {
        "id": "3-X2DvlQVGb9"
      },
      "source": [
        "### 方法三"
      ]
    },
    {
      "cell_type": "code",
      "execution_count": 46,
      "metadata": {
        "colab": {
          "base_uri": "https://localhost:8080/"
        },
        "id": "CW5_8YonVEzT",
        "outputId": "d04f4011-28a1-4ead-c17c-9d7b290b802d"
      },
      "outputs": [
        {
          "output_type": "execute_result",
          "data": {
            "text/plain": [
              "[('我們', 68),\n",
              " ('台灣', 41),\n",
              " ('發展', 26),\n",
              " ('產業', 24),\n",
              " ('國家', 22),\n",
              " ('未來', 20),\n",
              " ('人民', 18),\n",
              " ('社會', 18),\n",
              " ('全球', 18),\n",
              " ('國際', 17)]"
            ]
          },
          "metadata": {},
          "execution_count": 46
        }
      ],
      "source": [
        "from collections import Counter\n",
        "c = Counter([w for w in words if len(w) >=2])\n",
        "c.most_common(10)"
      ]
    },
    {
      "cell_type": "code",
      "execution_count": 47,
      "metadata": {
        "id": "WPWOsVMkVP3E"
      },
      "outputs": [],
      "source": [
        "import wordcloud"
      ]
    },
    {
      "cell_type": "code",
      "execution_count": 48,
      "metadata": {
        "colab": {
          "base_uri": "https://localhost:8080/",
          "height": 217
        },
        "id": "DosyWkGUVcLU",
        "outputId": "72abf4b1-7771-4f1c-a7e0-72077f5ec11f"
      },
      "outputs": [
        {
          "output_type": "execute_result",
          "data": {
            "text/plain": [
              "<PIL.Image.Image image mode=RGB size=400x200 at 0x7F996B410890>"
            ],
            "image/png": "[encoded data removed]"
          },
          "metadata": {},
          "execution_count": 48
        }
      ],
      "source": [
        "from wordcloud import WordCloud\n",
        "wordcloud = WordCloud(background_color=\"white\", max_words=5000, contour_width=3, contour_color='steelblue')\n",
        "wordcloud.generate(' '.join(jieba.cut(data)))\n",
        "wordcloud.to_image()"
      ]
    },
    {
      "cell_type": "code",
      "execution_count": 49,
      "metadata": {
        "colab": {
          "base_uri": "https://localhost:8080/"
        },
        "id": "U8fwOQsGVwe6",
        "outputId": "40dbffde-de53-4dcb-cb24-d09f5ebffbb2"
      },
      "outputs": [
        {
          "output_type": "stream",
          "name": "stdout",
          "text": [
            "--2022-10-26 07:33:36--  https://noto-website-2.storage.googleapis.com/pkgs/NotoSansCJKtc-hinted.zip\n",
            "Resolving noto-website-2.storage.googleapis.com (noto-website-2.storage.googleapis.com)... 142.250.81.208, 2607:f8b0:4004:82f::2010\n",
            "Connecting to noto-website-2.storage.googleapis.com (noto-website-2.storage.googleapis.com)|142.250.81.208|:443... connected.\n",
            "HTTP request sent, awaiting response... 200 OK\n",
            "Length: 121247366 (116M) [application/zip]\n",
            "Saving to: ‘NotoSansCJKtc-hinted.zip.1’\n",
            "\n",
            "NotoSansCJKtc-hinte 100%[===================>] 115.63M   142MB/s    in 0.8s    \n",
            "\n",
            "2022-10-26 07:33:37 (142 MB/s) - ‘NotoSansCJKtc-hinted.zip.1’ saved [121247366/121247366]\n",
            "\n"
          ]
        }
      ],
      "source": [
        "! wget https://noto-website-2.storage.googleapis.com/pkgs/NotoSansCJKtc-hinted.zip"
      ]
    },
    {
      "cell_type": "code",
      "execution_count": 50,
      "metadata": {
        "colab": {
          "base_uri": "https://localhost:8080/"
        },
        "id": "j-YX1YUNV2Ld",
        "outputId": "91c3261c-bfd2-48e8-8543-7d3d32709535"
      },
      "outputs": [
        {
          "output_type": "stream",
          "name": "stdout",
          "text": [
            "Archive:  NotoSansCJKtc-hinted.zip\n",
            "replace LICENSE_OFL.txt? [y]es, [n]o, [A]ll, [N]one, [r]ename: "
          ]
        }
      ],
      "source": [
        "\n",
        "! unzip NotoSansCJKtc-hinted.zip"
      ]
    },
    {
      "cell_type": "code",
      "execution_count": 51,
      "metadata": {
        "colab": {
          "base_uri": "https://localhost:8080/",
          "height": 217
        },
        "id": "zBbrAtZhV5fv",
        "outputId": "448bc07b-fb6f-41c9-e5d6-99a0ed4093af"
      },
      "outputs": [
        {
          "output_type": "execute_result",
          "data": {
            "text/plain": [
              "<PIL.Image.Image image mode=RGB size=400x200 at 0x7F9966690910>"
            ],
            "image/png": "[encoded data removed]"
          },
          "metadata": {},
          "execution_count": 51
        }
      ],
      "source": [
        "wc = WordCloud(background_color='white',font_path='/content/NotoSansCJKtc-Regular.otf')\n",
        "wc.generate(' '.join(jieba.cut(data)))\n",
        "wc.to_image()"
      ]
    },
    {
      "cell_type": "markdown",
      "metadata": {
        "id": "8AO5RRiSYN4I"
      },
      "source": [
        "## 詞頻矩陣"
      ]
    },
    {
      "cell_type": "code",
      "execution_count": 52,
      "metadata": {
        "id": "9zD8vc3OWARD"
      },
      "outputs": [],
      "source": [
        "sentences = [\"How to format my hard disk\", \"Hard disk format problems\"]"
      ]
    },
    {
      "cell_type": "code",
      "execution_count": 53,
      "metadata": {
        "id": "ApvaDTeSYTW5"
      },
      "outputs": [],
      "source": [
        "words_set = []\n",
        "for sentence in sentences:\n",
        "  words = sentence.lower().split()\n",
        "  words_set = words_set + words"
      ]
    },
    {
      "cell_type": "code",
      "execution_count": 54,
      "metadata": {
        "colab": {
          "base_uri": "https://localhost:8080/"
        },
        "id": "Q1Vd8twFYed-",
        "outputId": "e97e14c8-b293-4324-9e54-0ac93067f45c"
      },
      "outputs": [
        {
          "output_type": "execute_result",
          "data": {
            "text/plain": [
              "{'disk', 'format', 'hard', 'how', 'my', 'problems', 'to'}"
            ]
          },
          "metadata": {},
          "execution_count": 54
        }
      ],
      "source": [
        "set(words_set)"
      ]
    },
    {
      "cell_type": "code",
      "execution_count": 55,
      "metadata": {
        "id": "Js5ubm8jYl7-"
      },
      "outputs": [],
      "source": [
        "id_to_word = {}\n",
        "word_to_id = {}\n",
        "for idx, word in enumerate(set(words_set)):\n",
        "  #print(idx, word)\n",
        "  id_to_word[idx] = word\n",
        "  word_to_id[word] = idx"
      ]
    },
    {
      "cell_type": "code",
      "execution_count": 56,
      "metadata": {
        "colab": {
          "base_uri": "https://localhost:8080/"
        },
        "id": "aZI0BikOY229",
        "outputId": "c5b386b6-975d-49db-8b9f-2c298691d9d1"
      },
      "outputs": [
        {
          "output_type": "execute_result",
          "data": {
            "text/plain": [
              "{0: 'to', 1: 'format', 2: 'disk', 3: 'hard', 4: 'problems', 5: 'how', 6: 'my'}"
            ]
          },
          "metadata": {},
          "execution_count": 56
        }
      ],
      "source": [
        "id_to_word"
      ]
    },
    {
      "cell_type": "code",
      "execution_count": 57,
      "metadata": {
        "colab": {
          "base_uri": "https://localhost:8080/"
        },
        "id": "K3tl9ornZMnJ",
        "outputId": "40903c73-bb50-4066-ded7-442c0ecd0f7b"
      },
      "outputs": [
        {
          "output_type": "execute_result",
          "data": {
            "text/plain": [
              "{'to': 0, 'format': 1, 'disk': 2, 'hard': 3, 'problems': 4, 'how': 5, 'my': 6}"
            ]
          },
          "metadata": {},
          "execution_count": 57
        }
      ],
      "source": [
        "word_to_id"
      ]
    },
    {
      "cell_type": "code",
      "execution_count": 58,
      "metadata": {
        "id": "ZmsmoLY9ZOdP"
      },
      "outputs": [],
      "source": [
        "import numpy as np\n",
        "m = np.zeros((len(sentences), len(word_to_id)))"
      ]
    },
    {
      "cell_type": "code",
      "execution_count": 59,
      "metadata": {
        "colab": {
          "base_uri": "https://localhost:8080/"
        },
        "id": "QIbYf1MAZkWd",
        "outputId": "dee9802b-9814-4633-cd1a-055211d0cabe"
      },
      "outputs": [
        {
          "output_type": "execute_result",
          "data": {
            "text/plain": [
              "(2, 7)"
            ]
          },
          "metadata": {},
          "execution_count": 59
        }
      ],
      "source": [
        "m.shape"
      ]
    },
    {
      "cell_type": "code",
      "execution_count": 60,
      "metadata": {
        "id": "tJbjyxxOZqe_"
      },
      "outputs": [],
      "source": [
        "for i, sentence in enumerate(sentences):\n",
        "  for w in sentence.lower().split():\n",
        "    #print(w, i, word_to_id[w])\n",
        "    m[i, word_to_id[w]] = 1"
      ]
    },
    {
      "cell_type": "code",
      "execution_count": 61,
      "metadata": {
        "colab": {
          "base_uri": "https://localhost:8080/"
        },
        "id": "XDYfkTkjZy3s",
        "outputId": "b0652755-616f-4aa4-e127-9967fa348d89"
      },
      "outputs": [
        {
          "output_type": "execute_result",
          "data": {
            "text/plain": [
              "array([[1., 1., 1., 1., 0., 1., 1.],\n",
              "       [0., 1., 1., 1., 1., 0., 0.]])"
            ]
          },
          "metadata": {},
          "execution_count": 61
        }
      ],
      "source": [
        "m"
      ]
    },
    {
      "cell_type": "markdown",
      "source": [
        "##Bag of Words Practice"
      ],
      "metadata": {
        "id": "huFvDZF79xrw"
      }
    },
    {
      "cell_type": "code",
      "source": [
        "paragraph = '''How many special people change?\n",
        "How many lives are livin' strange?\n",
        "Where were you while we were getting high?\n",
        "Slowly walkin' down the hall\n",
        "Faster than a cannonball\n",
        "Where were you while we were getting high?\n",
        "Someday you will find me\n",
        "Caught beneath the landslide\n",
        "In a champagne supernova in the sky\n",
        "Someday you will find me\n",
        "Caught beneath the landslide\n",
        "In a champagne supernova\n",
        "A champagne supernova in the sky\n",
        "Wake up the dawn and ask her why\n",
        "A dreamer dreams she never dies\n",
        "Wipe that tear away now from your eye\n",
        "Slowly walkin' down the hall\n",
        "Faster than a cannonball\n",
        "Where were you while we were getting high?\n",
        "Someday you will find me\n",
        "Caught beneath the landslide\n",
        "In a champagne supernova in the sky\n",
        "Someday you will find me\n",
        "Caught beneath the landslide\n",
        "In a champagne supernova\n",
        "A champagne supernova\n",
        "'Cause people believe\n",
        "That they're gonna get away for the summer\n",
        "But you and I, we live and die\n",
        "The world's still spinnin' 'round, we don't know why\n",
        "Why, why, why, why\n",
        "How many special people change?\n",
        "How many lives are livin' strange?\n",
        "Where were you while we were getting high?\n",
        "Slowly walkin' down the hall\n",
        "Faster than a cannonball\n",
        "Where were you while we were getting high?\n",
        "Someday you will find me\n",
        "Caught beneath the landslide\n",
        "In a champagne supernova in the sky\n",
        "Someday you will find me\n",
        "Caught beneath the landslide\n",
        "In a champagne supernova\n",
        "A champagne supernova\n",
        "'Cause people believe\n",
        "That they're gonna get away for the summer\n",
        "But you and I, we live and die\n",
        "The world's still spinnin' 'round, we don't know why\n",
        "Why, why, why, why\n",
        "Na, na, na\n",
        "Na, na\n",
        "Na, na\n",
        "Na, na, na\n",
        "Na, na\n",
        "Na, na\n",
        "Na, na\n",
        "Na, na\n",
        "Na, na, na\n",
        "How many special people change?\n",
        "How many lives are livin' strange?\n",
        "Where were you while we were getting high?\n",
        "We were getting high\n",
        "We were getting high\n",
        "We were getting high\n",
        "We were getting high\n",
        "We were getting high\n",
        "We were getting high\n",
        "We were getting high\n",
        "We were getting high\n",
        "We were getting high'''\n",
        "\n",
        "import numpy as np\n",
        "\n",
        "#Projecting sentences to unique words\n",
        "word_list = []\n",
        "sentences = paragraph.lower().replace(\",\",\"\").replace(\".\",\"\").replace(\"?\",\"\").replace(\"'\",\"\").split(\"\\n\")\n",
        "# print(sentences)\n",
        "for sentence in sentences:\n",
        "  word_list = word_list + sentence.split()\n",
        "# print(word_list)\n",
        "word_set = set(word_list)\n",
        "# print(word_set)\n",
        "\n",
        "\n",
        "#Building a (word, id) contrast dictionary\n",
        "word_to_id = {}\n",
        "id_to_word = {}\n",
        "for id, word in enumerate(word_set):\n",
        "  id_to_word[id] = word\n",
        "  word_to_id[word] = id\n",
        "# print(word_to_id)\n",
        "# print(id_to_word)\n",
        "\n",
        "\n",
        "#Generating word frequency matrix\n",
        "frequency_matrix = np.zeros((len(sentences), len(word_to_id)))\n",
        "# print(frequency_matrix.shape)\n",
        "for sentence_num, sentence in enumerate(sentences):\n",
        "  # print(sentence)\n",
        "  for word in sentence.split():\n",
        "    frequency_matrix[sentence_num][word_to_id[word]] += 1\n",
        "  # print(word_set)\n",
        "  # print(frequency_matrix[sentence_num])\n",
        "\n",
        "\n",
        "\n",
        "#Constructing word frequency matrix with sklearn\n",
        "from sklearn.feature_extraction.text import CountVectorizer\n",
        "vectorizer = CountVectorizer()\n",
        "x = vectorizer.fit_transform(sentences)\n",
        "# print([i for i in enumerate(vectorizer.get_feature_names_out())])\n",
        "# print(vectorizer.get_stop_words())\n",
        "# print(sentences)\n",
        "# print(x.toarray()[52])\n",
        "\n",
        "\n",
        "#Modifying the CountVectorizer wih NLTK stemming\n",
        "import nltk.stem\n",
        "english_stemmer = nltk.stem.SnowballStemmer('english')\n",
        "\n",
        "class StemmedCountVectorizer(CountVectorizer):\n",
        "    def build_analyzer(self):\n",
        "        analyzer = super(StemmedCountVectorizer, self).build_analyzer()\n",
        "        return lambda doc: (english_stemmer.stem(w) for w in analyzer(doc))\n",
        "\n",
        "vectorizer = StemmedCountVectorizer(stop_words='english')\n",
        "vectorizer.fit(sentences)\n",
        "# print(vectorizer.get_feature_names_out())\n",
        "\n",
        "\n",
        "#Calculating Euclidean Distance and Cosine Distance\n",
        "#Scipy linear algebra \n",
        "import scipy as sp\n",
        "import math\n",
        "\n",
        "#!!!Euclidean Distance!!!\n",
        "def Euc_dist(new_sentence_vector, sentence_vector):\n",
        "  dist = math.sqrt(((new_sentence_vector - sentence_vector)**2).sum())\n",
        "  return dist\n",
        "\n",
        "#!!!Cosine Distance!!!\n",
        "def Cos_dist(new_sentence_vector, sentence_vector):\n",
        "  nv= np.array(new_sentence_vector)\n",
        "  sv = np.array(sentence_vector)\n",
        "  dist = (np.sum((nv*sv))) / (\n",
        "      np.sqrt(np.sum(nv**2)) * np.sqrt(np.sum(sv**2)))\n",
        "  return dist\n",
        "\n",
        "#TF-IDF Calculator\n",
        "def TFIDF(word, paragraph, paragraph_database):\n",
        "  tf = paragraph.split().count(word) / len(paragraph.split())\n",
        "  idf = math.log(len(paragraph_database) / len([p for p in paragraph_database if word in p]))\n",
        "  return tf * idf\n",
        "\n",
        "\n",
        "new_sentences = [\"Champagne Supernova\"]\n",
        "new_sentences = [sentence.lower() for sentence in new_sentences]\n",
        "new_sentence_vector = vectorizer.transform(new_sentences)\n",
        "\n",
        "\n",
        "#以CountVectorizer計算distance\n",
        "for new_sentence in new_sentences:\n",
        "  for sentence in sentences:\n",
        "    print(\"sentence: \", sentence)\n",
        "    print(\"new_sentence: \", new_sentence)\n",
        "    new_sentence_vector = vectorizer.transform([new_sentence]).toarray()\n",
        "    sentence_vector = vectorizer.transform([sentence]).toarray()\n",
        "    \n",
        "    #!!!Euclidean Distance!!!\n",
        "    # 無function dist\n",
        "    dist = math.sqrt(((new_sentence_vector - sentence_vector)**2).sum())\n",
        "    \n",
        "    # dist with Euc_dist funciton\n",
        "    dist_with_function = Euc_dist(new_sentence_vector, sentence_vector)\n",
        "    # print(\"new sentence: \", new_sentence)\n",
        "    # print(\"sentence: \", sentence)\n",
        "    # print(\"dist square: \", ((new_sentence_vector - sentence_vector)**2).sum())\n",
        "    print(\"dist: \", dist)\n",
        "    print(\"Euc_dist: \", dist_with_function)\n",
        "\n",
        "    # 對vector normalization，變成單位向量長度之vector\n",
        "    new_sentence_absolute_distance = sp.linalg.norm(new_sentence_vector)\n",
        "    sentence_absolute_distance = sp.linalg.norm(sentence_vector)\n",
        "    unit_new_sentence_vector = new_sentence_vector/new_sentence_absolute_distance\n",
        "    unit_sentence_vector = sentence_vector/sentence_absolute_distance\n",
        "    # print(sentence_absolute_distance)\n",
        "\n",
        "    #Euc_dist normalized with 單位向量\n",
        "    dist_norm = Euc_dist(unit_new_sentence_vector, \n",
        "                    unit_sentence_vector)\n",
        "    print(\"Euc_dist normalized with 單位向量: \", dist_norm)\n",
        "\n",
        "    #!!!Cosine Distance!!! 值越大兩者越相近\n",
        "    dist_cosine = Cos_dist(new_sentence_vector, sentence_vector)\n",
        "    print(\"Cos_dist: \", dist_cosine)\n",
        "    dist_cosine_norm = Cos_dist(unit_new_sentence_vector, unit_sentence_vector)\n",
        "    print(\"Cos_dist normalized with 單位向量: \", dist_cosine_norm)\n",
        "    # print(\"s v: \", sentence_vector)\n",
        "    # print(\"ns v: \", new_sentence_vector)\n",
        "    # print(\"u s v: \", unit_sentence_vector)\n",
        "    # print(\"u ns v: \", unit_new_sentence_vector)\n",
        "    print(\"============================================================\")\n",
        "\n",
        "\n",
        "\n",
        "#以TF-IDF計算distance計算distance \n",
        "from sklearn.feature_extraction.text import TfidfVectorizer\n",
        "class StemmedTfidfVectorizer(TfidfVectorizer):\n",
        "    def build_analyzer(self):\n",
        "        analyzer = super(StemmedTfidfVectorizer, self).build_analyzer()\n",
        "        return lambda doc: (english_stemmer.stem(w) for w in analyzer(doc))\n",
        "vectorizer = StemmedTfidfVectorizer(stop_words='english')\n",
        "vectorizer.fit(sentences)\n",
        "print(vectorizer.get_feature_names_out())\n",
        "# print(vectorizer.get_stop_words())\n",
        "\n",
        "\n",
        "for ns_num, new_sentence in enumerate(new_sentences):\n",
        "  for s_num, sentence in enumerate(sentences):\n",
        "    print(\"sentence: \", sentence)\n",
        "    print(\"new_sentence: \", new_sentence)\n",
        "    \n",
        "    #TF-IDF sklearn\n",
        "    new_sentence_vector = vectorizer.transform([new_sentence]).toarray()\n",
        "    sentence_vector = vectorizer.transform([sentence]).toarray()\n",
        "\n",
        "    # 對vector normalization，變成單位向量長度之vector\n",
        "    new_sentence_absolute_distance = sp.linalg.norm(new_sentence_vector)\n",
        "    sentence_absolute_distance = sp.linalg.norm(sentence_vector)\n",
        "    unit_new_sentence_vector = new_sentence_vector/new_sentence_absolute_distance\n",
        "    unit_sentence_vector = sentence_vector/sentence_absolute_distance\n",
        "    \n",
        "    #!!!Cosine Distance!!! 值越大兩者越相近\n",
        "    dist_cosine = Cos_dist(new_sentence_vector, sentence_vector)\n",
        "    print(\"sklearn TFIDF Cos_dist: \", dist_cosine)\n",
        "    dist_cosine_norm = Cos_dist(unit_new_sentence_vector, unit_sentence_vector)\n",
        "    print(\"sklearn TFIDF Cos_dist normalized with 單位向量: \", dist_cosine_norm)\n",
        "    # print(\"s v: \", sentence_vector)\n",
        "    # print(\"ns v: \", new_sentence_vector)\n",
        "    # print(\"u s v: \", unit_sentence_vector)\n",
        "    # print(\"u ns v: \", unit_new_sentence_vector)\n",
        "\n",
        "\n",
        "    #TF-IDF 手刻\n",
        "    # print(\"TF-IDF 手刻: \", TFIDF('champagne', sentence, sentences))\n",
        "    s_TFIDF_vec = np.zeros(len(word_set))\n",
        "    ns_TFIDF_vec = np.zeros(len(word_set))\n",
        "    for word in sentence.split():\n",
        "      tfidf = TFIDF(word, sentence, sentences)\n",
        "      s_TFIDF_vec[word_to_id[word]] = tfidf\n",
        "    for word in new_sentence.split():\n",
        "      tfidf = TFIDF(word, new_sentence, sentences)\n",
        "      ns_TFIDF_vec[word_to_id[word]] = tfidf\n",
        "    tfidf_dist_cosine = Cos_dist(ns_TFIDF_vec, s_TFIDF_vec)\n",
        "    # print(\"tfidf s v: \", s_TFIDF_vec)\n",
        "    # print(\"tfidf ns v: \", ns_TFIDF_vec)\n",
        "    print(\"Handmade TFIDF Cos_dist: \", tfidf_dist_cosine)\n",
        "    print(\"============================================================\")\n"
      ],
      "metadata": {
        "id": "b_pl9VUBXZGw"
      },
      "execution_count": null,
      "outputs": []
    },
    {
      "cell_type": "code",
      "source": [
        "\n"
      ],
      "metadata": {
        "id": "W0FfeJ7T50-z"
      },
      "execution_count": null,
      "outputs": []
    },
    {
      "cell_type": "markdown",
      "metadata": {
        "id": "wyiG82h_ad_g"
      },
      "source": [
        "## Numpy"
      ]
    },
    {
      "cell_type": "code",
      "execution_count": 63,
      "metadata": {
        "id": "t7MsOOHcaOE8"
      },
      "outputs": [],
      "source": [
        "a = [1,3,5,7,9]\n",
        "b = [2,4,6,8,10]"
      ]
    },
    {
      "cell_type": "code",
      "execution_count": 64,
      "metadata": {
        "colab": {
          "base_uri": "https://localhost:8080/"
        },
        "id": "L7luRp5wa1lD",
        "outputId": "bef0ef0b-bbb0-41a5-fd8d-9ef22948b97e"
      },
      "outputs": [
        {
          "output_type": "stream",
          "name": "stdout",
          "text": [
            "2\n",
            "12\n",
            "30\n",
            "56\n",
            "90\n"
          ]
        }
      ],
      "source": [
        "for i in range(0, len(a)):\n",
        "  #print(i, a[i], b[i])\n",
        "  print(a[i] * b[i])"
      ]
    },
    {
      "cell_type": "code",
      "execution_count": 65,
      "metadata": {
        "colab": {
          "base_uri": "https://localhost:8080/"
        },
        "id": "JZDy68Fwa3vr",
        "outputId": "b62e4014-32d9-4d10-d0e3-773d3d4e1ee5"
      },
      "outputs": [
        {
          "output_type": "stream",
          "name": "stdout",
          "text": [
            "(1, 2)\n",
            "(3, 4)\n",
            "(5, 6)\n",
            "(7, 8)\n",
            "(9, 10)\n"
          ]
        }
      ],
      "source": [
        "for rec in zip(a,b):\n",
        "  print(rec)"
      ]
    },
    {
      "cell_type": "code",
      "execution_count": 66,
      "metadata": {
        "colab": {
          "base_uri": "https://localhost:8080/"
        },
        "id": "1onj5wH-bJfB",
        "outputId": "f1b0ec53-bdaa-4ecc-ea06-a23873da7dce"
      },
      "outputs": [
        {
          "output_type": "stream",
          "name": "stdout",
          "text": [
            "1 2\n",
            "3 4\n",
            "5 6\n",
            "7 8\n",
            "9 10\n"
          ]
        }
      ],
      "source": [
        "for i, j  in zip(a,b):\n",
        "  print(i,j)"
      ]
    },
    {
      "cell_type": "code",
      "execution_count": 67,
      "metadata": {
        "colab": {
          "base_uri": "https://localhost:8080/"
        },
        "id": "yZgNZvj2bQ8P",
        "outputId": "538e9c49-d2dc-4caf-f806-878011679612"
      },
      "outputs": [
        {
          "output_type": "stream",
          "name": "stdout",
          "text": [
            "2\n",
            "12\n",
            "30\n",
            "56\n",
            "90\n"
          ]
        }
      ],
      "source": [
        "for i, j  in zip(a,b):\n",
        "  print(i * j)"
      ]
    },
    {
      "cell_type": "code",
      "execution_count": 68,
      "metadata": {
        "colab": {
          "base_uri": "https://localhost:8080/"
        },
        "id": "cg5DKN18bV_Y",
        "outputId": "246ed4c8-c2ca-40de-9a1d-6535757ddd17"
      },
      "outputs": [
        {
          "output_type": "execute_result",
          "data": {
            "text/plain": [
              "list"
            ]
          },
          "metadata": {},
          "execution_count": 68
        }
      ],
      "source": [
        "type(a)"
      ]
    },
    {
      "cell_type": "code",
      "execution_count": 69,
      "metadata": {
        "colab": {
          "base_uri": "https://localhost:8080/"
        },
        "id": "gIztU938bnyF",
        "outputId": "3cf4e823-0583-4215-d86e-57bd249f1310"
      },
      "outputs": [
        {
          "output_type": "execute_result",
          "data": {
            "text/plain": [
              "[1, 3, 5, 7, 9]"
            ]
          },
          "metadata": {},
          "execution_count": 69
        }
      ],
      "source": [
        "a"
      ]
    },
    {
      "cell_type": "code",
      "execution_count": 70,
      "metadata": {
        "id": "VWfOHzQ0boVk"
      },
      "outputs": [],
      "source": [
        "import numpy as np\n",
        "na = np.array(a)"
      ]
    },
    {
      "cell_type": "code",
      "execution_count": 71,
      "metadata": {
        "colab": {
          "base_uri": "https://localhost:8080/"
        },
        "id": "vOn1jUNwbrvJ",
        "outputId": "399a7875-a7af-4b0d-a5bd-5ae59aa69e4a"
      },
      "outputs": [
        {
          "output_type": "execute_result",
          "data": {
            "text/plain": [
              "numpy.ndarray"
            ]
          },
          "metadata": {},
          "execution_count": 71
        }
      ],
      "source": [
        "type(na)"
      ]
    },
    {
      "cell_type": "code",
      "execution_count": 72,
      "metadata": {
        "colab": {
          "base_uri": "https://localhost:8080/"
        },
        "id": "Nr9NobvqbwUY",
        "outputId": "6de0272f-9e8c-4716-c868-abf1e09d5e16"
      },
      "outputs": [
        {
          "output_type": "execute_result",
          "data": {
            "text/plain": [
              "array([1, 3, 5, 7, 9])"
            ]
          },
          "metadata": {},
          "execution_count": 72
        }
      ],
      "source": [
        "na"
      ]
    },
    {
      "cell_type": "code",
      "execution_count": 73,
      "metadata": {
        "id": "OgC27E43bxXJ"
      },
      "outputs": [],
      "source": [
        "import numpy as np\n",
        "na = np.array(a)\n",
        "nb = np.array(b)"
      ]
    },
    {
      "cell_type": "code",
      "execution_count": 74,
      "metadata": {
        "colab": {
          "base_uri": "https://localhost:8080/"
        },
        "id": "rZIL3sbib4Po",
        "outputId": "4f24ad7e-7173-4493-cdaf-ce7f2955f3f5"
      },
      "outputs": [
        {
          "output_type": "execute_result",
          "data": {
            "text/plain": [
              "array([ 3,  7, 11, 15, 19])"
            ]
          },
          "metadata": {},
          "execution_count": 74
        }
      ],
      "source": [
        "na + nb"
      ]
    },
    {
      "cell_type": "code",
      "execution_count": 75,
      "metadata": {
        "colab": {
          "base_uri": "https://localhost:8080/"
        },
        "id": "x1OtuzcNb5oC",
        "outputId": "0f0b8d03-416d-4e80-d791-8a728ca3e80a"
      },
      "outputs": [
        {
          "output_type": "execute_result",
          "data": {
            "text/plain": [
              "array([ 2, 12, 30, 56, 90])"
            ]
          },
          "metadata": {},
          "execution_count": 75
        }
      ],
      "source": [
        "na * nb"
      ]
    },
    {
      "cell_type": "code",
      "execution_count": 76,
      "metadata": {
        "id": "gxVlLQRvb64r"
      },
      "outputs": [],
      "source": [
        "na = np.array([1,2,3,4,5])"
      ]
    },
    {
      "cell_type": "code",
      "execution_count": 77,
      "metadata": {
        "colab": {
          "base_uri": "https://localhost:8080/"
        },
        "id": "8_0A1WfjcQ_F",
        "outputId": "9c39415e-ec78-45bd-e3e8-bdfc59d6101a"
      },
      "outputs": [
        {
          "output_type": "execute_result",
          "data": {
            "text/plain": [
              "1"
            ]
          },
          "metadata": {},
          "execution_count": 77
        }
      ],
      "source": [
        "na[0]"
      ]
    },
    {
      "cell_type": "code",
      "execution_count": 78,
      "metadata": {
        "colab": {
          "base_uri": "https://localhost:8080/"
        },
        "id": "SAr1G_JVcTNr",
        "outputId": "1a0412ce-23a7-4d0f-cd19-0c3a08700b88"
      },
      "outputs": [
        {
          "output_type": "execute_result",
          "data": {
            "text/plain": [
              "5"
            ]
          },
          "metadata": {},
          "execution_count": 78
        }
      ],
      "source": [
        "na[-1]"
      ]
    },
    {
      "cell_type": "code",
      "execution_count": 79,
      "metadata": {
        "colab": {
          "base_uri": "https://localhost:8080/"
        },
        "id": "obmhrFzgcUXH",
        "outputId": "76d42b80-f8cb-423d-8af9-247cf562d8ff"
      },
      "outputs": [
        {
          "output_type": "execute_result",
          "data": {
            "text/plain": [
              "array([False, False, False,  True,  True])"
            ]
          },
          "metadata": {},
          "execution_count": 79
        }
      ],
      "source": [
        "na > 3"
      ]
    },
    {
      "cell_type": "code",
      "execution_count": 80,
      "metadata": {
        "colab": {
          "base_uri": "https://localhost:8080/"
        },
        "id": "PfQijRwWcYrj",
        "outputId": "1e5ff985-2a08-489d-c972-c68f74642a21"
      },
      "outputs": [
        {
          "output_type": "execute_result",
          "data": {
            "text/plain": [
              "array([4, 5])"
            ]
          },
          "metadata": {},
          "execution_count": 80
        }
      ],
      "source": [
        "na[na > 3]"
      ]
    },
    {
      "cell_type": "code",
      "execution_count": 81,
      "metadata": {
        "id": "dy6pwlsPcdT6"
      },
      "outputs": [],
      "source": [
        "na = np.array([[1,2,3,4,5],[6,7,8,9,10]])"
      ]
    },
    {
      "cell_type": "code",
      "execution_count": 82,
      "metadata": {
        "colab": {
          "base_uri": "https://localhost:8080/"
        },
        "id": "8M-BxQmucoT3",
        "outputId": "e46cbf86-db9f-4c41-b853-92078aa2640d"
      },
      "outputs": [
        {
          "output_type": "execute_result",
          "data": {
            "text/plain": [
              "array([[ 1,  2,  3,  4,  5],\n",
              "       [ 6,  7,  8,  9, 10]])"
            ]
          },
          "metadata": {},
          "execution_count": 82
        }
      ],
      "source": [
        "na"
      ]
    },
    {
      "cell_type": "code",
      "execution_count": 83,
      "metadata": {
        "colab": {
          "base_uri": "https://localhost:8080/"
        },
        "id": "2uU7Bci3covB",
        "outputId": "ad503fab-560f-439d-babf-6d2ae7c968bc"
      },
      "outputs": [
        {
          "output_type": "execute_result",
          "data": {
            "text/plain": [
              "1"
            ]
          },
          "metadata": {},
          "execution_count": 83
        }
      ],
      "source": [
        "na[0,0]"
      ]
    },
    {
      "cell_type": "code",
      "execution_count": 84,
      "metadata": {
        "colab": {
          "base_uri": "https://localhost:8080/"
        },
        "id": "KsMXqX_Ycqsw",
        "outputId": "e1953e5b-322a-4f53-dda7-2efae23c9107"
      },
      "outputs": [
        {
          "output_type": "execute_result",
          "data": {
            "text/plain": [
              "array([1, 2, 3, 4, 5])"
            ]
          },
          "metadata": {},
          "execution_count": 84
        }
      ],
      "source": [
        "na[0,:]"
      ]
    },
    {
      "cell_type": "code",
      "execution_count": 85,
      "metadata": {
        "colab": {
          "base_uri": "https://localhost:8080/"
        },
        "id": "NHBPWHokcuGH",
        "outputId": "ee7b3cd5-5036-40f1-d27d-3368bc13b725"
      },
      "outputs": [
        {
          "output_type": "execute_result",
          "data": {
            "text/plain": [
              "array([1, 6])"
            ]
          },
          "metadata": {},
          "execution_count": 85
        }
      ],
      "source": [
        "na[:,0]"
      ]
    },
    {
      "cell_type": "code",
      "execution_count": 86,
      "metadata": {
        "colab": {
          "base_uri": "https://localhost:8080/"
        },
        "id": "0znIX7hOcwh-",
        "outputId": "5ac5375e-a7d4-4bcc-a45b-3b6c9abcc1f0"
      },
      "outputs": [
        {
          "output_type": "execute_result",
          "data": {
            "text/plain": [
              "array([[ 1,  6],\n",
              "       [ 2,  7],\n",
              "       [ 3,  8],\n",
              "       [ 4,  9],\n",
              "       [ 5, 10]])"
            ]
          },
          "metadata": {},
          "execution_count": 86
        }
      ],
      "source": [
        "na.T"
      ]
    },
    {
      "cell_type": "markdown",
      "metadata": {
        "id": "N645O9Uldjn9"
      },
      "source": [
        "## 使用scikit-learn 建立詞頻矩陣"
      ]
    },
    {
      "cell_type": "markdown",
      "metadata": {
        "id": "JGdQIMnFeUNJ"
      },
      "source": [
        "- fit: 產生結構\n",
        "- fit_transform: 產生結構並轉換資料\n",
        "- transform: 轉換資料"
      ]
    },
    {
      "cell_type": "code",
      "execution_count": 87,
      "metadata": {
        "id": "vXFQVJ6bd6LC"
      },
      "outputs": [],
      "source": [
        "content = [\"How to format my hard disk\", \"Hard disk format problems\"]"
      ]
    },
    {
      "cell_type": "code",
      "execution_count": 88,
      "metadata": {
        "id": "ZDDusSAodi4w"
      },
      "outputs": [],
      "source": [
        "from sklearn.feature_extraction.text import CountVectorizer\n",
        "vectorizer = CountVectorizer()\n",
        "X = vectorizer.fit_transform(content)"
      ]
    },
    {
      "cell_type": "code",
      "execution_count": 89,
      "metadata": {
        "colab": {
          "base_uri": "https://localhost:8080/"
        },
        "id": "HtNfAJK7elQk",
        "outputId": "43d88e2d-90f0-4998-a91e-4ae670970bb1"
      },
      "outputs": [
        {
          "output_type": "stream",
          "name": "stderr",
          "text": [
            "/usr/local/lib/python3.7/dist-packages/sklearn/utils/deprecation.py:87: FutureWarning: Function get_feature_names is deprecated; get_feature_names is deprecated in 1.0 and will be removed in 1.2. Please use get_feature_names_out instead.\n",
            "  warnings.warn(msg, category=FutureWarning)\n"
          ]
        },
        {
          "output_type": "execute_result",
          "data": {
            "text/plain": [
              "['disk', 'format', 'hard', 'how', 'my', 'problems', 'to']"
            ]
          },
          "metadata": {},
          "execution_count": 89
        }
      ],
      "source": [
        "vectorizer.get_feature_names()"
      ]
    },
    {
      "cell_type": "code",
      "execution_count": 90,
      "metadata": {
        "colab": {
          "base_uri": "https://localhost:8080/"
        },
        "id": "vUF66rRvcyUJ",
        "outputId": "9bb26795-94fe-4fb6-9756-7299084be5b0"
      },
      "outputs": [
        {
          "output_type": "execute_result",
          "data": {
            "text/plain": [
              "array([[1, 1, 1, 1, 1, 0, 1],\n",
              "       [1, 1, 1, 0, 0, 1, 0]])"
            ]
          },
          "metadata": {},
          "execution_count": 90
        }
      ],
      "source": [
        "X.toarray()"
      ]
    },
    {
      "cell_type": "code",
      "execution_count": 91,
      "metadata": {
        "colab": {
          "base_uri": "https://localhost:8080/"
        },
        "id": "3McORfdFeBYG",
        "outputId": "b42fb4a3-4cec-4f83-9181-d00a9b88bbb8"
      },
      "outputs": [
        {
          "output_type": "execute_result",
          "data": {
            "text/plain": [
              "(2, 7)"
            ]
          },
          "metadata": {},
          "execution_count": 91
        }
      ],
      "source": [
        "X.shape"
      ]
    },
    {
      "cell_type": "code",
      "execution_count": 92,
      "metadata": {
        "id": "ZulHRiCOeheK"
      },
      "outputs": [],
      "source": [
        "content2 = ['i love hard disk']\n",
        "X2 = vectorizer.transform(content2)"
      ]
    },
    {
      "cell_type": "code",
      "execution_count": 93,
      "metadata": {
        "colab": {
          "base_uri": "https://localhost:8080/"
        },
        "id": "YruxqtUFe1s1",
        "outputId": "263b4f62-96eb-479e-d8a3-cd3ce82b6967"
      },
      "outputs": [
        {
          "output_type": "execute_result",
          "data": {
            "text/plain": [
              "array([[1, 0, 1, 0, 0, 0, 0]])"
            ]
          },
          "metadata": {},
          "execution_count": 93
        }
      ],
      "source": [
        "X2.toarray()"
      ]
    },
    {
      "cell_type": "markdown",
      "metadata": {
        "id": "ffqlkg6MiS69"
      },
      "source": [
        "## 建立詞袋模型"
      ]
    },
    {
      "cell_type": "code",
      "execution_count": 94,
      "metadata": {
        "id": "pDOan9hve54l"
      },
      "outputs": [],
      "source": [
        "contents = ['This is a toy post about machine learning. Actually, it contains not much interesting stuff.',\n",
        "'Imaging databases can get huge.',\n",
        "'Most imaging databases safe images permanently.',\n",
        "'Imaging databases store images.',\n",
        "'Imaging databases store images. Imaging databases store images. Imaging databases store images.']\n"
      ]
    },
    {
      "cell_type": "code",
      "execution_count": 95,
      "metadata": {
        "id": "hat1WxaEiW2A"
      },
      "outputs": [],
      "source": [
        "from sklearn.feature_extraction.text import CountVectorizer\n",
        "vectorizer = CountVectorizer()\n",
        "X = vectorizer.fit_transform(contents)"
      ]
    },
    {
      "cell_type": "code",
      "execution_count": 96,
      "metadata": {
        "colab": {
          "base_uri": "https://localhost:8080/"
        },
        "id": "_JsySjDJigzz",
        "outputId": "f45afa42-ac55-4af7-b3e7-0de5ad36d146"
      },
      "outputs": [
        {
          "output_type": "stream",
          "name": "stdout",
          "text": [
            "['about', 'actually', 'can', 'contains', 'databases', 'get', 'huge', 'images', 'imaging', 'interesting', 'is', 'it', 'learning', 'machine', 'most', 'much', 'not', 'permanently', 'post', 'safe', 'store', 'stuff', 'this', 'toy']\n"
          ]
        }
      ],
      "source": [
        "print(vectorizer.get_feature_names())"
      ]
    },
    {
      "cell_type": "code",
      "execution_count": 97,
      "metadata": {
        "colab": {
          "base_uri": "https://localhost:8080/"
        },
        "id": "gp0wuyr1ijDU",
        "outputId": "74e7ac1d-cabb-4697-b265-ed094a6ceac5"
      },
      "outputs": [
        {
          "output_type": "execute_result",
          "data": {
            "text/plain": [
              "<5x24 sparse matrix of type '<class 'numpy.int64'>'\n",
              "\twith 33 stored elements in Compressed Sparse Row format>"
            ]
          },
          "metadata": {},
          "execution_count": 97
        }
      ],
      "source": [
        "X"
      ]
    },
    {
      "cell_type": "code",
      "execution_count": 98,
      "metadata": {
        "id": "MPdJ-OwXik2D"
      },
      "outputs": [],
      "source": [
        "new_post = 'imaging databases'"
      ]
    },
    {
      "cell_type": "code",
      "execution_count": 99,
      "metadata": {
        "id": "K_ooSMTWivIR"
      },
      "outputs": [],
      "source": [
        "new_post_vec = vectorizer.transform([new_post])"
      ]
    },
    {
      "cell_type": "code",
      "execution_count": 100,
      "metadata": {
        "colab": {
          "base_uri": "https://localhost:8080/"
        },
        "id": "zCgfcDomi11A",
        "outputId": "ba7c7520-a2a1-40cc-a8ae-5c0a908a62ed"
      },
      "outputs": [
        {
          "output_type": "execute_result",
          "data": {
            "text/plain": [
              "<1x24 sparse matrix of type '<class 'numpy.int64'>'\n",
              "\twith 2 stored elements in Compressed Sparse Row format>"
            ]
          },
          "metadata": {},
          "execution_count": 100
        }
      ],
      "source": [
        "new_post_vec"
      ]
    },
    {
      "cell_type": "code",
      "execution_count": 101,
      "metadata": {
        "colab": {
          "base_uri": "https://localhost:8080/"
        },
        "id": "Or2_JAJii2_B",
        "outputId": "149be0b7-6eb6-4ef9-93f8-2a604fd78924"
      },
      "outputs": [
        {
          "output_type": "execute_result",
          "data": {
            "text/plain": [
              "array([[0, 0, 0, 0, 1, 0, 0, 0, 1, 0, 0, 0, 0, 0, 0, 0, 0, 0, 0, 0, 0, 0,\n",
              "        0, 0]])"
            ]
          },
          "metadata": {},
          "execution_count": 101
        }
      ],
      "source": [
        "new_post_vec.toarray()"
      ]
    },
    {
      "cell_type": "code",
      "execution_count": 210,
      "metadata": {
        "colab": {
          "base_uri": "https://localhost:8080/",
          "height": 0
        },
        "id": "6UQtFZQVi-oG",
        "outputId": "46fbe05d-281d-42cd-8899-1e3cecc15d00"
      },
      "outputs": [
        {
          "output_type": "error",
          "ename": "ValueError",
          "evalue": "ignored",
          "traceback": [
            "\u001b[0;31m---------------------------------------------------------------------------\u001b[0m",
            "\u001b[0;31mValueError\u001b[0m                                Traceback (most recent call last)",
            "\u001b[0;32m<ipython-input-210-148a59b6e09f>\u001b[0m in \u001b[0;36m<module>\u001b[0;34m\u001b[0m\n\u001b[1;32m      2\u001b[0m \u001b[0;31m# sqrt(sum ((x - y) ^ 2))\u001b[0m\u001b[0;34m\u001b[0m\u001b[0;34m\u001b[0m\u001b[0;34m\u001b[0m\u001b[0m\n\u001b[1;32m      3\u001b[0m \u001b[0;32mimport\u001b[0m \u001b[0mmath\u001b[0m\u001b[0;34m\u001b[0m\u001b[0;34m\u001b[0m\u001b[0m\n\u001b[0;32m----> 4\u001b[0;31m \u001b[0mmath\u001b[0m\u001b[0;34m.\u001b[0m\u001b[0msqrt\u001b[0m\u001b[0;34m(\u001b[0m\u001b[0;34m(\u001b[0m\u001b[0;34m(\u001b[0m\u001b[0;34m(\u001b[0m\u001b[0mnew_post_vec\u001b[0m \u001b[0;34m-\u001b[0m \u001b[0mX\u001b[0m\u001b[0;34m[\u001b[0m\u001b[0;36m0\u001b[0m\u001b[0;34m]\u001b[0m \u001b[0;34m)\u001b[0m\u001b[0;34m.\u001b[0m\u001b[0mtoarray\u001b[0m\u001b[0;34m(\u001b[0m\u001b[0;34m)\u001b[0m\u001b[0;34m)\u001b[0m \u001b[0;34m**\u001b[0m \u001b[0;36m2\u001b[0m\u001b[0;34m)\u001b[0m\u001b[0;34m.\u001b[0m\u001b[0msum\u001b[0m\u001b[0;34m(\u001b[0m\u001b[0;34m)\u001b[0m\u001b[0;34m)\u001b[0m\u001b[0;34m\u001b[0m\u001b[0;34m\u001b[0m\u001b[0m\n\u001b[0m",
            "\u001b[0;32m/usr/local/lib/python3.7/dist-packages/scipy/sparse/base.py\u001b[0m in \u001b[0;36m__sub__\u001b[0;34m(self, other)\u001b[0m\n\u001b[1;32m    431\u001b[0m         \u001b[0;32melif\u001b[0m \u001b[0misspmatrix\u001b[0m\u001b[0;34m(\u001b[0m\u001b[0mother\u001b[0m\u001b[0;34m)\u001b[0m\u001b[0;34m:\u001b[0m\u001b[0;34m\u001b[0m\u001b[0;34m\u001b[0m\u001b[0m\n\u001b[1;32m    432\u001b[0m             \u001b[0;32mif\u001b[0m \u001b[0mother\u001b[0m\u001b[0;34m.\u001b[0m\u001b[0mshape\u001b[0m \u001b[0;34m!=\u001b[0m \u001b[0mself\u001b[0m\u001b[0;34m.\u001b[0m\u001b[0mshape\u001b[0m\u001b[0;34m:\u001b[0m\u001b[0;34m\u001b[0m\u001b[0;34m\u001b[0m\u001b[0m\n\u001b[0;32m--> 433\u001b[0;31m                 \u001b[0;32mraise\u001b[0m \u001b[0mValueError\u001b[0m\u001b[0;34m(\u001b[0m\u001b[0;34m\"inconsistent shapes\"\u001b[0m\u001b[0;34m)\u001b[0m\u001b[0;34m\u001b[0m\u001b[0;34m\u001b[0m\u001b[0m\n\u001b[0m\u001b[1;32m    434\u001b[0m             \u001b[0;32mreturn\u001b[0m \u001b[0mself\u001b[0m\u001b[0;34m.\u001b[0m\u001b[0m_sub_sparse\u001b[0m\u001b[0;34m(\u001b[0m\u001b[0mother\u001b[0m\u001b[0;34m)\u001b[0m\u001b[0;34m\u001b[0m\u001b[0;34m\u001b[0m\u001b[0m\n\u001b[1;32m    435\u001b[0m         \u001b[0;32melif\u001b[0m \u001b[0misdense\u001b[0m\u001b[0;34m(\u001b[0m\u001b[0mother\u001b[0m\u001b[0;34m)\u001b[0m\u001b[0;34m:\u001b[0m\u001b[0;34m\u001b[0m\u001b[0;34m\u001b[0m\u001b[0m\n",
            "\u001b[0;31mValueError\u001b[0m: inconsistent shapes"
          ]
        }
      ],
      "source": [
        "# euclidean distance\n",
        "# sqrt(sum ((x - y) ^ 2))\n",
        "import math\n",
        "math.sqrt((((new_post_vec - X[0] ).toarray()) ** 2).sum())"
      ]
    },
    {
      "cell_type": "code",
      "execution_count": 103,
      "metadata": {
        "colab": {
          "base_uri": "https://localhost:8080/"
        },
        "id": "xsDYMfSfjVxT",
        "outputId": "c9eccff6-1a00-4394-dd9c-bd7328637c46"
      },
      "outputs": [
        {
          "output_type": "execute_result",
          "data": {
            "text/plain": [
              "4.0"
            ]
          },
          "metadata": {},
          "execution_count": 103
        }
      ],
      "source": [
        "import scipy as sp\n",
        "sp.linalg.norm((new_post_vec - X[0] ).toarray())"
      ]
    },
    {
      "cell_type": "code",
      "execution_count": 104,
      "metadata": {
        "id": "bZAkOmApkCzg"
      },
      "outputs": [],
      "source": [
        "def dist_raw(v1, v2):\n",
        "  delta = v1-v2\n",
        "  return sp.linalg.norm(delta.toarray())\n"
      ]
    },
    {
      "cell_type": "code",
      "execution_count": 105,
      "metadata": {
        "colab": {
          "base_uri": "https://localhost:8080/"
        },
        "id": "je7DKln7kYMB",
        "outputId": "304da06e-a1b8-4aab-d059-e4ba1e02c717"
      },
      "outputs": [
        {
          "output_type": "stream",
          "name": "stdout",
          "text": [
            "This is a toy post about machine learning. Actually, it contains not much interesting stuff. 4.0\n",
            "Imaging databases can get huge. 1.7320508075688772\n",
            "Most imaging databases safe images permanently. 2.0\n",
            "Imaging databases store images. 1.4142135623730951\n",
            "Imaging databases store images. Imaging databases store images. Imaging databases store images. 5.0990195135927845\n"
          ]
        }
      ],
      "source": [
        "for i in range(5):\n",
        "  d = dist_raw(X[i], new_post_vec)\n",
        "  print(contents[i], d)"
      ]
    },
    {
      "cell_type": "code",
      "execution_count": 106,
      "metadata": {
        "colab": {
          "base_uri": "https://localhost:8080/"
        },
        "id": "yPeHN7lEkgrZ",
        "outputId": "445203d8-1cf3-4b42-a746-07c6da01f57b"
      },
      "outputs": [
        {
          "output_type": "execute_result",
          "data": {
            "text/plain": [
              "array([[0, 0, 0, 0, 1, 0, 0, 1, 1, 0, 0, 0, 0, 0, 0, 0, 0, 0, 0, 0, 1, 0,\n",
              "        0, 0]])"
            ]
          },
          "metadata": {},
          "execution_count": 106
        }
      ],
      "source": [
        "X[3].toarray()"
      ]
    },
    {
      "cell_type": "code",
      "execution_count": 107,
      "metadata": {
        "colab": {
          "base_uri": "https://localhost:8080/"
        },
        "id": "fyW8Y1oYk3yO",
        "outputId": "bad8eca2-f98d-471d-ab28-ab922a24b0c6"
      },
      "outputs": [
        {
          "output_type": "execute_result",
          "data": {
            "text/plain": [
              "array([[0, 0, 0, 0, 3, 0, 0, 3, 3, 0, 0, 0, 0, 0, 0, 0, 0, 0, 0, 0, 3, 0,\n",
              "        0, 0]])"
            ]
          },
          "metadata": {},
          "execution_count": 107
        }
      ],
      "source": [
        "X[4].toarray()"
      ]
    },
    {
      "cell_type": "code",
      "execution_count": 108,
      "metadata": {
        "id": "dRrF-kP2k5WN"
      },
      "outputs": [],
      "source": [
        "def dist(v1, v2):\n",
        "    v1_normalized  = v1 / sp.linalg.norm(v1.toarray()) \n",
        "    v2_normalized  = v2 / sp.linalg.norm(v2.toarray())\n",
        "    delta = v1_normalized - v2_normalized\n",
        "    return sp.linalg.norm(delta.toarray())\n"
      ]
    },
    {
      "cell_type": "code",
      "execution_count": 109,
      "metadata": {
        "colab": {
          "base_uri": "https://localhost:8080/"
        },
        "id": "PB5_T_MtmMbB",
        "outputId": "648f86b3-0f1b-4dc8-f05d-98b3f914c929"
      },
      "outputs": [
        {
          "output_type": "stream",
          "name": "stdout",
          "text": [
            "This is a toy post about machine learning. Actually, it contains not much interesting stuff. 1.414213562373095\n",
            "Imaging databases can get huge. 0.8573732768944039\n",
            "Most imaging databases safe images permanently. 0.9194016867619662\n",
            "Imaging databases store images. 0.7653668647301795\n",
            "Imaging databases store images. Imaging databases store images. Imaging databases store images. 0.7653668647301795\n"
          ]
        }
      ],
      "source": [
        "for i in range(5):\n",
        "  d = dist(X[i], new_post_vec)\n",
        "  print(contents[i], d)"
      ]
    },
    {
      "cell_type": "code",
      "execution_count": 110,
      "metadata": {
        "colab": {
          "base_uri": "https://localhost:8080/"
        },
        "id": "UDcbM9BZmS7o",
        "outputId": "61914437-bbc8-401d-b8e3-990f44dbba5e"
      },
      "outputs": [
        {
          "output_type": "execute_result",
          "data": {
            "text/plain": [
              "['about',\n",
              " 'actually',\n",
              " 'can',\n",
              " 'contains',\n",
              " 'databases',\n",
              " 'get',\n",
              " 'huge',\n",
              " 'images',\n",
              " 'imaging',\n",
              " 'interesting',\n",
              " 'is',\n",
              " 'it',\n",
              " 'learning',\n",
              " 'machine',\n",
              " 'most',\n",
              " 'much',\n",
              " 'not',\n",
              " 'permanently',\n",
              " 'post',\n",
              " 'safe',\n",
              " 'store',\n",
              " 'stuff',\n",
              " 'this',\n",
              " 'toy']"
            ]
          },
          "metadata": {},
          "execution_count": 110
        }
      ],
      "source": [
        "vectorizer.get_feature_names()"
      ]
    },
    {
      "cell_type": "code",
      "execution_count": 111,
      "metadata": {
        "id": "TMN3YH1GmeVu"
      },
      "outputs": [],
      "source": [
        "vectorizer = CountVectorizer(stop_words='english')\n",
        "X = vectorizer.fit_transform(contents)"
      ]
    },
    {
      "cell_type": "code",
      "execution_count": 112,
      "metadata": {
        "colab": {
          "base_uri": "https://localhost:8080/"
        },
        "id": "BBG1JUsmmvoN",
        "outputId": "6187e1d2-19dd-49f1-eec9-abb99e0e7c4f"
      },
      "outputs": [
        {
          "output_type": "execute_result",
          "data": {
            "text/plain": [
              "['actually',\n",
              " 'contains',\n",
              " 'databases',\n",
              " 'huge',\n",
              " 'images',\n",
              " 'imaging',\n",
              " 'interesting',\n",
              " 'learning',\n",
              " 'machine',\n",
              " 'permanently',\n",
              " 'post',\n",
              " 'safe',\n",
              " 'store',\n",
              " 'stuff',\n",
              " 'toy']"
            ]
          },
          "metadata": {},
          "execution_count": 112
        }
      ],
      "source": [
        "vectorizer.get_feature_names()"
      ]
    },
    {
      "cell_type": "code",
      "execution_count": 113,
      "metadata": {
        "colab": {
          "base_uri": "https://localhost:8080/"
        },
        "id": "7Xb6AWntmnRf",
        "outputId": "7a24fb06-0764-4186-ffe0-9839d693585b"
      },
      "outputs": [
        {
          "output_type": "execute_result",
          "data": {
            "text/plain": [
              "<5x15 sparse matrix of type '<class 'numpy.int64'>'\n",
              "\twith 24 stored elements in Compressed Sparse Row format>"
            ]
          },
          "metadata": {},
          "execution_count": 113
        }
      ],
      "source": [
        "X"
      ]
    },
    {
      "cell_type": "code",
      "execution_count": 114,
      "metadata": {
        "id": "LhrpZd7imsgM"
      },
      "outputs": [],
      "source": [
        "new_post_vec = vectorizer.transform([new_post])"
      ]
    },
    {
      "cell_type": "code",
      "execution_count": 115,
      "metadata": {
        "colab": {
          "base_uri": "https://localhost:8080/"
        },
        "id": "S-J5Jsd9m49a",
        "outputId": "c23349c1-35e0-4e70-a4ed-5fcd823be04d"
      },
      "outputs": [
        {
          "output_type": "stream",
          "name": "stdout",
          "text": [
            "This is a toy post about machine learning. Actually, it contains not much interesting stuff. 1.414213562373095\n",
            "Imaging databases can get huge. 0.6058108930553725\n",
            "Most imaging databases safe images permanently. 0.8573732768944039\n",
            "Imaging databases store images. 0.7653668647301795\n",
            "Imaging databases store images. Imaging databases store images. Imaging databases store images. 0.7653668647301795\n"
          ]
        }
      ],
      "source": [
        "for i in range(5):\n",
        "  d = dist(X[i], new_post_vec)\n",
        "  print(contents[i], d)"
      ]
    },
    {
      "cell_type": "code",
      "execution_count": 116,
      "metadata": {
        "colab": {
          "base_uri": "https://localhost:8080/"
        },
        "id": "fEwHDE6nnN0L",
        "outputId": "95964a4f-9ce2-409b-bf62-98a2711feaf0"
      },
      "outputs": [
        {
          "output_type": "stream",
          "name": "stdout",
          "text": [
            "['actually', 'contains', 'databases', 'huge', 'images', 'imaging', 'interesting', 'learning', 'machine', 'permanently', 'post', 'safe', 'store', 'stuff', 'toy']\n"
          ]
        }
      ],
      "source": [
        "print(vectorizer.get_feature_names())"
      ]
    },
    {
      "cell_type": "code",
      "execution_count": 117,
      "metadata": {
        "colab": {
          "base_uri": "https://localhost:8080/"
        },
        "id": "qI52cDzMm7Hu",
        "outputId": "2735e9cd-1291-4d36-de0e-1d2f9c00254c"
      },
      "outputs": [
        {
          "output_type": "execute_result",
          "data": {
            "text/plain": [
              "array([[0, 0, 1, 0, 1, 1, 0, 0, 0, 0, 0, 0, 1, 0, 0]])"
            ]
          },
          "metadata": {},
          "execution_count": 117
        }
      ],
      "source": [
        "X[3].toarray()"
      ]
    },
    {
      "cell_type": "code",
      "execution_count": 118,
      "metadata": {
        "colab": {
          "base_uri": "https://localhost:8080/",
          "height": 0
        },
        "id": "jPHAclgtnMsv",
        "outputId": "6ffdefa0-d9af-4e37-d1f0-5c4621496956"
      },
      "outputs": [
        {
          "output_type": "execute_result",
          "data": {
            "text/plain": [
              "'graphic'"
            ],
            "application/vnd.google.colaboratory.intrinsic+json": {
              "type": "string"
            }
          },
          "metadata": {},
          "execution_count": 118
        }
      ],
      "source": [
        "import nltk.stem\n",
        "s = nltk.stem.SnowballStemmer('english')\n",
        "s.stem('graphics')"
      ]
    },
    {
      "cell_type": "code",
      "execution_count": 119,
      "metadata": {
        "colab": {
          "base_uri": "https://localhost:8080/"
        },
        "id": "vrQbqLxCnpxk",
        "outputId": "6d08ae9d-9089-47ae-8e81-9e2b12f209f1"
      },
      "outputs": [
        {
          "output_type": "stream",
          "name": "stdout",
          "text": [
            "imag\n",
            "imag\n",
            "imagin\n",
            "imagin\n"
          ]
        }
      ],
      "source": [
        "print(s.stem(\"imaging\"))\n",
        "print(s.stem(\"image\"))\n",
        "print(s.stem(\"imagination\"))\n",
        "print(s.stem(\"imagine\"))"
      ]
    },
    {
      "cell_type": "code",
      "execution_count": 120,
      "metadata": {
        "id": "wQvxXzR4n8BZ"
      },
      "outputs": [],
      "source": [
        "import nltk.stem\n",
        "english_stemmer = nltk.stem.SnowballStemmer('english')\n",
        "\n",
        "class StemmedCountVectorizer(CountVectorizer):\n",
        "    def build_analyzer(self):\n",
        "        analyzer = super(StemmedCountVectorizer, self).build_analyzer()\n",
        "        return lambda doc: (english_stemmer.stem(w) for w in analyzer(doc))\n"
      ]
    },
    {
      "cell_type": "code",
      "execution_count": 121,
      "metadata": {
        "id": "Ntlqirp4oeDG"
      },
      "outputs": [],
      "source": [
        "vectorizer = StemmedCountVectorizer(stop_words='english')\n",
        "X = vectorizer.fit_transform(contents)"
      ]
    },
    {
      "cell_type": "code",
      "execution_count": 122,
      "metadata": {
        "colab": {
          "base_uri": "https://localhost:8080/"
        },
        "id": "cDQTWkNyospV",
        "outputId": "505eb2c8-baa3-489b-d8d2-29569014b5c5"
      },
      "outputs": [
        {
          "output_type": "stream",
          "name": "stdout",
          "text": [
            "['actual', 'contain', 'databas', 'huge', 'imag', 'interest', 'learn', 'machin', 'perman', 'post', 'safe', 'store', 'stuff', 'toy']\n"
          ]
        }
      ],
      "source": [
        "print(vectorizer.get_feature_names())"
      ]
    },
    {
      "cell_type": "code",
      "execution_count": 123,
      "metadata": {
        "colab": {
          "base_uri": "https://localhost:8080/"
        },
        "id": "DwrMGx28oqhs",
        "outputId": "29ffa183-7051-4c12-9300-3c6eeaff1b37"
      },
      "outputs": [
        {
          "output_type": "execute_result",
          "data": {
            "text/plain": [
              "<5x14 sparse matrix of type '<class 'numpy.int64'>'\n",
              "\twith 21 stored elements in Compressed Sparse Row format>"
            ]
          },
          "metadata": {},
          "execution_count": 123
        }
      ],
      "source": [
        "X"
      ]
    },
    {
      "cell_type": "code",
      "execution_count": 124,
      "metadata": {
        "id": "_8aPucdaoq7C"
      },
      "outputs": [],
      "source": [
        "new_post_vec = vectorizer.transform([new_post])"
      ]
    },
    {
      "cell_type": "code",
      "execution_count": 125,
      "metadata": {
        "colab": {
          "base_uri": "https://localhost:8080/"
        },
        "id": "Fmy-jjlto0hx",
        "outputId": "da6efcca-aaad-4300-f714-54fcf32f7796"
      },
      "outputs": [
        {
          "output_type": "stream",
          "name": "stdout",
          "text": [
            "This is a toy post about machine learning. Actually, it contains not much interesting stuff. 1.414213562373095\n",
            "Imaging databases can get huge. 0.6058108930553725\n",
            "Most imaging databases safe images permanently. 0.6296288974669553\n",
            "Imaging databases store images. 0.5176380902050415\n",
            "Imaging databases store images. Imaging databases store images. Imaging databases store images. 0.5176380902050415\n"
          ]
        }
      ],
      "source": [
        "for i in range(5):\n",
        "  d = dist(X[i], new_post_vec)\n",
        "  print(contents[i], d)"
      ]
    },
    {
      "cell_type": "markdown",
      "metadata": {
        "id": "hzmP9hY7qAxM"
      },
      "source": [
        "## TFIDF"
      ]
    },
    {
      "cell_type": "code",
      "execution_count": 126,
      "metadata": {
        "id": "89etFEdro2z5"
      },
      "outputs": [],
      "source": [
        "a, abb, abc = ['a'], ['a', 'b', 'b'], ['a', 'b', 'c']\n",
        "D = [a,abb,abc]"
      ]
    },
    {
      "cell_type": "code",
      "execution_count": 127,
      "metadata": {
        "colab": {
          "base_uri": "https://localhost:8080/"
        },
        "id": "YxFNcP-bqHXq",
        "outputId": "bb33362a-43b9-4b0b-a176-157ff7302a03"
      },
      "outputs": [
        {
          "output_type": "execute_result",
          "data": {
            "text/plain": [
              "0.0"
            ]
          },
          "metadata": {},
          "execution_count": 127
        }
      ],
      "source": [
        "import math\n",
        "# tfidf('a', a, D)\n",
        "tf = 1/1\n",
        "idf = math.log(3/3)\n",
        "tf * idf"
      ]
    },
    {
      "cell_type": "code",
      "execution_count": 128,
      "metadata": {
        "colab": {
          "base_uri": "https://localhost:8080/"
        },
        "id": "DGOiVO7pqZaP",
        "outputId": "2874afee-75f8-4936-ade7-3458ff0d0077"
      },
      "outputs": [
        {
          "output_type": "execute_result",
          "data": {
            "text/plain": [
              "0.0"
            ]
          },
          "metadata": {},
          "execution_count": 128
        }
      ],
      "source": [
        "# tfidf('a', abb, D)\n",
        "tf = 1/3\n",
        "idf = math.log(3/3)\n",
        "tf * idf"
      ]
    },
    {
      "cell_type": "code",
      "execution_count": 129,
      "metadata": {
        "colab": {
          "base_uri": "https://localhost:8080/"
        },
        "id": "1UX0nCFhqgY9",
        "outputId": "34a61a8e-41c8-4b6b-cbee-5eeaa6c6425c"
      },
      "outputs": [
        {
          "output_type": "execute_result",
          "data": {
            "text/plain": [
              "0.27031007207210955"
            ]
          },
          "metadata": {},
          "execution_count": 129
        }
      ],
      "source": [
        "# tfidf('b', abb, D)\n",
        "tf = 2/3\n",
        "idf = math.log(3/2)\n",
        "tf * idf"
      ]
    },
    {
      "cell_type": "code",
      "execution_count": 130,
      "metadata": {
        "colab": {
          "base_uri": "https://localhost:8080/"
        },
        "id": "Rog38CAFqmEW",
        "outputId": "d9c3bb22-1e72-49a2-a267-a765720427e6"
      },
      "outputs": [
        {
          "output_type": "execute_result",
          "data": {
            "text/plain": [
              "0.0"
            ]
          },
          "metadata": {},
          "execution_count": 130
        }
      ],
      "source": [
        "# tfidf('a', abc, D)\n",
        "tf = 1/3\n",
        "idf = math.log(3/3)\n",
        "tf * idf"
      ]
    },
    {
      "cell_type": "code",
      "execution_count": 131,
      "metadata": {
        "colab": {
          "base_uri": "https://localhost:8080/"
        },
        "id": "basj_2Owqr0n",
        "outputId": "00d3bfed-33cd-49ab-e986-b9f7b428b866"
      },
      "outputs": [
        {
          "output_type": "execute_result",
          "data": {
            "text/plain": [
              "0.13515503603605478"
            ]
          },
          "metadata": {},
          "execution_count": 131
        }
      ],
      "source": [
        "# tfidf('b', abc, D)\n",
        "tf = 1/3\n",
        "idf = math.log(3/2)\n",
        "tf * idf"
      ]
    },
    {
      "cell_type": "code",
      "execution_count": 132,
      "metadata": {
        "colab": {
          "base_uri": "https://localhost:8080/"
        },
        "id": "Aglv8qfDqw7j",
        "outputId": "1fadee4b-5b6b-40ae-9485-452ac17d8c37"
      },
      "outputs": [
        {
          "output_type": "execute_result",
          "data": {
            "text/plain": [
              "0.3662040962227032"
            ]
          },
          "metadata": {},
          "execution_count": 132
        }
      ],
      "source": [
        "# tfidf('c', abc, D)\n",
        "tf = 1/3\n",
        "idf = math.log(3/1)\n",
        "tf * idf"
      ]
    },
    {
      "cell_type": "code",
      "execution_count": 133,
      "metadata": {
        "id": "5BnFnePgq3eq"
      },
      "outputs": [],
      "source": [
        "def tfidf(t, d, D):\n",
        "  tf = d.count(t) / len(d)\n",
        "  idf  = math.log(len(D)/ len([doc for doc in D if t in doc]) )\n",
        "  return tf * idf"
      ]
    },
    {
      "cell_type": "code",
      "execution_count": 134,
      "metadata": {
        "colab": {
          "base_uri": "https://localhost:8080/"
        },
        "id": "aWYquZ_KrLLq",
        "outputId": "5734469a-913a-41dc-ff1f-d24faa25fb61"
      },
      "outputs": [
        {
          "output_type": "execute_result",
          "data": {
            "text/plain": [
              "0.3662040962227032"
            ]
          },
          "metadata": {},
          "execution_count": 134
        }
      ],
      "source": [
        "tfidf('c', abc, D)"
      ]
    },
    {
      "cell_type": "code",
      "execution_count": 135,
      "metadata": {
        "id": "QfVIJsrKrO4_"
      },
      "outputs": [],
      "source": [
        "from sklearn.feature_extraction.text import TfidfVectorizer\n",
        "vectorizer = TfidfVectorizer()\n",
        "X = vectorizer.fit_transform(contents)"
      ]
    },
    {
      "cell_type": "code",
      "execution_count": 136,
      "metadata": {
        "id": "1Ha23f1FreU1"
      },
      "outputs": [],
      "source": [
        "#X.toarray()"
      ]
    },
    {
      "cell_type": "code",
      "execution_count": 137,
      "metadata": {
        "id": "io17-bbprfJ-"
      },
      "outputs": [],
      "source": [
        "class StemmedTfidfVectorizer(TfidfVectorizer):\n",
        "    def build_analyzer(self):\n",
        "        analyzer = super(TfidfVectorizer,self).build_analyzer()\n",
        "        return lambda doc: (english_stemmer.stem(w) for w in analyzer(doc))\n"
      ]
    },
    {
      "cell_type": "code",
      "execution_count": 138,
      "metadata": {
        "id": "MPztP5V4roPF"
      },
      "outputs": [],
      "source": [
        "vectorizer = StemmedTfidfVectorizer(stop_words='english')\n",
        "X = vectorizer.fit_transform(contents)"
      ]
    },
    {
      "cell_type": "code",
      "execution_count": 139,
      "metadata": {
        "colab": {
          "base_uri": "https://localhost:8080/"
        },
        "id": "bU80Aq0FrrSk",
        "outputId": "c31a4f64-2cb5-4d1b-f83f-bfc0deb8ecfd"
      },
      "outputs": [
        {
          "output_type": "execute_result",
          "data": {
            "text/plain": [
              "<5x14 sparse matrix of type '<class 'numpy.float64'>'\n",
              "\twith 21 stored elements in Compressed Sparse Row format>"
            ]
          },
          "metadata": {},
          "execution_count": 139
        }
      ],
      "source": [
        "X"
      ]
    },
    {
      "cell_type": "code",
      "execution_count": 140,
      "metadata": {
        "id": "5QCFPunnrtS1"
      },
      "outputs": [],
      "source": [
        "new_post_vec = vectorizer.transform([new_post])"
      ]
    },
    {
      "cell_type": "code",
      "execution_count": 141,
      "metadata": {
        "colab": {
          "base_uri": "https://localhost:8080/"
        },
        "id": "25pdgANwr6vV",
        "outputId": "8505a66d-a136-48be-df39-38b90db9f4c1"
      },
      "outputs": [
        {
          "output_type": "stream",
          "name": "stdout",
          "text": [
            "This is a toy post about machine learning. Actually, it contains not much interesting stuff. 1.4142135623730951\n",
            "Imaging databases can get huge. 0.8681697052899789\n",
            "Most imaging databases safe images permanently. 0.859044512133176\n",
            "Imaging databases store images. 0.634205801303706\n",
            "Imaging databases store images. Imaging databases store images. Imaging databases store images. 0.634205801303706\n"
          ]
        }
      ],
      "source": [
        "for i in range(5):\n",
        "  d = dist(X[i], new_post_vec)\n",
        "  print(contents[i], d)"
      ]
    },
    {
      "cell_type": "markdown",
      "metadata": {
        "id": "2fj16efZshZm"
      },
      "source": [
        "## 中文詞頻矩陣"
      ]
    },
    {
      "cell_type": "code",
      "execution_count": 142,
      "metadata": {
        "id": "wUYBYs9Nr-KL"
      },
      "outputs": [],
      "source": [
        "ary = ['【更新】柯P：洪智坤洩漏公文案還沒看到公文　今處理',\n",
        "       '留洪智坤 柯：殘障求職不易',\n",
        "       '人事處議處洪智坤　柯P：不清楚議處結果']\n"
      ]
    },
    {
      "cell_type": "code",
      "execution_count": 143,
      "metadata": {
        "id": "grUln9Qms8nf"
      },
      "outputs": [],
      "source": [
        "import jieba\n",
        "jieba.add_word('柯P')\n",
        "jieba.add_word('人事處')\n",
        "jieba.add_word('洪智坤')"
      ]
    },
    {
      "cell_type": "code",
      "execution_count": 144,
      "metadata": {
        "id": "EB-BHXNfsmql"
      },
      "outputs": [],
      "source": [
        "corpus = []\n",
        "for title in ary:\n",
        "  corpus.append(' '.join(jieba.cut(title)))"
      ]
    },
    {
      "cell_type": "code",
      "execution_count": 145,
      "metadata": {
        "colab": {
          "base_uri": "https://localhost:8080/"
        },
        "id": "XaG6vKoJs1_U",
        "outputId": "9fb47c25-ed47-4c76-cf28-cab41023f709"
      },
      "outputs": [
        {
          "output_type": "execute_result",
          "data": {
            "text/plain": [
              "['【 更新 】 柯P ： 洪智坤 洩漏 公文 案還 沒 看到 公文 \\u3000 今處理',\n",
              " '留 洪智坤   柯 ： 殘障 求職 不易',\n",
              " '人事處 議處 洪智坤 \\u3000 柯P ： 不 清楚 議處 結果']"
            ]
          },
          "metadata": {},
          "execution_count": 145
        }
      ],
      "source": [
        "corpus"
      ]
    },
    {
      "cell_type": "code",
      "execution_count": 146,
      "metadata": {
        "id": "Mcg1bplSs2m2"
      },
      "outputs": [],
      "source": [
        "from sklearn.feature_extraction.text import CountVectorizer\n",
        "vectorizer = CountVectorizer()\n",
        "X = vectorizer.fit_transform(corpus)"
      ]
    },
    {
      "cell_type": "code",
      "execution_count": 147,
      "metadata": {
        "colab": {
          "base_uri": "https://localhost:8080/"
        },
        "id": "I0_PUFXAtVmS",
        "outputId": "3a748265-7b97-4cab-bf61-2de78328ff6f"
      },
      "outputs": [
        {
          "output_type": "stream",
          "name": "stdout",
          "text": [
            "['不易', '人事處', '今處理', '公文', '更新', '柯p', '案還', '殘障', '求職', '洩漏', '洪智坤', '清楚', '看到', '結果', '議處']\n"
          ]
        }
      ],
      "source": [
        "print(vectorizer.get_feature_names())"
      ]
    },
    {
      "cell_type": "code",
      "execution_count": 148,
      "metadata": {
        "colab": {
          "base_uri": "https://localhost:8080/"
        },
        "id": "FEV2lb93tRn3",
        "outputId": "febb1ef7-bd28-4486-e964-ade155d595d2"
      },
      "outputs": [
        {
          "output_type": "execute_result",
          "data": {
            "text/plain": [
              "array([[0, 0, 1, 2, 1, 1, 1, 0, 0, 1, 1, 0, 1, 0, 0],\n",
              "       [1, 0, 0, 0, 0, 0, 0, 1, 1, 0, 1, 0, 0, 0, 0],\n",
              "       [0, 1, 0, 0, 0, 1, 0, 0, 0, 0, 1, 1, 0, 1, 2]])"
            ]
          },
          "metadata": {},
          "execution_count": 148
        }
      ],
      "source": [
        "X.toarray()"
      ]
    },
    {
      "cell_type": "code",
      "execution_count": 149,
      "metadata": {
        "id": "06W-dbRwtSE8"
      },
      "outputs": [],
      "source": [
        "from sklearn.feature_extraction.text import TfidfVectorizer\n",
        "vectorizer = TfidfVectorizer()\n",
        "X = vectorizer.fit_transform(corpus)"
      ]
    },
    {
      "cell_type": "code",
      "execution_count": 150,
      "metadata": {
        "colab": {
          "base_uri": "https://localhost:8080/"
        },
        "id": "zNq7ClECtjhR",
        "outputId": "f96a83d5-8031-4e09-d066-b9c357f63856"
      },
      "outputs": [
        {
          "output_type": "execute_result",
          "data": {
            "text/plain": [
              "array([[0.        , 0.        , 0.31738473, 0.63476946, 0.31738473,\n",
              "        0.24137927, 0.31738473, 0.        , 0.        , 0.31738473,\n",
              "        0.18745253, 0.        , 0.31738473, 0.        , 0.        ],\n",
              "       [0.54645401, 0.        , 0.        , 0.        , 0.        ,\n",
              "        0.        , 0.        , 0.54645401, 0.54645401, 0.        ,\n",
              "        0.32274454, 0.        , 0.        , 0.        , 0.        ],\n",
              "       [0.        , 0.35517252, 0.        , 0.        , 0.        ,\n",
              "        0.27011786, 0.        , 0.        , 0.        , 0.        ,\n",
              "        0.20977061, 0.35517252, 0.        , 0.35517252, 0.71034504]])"
            ]
          },
          "metadata": {},
          "execution_count": 150
        }
      ],
      "source": [
        "X.toarray()"
      ]
    },
    {
      "cell_type": "code",
      "execution_count": 150,
      "metadata": {
        "id": "_RCgHp7ptk_H"
      },
      "outputs": [],
      "source": []
    },
    {
      "cell_type": "markdown",
      "source": [
        "##Practice of Chinese term frequency matrices "
      ],
      "metadata": {
        "id": "8pTBW4Bl1oL1"
      }
    },
    {
      "cell_type": "markdown",
      "source": [
        "### Crawler to get paragraphs and jieba cut word"
      ],
      "metadata": {
        "id": "bxjR3wAv8zFI"
      }
    },
    {
      "cell_type": "code",
      "source": [
        "import jieba\n",
        "import numpy\n",
        "import requests\n",
        "from bs4 import BeautifulSoup\n",
        "from sklearn.feature_extraction.text import CountVectorizer, TfidfVectorizer\n",
        "\n",
        "headers = {\n",
        "    'user-agent': \"Mozilla/5.0 (Windows NT 10.0; Win64; x64) AppleWebKit/537.36 (KHTML, like Gecko) Chrome/106.0.0.0 Safari/537.36\"\n",
        "}\n",
        "url = \"https://global.udn.com/global_vision/story/8662/6702438\"\n",
        "res = requests.get(\"https://global.udn.com/global_vision/story/8662/6702438\", headers=headers)\n",
        "\n",
        "soup = BeautifulSoup(res.text, 'lxml')\n",
        "paragraph = \"\"\n",
        "for item in soup.select(\"p\"):\n",
        "  paragraph = paragraph + item.text\n",
        "p_list = paragraph.split()\n",
        "paragraph = \" \".join(p_list)\n",
        "print(paragraph)\n",
        "word_list = [w for w in jieba.lcut(paragraph) if len(w) >= 2]\n",
        "paragraph = [\" \".join(word_list)]\n",
        "print(paragraph)"
      ],
      "metadata": {
        "id": "1UM3nyPr19-D",
        "outputId": "a25ba788-c668-47ad-a168-c7dfa85907c6",
        "colab": {
          "base_uri": "https://localhost:8080/"
        }
      },
      "execution_count": 61,
      "outputs": [
        {
          "output_type": "stream",
          "name": "stdout",
          "text": [
            "圖／法新社facebook 「在任僅45天，特拉斯辭職。」英國首相特拉斯（Liz Truss）於10月20日宣布辭職，在任僅45天，成為英國史上「最短命首相」。 減稅財政政策引發經濟混亂之後，一週之內，財政大臣、內政大臣兩位重要內閣接連下台，她本人也面臨朝野呼籲辭職的壓力；10月20日特拉斯在唐寧街10號召開簡短的記者會，宣布自己辭去首相一職。 ▌前情提要：〈減稅失敗的逼宮危機：特拉斯會成為英國史上最短命首相嗎？〉▌前情提要：〈減稅失敗的逼宮危機：特拉斯會成為英國史上最短命首相嗎？〉 特拉斯承認自己無法兌現在競選保守黨黨魁時做出的承諾、失去了黨內對她的信心，「鑑於目前的情況，我無法屢行我的任務」。 特拉斯表示已通知英國國王查爾斯三世，自己將辭去保守黨黨魁職務，並會見了保守黨議會黨團1922委員會主席布雷迪（Graham Brady）。特拉斯與布雷迪雙方已同意將於一週之內完成新任黨魁選舉，她表示：「這將確保我們繼續實現財政計劃，維護我國經濟穩定和國家安全。」 在選出新任黨魁之前，特拉斯將持續擔任看守首相。 目前尚未有明確的接任人選，英國《每日電訊報》曾報導，保守黨內流傳一封whatsapp訊息，計畫由9月黨魁選舉時敗給特拉斯的前任財政大臣蘇納克（Rishi Sunak）上台，此外根據YouGov民調，保守黨內接任支持度最高的是前首相強生（Boris Johnson）。 在今年9月6日上任的特拉斯，僅僅在任45天，創下英國首相史上最短任期紀錄。她也是最後一位由伊麗莎白二世女王所任命的英國首相。 9月9日，剛與查爾斯三世見面的特拉斯。 圖／法新社facebook 10月20日，宣布辭職的特拉斯。 圖／路透社facebook 宣布辭職後，轉身走進唐寧街十號的特拉斯。 圖／路透社facebook\n",
            "['法新社 facebook 任僅 45 特拉斯 辭職 英國 首相 特拉斯 Liz Truss 10 20 宣布 辭職 任僅 45 成為 英國史 短命 首相 減稅 財政 政策 引發 經濟 混亂 一週 財政 大臣 內政 大臣 兩位 重要 內閣 接連 下台 本人 面臨 朝野 呼籲 辭職 壓力 10 20 特拉斯 唐寧街 10 號召開 簡短 記者 宣布 自己 辭去 首相 一職 提要 減稅 失敗 逼宮 危機 特拉斯 會成 英國史 短命 首相 提要 減稅 失敗 逼宮 危機 特拉斯 會成 英國史 短命 首相 特拉斯 承認 自己 無法 兌現 競選 保守 黨黨 魁時 做出 承諾 失去 信心 目前 情況 我無法 屢行 任務 特拉斯 表示 通知 英國國 王查爾 斯三世 自己 將辭 保守 黨黨 職務 並會 保守 黨議會 黨團 1922 委員會 主席 布雷 Graham Brady 特拉斯 布雷 迪雙方 同意 將於一 週之內 完成 新任 黨魁 選舉 表示 這將 確保 我們 繼續 實現 財政計劃 維護 我國 經濟 穩定 國家 安全 選出 新任 黨魁 之前 特拉斯 將持續 擔任 看守 首相 目前 尚未 明確 接任 人選 英國 每日 電訊報 報導 保守 黨內 流傳 一封 whatsapp 訊息 計畫 選舉 時敗給 特拉斯 前任 財政 大臣 蘇納克 Rishi Sunak 上台 此外 根據 YouGov 民調 保守 黨內 接任 支持 最高 前首相 強生 Boris Johnson 今年 上任 特拉斯 僅僅 45 創下 英國 首相 史上 任期 紀錄 一位 伊麗莎白 二世 女王 任命 英國 首相 剛與 查爾 斯三世 見面 特拉斯 法新社 facebook 10 20 宣布 辭職 特拉斯 路透社 facebook 宣布 辭職 轉身 走進 唐寧 街十號 特拉斯 路透社 facebook']\n"
          ]
        }
      ]
    },
    {
      "cell_type": "markdown",
      "source": [
        "### projecting paragraphs to matrices (Count & TF-IDF)"
      ],
      "metadata": {
        "id": "GGK5XA5j8xnd"
      }
    },
    {
      "cell_type": "code",
      "source": [
        "c_vectorizer = CountVectorizer()\n",
        "t_vectorizer = TfidfVectorizer()\n",
        "\n",
        "count_matrix = c_vectorizer.fit_transform(paragraph).toarray()\n",
        "# print(c_vectorizer.get_feature_names_out())\n",
        "# print(count_matrix)\n",
        "print(sorted(\n",
        "    [(i,j) for i,j in zip(c_vectorizer.get_feature_names_out(), count_matrix[0])], \n",
        "    key=lambda x:x[1], reverse=True))\n",
        "\n",
        "tfidf_matrix = t_vectorizer.fit_transform(paragraph).toarray().round(3)\n",
        "# print(t_vectorizer.get_feature_names_out())\n",
        "# print(tfidf_matrix)\n",
        "print(sorted(\n",
        "    [(i,j) for i,j in zip(t_vectorizer.get_feature_names_out(), tfidf_matrix[0])], \n",
        "    key=lambda x:x[1], reverse=True))\n",
        "\n"
      ],
      "metadata": {
        "id": "JvbMZ99p9u28",
        "outputId": "f085117e-e114-4bda-9cea-b56e4a476f8f",
        "colab": {
          "base_uri": "https://localhost:8080/"
        }
      },
      "execution_count": 89,
      "outputs": [
        {
          "output_type": "stream",
          "name": "stdout",
          "text": [
            "[('特拉斯', 14), ('首相', 8), ('保守', 5), ('辭職', 5), ('10', 4), ('facebook', 4), ('宣布', 4), ('英國', 4), ('20', 3), ('45', 3), ('大臣', 3), ('減稅', 3), ('短命', 3), ('自己', 3), ('英國史', 3), ('財政', 3), ('任僅', 2), ('危機', 2), ('失敗', 2), ('布雷', 2), ('接任', 2), ('提要', 2), ('斯三世', 2), ('新任', 2), ('會成', 2), ('法新社', 2), ('目前', 2), ('經濟', 2), ('表示', 2), ('路透社', 2), ('逼宮', 2), ('選舉', 2), ('黨內', 2), ('黨魁', 2), ('黨黨', 2), ('1922', 1), ('boris', 1), ('brady', 1), ('graham', 1), ('johnson', 1), ('liz', 1), ('rishi', 1), ('sunak', 1), ('truss', 1), ('whatsapp', 1), ('yougov', 1), ('一位', 1), ('一封', 1), ('一職', 1), ('一週', 1), ('上任', 1), ('上台', 1), ('下台', 1), ('並會', 1), ('主席', 1), ('之前', 1), ('二世', 1), ('人選', 1), ('今年', 1), ('任務', 1), ('任命', 1), ('任期', 1), ('伊麗莎白', 1), ('信心', 1), ('做出', 1), ('僅僅', 1), ('兌現', 1), ('內政', 1), ('內閣', 1), ('兩位', 1), ('前任', 1), ('前首相', 1), ('剛與', 1), ('創下', 1), ('史上', 1), ('同意', 1), ('呼籲', 1), ('唐寧', 1), ('唐寧街', 1), ('國家', 1), ('報導', 1), ('壓力', 1), ('失去', 1), ('女王', 1), ('委員會', 1), ('安全', 1), ('完成', 1), ('實現', 1), ('將持續', 1), ('將於一', 1), ('將辭', 1), ('尚未', 1), ('屢行', 1), ('引發', 1), ('強生', 1), ('情況', 1), ('成為', 1), ('我們', 1), ('我國', 1), ('我無法', 1), ('承認', 1), ('承諾', 1), ('接連', 1), ('擔任', 1), ('支持', 1), ('政策', 1), ('明確', 1), ('時敗給', 1), ('最高', 1), ('朝野', 1), ('本人', 1), ('查爾', 1), ('根據', 1), ('此外', 1), ('每日', 1), ('民調', 1), ('流傳', 1), ('混亂', 1), ('無法', 1), ('王查爾', 1), ('看守', 1), ('確保', 1), ('穩定', 1), ('競選', 1), ('簡短', 1), ('紀錄', 1), ('維護', 1), ('繼續', 1), ('職務', 1), ('英國國', 1), ('蘇納克', 1), ('號召開', 1), ('街十號', 1), ('見面', 1), ('計畫', 1), ('訊息', 1), ('記者', 1), ('財政計劃', 1), ('走進', 1), ('轉身', 1), ('辭去', 1), ('迪雙方', 1), ('這將', 1), ('通知', 1), ('週之內', 1), ('選出', 1), ('重要', 1), ('電訊報', 1), ('面臨', 1), ('魁時', 1), ('黨團', 1), ('黨議會', 1)]\n",
            "[('特拉斯', 0.554), ('首相', 0.316), ('保守', 0.198), ('辭職', 0.198), ('10', 0.158), ('facebook', 0.158), ('宣布', 0.158), ('英國', 0.158), ('20', 0.119), ('45', 0.119), ('大臣', 0.119), ('減稅', 0.119), ('短命', 0.119), ('自己', 0.119), ('英國史', 0.119), ('財政', 0.119), ('任僅', 0.079), ('危機', 0.079), ('失敗', 0.079), ('布雷', 0.079), ('接任', 0.079), ('提要', 0.079), ('斯三世', 0.079), ('新任', 0.079), ('會成', 0.079), ('法新社', 0.079), ('目前', 0.079), ('經濟', 0.079), ('表示', 0.079), ('路透社', 0.079), ('逼宮', 0.079), ('選舉', 0.079), ('黨內', 0.079), ('黨魁', 0.079), ('黨黨', 0.079), ('1922', 0.04), ('boris', 0.04), ('brady', 0.04), ('graham', 0.04), ('johnson', 0.04), ('liz', 0.04), ('rishi', 0.04), ('sunak', 0.04), ('truss', 0.04), ('whatsapp', 0.04), ('yougov', 0.04), ('一位', 0.04), ('一封', 0.04), ('一職', 0.04), ('一週', 0.04), ('上任', 0.04), ('上台', 0.04), ('下台', 0.04), ('並會', 0.04), ('主席', 0.04), ('之前', 0.04), ('二世', 0.04), ('人選', 0.04), ('今年', 0.04), ('任務', 0.04), ('任命', 0.04), ('任期', 0.04), ('伊麗莎白', 0.04), ('信心', 0.04), ('做出', 0.04), ('僅僅', 0.04), ('兌現', 0.04), ('內政', 0.04), ('內閣', 0.04), ('兩位', 0.04), ('前任', 0.04), ('前首相', 0.04), ('剛與', 0.04), ('創下', 0.04), ('史上', 0.04), ('同意', 0.04), ('呼籲', 0.04), ('唐寧', 0.04), ('唐寧街', 0.04), ('國家', 0.04), ('報導', 0.04), ('壓力', 0.04), ('失去', 0.04), ('女王', 0.04), ('委員會', 0.04), ('安全', 0.04), ('完成', 0.04), ('實現', 0.04), ('將持續', 0.04), ('將於一', 0.04), ('將辭', 0.04), ('尚未', 0.04), ('屢行', 0.04), ('引發', 0.04), ('強生', 0.04), ('情況', 0.04), ('成為', 0.04), ('我們', 0.04), ('我國', 0.04), ('我無法', 0.04), ('承認', 0.04), ('承諾', 0.04), ('接連', 0.04), ('擔任', 0.04), ('支持', 0.04), ('政策', 0.04), ('明確', 0.04), ('時敗給', 0.04), ('最高', 0.04), ('朝野', 0.04), ('本人', 0.04), ('查爾', 0.04), ('根據', 0.04), ('此外', 0.04), ('每日', 0.04), ('民調', 0.04), ('流傳', 0.04), ('混亂', 0.04), ('無法', 0.04), ('王查爾', 0.04), ('看守', 0.04), ('確保', 0.04), ('穩定', 0.04), ('競選', 0.04), ('簡短', 0.04), ('紀錄', 0.04), ('維護', 0.04), ('繼續', 0.04), ('職務', 0.04), ('英國國', 0.04), ('蘇納克', 0.04), ('號召開', 0.04), ('街十號', 0.04), ('見面', 0.04), ('計畫', 0.04), ('訊息', 0.04), ('記者', 0.04), ('財政計劃', 0.04), ('走進', 0.04), ('轉身', 0.04), ('辭去', 0.04), ('迪雙方', 0.04), ('這將', 0.04), ('通知', 0.04), ('週之內', 0.04), ('選出', 0.04), ('重要', 0.04), ('電訊報', 0.04), ('面臨', 0.04), ('魁時', 0.04), ('黨團', 0.04), ('黨議會', 0.04)]\n"
          ]
        }
      ]
    }
  ],
  "metadata": {
    "colab": {
      "collapsed_sections": [],
      "name": "Demo20200722.ipynb",
      "provenance": []
    },
    "kernelspec": {
      "display_name": "Python 3",
      "language": "python",
      "name": "python3"
    },
    "language_info": {
      "codemirror_mode": {
        "name": "ipython",
        "version": 3
      },
      "file_extension": ".py",
      "mimetype": "text/x-python",
      "name": "python",
      "nbconvert_exporter": "python",
      "pygments_lexer": "ipython3",
      "version": "3.7.3"
    }
  },
  "nbformat": 4,
  "nbformat_minor": 0
}