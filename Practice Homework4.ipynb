{
  "cells": [
    {
      "cell_type": "markdown",
      "metadata": {
        "id": "KEKoIv8cR0uw"
      },
      "source": [
        "### 作業需求\n",
        "利用以下資料建立一問答機器人，讓系統可以使用者輸入問題，依問題相似度給予最接近回答：\n",
        "\n",
        "1. 將下載PCHOME常見問答 (https://raw.githubusercontent.com/ywchiu/tibame_tm/master/data/pchome_qa.xlsx) 並存到作業環境?\n",
        "2. 請使用 Pandas 讀取該檔案，並轉變名為qa 的 DataFrame?\n",
        "3. 請將 question 欄位進行切詞，並將切詞過後的資料放入語料庫 corpus (資料型態為List) 中\n",
        "3. 請使用 sklearn 將語料庫 Corpus 轉換成名為tfidf 的 TF-IDF矩陣(TfidfVectorizer)?\n",
        "4. 將使用者輸入問題「請問要如何查詢我的訂單」切詞並轉換為向量，透過相似度計算(Cosine Similarity)回覆最有可能的答案?\n"
      ]
    },
    {
      "cell_type": "markdown",
      "metadata": {
        "id": "YSYPxe6qR0u0"
      },
      "source": [
        "### 評分標準\n",
        "1. 程式碼能順利運行 (20%)\n",
        "2. 程式碼能順利讀取該檔案，並將資料讀成名為qa 的DataFrame (20%)\n",
        "3. 程式碼能將question 欄位進行切詞，並將切詞後的資料放入語料庫 corpus 中 (20%)\n",
        "3. 程式碼能使用sklearn 將資料轉換成名為tfidf 的TF-IDF矩陣 (20%)\n",
        "4. 程式碼能根據使用者輸入「請問要如何查詢我的訂單」，透過相似度計算(Cosine Similarity)回覆最有可能的答案 (20%)"
      ]
    },
    {
      "cell_type": "code",
      "source": [
        "! wget https://raw.githubusercontent.com/ywchiu/tibame_tm/master/data/pchome_qa.xlsx"
      ],
      "metadata": {
        "id": "v6LhGOrOyYhd",
        "outputId": "6c509b2d-efbb-456c-95c5-8924e8ee9cda",
        "colab": {
          "base_uri": "https://localhost:8080/"
        }
      },
      "execution_count": 170,
      "outputs": [
        {
          "output_type": "stream",
          "name": "stdout",
          "text": [
            "--2022-10-28 09:03:03--  https://raw.githubusercontent.com/ywchiu/tibame_tm/master/data/pchome_qa.xlsx\n",
            "Resolving raw.githubusercontent.com (raw.githubusercontent.com)... 185.199.108.133, 185.199.109.133, 185.199.110.133, ...\n",
            "Connecting to raw.githubusercontent.com (raw.githubusercontent.com)|185.199.108.133|:443... connected.\n",
            "HTTP request sent, awaiting response... 200 OK\n",
            "Length: 10143 (9.9K) [application/octet-stream]\n",
            "Saving to: ‘pchome_qa.xlsx.3’\n",
            "\n",
            "pchome_qa.xlsx.3    100%[===================>]   9.91K  --.-KB/s    in 0s      \n",
            "\n",
            "2022-10-28 09:03:03 (64.5 MB/s) - ‘pchome_qa.xlsx.3’ saved [10143/10143]\n",
            "\n"
          ]
        }
      ]
    },
    {
      "cell_type": "markdown",
      "source": [
        "## 使用者輸入問題"
      ],
      "metadata": {
        "id": "sZjqwqIFi2Y4"
      }
    },
    {
      "cell_type": "code",
      "source": [
        "user_question = input(\"Please type your question.\\n\")"
      ],
      "metadata": {
        "id": "Nb5YT5bMjHqQ",
        "outputId": "9902ffe2-2a6c-4729-8bfe-059bced12ae2",
        "colab": {
          "base_uri": "https://localhost:8080/"
        }
      },
      "execution_count": 171,
      "outputs": [
        {
          "name": "stdout",
          "output_type": "stream",
          "text": [
            "Please type your question.\n",
            "網路交易注意事項\n"
          ]
        }
      ]
    },
    {
      "cell_type": "markdown",
      "source": [
        "## Open the excel file"
      ],
      "metadata": {
        "id": "acOwVcvBSEAM"
      }
    },
    {
      "cell_type": "code",
      "source": [
        "#Solution 2\n",
        "import pandas\n",
        "url = \"https://raw.githubusercontent.com/ywchiu/tibame_tm/master/data/pchome_qa.xlsx\"\n",
        "qa = pandas.read_excel(url, index_col = 0)\n",
        "# print(qa)"
      ],
      "metadata": {
        "id": "yTz835YrTJtn"
      },
      "execution_count": 172,
      "outputs": []
    },
    {
      "cell_type": "markdown",
      "source": [
        "## Jieba text segmentation"
      ],
      "metadata": {
        "id": "ZNmKgUDeUTRx"
      }
    },
    {
      "cell_type": "code",
      "source": [
        "import jieba\n",
        "import numpy\n",
        "\n",
        "# Clean the text and word segmentation\n",
        "qa_ary = qa.to_numpy()\n",
        "# print(qa_ary)\n",
        "\n",
        "q_ary = []\n",
        "a_ary = []\n",
        "jieba_q_ary = []\n",
        "jieba_a_ary = []\n",
        "\n",
        "for q_and_a in qa_ary:\n",
        "  q = \"\".join(q_and_a[0].strip().split())\n",
        "  a = \"\".join(q_and_a[1].strip().split())\n",
        "  jieba_q = \" \".join([w for w in jieba.lcut(q) if len(w) >= 2])\n",
        "  jieba_a = \" \".join([w for w in jieba.lcut(a) if len(w) >= 2])\n",
        "  q_ary.append(q)\n",
        "  a_ary.append(a)\n",
        "  jieba_q_ary.append(jieba_q)\n",
        "  jieba_a_ary.append(jieba_a)\n",
        "# print(jieba_q_ary)\n",
        "# print(jieba_a_ary)\n",
        "\n",
        "\n",
        "#Jieba for user question\n",
        "user_question = \"\".join(user_question.strip().split())\n",
        "jieba_user_question = \" \".join([w for w in jieba.lcut(user_question) if len(w) >= 2])\n",
        "# print(user_qustion)\n",
        "# print(jieba_user_question)"
      ],
      "metadata": {
        "id": "Ud_m1QFKUU59"
      },
      "execution_count": 173,
      "outputs": []
    },
    {
      "cell_type": "markdown",
      "source": [
        "## Vectorize the corpus and calculate the cosine similarity"
      ],
      "metadata": {
        "id": "xuZEoiJnf8gT"
      }
    },
    {
      "cell_type": "code",
      "source": [
        "from sklearn.feature_extraction.text import CountVectorizer, TfidfVectorizer\n",
        "from sklearn.metrics.pairwise import cosine_similarity\n",
        "import math \n",
        "\n",
        "t_vec = TfidfVectorizer()\n",
        "t_vec.fit(jieba_q_ary)\n",
        "# print(t_vec.get_feature_names_out())\n",
        "\n",
        "q_ary_vector = t_vec.transform(jieba_q_ary).toarray()\n",
        "# print(q_ary_vector)\n",
        "user_question_vector = t_vec.transform([jieba_user_question]).toarray()\n",
        "# print(user_question_vector)\n",
        "\n",
        "cos_sim_matrix = cosine_similarity(q_ary_vector, user_question_vector)\n",
        "print(\"cosine_similarity_matrix:\\n\", cos_sim_matrix)\n",
        "answer_index = numpy.argmax(cos_sim_matrix)\n",
        "print(\"answer_index: \", answer_index)\n",
        "\n",
        "print(\"使用者輸入之問題: \", user_question)\n",
        "print(\"比對後最相近之問題: \", q_ary[answer_index])\n",
        "print(\"問題之解答: \", a_ary[answer_index])\n"
      ],
      "metadata": {
        "id": "XYlcqD3_f74K",
        "outputId": "b651966b-f8dd-4cce-fde6-f533f1157da8",
        "colab": {
          "base_uri": "https://localhost:8080/"
        }
      },
      "execution_count": 174,
      "outputs": [
        {
          "output_type": "stream",
          "name": "stdout",
          "text": [
            "cosine_similarity_matrix:\n",
            " [[0.        ]\n",
            " [0.        ]\n",
            " [0.        ]\n",
            " [0.        ]\n",
            " [0.18085505]\n",
            " [0.        ]\n",
            " [0.        ]\n",
            " [0.        ]\n",
            " [0.        ]\n",
            " [0.        ]\n",
            " [0.        ]\n",
            " [0.        ]\n",
            " [0.        ]\n",
            " [0.        ]\n",
            " [1.        ]\n",
            " [0.42993157]\n",
            " [0.        ]\n",
            " [0.        ]\n",
            " [0.        ]\n",
            " [0.        ]\n",
            " [0.        ]\n",
            " [0.        ]\n",
            " [0.        ]\n",
            " [0.        ]\n",
            " [0.        ]\n",
            " [0.        ]\n",
            " [0.        ]\n",
            " [0.        ]]\n",
            "answer_index:  14\n",
            "使用者輸入之問題:  網路交易注意事項\n",
            "比對後最相近之問題:  網路交易注意事項\n",
            "問題之解答:  由於網路詐騙案件層出不窮,手法也不斷更新，PChome商店街在此特別提醒您，商店街的店家與PChome工作人員，均不會要求消費者至提款機操作任何功能，請小心勿上當。如果接獲不明人士來信或來電，應立即撥打165防詐騙專線查詢或透過「PChome商店街服務中心」查證。PChome商店街與您一起努力維護網路交易安全！\n"
          ]
        }
      ]
    },
    {
      "cell_type": "markdown",
      "source": [
        "##Vectorize the corpus and calculate the jaccard similarity"
      ],
      "metadata": {
        "id": "CuqzRGfOqM3c"
      }
    },
    {
      "cell_type": "code",
      "source": [
        "from sklearn.feature_extraction.text import CountVectorizer, TfidfVectorizer\n",
        "from sklearn.metrics import jaccard_score\n",
        "from numpy import bitwise_and, bitwise_or\n",
        "import math \n",
        "\n",
        "t_vec = CountVectorizer()\n",
        "t_vec.fit(jieba_q_ary)\n",
        "# print(t_vec.get_feature_names_out())\n",
        "\n",
        "q_ary_vector = t_vec.transform(jieba_q_ary).toarray()\n",
        "# print(q_ary_vector)\n",
        "user_question_vector = t_vec.transform([jieba_user_question]).toarray()\n",
        "# print(user_question_vector)\n",
        "\n",
        "q_ary_vector_bool = (q_ary_vector > 0).astype(int)\n",
        "user_question_vector_bool = numpy.tile((user_question_vector > 0).astype(int), (len(q_ary_vector_bool), 1))\n",
        "\n",
        "# print(q_ary_vector_bool.shape)\n",
        "# print(user_question_vector_bool.shape)\n",
        "\n",
        "# print(bitwise_and(q_ary_vector_bool, user_question_vector_bool)[0])\n",
        "# print(bitwise_or(q_ary_vector_bool, user_question_vector_bool)[0])\n",
        "\n",
        "def jaccard_sim(vec1, vec2):\n",
        "  return numpy.sum(bitwise_and(vec1, vec2), axis=1) / numpy.sum(bitwise_or(vec1, vec2), axis=1)\n",
        "\n",
        "jaccard_sim_matrix = jaccard_sim(q_ary_vector_bool, user_question_vector_bool)\n",
        "# print(jaccard_sim_matrix.shape)\n",
        "print(\"jaccard_similarity_matrix:\\n\", jaccard_sim_matrix)\n",
        "answer_index = numpy.argmax(jaccard_sim_matrix)\n",
        "print(\"answer_index: \", answer_index)\n",
        "\n",
        "print(\"使用者輸入之問題: \", user_question)\n",
        "print(\"比對後最相近之問題: \", q_ary[answer_index])\n",
        "print(\"問題之解答: \", a_ary[answer_index])"
      ],
      "metadata": {
        "id": "aD_frbx5qSip",
        "outputId": "163ec88b-dc7a-4a61-d9a9-bfee15c157ec",
        "colab": {
          "base_uri": "https://localhost:8080/"
        }
      },
      "execution_count": 175,
      "outputs": [
        {
          "output_type": "stream",
          "name": "stdout",
          "text": [
            "jaccard_similarity_matrix:\n",
            " [0.         0.         0.         0.         0.1        0.\n",
            " 0.         0.         0.         0.         0.         0.\n",
            " 0.         0.         1.         0.28571429 0.         0.\n",
            " 0.         0.         0.         0.         0.         0.\n",
            " 0.         0.         0.         0.        ]\n",
            "answer_index:  14\n",
            "使用者輸入之問題:  網路交易注意事項\n",
            "比對後最相近之問題:  網路交易注意事項\n",
            "問題之解答:  由於網路詐騙案件層出不窮,手法也不斷更新，PChome商店街在此特別提醒您，商店街的店家與PChome工作人員，均不會要求消費者至提款機操作任何功能，請小心勿上當。如果接獲不明人士來信或來電，應立即撥打165防詐騙專線查詢或透過「PChome商店街服務中心」查證。PChome商店街與您一起努力維護網路交易安全！\n"
          ]
        }
      ]
    },
    {
      "cell_type": "code",
      "source": [],
      "metadata": {
        "id": "5VEYfzVKrY9u"
      },
      "execution_count": 175,
      "outputs": []
    }
  ],
  "metadata": {
    "kernelspec": {
      "display_name": "Python 3",
      "language": "python",
      "name": "python3"
    },
    "language_info": {
      "codemirror_mode": {
        "name": "ipython",
        "version": 3
      },
      "file_extension": ".py",
      "mimetype": "text/x-python",
      "name": "python",
      "nbconvert_exporter": "python",
      "pygments_lexer": "ipython3",
      "version": "3.7.3"
    },
    "colab": {
      "provenance": []
    }
  },
  "nbformat": 4,
  "nbformat_minor": 0
}
